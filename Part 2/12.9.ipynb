{
 "cells": [
  {
   "cell_type": "markdown",
   "metadata": {},
   "source": [
    "# Data Preprocessing"
   ]
  },
  {
   "cell_type": "code",
   "execution_count": 1,
   "metadata": {},
   "outputs": [],
   "source": [
    "# import the necessary libraries\n",
    "import numpy as np\n",
    "import pandas as pd\n",
    "import matplotlib.pyplot as plt\n",
    "import seaborn as sns\n",
    "from math import ceil\n",
    "import scipy.stats as ss\n",
    "from sklearn.impute import KNNImputer\n",
    "from sklearn.model_selection import train_test_split\n",
    "from scipy import stats\n",
    "from sklearn.feature_selection import mutual_info_classif\n",
    "from scipy.stats import f_oneway\n",
    "from sklearn.preprocessing import StandardScaler, MinMaxScaler"
   ]
  },
  {
   "cell_type": "markdown",
   "metadata": {},
   "source": [
    "## Importing the Data"
   ]
  },
  {
   "cell_type": "code",
   "execution_count": null,
   "metadata": {},
   "outputs": [],
   "source": [
    "df_train = pd.read_csv('train_data.csv')"
   ]
  },
  {
   "cell_type": "markdown",
   "metadata": {},
   "source": [
    "The first step was to get a general idea of the data."
   ]
  },
  {
   "cell_type": "code",
   "execution_count": null,
   "metadata": {},
   "outputs": [],
   "source": [
    "df_train.head()"
   ]
  },
  {
   "cell_type": "code",
   "execution_count": null,
   "metadata": {},
   "outputs": [],
   "source": [
    "df_train.describe()"
   ]
  },
  {
   "cell_type": "markdown",
   "metadata": {},
   "source": [
    "\"WCIO Part Of Body Code\" has a value of -9, which could be a mistake."
   ]
  },
  {
   "cell_type": "code",
   "execution_count": null,
   "metadata": {},
   "outputs": [],
   "source": [
    "df_train_minus_9 = df_train[df_train['WCIO Part Of Body Code'] == -9]\n",
    "df_train_minus_9['WCIO Part Of Body Description'].unique()"
   ]
  },
  {
   "cell_type": "markdown",
   "metadata": {},
   "source": [
    "This could be a value that was the result of a wrong input, it could possibly be 9."
   ]
  },
  {
   "cell_type": "code",
   "execution_count": null,
   "metadata": {},
   "outputs": [],
   "source": [
    "df_train_9 = df_train[df_train['WCIO Part Of Body Code'] == 9]\n",
    "df_train_9.head()"
   ]
  },
  {
   "cell_type": "markdown",
   "metadata": {},
   "source": [
    "Although it is unlikely, the real value could actually be 90."
   ]
  },
  {
   "cell_type": "code",
   "execution_count": null,
   "metadata": {},
   "outputs": [],
   "source": [
    "df_train_90 = df_train[df_train['WCIO Part Of Body Code'] == 90]\n",
    "df_train_90['WCIO Part Of Body Description'].unique()"
   ]
  },
  {
   "cell_type": "markdown",
   "metadata": {},
   "source": [
    "No obvious connections can be found so this value will be kept, if necessary it can later be changed into a positive value."
   ]
  },
  {
   "cell_type": "markdown",
   "metadata": {},
   "source": [
    "The dataset regards the “New York Workers’ Compensation Board (WCB)”, an association that works in the state of New York, and covers work accidents (volunteer work included). In the state of New York, there is no maximum age for volunteer work, nor is there a minimum age requirement. Even though, the earliest opportunities for children that the group could find only start at 3 years of age (and they can only attend if they are accompanied by chaperone). With this information in mind, it is safe to assume that any observations under the age of 3 (and different from 0) are most likely errors, and therefore can be removed. As for the values above 100 years of age, although unlikely, these observations have no clear reason that would mean their removal, as so they will be kept. Values equal to 0 will be handled in the data cleaning phase.\n",
    "\n",
    "References:<br>\n",
    "https://www.volunteernewyork.org/youth-families<br>\n",
    "https://workerscompensationexperts.org/law/state/new-york/<br>\n",
    "https://www.thesilvermanfirm.com/workers-compensation-claims/workers-compensation-faqs/<br>\n",
    "https://www.wcb.ny.gov/<br>"
   ]
  },
  {
   "cell_type": "code",
   "execution_count": null,
   "metadata": {},
   "outputs": [],
   "source": [
    "df_train = df_train[(df_train['Age at Injury'] == 0) | (df_train['Age at Injury'] >= 3)]"
   ]
  },
  {
   "cell_type": "markdown",
   "metadata": {},
   "source": [
    "The next step is looking at null/missing values, and trying to understand if these observations are missing at random or not."
   ]
  },
  {
   "cell_type": "code",
   "execution_count": null,
   "metadata": {},
   "outputs": [],
   "source": [
    "df_train.info()"
   ]
  },
  {
   "cell_type": "markdown",
   "metadata": {},
   "source": [
    "It is possible to observe that in certain columns a majority of the values are null. Further research is necessary to understand the extent of the missing values."
   ]
  },
  {
   "cell_type": "code",
   "execution_count": null,
   "metadata": {},
   "outputs": [],
   "source": [
    "missing_values = df_train.isnull().sum().sort_values(ascending=False)                             \n",
    "missing_percentage = (missing_values / len(df_train)) * 100                                           \n",
    "missing_data = pd.DataFrame({'Missing Values': missing_values, 'Percentage': missing_percentage})       \n",
    "missing_data.style.applymap(lambda x: 'background-color: red' if x > 30 else '', subset=['Percentage'])"
   ]
  },
  {
   "cell_type": "markdown",
   "metadata": {},
   "source": [
    "The variable \"OIICS Nature of Injury Description\" is completly empty, so it will be removed.\n",
    "\n",
    "There are also a high percentage of NA values (more than 30%) in other variables. Imputing these columns would mean that most of the data had been created instead of collected, which could skew the data. The best course of action is to remove these columns. "
   ]
  },
  {
   "cell_type": "code",
   "execution_count": null,
   "metadata": {},
   "outputs": [],
   "source": [
    "df_train = df_train.drop(columns=['OIICS Nature of Injury Description', 'C-3 Date', 'First Hearing Date', 'IME-4 Count'])"
   ]
  },
  {
   "cell_type": "markdown",
   "metadata": {},
   "source": [
    "It is also necessary to check for duplicate values."
   ]
  },
  {
   "cell_type": "code",
   "execution_count": null,
   "metadata": {},
   "outputs": [],
   "source": [
    "df_train[df_train.duplicated()]"
   ]
  },
  {
   "cell_type": "markdown",
   "metadata": {},
   "source": [
    "There are no duplicates.\n",
    "\n",
    "Some of the variables have the wrong data type, such as date variables saved as objects and integer values saved as floats. These issues will be fixed in order to obtain better visualizations. "
   ]
  },
  {
   "cell_type": "code",
   "execution_count": null,
   "metadata": {},
   "outputs": [],
   "source": [
    "int_list = ['Age at Injury', 'Industry Code', 'WCIO Cause of Injury Code', 'WCIO Nature of Injury Code', 'WCIO Part Of Body Code', 'Agreement Reached', 'Number of Dependents']\n",
    "for i in int_list:\n",
    "    df_train[i] = pd.to_numeric(df_train[i], errors='coerce').astype('Int64')"
   ]
  },
  {
   "cell_type": "code",
   "execution_count": null,
   "metadata": {},
   "outputs": [],
   "source": [
    "date_list = ['Accident Date', 'Assembly Date', 'C-2 Date']\n",
    "for i in date_list:\n",
    "    df_train[i] = pd.to_datetime(df_train[i], errors='coerce')"
   ]
  },
  {
   "cell_type": "markdown",
   "metadata": {},
   "source": [
    "# Visualization"
   ]
  },
  {
   "cell_type": "markdown",
   "metadata": {},
   "source": [
    "### Wide View of Numeric Variables\n",
    "\n",
    "At this stage, some charts will be plotted. This is done because something as simple as creating histograms and boxplots for the numeric variables can reveal important insights to be further explored."
   ]
  },
  {
   "cell_type": "code",
   "execution_count": null,
   "metadata": {},
   "outputs": [],
   "source": [
    "metric_features = ['Age at Injury', 'Average Weekly Wage', 'Number of Dependents']\n",
    "df = df_train\n",
    "\n",
    "sns.set()\n",
    "fig, axes = plt.subplots(1, 3, figsize=(25, 5))\n",
    "for ax, feat in zip(axes.flatten(), metric_features):\n",
    "    ax.hist(df[feat], color= '#B2D300')\n",
    "    ax.set_title(feat, y=-0.13)\n",
    "plt.suptitle(\"Numeric Variables' Histograms\")\n",
    "plt.show()"
   ]
  },
  {
   "cell_type": "markdown",
   "metadata": {},
   "source": [
    "The age seems to be centralized around 50, as for the number of dependents it seems to be equally distributed along the various possibilities."
   ]
  },
  {
   "cell_type": "code",
   "execution_count": null,
   "metadata": {},
   "outputs": [],
   "source": [
    "fig, axes = plt.subplots(1, 3, figsize=(25, 5))\n",
    "for ax, feat in zip(axes.flatten(), metric_features):\n",
    "    sns.boxplot(x=df[feat], ax=ax, color= '#B2D300')\n",
    "plt.suptitle(\"Numeric Variables Box Plots\")\n",
    "plt.show()"
   ]
  },
  {
   "cell_type": "markdown",
   "metadata": {},
   "source": [
    "Average Weekly Wage seems to be skewed. On a later stage, more research will be conducted to understand this variable."
   ]
  },
  {
   "cell_type": "markdown",
   "metadata": {},
   "source": [
    "### Dates\n",
    "\n",
    "Dates can yield important insights regarding periodicity in the data (for example, tourism tends to rise in summer and decline in winter).\n",
    "\n",
    "A plot of the frequency of accidents per year and month for every year in the data set could show these tendencies."
   ]
  },
  {
   "cell_type": "code",
   "execution_count": null,
   "metadata": {},
   "outputs": [],
   "source": [
    "accidents_per_year = df_train['Accident Date'].dt.year.value_counts().sort_index()\n",
    "plt.figure(figsize=(12, 6))\n",
    "bars = plt.bar(accidents_per_year.index, accidents_per_year.values, color='#B2D300')\n",
    "plt.xlabel('Year')\n",
    "plt.ylabel('Count')\n",
    "plt.title('Accidents per Year')\n",
    "plt.grid(True)\n",
    "ax = plt.gca()\n",
    "ax.spines['top'].set_visible(False)\n",
    "ax.spines['right'].set_visible(False)\n",
    "ax.spines['left'].set_visible(False)\n",
    "ax.spines['bottom'].set_visible(False)\n",
    "plt.show()"
   ]
  },
  {
   "cell_type": "code",
   "execution_count": null,
   "metadata": {},
   "outputs": [],
   "source": [
    "df_train_2019 = df_train[df_train['Accident Date'].dt.to_period('M') >= '2019-01']\n",
    "accidents_by_month = df_train_2019.groupby(df_train_2019['Accident Date'].dt.to_period('M')).size()\n",
    "\n",
    "plt.figure(figsize=(16, 7))\n",
    "plt.plot(accidents_by_month.index.astype(str), accidents_by_month.values, marker='o', color='#B2D300', linestyle='-', linewidth=2)\n",
    "plt.title('Number of Accidents by Month (2019-2023)')\n",
    "plt.xlabel('Month')\n",
    "plt.ylabel('Number of Accidents')\n",
    "\n",
    "# set x-axis labels to show only the month and year\n",
    "labels = []\n",
    "for month in accidents_by_month.index.to_timestamp():\n",
    "    if month.month == 1:                          # If its january, show year\n",
    "        labels.append(f\"{month.strftime('%Y')}\")\n",
    "    else:                                         # else, show only the month\n",
    "        labels.append(month.strftime('%b'))\n",
    "\n",
    "plt.xticks(ticks=range(0, len(accidents_by_month), 2), labels=labels[::2], rotation=45)\n",
    "\n",
    "\n",
    "# Add grid and remove plot spines\n",
    "plt.grid(color='gray', linestyle='--', linewidth=0.5, alpha=0.7)\n",
    "plt.gca().spines['top'].set_visible(False)\n",
    "plt.gca().spines['right'].set_visible(False)\n",
    "\n",
    "plt.tight_layout()\n",
    "plt.show()"
   ]
  },
  {
   "cell_type": "code",
   "execution_count": null,
   "metadata": {},
   "outputs": [],
   "source": [
    "year_counts = df_train['Accident Date'].groupby(df_train['Accident Date'].dt.month).count()\n",
    "plt.figure(figsize=(12, 6))\n",
    "bars = plt.bar(year_counts.index, year_counts, color='#B2D300')\n",
    "plt.xlabel('Month')\n",
    "plt.ylabel('Count')\n",
    "plt.title('Accidents per Month (for every year in the dataset)')\n",
    "plt.yticks(fontsize=12)\n",
    "plt.xticks(ticks=year_counts.index, labels=['Jan', 'Feb', 'Mar', 'Apr', 'May', 'Jun', 'Jul', 'Aug', 'Sep', 'Oct', 'Nov', 'Dec'], fontsize=12)\n",
    "plt.grid(True)\n",
    "ax = plt.gca()\n",
    "ax.spines['top'].set_visible(False)\n",
    "ax.spines['right'].set_visible(False)\n",
    "ax.spines['left'].set_visible(False)\n",
    "ax.spines['bottom'].set_visible(False)\n",
    "plt.show()"
   ]
  },
  {
   "cell_type": "markdown",
   "metadata": {},
   "source": [
    "There seems to be a slight decrease in April and May, but most of the data regards the years of 2020, 2021 and 2022, so a plot for these years could be more revealing."
   ]
  },
  {
   "cell_type": "code",
   "execution_count": null,
   "metadata": {},
   "outputs": [],
   "source": [
    "df_train_recent = df_train[df_train['Accident Date'].dt.year.isin([2020, 2021, 2022])]"
   ]
  },
  {
   "cell_type": "code",
   "execution_count": null,
   "metadata": {},
   "outputs": [],
   "source": [
    "year_counts = df_train_recent['Accident Date'].groupby(df_train_recent['Accident Date'].dt.month).count()\n",
    "plt.figure(figsize=(12, 6))\n",
    "bars = plt.bar(year_counts.index, year_counts, color='#B2D300')\n",
    "plt.xlabel('Month')\n",
    "plt.ylabel('Count')\n",
    "plt.title('Accidents per Month (2020-2022)')\n",
    "plt.yticks(fontsize=12)\n",
    "plt.xticks(ticks=year_counts.index, labels=['Jan', 'Feb', 'Mar', 'Apr', 'May', 'Jun', 'Jul', 'Aug', 'Sep', 'Oct', 'Nov', 'Dec'], fontsize=12)\n",
    "plt.grid(True)\n",
    "ax = plt.gca()\n",
    "ax.spines['top'].set_visible(False)\n",
    "ax.spines['right'].set_visible(False)\n",
    "ax.spines['left'].set_visible(False)\n",
    "ax.spines['bottom'].set_visible(False)\n",
    "plt.show()"
   ]
  },
  {
   "cell_type": "markdown",
   "metadata": {},
   "source": [
    "Only Decemeber seems to have changed in the recent years, showing a small decrease. To be more specific, a line chart with the three last years can be created."
   ]
  },
  {
   "cell_type": "code",
   "execution_count": null,
   "metadata": {},
   "outputs": [],
   "source": [
    "plt.figure(figsize=(12, 8))\n",
    "years_list = [2020, 2021, 2022, 2023]\n",
    "colors = ['#B2D300', '#66B2FF', '#FF6666']\n",
    "\n",
    "for year, color in zip(years_list, colors):\n",
    "    year_counts = df_train[df_train['Accident Date'].dt.year == year]['Accident Date'].dt.month.value_counts().sort_index()\n",
    "    plt.plot(year_counts.index, year_counts.values, marker='o', label=str(year), color=color)\n",
    "    \n",
    "plt.xlabel('Month')\n",
    "plt.ylabel('Count')\n",
    "plt.title('Accidents per Month (2020-2022)')\n",
    "plt.xticks(ticks=range(1, 13), labels=['Jan', 'Feb', 'Mar', 'Apr', 'May', 'Jun', 'Jul', 'Aug', 'Sep', 'Oct', 'Nov', 'Dec'], fontsize=12)\n",
    "plt.yticks(fontsize=12)\n",
    "plt.grid(True)\n",
    "plt.legend(title='Year')\n",
    "ax = plt.gca()\n",
    "ax.spines['top'].set_visible(False)\n",
    "ax.spines['right'].set_visible(False)\n",
    "ax.spines['left'].set_visible(False)\n",
    "ax.spines['bottom'].set_visible(False)\n",
    "plt.show()"
   ]
  },
  {
   "cell_type": "markdown",
   "metadata": {},
   "source": [
    "There appears to be no recognizable pattern in these years. However, the group observed a decrease in accidents during the period from March to May. This could possibly be attributed to the COVID-19 outbreak, as workers were required to quarantine during this time and, consequently, were less likely to experience work-related accidents."
   ]
  },
  {
   "cell_type": "markdown",
   "metadata": {},
   "source": [
    "A look into the years before 2020, the minority subset, could explain the decrease in december in the more recent past."
   ]
  },
  {
   "cell_type": "code",
   "execution_count": null,
   "metadata": {},
   "outputs": [],
   "source": [
    "df_train_older = df_train[df_train['Accident Date'].dt.year < 2020]"
   ]
  },
  {
   "cell_type": "code",
   "execution_count": null,
   "metadata": {},
   "outputs": [],
   "source": [
    "df_train_older"
   ]
  },
  {
   "cell_type": "code",
   "execution_count": null,
   "metadata": {},
   "outputs": [],
   "source": [
    "year_counts = df_train_older['Accident Date'].groupby(df_train_older['Accident Date'].dt.month).count()\n",
    "plt.figure(figsize=(12, 6))\n",
    "bars = plt.bar(year_counts.index, year_counts, color='#B2D300')\n",
    "plt.xlabel('Month')\n",
    "plt.ylabel('Count')\n",
    "plt.title('Accidents per Month (before 2020)')\n",
    "plt.yticks(fontsize=12)\n",
    "plt.xticks(ticks=year_counts.index, labels=['Jan', 'Feb', 'Mar', 'Apr', 'May', 'Jun', 'Jul', 'Aug', 'Sep', 'Oct', 'Nov', 'Dec'], fontsize=12)\n",
    "plt.grid(True)\n",
    "ax = plt.gca()\n",
    "ax.spines['top'].set_visible(False)\n",
    "ax.spines['right'].set_visible(False)\n",
    "ax.spines['left'].set_visible(False)\n",
    "ax.spines['bottom'].set_visible(False)\n",
    "plt.show()"
   ]
  },
  {
   "cell_type": "code",
   "execution_count": null,
   "metadata": {},
   "outputs": [],
   "source": [
    "most_common_year_month = df_train_older['Accident Date'].dt.to_period('M').value_counts().idxmax()\n",
    "most_common_year_month"
   ]
  },
  {
   "cell_type": "markdown",
   "metadata": {},
   "source": [
    "The explosive rise in the month of december can be explained by the the date '2019-12-XX' which is the closest date to when the colection of data starts to grow. It's plausible to assume that this increase in observations is simply due to an increase in data collection and not a real life increase in insurance claims."
   ]
  },
  {
   "cell_type": "markdown",
   "metadata": {},
   "source": [
    "### Claim Types"
   ]
  },
  {
   "cell_type": "markdown",
   "metadata": {},
   "source": [
    "This section will begin by exploring what are the unique values of the target variable"
   ]
  },
  {
   "cell_type": "code",
   "execution_count": null,
   "metadata": {},
   "outputs": [],
   "source": [
    "df_train['Claim Injury Type'].unique()"
   ]
  },
  {
   "cell_type": "markdown",
   "metadata": {},
   "source": [
    "This is how the target variable works:\n",
    "\n",
    "Cancelled – The claim is canceled if it was assembled by mistake or identified as a duplicate of an existing claim.\n",
    "\n",
    "Non-Comp – No indemnity (financial) benefits are awarded for the claim, meaning the worker is not compensated beyond the claim itself.\n",
    "\n",
    "Med Only – Only medical benefits are awarded, covering treatment and healthcare costs without additional financial compensation for lost time.\n",
    "\n",
    "Temporary – The claim provides temporary total or partial disability benefits for the period the worker is unable to work due to injury.\n",
    "\n",
    "PPD Sch Loss – The claim awards a Permanent Partial Disability benefit for a scheduled body part (e.g., hand, leg) where there’s a specific schedule of compensation.\n",
    "\n",
    "PPD NSL – The claim awards a Permanent Partial Disability benefit for a non-scheduled body part, such as the neck or back, without a specific compensation schedule.\n",
    "\n",
    "PTD – Permanent Total Disability benefits are awarded, providing lifetime compensation because the worker is unable to return to work due to the injury.\n",
    "\n",
    "Death – Death benefits are awarded under WCL §16 due to a worker’s death, providing financial support to dependents.<br>\n",
    "\n",
    "\n",
    "\n",
    "\n",
    "References:<br>\n",
    "https://data.ny.gov/Government-Finance/Assembled-Workers-Compensation-Claims-Beginning-20/jshw-gkgu/about_data"
   ]
  },
  {
   "cell_type": "markdown",
   "metadata": {},
   "source": [
    "How are these values distributed?"
   ]
  },
  {
   "cell_type": "code",
   "execution_count": null,
   "metadata": {},
   "outputs": [],
   "source": [
    "claim_injury_counts = df_train['Claim Injury Type'].value_counts()\n",
    "claim_injury_counts = claim_injury_counts.reindex(sorted(claim_injury_counts.index, key=lambda x: int(x.split('.')[0])))\n",
    "\n",
    "plt.figure(figsize=(14, 8))\n",
    "bars = plt.bar(claim_injury_counts.index, claim_injury_counts.values, color='#B2D300')\n",
    "plt.xlabel('Claim Injury Type')\n",
    "plt.ylabel('Count')\n",
    "plt.title('Distribution of Claim Injury Type')\n",
    "plt.yticks(fontsize=12)\n",
    "plt.grid(True)\n",
    "ax = plt.gca()\n",
    "ax.spines['top'].set_visible(False)\n",
    "ax.spines['right'].set_visible(False)\n",
    "ax.spines['left'].set_visible(False)\n",
    "ax.spines['bottom'].set_visible(False)\n",
    "plt.show()"
   ]
  },
  {
   "cell_type": "markdown",
   "metadata": {},
   "source": [
    "The dataset is dominated by the second category in such a way that the 7th and 8th categories appear to be empty."
   ]
  },
  {
   "cell_type": "code",
   "execution_count": null,
   "metadata": {},
   "outputs": [],
   "source": [
    "claim_injury_table = df_train['Claim Injury Type'].value_counts().reset_index()\n",
    "claim_injury_table.columns = ['Claim Injury Type', 'Count']\n",
    "\n",
    "claim_injury_table['Claim Injury Type'] = claim_injury_table['Claim Injury Type'].astype(str)\n",
    "claim_injury_table = claim_injury_table.sort_values(by='Claim Injury Type', key=lambda inj_type: inj_type.str.split('.').str[0].astype(int))\n",
    "claim_injury_table.reset_index(drop=True, inplace=True)\n",
    "claim_injury_table"
   ]
  },
  {
   "cell_type": "markdown",
   "metadata": {},
   "source": [
    "The table allows a different view where the minority can still be seen. The target variable is clearly unbalanced. In the future, resampling and other methods could be used to compensate for this issue."
   ]
  },
  {
   "cell_type": "markdown",
   "metadata": {},
   "source": [
    "### Attorney VS No Attorney"
   ]
  },
  {
   "cell_type": "markdown",
   "metadata": {},
   "source": [
    "In the real world, the presence of a lawyer can sometimes change the outcome of an insurance claim. How is this presence distributed across different types of claims?"
   ]
  },
  {
   "cell_type": "code",
   "execution_count": null,
   "metadata": {},
   "outputs": [],
   "source": [
    "claim_injury_by_attorney = pd.crosstab(df_train['Claim Injury Type'], df_train['Attorney/Representative'])\n",
    "claim_injury_by_attorney.columns = ['No Attorney', 'Attorney']\n",
    "claim_injury_by_attorney.reset_index(inplace=True)\n",
    "claim_injury_by_attorney['Attorney'] = claim_injury_by_attorney['Attorney'] / (claim_injury_by_attorney['No Attorney'] + claim_injury_by_attorney['Attorney']) * 100\n",
    "claim_injury_by_attorney['No Attorney'] = 100 - claim_injury_by_attorney['Attorney']\n",
    "claim_injury_by_attorney\n",
    "claim_injury_by_attorney.plot(kind='bar', stacked=False, color=['Grey', '#B2D300'], figsize=(14, 6))\n",
    "plt.xlabel('Type of Injury')\n",
    "plt.ylabel('Percentage')\n",
    "plt.title('Percentage of Cases with and whitout Attorney by Type of Injury')\n",
    "plt.xticks(rotation=0)\n",
    "plt.grid(True)\n",
    "ax = plt.gca()\n",
    "plt.xticks(ticks=range(len(claim_injury_counts.index)), \n",
    "               labels=sorted(claim_injury_counts.index, key=lambda x: int(x.split('.')[0])), \n",
    "               rotation=0)\n",
    "ax.spines['top'].set_visible(False)\n",
    "ax.spines['right'].set_visible(False)\n",
    "ax.spines['left'].set_visible(False)\n",
    "ax.spines['bottom'].set_visible(False)\n",
    "plt.show()\n"
   ]
  },
  {
   "cell_type": "markdown",
   "metadata": {},
   "source": [
    "This graph shows that as the severity of cases increases so does the percentage of cases where a laywer is present. It also indicates that the presence of a laywer is highly correlated to the target variable."
   ]
  },
  {
   "cell_type": "markdown",
   "metadata": {},
   "source": [
    "### Ages"
   ]
  },
  {
   "cell_type": "code",
   "execution_count": null,
   "metadata": {},
   "outputs": [],
   "source": [
    "plt.figure(figsize=(15, 7))                              \n",
    "sns.histplot(df_train['Age at Injury'], color='#B2D300')   \n",
    "plt.xlabel('Age at Injury')                                \n",
    "plt.ylabel('Frequency')                              \n",
    "plt.title('Distribution of Age at Injury')\n",
    "plt.grid(True)                                          \n",
    "ax = plt.gca()                                                \n",
    "ax.spines['top'].set_visible(False)\n",
    "ax.spines['right'].set_visible(False)\n",
    "ax.spines['left'].set_visible(False)\n",
    "ax.spines['bottom'].set_visible(False)\n",
    "plt.show()"
   ]
  },
  {
   "cell_type": "code",
   "execution_count": null,
   "metadata": {},
   "outputs": [],
   "source": [
    "pyramid_db = df_train.copy()"
   ]
  },
  {
   "cell_type": "code",
   "execution_count": null,
   "metadata": {},
   "outputs": [],
   "source": [
    "bins = (0, 10, 20, 30, 40, 50, 60, 80, 90, 100, float('inf'))\n",
    "labels = ['1-10', '10-19', '20-29', '30-39', '40-49', '50-59', '60-79', '80-89', '90-99', '100+']\n",
    "pyramid_db['age_group'] = pd.cut(pyramid_db['Age at Injury'], bins=bins, labels=labels)"
   ]
  },
  {
   "cell_type": "code",
   "execution_count": null,
   "metadata": {},
   "outputs": [],
   "source": [
    "# pyramid_data = piramid_db.groupby(['age_group', 'Gender']).size().unstack(fill_value=0)\n",
    "\n",
    "# # Ensure age groups are in proper order\n",
    "# pyramid_data = pyramid_data.reindex(sorted(pyramid_data.index))\n",
    "\n",
    "# # Convert males to negative for plotting on the left\n",
    "# pyramid_data['Male'] *= -1\n",
    "\n",
    "# # Plotting\n",
    "# fig, ax = plt.subplots(figsize=(10, 6))\n",
    "\n",
    "# age_groups = pyramid_data.index\n",
    "# ax.barh(age_groups, pyramid_data['Male'], color='blue', label='Male')\n",
    "# ax.barh(age_groups, pyramid_data['Female'], color='pink', label='Female')\n",
    "\n",
    "# # Formatting\n",
    "# ax.set_xlabel('Population')\n",
    "# ax.set_ylabel('Age Group')\n",
    "# ax.set_title('Population Pyramid')\n",
    "# ax.legend()\n",
    "\n",
    "# # Show grid and improve appearance\n",
    "# ax.grid(axis='x', linestyle='--', alpha=0.7)\n",
    "# plt.tight_layout()\n",
    "# plt.show()"
   ]
  },
  {
   "cell_type": "code",
   "execution_count": null,
   "metadata": {},
   "outputs": [],
   "source": []
  },
  {
   "cell_type": "markdown",
   "metadata": {},
   "source": [
    "Ages will be grouped in order to obtain visualizations that are more meaningful and easier to read. Age groups were created following the norms of the United States Census Bureau.\n",
    "\n",
    "References:<br>\n",
    "https://www2.census.gov/library/publications/decennial/2020/census-briefs/c2020br-06.pdf"
   ]
  },
  {
   "cell_type": "code",
   "execution_count": null,
   "metadata": {},
   "outputs": [],
   "source": [
    "bins = (1, 18, 25, 45, 65, float('inf'))\n",
    "labels = ['1-17', '18-24', '25-44', '45-64', '65+']\n",
    "df_train['age_group'] = pd.cut(df_train['Age at Injury'], bins=bins, labels=labels)"
   ]
  },
  {
   "cell_type": "code",
   "execution_count": null,
   "metadata": {},
   "outputs": [],
   "source": [
    "age_group_counts = df_train['age_group'].value_counts().sort_index()\n",
    "age_group_counts_percentage = age_group_counts / age_group_counts.sum() * 100\n",
    "age_group_table = pd.DataFrame({'Age Group': age_group_counts.index,'Count': age_group_counts.values,'Percentage': age_group_counts_percentage.values})\n",
    "age_group_table"
   ]
  },
  {
   "cell_type": "code",
   "execution_count": null,
   "metadata": {},
   "outputs": [],
   "source": [
    "df_train.groupby('Claim Injury Type')['age_group'].value_counts(normalize=True).unstack().plot(kind='bar', stacked=True, figsize=(15, 7))"
   ]
  },
  {
   "cell_type": "code",
   "execution_count": null,
   "metadata": {},
   "outputs": [],
   "source": [
    "df_zeros = df_train[df_train['Age at Injury'] == 0]\n",
    "df_zeros.describe()"
   ]
  },
  {
   "cell_type": "markdown",
   "metadata": {},
   "source": [
    "Most observations with 0 years of age do not have an \"average weekly wage\", and a sizable amount have 0 as their birth year.\n",
    "\n",
    "For the ones who have a birth year, it is possible to calculate their age at the time of the accident (this is something to be done in the data cleaning section)."
   ]
  },
  {
   "cell_type": "code",
   "execution_count": null,
   "metadata": {},
   "outputs": [],
   "source": [
    "claim_injury_types = df_train['Claim Injury Type'].unique()\n",
    "fig, axes = plt.subplots(nrows=4, ncols=2, figsize=(20, 15))\n",
    "\n",
    "for ax, claim_injury_type in zip(axes.flatten(), claim_injury_types):\n",
    "    age_group_counts = df_train[df_train['Claim Injury Type'] == claim_injury_type]['age_group'].value_counts().sort_index()\n",
    "    bars = ax.bar(age_group_counts.index, age_group_counts.values, color='#B2D300')\n",
    "    ax.set_xlabel('Age Group')\n",
    "    ax.set_ylabel('Count')\n",
    "    ax.set_title(f'Age Group Distribution in Claim Injury Type {claim_injury_type}')\n",
    "    ax.set_xticks(range(len(age_group_counts.index)))\n",
    "    ax.set_xticklabels(age_group_counts.index, rotation=45)\n",
    "    ax.grid(True)\n",
    "    ax.spines['top'].set_visible(False)\n",
    "    ax.spines['right'].set_visible(False)\n",
    "    ax.spines['left'].set_visible(False)\n",
    "    ax.spines['bottom'].set_visible(False)\n",
    "\n",
    "plt.tight_layout()\n",
    "plt.show()"
   ]
  },
  {
   "cell_type": "code",
   "execution_count": null,
   "metadata": {},
   "outputs": [],
   "source": [
    "df_train['Agreement Reached'] = df_train['Agreement Reached'].map({0: 'Not Reached', 1: 'Reached'})\n",
    "mean_age_by_agreement = df_train.groupby('Agreement Reached')['Age at Injury'].mean().reset_index()\n",
    "mean_age_by_agreement.columns = ['Agreement Reached', 'Mean Age']\n",
    "mean_age_by_agreement"
   ]
  },
  {
   "cell_type": "markdown",
   "metadata": {},
   "source": [
    "### Genders"
   ]
  },
  {
   "cell_type": "markdown",
   "metadata": {},
   "source": [
    "The next step is checking how the dataset is distributed in terms of gender.\n",
    "\n",
    "The reported gender of the injured worker can be: \n",
    "- F – Female; \n",
    "- M - Male; \n",
    "- X - Nonbinary; \n",
    "- U – Unknown (gender not specified)\n",
    "\n",
    "References:\n",
    "\n",
    "https://data.ny.gov/Government-Finance/Assembled-Workers-Compensation-Claims-Beginning-20/jshw-gkgu/about_data"
   ]
  },
  {
   "cell_type": "code",
   "execution_count": null,
   "metadata": {},
   "outputs": [],
   "source": [
    "df_train['Gender'] = df_train['Gender'].astype(str)\n",
    "gender_counts = df_train['Gender'].value_counts()\n",
    "plt.bar(gender_counts.index, gender_counts.values, color='#B2D300')\n",
    "plt.xlabel('Gender')\n",
    "plt.ylabel('Count')\n",
    "plt.title('Gender Distribution')\n",
    "plt.grid(True)\n",
    "ax = plt.gca()\n",
    "ax.spines['top'].set_visible(False)\n",
    "ax.spines['right'].set_visible(False)\n",
    "ax.spines['left'].set_visible(False)\n",
    "ax.spines['bottom'].set_visible(False)\n",
    "plt.show()"
   ]
  },
  {
   "cell_type": "code",
   "execution_count": null,
   "metadata": {},
   "outputs": [],
   "source": [
    "gender_type_of_claim = pd.crosstab(df_train['Gender'], df_train['Claim Injury Type'])\n",
    "for i in gender_type_of_claim.columns:\n",
    "    gender_type_of_claim[i] = (gender_type_of_claim[i] / gender_type_of_claim[i].sum()) * 100\n",
    "gender_type_of_claim"
   ]
  },
  {
   "cell_type": "markdown",
   "metadata": {},
   "source": [
    "The majority of the dataset is composed of men (M), with a smaller proportion of women (F) and two other options (Unknown and Nonbinary)."
   ]
  },
  {
   "cell_type": "code",
   "execution_count": null,
   "metadata": {},
   "outputs": [],
   "source": [
    "gender_proportion = pd.crosstab(df_train['Claim Injury Type'], df_train['Gender'], normalize='index') * 100\n",
    "colors = ['#B2D300', '#4A7200', '#8FB200', '#6C9200',]\n",
    "fig, ax = plt.subplots(figsize=(10, 5))\n",
    "gender_proportion.plot(kind='bar', stacked=True, color=colors, ax=ax)\n",
    "plt.xlabel('Claim Injury Type')\n",
    "plt.ylabel('Proportion')\n",
    "plt.title('Proportion of Genders by Claim Injury Type')\n",
    "plt.grid(True, axis='y', linestyle='--', alpha=0.7)\n",
    "plt.xticks(rotation=45)\n",
    "ax.spines['top'].set_visible(False)\n",
    "ax.spines['right'].set_visible(False)\n",
    "ax.spines['left'].set_visible(False)\n",
    "ax.spines['bottom'].set_visible(False)\n",
    "plt.show()"
   ]
  },
  {
   "cell_type": "markdown",
   "metadata": {},
   "source": [
    "The graph gives a better perception of the growth in the percentage of men as cases get increasingly severe, with the highest percentage of men present in cases envolving death."
   ]
  },
  {
   "cell_type": "markdown",
   "metadata": {},
   "source": [
    "The `Gender` variable has two minority categories, \"U\" and \"X\", this could prove to be troublesome. As such it will be adressed in the data cleaning phase."
   ]
  },
  {
   "cell_type": "markdown",
   "metadata": {},
   "source": [
    "### Unbalanced Columns"
   ]
  },
  {
   "cell_type": "markdown",
   "metadata": {},
   "source": [
    "Two columns seem to be unbalanced."
   ]
  },
  {
   "cell_type": "code",
   "execution_count": null,
   "metadata": {},
   "outputs": [],
   "source": [
    "covid_count = df_train['COVID-19 Indicator'].value_counts()\n",
    "covid_count_percent = covid_count / covid_count.sum() * 100\n",
    "print(covid_count_percent)"
   ]
  },
  {
   "cell_type": "code",
   "execution_count": null,
   "metadata": {},
   "outputs": [],
   "source": [
    "decision_count = df_train['WCB Decision'].value_counts()\n",
    "decision_count_percent = decision_count / decision_count.sum() * 100\n",
    "print(decision_count_percent)"
   ]
  },
  {
   "cell_type": "code",
   "execution_count": null,
   "metadata": {},
   "outputs": [],
   "source": [
    "dispute_count = df_train['Alternative Dispute Resolution'].value_counts()\n",
    "dispute_count_percent = dispute_count / dispute_count.sum() * 100\n",
    "print(dispute_count_percent)"
   ]
  },
  {
   "cell_type": "markdown",
   "metadata": {},
   "source": [
    "The \"COVID-19 Indicator\" is composed by (roughly) 95% of cases where the claimant did **not** have covid and 5% where the claimant **had** covid. This variable is highly unbalanced, which could mean its prediction power is very low. Further research is necessary to understand its utility."
   ]
  },
  {
   "cell_type": "code",
   "execution_count": null,
   "metadata": {},
   "outputs": [],
   "source": [
    "claim_injury_covid = pd.crosstab(df_train['Claim Injury Type'], df_train['COVID-19 Indicator'])\n",
    "claim_injury_covid.columns = ['No', 'Yes']\n",
    "claim_injury_covid.reset_index(inplace=True)\n",
    "claim_injury_covid['Yes'] = claim_injury_covid['Yes'] / (claim_injury_covid['No'] + claim_injury_covid['Yes']) * 100\n",
    "claim_injury_covid['No'] = 100 - claim_injury_covid['Yes']\n",
    "claim_injury_covid\n",
    "claim_injury_covid.plot(kind='bar', stacked=False, color=['Grey', '#B2D300'], figsize=(12, 6))\n",
    "plt.xlabel('Type of Injury')\n",
    "plt.ylabel('Percentage')\n",
    "plt.title('Percentage of Cases with and whitout Covid by Type of Injury')\n",
    "for index, value in enumerate(claim_injury_covid['Yes']):\n",
    "    plt.text(index, value + 1, f'{value:.1f}%', ha='left', fontsize=10)\n",
    "for index, value in enumerate(claim_injury_covid['No']):\n",
    "    plt.text(index, value + 1, f'{value:.1f}%', ha='right', fontsize=10)\n",
    "plt.xticks(ticks=claim_injury_covid.index, labels=claim_injury_covid['Claim Injury Type'], rotation=45)\n",
    "ax = plt.gca()\n",
    "ax.spines['top'].set_visible(False)\n",
    "ax.spines['right'].set_visible(False)\n",
    "ax.spines['left'].set_visible(False)\n",
    "ax.spines['bottom'].set_visible(False)\n",
    "plt.show()"
   ]
  },
  {
   "cell_type": "markdown",
   "metadata": {},
   "source": [
    "It can be observed that the cases where the injury type is \"DEATH\" have a much higher rate of covid. There could possibly be a correlation between these variables, so at this time the Covid variable will be kept."
   ]
  },
  {
   "cell_type": "markdown",
   "metadata": {},
   "source": [
    "\"WCB Decision\" is composed in its entirety by \"Not Work Related\" cases. As such it has no variability, meaning it is not a feature of interest and, for this reason, it will be removed.\n",
    "Alternative Dispute Resolution consists of three unique values, but two of them account for less than 1% of instances. Therefore, they were removed."
   ]
  },
  {
   "cell_type": "code",
   "execution_count": null,
   "metadata": {},
   "outputs": [],
   "source": [
    "df_train = df_train.drop(columns=['WCB Decision', 'Alternative Dispute Resolution'])"
   ]
  },
  {
   "cell_type": "markdown",
   "metadata": {},
   "source": [
    "### Accident Location"
   ]
  },
  {
   "cell_type": "code",
   "execution_count": null,
   "metadata": {},
   "outputs": [],
   "source": [
    "district_counts = df_train['District Name'].value_counts()\n",
    "plt.barh(district_counts.index, district_counts.values, color='#B2D300')\n",
    "plt.xlabel('')\n",
    "plt.ylabel('')\n",
    "plt.title('')\n",
    "plt.grid(True)\n",
    "ax = plt.gca()\n",
    "ax.spines['top'].set_visible(False)\n",
    "ax.spines['right'].set_visible(False)\n",
    "ax.spines['left'].set_visible(False)\n",
    "ax.spines['bottom'].set_visible(False)\n",
    "plt.gca().invert_yaxis()\n",
    "plt.show()"
   ]
  },
  {
   "cell_type": "markdown",
   "metadata": {},
   "source": [
    "Most cases happen in the region of NYC (New York City, which accounts for 5 counties). This could be due to its higher population count.\n",
    "\n",
    "References:\n",
    "\n",
    "https://worldpopulationreview.com/us-counties/new-york\n",
    "\n",
    "How does the target variable behave in these communities?"
   ]
  },
  {
   "cell_type": "code",
   "execution_count": null,
   "metadata": {},
   "outputs": [],
   "source": [
    "from math import ceil\n",
    "\n",
    "places = df_train['District Name'].unique()\n",
    "num_places = len(places)\n",
    "fig, axes = plt.subplots(nrows=ceil(num_places / 3), ncols=3, figsize=(20, 15))\n",
    "\n",
    "for ax, place in zip(axes.flatten(), places):\n",
    "    claim_injury_counts = df_train[df_train['District Name'] == place]['Claim Injury Type'].value_counts()\n",
    "    bars = ax.bar(claim_injury_counts.index, claim_injury_counts.values, color='#B2D300')\n",
    "    ax.set_xlabel('Claim Injury Type')\n",
    "    ax.set_ylabel('Count')\n",
    "    ax.set_title(f'Distribution of Claim Injury Type in {place}')\n",
    "    ax.set_xticks(range(len(claim_injury_counts.index)))\n",
    "    ax.set_xticklabels(claim_injury_counts.index, rotation=45)\n",
    "    ax.grid(True)\n",
    "    ax.spines['top'].set_visible(False)\n",
    "    ax.spines['right'].set_visible(False)\n",
    "    ax.spines['left'].set_visible(False)\n",
    "    ax.spines['bottom'].set_visible(False)\n",
    "\n",
    "# Remove any empty subplots\n",
    "for ax in axes.flatten()[num_places:]:\n",
    "    fig.delaxes(ax)\n",
    "\n",
    "plt.tight_layout()\n",
    "plt.show()"
   ]
  },
  {
   "cell_type": "markdown",
   "metadata": {},
   "source": [
    "The distribution of cases seems to be mostly equal for all locations, except one. In Statewide the group observed that the most frequent claim injury type was the \"4. Temporary\"."
   ]
  },
  {
   "cell_type": "markdown",
   "metadata": {},
   "source": [
    "### Average Weekly Wage"
   ]
  },
  {
   "cell_type": "code",
   "execution_count": null,
   "metadata": {},
   "outputs": [],
   "source": [
    "average_salary_by_claim = df_train.groupby('Claim Injury Type')['Average Weekly Wage'].mean()           # Group by 'Claim Injury Type' and calculate the mean of 'Average Weekly Wage'\n",
    "\n",
    "plt.figure(figsize=(12, 6))\n",
    "sns.barplot(x=average_salary_by_claim.index, y=average_salary_by_claim.values, color='#B2D300')\n",
    "plt.xlabel('Claim Injury Type')\n",
    "plt.ylabel('Average Weekly Wage')\n",
    "plt.title('Average Weekly Wage by Claim Injury Type')\n",
    "plt.grid(True)\n",
    "ax = plt.gca()\n",
    "ax.spines['top'].set_visible(False)\n",
    "ax.spines['right'].set_visible(False)\n",
    "ax.spines['left'].set_visible(False)\n",
    "ax.spines['bottom'].set_visible(False)\n",
    "plt.show()"
   ]
  },
  {
   "cell_type": "markdown",
   "metadata": {},
   "source": [
    "The average weekly wage represents \"the wage used to calculate workers’ compensation benefits, disability benefits, or an employee’s Paid Family Leave wage replacement benefits\". \n",
    "\n",
    "The bar chart shows that the categories with the lowest average weekly wage are the first three. This is reasonable given that these claims are the ones without monetary compensation. Still more can be explored in this variable.<br>\n",
    "\n",
    "References:<br>\n",
    "https://data.ny.gov/Government-Finance/Assembled-Workers-Compensation-Claims-Beginning-20/jshw-gkgu/about_data"
   ]
  },
  {
   "cell_type": "code",
   "execution_count": null,
   "metadata": {},
   "outputs": [],
   "source": [
    "bins = (0, 1000, 2000, 3000, 4000, 5000, 10000, 20000, 30000, 40000, 50000, 100000, 200000, 300000, 400000, 500000, 1000000)\n",
    "df_train['wage_groups'] = pd.cut(df_train['Average Weekly Wage'], bins=bins)"
   ]
  },
  {
   "cell_type": "code",
   "execution_count": null,
   "metadata": {},
   "outputs": [],
   "source": [
    "wage_group_counts = df_train['wage_groups'].value_counts().sort_index()\n",
    "wage_group_counts_percentage = wage_group_counts / wage_group_counts.sum() * 100\n",
    "wage_group_table = pd.DataFrame({'Wage Group': wage_group_counts.index,'Count': wage_group_counts.values,'Percentage': wage_group_counts_percentage.values})\n",
    "wage_group_table['Wage Group'] = ['0-1000', '1000-2000', '2000-3000', '3000-4000', '4000-5000', '5000-10000', '10000-20000', '20000-30000', '30000-40000',\n",
    "                                 '40000-50000', '50000-100000', '100000-200000', '200000-300000', '300000-400000', '400000-500000', '500000-1000000']\n",
    "wage_group_table"
   ]
  },
  {
   "cell_type": "markdown",
   "metadata": {},
   "source": [
    "Roughly 96% of the data falls in the range of 0 to 3000 USD. Further research into this range could reveal some important insights."
   ]
  },
  {
   "cell_type": "code",
   "execution_count": null,
   "metadata": {},
   "outputs": [],
   "source": [
    "df_train1 = df_train[df_train['Average Weekly Wage'] < 3000]\n",
    "bins = (0, 500, 1000, 1500, 2000, 2500, 3000)\n",
    "df_train1['wage_groups'] = pd.cut(df_train1['Average Weekly Wage'], bins=bins)"
   ]
  },
  {
   "cell_type": "code",
   "execution_count": null,
   "metadata": {},
   "outputs": [],
   "source": [
    "df_train1['Average Weekly Wage'].mean()"
   ]
  },
  {
   "cell_type": "markdown",
   "metadata": {},
   "source": [
    "The average falls bellow what it should (it should be around 1000 according to the previous table), this could be due to a large majority of low values in the 0 to 500 USD range. \n",
    "\n",
    "In the begining of the notebook, it was pointed out that the boxplot was skewed, so the next step is to look for zeros."
   ]
  },
  {
   "cell_type": "code",
   "execution_count": null,
   "metadata": {},
   "outputs": [],
   "source": [
    "df_testing = df_train1[df_train1['Average Weekly Wage'] == 0]\n",
    "percent = len(df_testing)/len(df_train)*100\n",
    "print(f'The percentage of observations where the salary is 0 is: {percent:.2f}%')"
   ]
  },
  {
   "cell_type": "code",
   "execution_count": null,
   "metadata": {},
   "outputs": [],
   "source": [
    "plt.boxplot(df_train1['Average Weekly Wage'], patch_artist=True,\n",
    "            boxprops=dict(facecolor='#B2D300'))\n",
    "plt.grid(True)\n",
    "ax = plt.gca()\n",
    "ax.spines['top'].set_visible(False)\n",
    "ax.spines['right'].set_visible(False)\n",
    "ax.spines['left'].set_visible(False)\n",
    "ax.spines['bottom'].set_visible(False)\n",
    "plt.show()"
   ]
  },
  {
   "cell_type": "markdown",
   "metadata": {},
   "source": [
    "In the boxplot, the fact this variable is dominated by zeros becomes obvious.\n",
    "\n",
    "Therefore, the previously created bins are not representative of the average weekly wage variable, and will be reworked.\n",
    "\n",
    "The new organization will work as follows:\n",
    "\n",
    "- No Benefit\n",
    "- Low Benefit\n",
    "- Medium Benefit\n",
    "- High Benefit\n",
    "\n",
    "This organization method better represents the data as it takes into account the 0 in the class 'No Benefit'.\n",
    "\n",
    "To better pick the limits of each category the data will be plotted without outliers and zeros."
   ]
  },
  {
   "cell_type": "code",
   "execution_count": null,
   "metadata": {},
   "outputs": [],
   "source": [
    "df_non_zero_wage = df_train[df_train['Average Weekly Wage'] > 0]\n",
    "\n",
    "Q1 = df_non_zero_wage['Average Weekly Wage'].quantile(0.25)\n",
    "Q3 = df_non_zero_wage['Average Weekly Wage'].quantile(0.75)\n",
    "IQR = Q3 - Q1\n",
    "lower_bound = Q1 - 1.5 * IQR\n",
    "upper_bound = Q3 + 1.5 * IQR\n",
    "df_non_zero_wage_no_outliers = df_non_zero_wage[(df_non_zero_wage['Average Weekly Wage'] >= lower_bound) & (df_non_zero_wage['Average Weekly Wage'] <= upper_bound)]\n",
    "\n",
    "plt.boxplot(df_non_zero_wage_no_outliers['Average Weekly Wage'], patch_artist=True,\n",
    "            boxprops=dict(facecolor='#B2D300'))\n",
    "plt.title('Box Plot of Average Weekly Wage (Without Zeros and Outliers)')\n",
    "plt.ylabel('Average Weekly Wage')\n",
    "plt.grid(True)\n",
    "ax = plt.gca()\n",
    "ax.spines['top'].set_visible(False)\n",
    "ax.spines['right'].set_visible(False)\n",
    "ax.spines['left'].set_visible(False)\n",
    "ax.spines['bottom'].set_visible(False)\n",
    "plt.show()"
   ]
  },
  {
   "cell_type": "code",
   "execution_count": null,
   "metadata": {},
   "outputs": [],
   "source": [
    "# calculate the quantiles and IQR excluding claims with 0 wage\n",
    "df_non_zero_wage = df_train[df_train['Average Weekly Wage'] > 0]\n",
    "\n",
    "q1 = df_non_zero_wage['Average Weekly Wage'].quantile(0.25) # 25th percentile or first quartile\n",
    "q3 = df_non_zero_wage['Average Weekly Wage'].quantile(0.75)  # 75th percentile or third quartile\n",
    "iqr = q3 - q1\n",
    "lower_bound = max(0,q1 - 1.5 * iqr)                          # the max function ensures the lower bound cannot be less than 0, as negative wages are not valid\n",
    "upper_bound = q3 + 1.5 * iqr"
   ]
  },
  {
   "cell_type": "markdown",
   "metadata": {},
   "source": [
    "Given the present boxplot, the following division was decided:<br>\n",
    "- No Compensation: Value = 0\n",
    "- Low Wage: Lower Bound < Value < First Quartile\n",
    "- Medium Wage: First Quartile <= Value <= Third Quartile\n",
    "- High Wage: Third Quartile < Value <= Upper Bound\n",
    "- Very High Wage: Upper Bound < Value"
   ]
  },
  {
   "cell_type": "code",
   "execution_count": null,
   "metadata": {},
   "outputs": [],
   "source": [
    "bins = [-1, 0, q1, q3, upper_bound, df_train['Average Weekly Wage'].max()]\n",
    "labels = ['No Wage', 'Low Wage', 'Medium Wage', 'High Wage', 'Very High Wage']\n",
    "df_train['wage_groups'] = pd.cut(df_train['Average Weekly Wage'], bins=bins, labels=labels)\n",
    "df_train[['Average Weekly Wage', 'wage_groups']]"
   ]
  },
  {
   "cell_type": "code",
   "execution_count": null,
   "metadata": {},
   "outputs": [],
   "source": [
    "wage_groups_by_claim = pd.crosstab(df_train['Claim Injury Type'], df_train['wage_groups'])\n",
    "wage_groups_by_claim_percentage = wage_groups_by_claim.div(wage_groups_by_claim.sum(axis=1), axis=0) * 100\n",
    "\n",
    "plt.figure(figsize=(14, 8))\n",
    "for wage_group in wage_groups_by_claim_percentage.columns:\n",
    "    plt.plot(wage_groups_by_claim_percentage.index, wage_groups_by_claim_percentage[wage_group], marker='o', label=wage_group)\n",
    "\n",
    "plt.xlabel('Claim Injury Type')\n",
    "plt.ylabel('Percentage')\n",
    "plt.title('Percentage of each Wage Group by Claim Injury Type')\n",
    "plt.legend(title='Wage Group')\n",
    "plt.grid(True)\n",
    "plt.xticks(rotation=45)\n",
    "plt.show()"
   ]
  },
  {
   "cell_type": "markdown",
   "metadata": {},
   "source": [
    "As expected, the first two categories are dominated by \"No Wage\" observations. As the wage category increases, the proportion of \"No Wage\" observations decreases, with the exception of the \"Very High Wage\" category, which has few observations."
   ]
  },
  {
   "cell_type": "code",
   "execution_count": null,
   "metadata": {},
   "outputs": [],
   "source": [
    "df_train['Average Weekly Wage'].value_counts()"
   ]
  },
  {
   "cell_type": "markdown",
   "metadata": {},
   "source": [
    "### Medical Fee Region"
   ]
  },
  {
   "cell_type": "code",
   "execution_count": null,
   "metadata": {},
   "outputs": [],
   "source": [
    "df_train['Medical Fee Region'].unique()"
   ]
  },
  {
   "cell_type": "markdown",
   "metadata": {},
   "source": [
    "What is the meaning of these codes:\n",
    "\n",
    "I - Region 1: Rural areas outside of Buffalo, Albany, Syracuse, Rochester, Utica & Binghamton<br>\n",
    "II - Region 2: Buffalo, Albany, Syracuse, Rochester, Utica & Binghamton<br>\n",
    "III - Region 3: Westchester, Rockland & most of Suffolk, Orange, & Putnam<br>\n",
    "IV - Region 4: New York City, Nassau, and Western Suffolk<br>\n",
    "UK - Unknown\n",
    "\n",
    "Reference:\n",
    "\n",
    "https://data.ny.gov/Government-Finance/Assembled-Workers-Compensation-Claims-Beginning-20/jshw-gkgu/about_data"
   ]
  },
  {
   "cell_type": "code",
   "execution_count": null,
   "metadata": {},
   "outputs": [],
   "source": [
    "medical_fee_regions = df_train['Medical Fee Region'].unique()\n",
    "claim_injury_types = df_train['Claim Injury Type'].unique()\n",
    "\n",
    "fig, axes = plt.subplots(nrows=ceil(len(medical_fee_regions) / 2), ncols=2, figsize=(20, 15))\n",
    "for ax, region in zip(axes.flatten(), medical_fee_regions):\n",
    "    region_data = df_train[df_train['Medical Fee Region'] == region]\n",
    "    claim_counts = region_data['Claim Injury Type'].value_counts().reindex(claim_injury_types, fill_value=0)\n",
    "    ax.bar(claim_counts.index, claim_counts.values, color='#B2D300')\n",
    "    ax.set_title(f'Medical Fee Region: {region}')\n",
    "    ax.set_xlabel('Claim Injury Type')\n",
    "    ax.set_ylabel('Count')\n",
    "    ax.set_xticks(range(len(claim_counts.index)))\n",
    "    ax.set_xticklabels(claim_counts.index, rotation=45)\n",
    "    ax.grid(True)\n",
    "    ax.spines['top'].set_visible(False)\n",
    "    ax.spines['right'].set_visible(False)\n",
    "    ax.spines['left'].set_visible(False)\n",
    "    ax.spines['bottom'].set_visible(False)\n",
    "for ax in axes.flatten()[len(medical_fee_regions):]:\n",
    "    fig.delaxes(ax)\n",
    "plt.tight_layout()\n",
    "plt.show()"
   ]
  },
  {
   "cell_type": "markdown",
   "metadata": {},
   "source": [
    "The distribution remains the same in the first target variable."
   ]
  },
  {
   "cell_type": "code",
   "execution_count": null,
   "metadata": {},
   "outputs": [],
   "source": [
    "medfee_proportion = pd.crosstab(df_train['Medical Fee Region'], df_train['Agreement Reached'], normalize='index') * 100\n",
    "colors = ['#B2D300', '#4A7200']\n",
    "fig, ax = plt.subplots(figsize=(10, 5))\n",
    "medfee_proportion.plot(kind='bar', stacked=True, color=colors, ax=ax)\n",
    "plt.xlabel('Medical Fee Region')\n",
    "plt.ylabel('Proportion')\n",
    "plt.title('Proportion of Agreement Reached by Medical Fee Region')\n",
    "plt.grid(True, axis='y', linestyle='--', alpha=0.7)\n",
    "plt.xticks(rotation=45)\n",
    "ax.spines['top'].set_visible(False)\n",
    "ax.spines['right'].set_visible(False)\n",
    "ax.spines['left'].set_visible(False)\n",
    "ax.spines['bottom'].set_visible(False)\n",
    "plt.show()"
   ]
  },
  {
   "cell_type": "markdown",
   "metadata": {},
   "source": [
    "As expected, the variable follows the same distribution and most of the cases are not agreed upon."
   ]
  },
  {
   "cell_type": "markdown",
   "metadata": {},
   "source": [
    "## C-2 Date\n",
    "\n",
    "Relatively to the variable C-2 Date, the first thing to do is understand what this data represents. The group found the following information regarding the variable:\n",
    "\n",
    "\"Date of receipt of the Employer's Report of Work-Related Injury/Illness or equivalent (formerly Form C-2). Blank indicates no form received. For data sets published prior to the first quarter of 2022, the C-2 Date is the date of receipt of the “Employer’s Report of Work-Related Injury/Illness” for C-2. For data sets created in the first quarter of 2022 and forward, the C-2 Date is set to the earliest received date of equivalent injury/illness filings, including electronic data filed though the Board’s eClaims process.\"<br>\n",
    "\n",
    "References:<br>\n",
    "https://data.ny.gov/Government-Finance/Assembled-Workers-Compensation-Claims-Beginning-20/jshw-gkgu/about_data"
   ]
  },
  {
   "cell_type": "markdown",
   "metadata": {},
   "source": [
    "Given that the data focuses mostly on the years of 2020 to 2022, the line chart for C-2 Forms will look into this period."
   ]
  },
  {
   "cell_type": "code",
   "execution_count": null,
   "metadata": {},
   "outputs": [],
   "source": [
    "df_filtered = df_train[df_train['Accident Date'].dt.year.isin([2020, 2021, 2022])]\n",
    "monthly_counts = df_filtered.groupby([df_filtered['Accident Date'].dt.year, df_filtered['Accident Date'].dt.month]).size().unstack(level=0)\n",
    "plt.figure(figsize=(12, 6))\n",
    "for year in [2020, 2021, 2022]:\n",
    "    plt.plot(monthly_counts.index, monthly_counts[year], marker='o', label=str(year))\n",
    "\n",
    "plt.xlabel('Month')\n",
    "plt.ylabel('Count')\n",
    "plt.title('Monthly Accident Counts for the Years 2020, 2021, and 2022')\n",
    "plt.xticks(ticks=range(1, 13), labels=['Jan', 'Feb', 'Mar', 'Apr', 'May', 'Jun', 'Jul', 'Aug', 'Sep', 'Oct', 'Nov', 'Dec'])\n",
    "plt.legend(title='Year')\n",
    "plt.grid(True)\n",
    "plt.show()"
   ]
  },
  {
   "cell_type": "markdown",
   "metadata": {},
   "source": [
    "There appears to be no type of periodicity.\n",
    "\n",
    "Now, the group will see if the time elapsed between the accident and the submission of the C-2 Form has an inpact on WCB's decision. For that, a helper variable will be created. Then it will be binned according to the following groupings:\n",
    "\n",
    "- 1 week (7 days)\n",
    "- 1 month (30 days)\n",
    "- 3 Months (90 days)\n",
    "- 6 months (180 days)\n",
    "- 1 year (365 days)\n",
    "- 365 x 10 (10 years)\n",
    "- 365 x 60 (60 years, this group was created to encompass all observations)"
   ]
  },
  {
   "cell_type": "code",
   "execution_count": null,
   "metadata": {},
   "outputs": [],
   "source": [
    "df_train['days_to_c2'] = (df_train['C-2 Date'] - df_train['Accident Date']).dt.days"
   ]
  },
  {
   "cell_type": "code",
   "execution_count": null,
   "metadata": {},
   "outputs": [],
   "source": [
    "bins = (-1, 0, 7, 30, 90, 180, 365, 365*2, 365*10, 60*365)\n",
    "labels = ['Same Day', '1 week', '1 month', '3 months', '6 months', '1 year', '2 years', '10 years', '10+ years']\n",
    "df_train['days_to_c2_binned'] = pd.cut(df_train['days_to_c2'], bins=bins, labels=labels)"
   ]
  },
  {
   "cell_type": "code",
   "execution_count": null,
   "metadata": {},
   "outputs": [],
   "source": [
    "fig, axes = plt.subplots(nrows=4, ncols=2, figsize=(20, 20))\n",
    "claim_list = ['1. CANCELLED', '2. NON-COMP', '3. MED ONLY', '4. TEMPORARY', '5. PPD SCH LOSS', '6. PPD NSL', '7. PTD', '8. DEATH']\n",
    "\n",
    "for ax, claim in zip(axes.flatten(), claim_list):\n",
    "    days_accident_binned = df_train[df_train['Claim Injury Type'] == claim]['days_to_c2_binned'].value_counts().sort_index()\n",
    "    bars = ax.bar(days_accident_binned.index.astype(str), days_accident_binned.values / days_accident_binned.values.sum() * 100, color='#B2D300')\n",
    "    ax.set_title(f'{claim} - Days from Accident to filling the C-2 Form')\n",
    "    ax.set_xlabel('Days')\n",
    "    ax.set_ylabel('Percentage (%)')\n",
    "    ax.set_ylim(0, 50)\n",
    "    ax.grid(True)\n",
    "    ax.spines['top'].set_visible(False)\n",
    "    ax.spines['right'].set_visible(False)\n",
    "    ax.spines['left'].set_visible(False)\n",
    "    ax.spines['bottom'].set_visible(False)\n",
    "plt.tight_layout()\n",
    "plt.show()"
   ]
  },
  {
   "cell_type": "markdown",
   "metadata": {},
   "source": [
    "It seems that, in most cases, the form is filled out up to a month after the accident happens. This is true for all kinds of decisions. Cases involving death seem to be the exception. In these cases, there is a more uniform distribution. This could be that employees don't bother to fill out the form in such a hurry if a death occurred.\n",
    "\n",
    "Given that C-2 is the date of a form filled out by the employee after the accident, \"C-2 Date\" cannot happen before \"Accident Date\". In order to ensure the data is consistent, it must be confirmed if such cases occured:"
   ]
  },
  {
   "cell_type": "code",
   "execution_count": null,
   "metadata": {},
   "outputs": [],
   "source": [
    "c2_before_accident = df_train[df_train['days_to_c2'] < 0]\n",
    "print(f\"Number of times the C-2 report is filled before the accident happens: {c2_before_accident.shape[0]}\")"
   ]
  },
  {
   "cell_type": "markdown",
   "metadata": {},
   "source": [
    "These rows will be addressed in the data cleaning stage."
   ]
  },
  {
   "cell_type": "markdown",
   "metadata": {},
   "source": [
    "## Carrier Type"
   ]
  },
  {
   "cell_type": "code",
   "execution_count": null,
   "metadata": {},
   "outputs": [],
   "source": [
    "df_train['Carrier Type'].unique()"
   ]
  },
  {
   "cell_type": "markdown",
   "metadata": {},
   "source": [
    "This variable has the following unique values:\n",
    "\n",
    "- 1A. PRIVATE\n",
    "- 2A. SIF\n",
    "- 3A. SELF PUBLIC\n",
    "- 4A. SELF PRIVATE\n",
    "- 5A. SPECIAL FUND - CONS. COMM. (SECT. 25-A)\n",
    "- 5C. SPECIAL FUND - POI CARRIER WCB MENANDS\n",
    "- 5D. SPECIAL FUND - UNKNOWN\n",
    "- UNKNOWN\n",
    "\n",
    "In the data dictionary provided by the WCB, the following description is given:\n",
    "\n",
    "> Type of primary insurance provider responsible for providing workers’ compensation coverage to the injured worker’s employer (Private Carrier, State Insurance 1  Fund, Selfinsured, or Special Fund). (See FAQ for clarifications on carrier type)\n",
    "\n",
    "From this, we can gather that the carrier types can be grouped into the following categories:\n",
    "\n",
    "- Private Carrier\n",
    "- State Insurance\n",
    "- Self-Insured\n",
    "- Special Fund\n",
    "\n",
    "And in the case of the present data, another group has to be added to account for the rows where the `carrier type` is unknown.\n",
    "\n",
    "The new carrier types will be structured as follows:\n",
    "\n",
    "| Original Carrier Type | New Group |\n",
    "|---|---|\n",
    "| 1A. PRIVATE | Private Carrier |\n",
    "| 2A. SIF | State Insurance |\n",
    "| 3A. SELF PUBLIC | Self-Public |\n",
    "| 4A. SELF PRIVATE | Self-Private |\n",
    "| 5A. SPECIAL FUND - CONS. COMM. (SECT. 25-A) | Special Fund |\n",
    "| 5C. SPECIAL FUND - POI CARRIER WCB MENANDS | Special Fund |\n",
    "| 5D. SPECIAL FUND - UNKNOWN | Special Fund |\n",
    "| UNKNOWN | Unknown |\n",
    "\n",
    "Note that the 3rd group (Self-Insured) isn't kept, instead its subdivisions (SELF PRIVATE and SELF PUBLIC) are kept. This is due to the fact that both these categories have enough observations to represent their own group, and there are differences amongst them that would be lost if they were mixed. For example, the average weekly salary in SELF-PUBLIC is almost double that of SELF-PRIVATE.\n",
    "\n",
    "Before grouping, the group decided to take a look at the distribution of each type to see how it was affected by the transformation."
   ]
  },
  {
   "cell_type": "code",
   "execution_count": null,
   "metadata": {},
   "outputs": [],
   "source": [
    "value_c = df_train['Carrier Type'].value_counts()\n",
    "value_c_df = pd.DataFrame({'Carrier Type': value_c.index, 'Count': value_c.values})\n",
    "value_c_df['Percentage'] = value_c_df['Count'] / len(df_train) * 100\n",
    "value_c_df"
   ]
  },
  {
   "cell_type": "code",
   "execution_count": null,
   "metadata": {},
   "outputs": [],
   "source": [
    "# Group by 'Carrier Type' and calculate the mean of 'Average Weekly Wage'\n",
    "avg_weekly_wage_by_carrier_type = df_train.groupby('Carrier Type')['Average Weekly Wage'].mean()\n",
    "\n",
    "# Plot the data\n",
    "plt.figure(figsize=(15, 6))\n",
    "sns.barplot(x=avg_weekly_wage_by_carrier_type.values, y=avg_weekly_wage_by_carrier_type.index, color='#4782B4')"
   ]
  },
  {
   "cell_type": "code",
   "execution_count": null,
   "metadata": {},
   "outputs": [],
   "source": [
    "gender_proportion_carrier = pd.crosstab(df_train['Carrier Type'], df_train['Attorney/Representative'], normalize='index') * 100\n",
    "fig, ax = plt.subplots(figsize=(10, 5))  # Increased figure size\n",
    "gender_proportion_carrier.plot(kind='bar', stacked=True, ax=ax)\n",
    "plt.xlabel('Carrier Type')\n",
    "plt.ylabel('Proportion')\n",
    "plt.title('Proportion of Genders by Carrier Type')"
   ]
  },
  {
   "cell_type": "code",
   "execution_count": null,
   "metadata": {},
   "outputs": [],
   "source": [
    "gender_proportion_carrier = pd.crosstab(df_train['Carrier Type'], df_train['Gender'], normalize='index') * 100\n",
    "fig, ax = plt.subplots(figsize=(10, 5))  # Increased figure size\n",
    "gender_proportion_carrier.plot(kind='bar', stacked=True, ax=ax)\n",
    "plt.xlabel('Carrier Type')\n",
    "plt.ylabel('Proportion')\n",
    "plt.title('Proportion of Genders by Carrier Type')"
   ]
  },
  {
   "cell_type": "code",
   "execution_count": null,
   "metadata": {},
   "outputs": [],
   "source": [
    "df_train['Carrier Type'] = df_train['Carrier Type'].map({\n",
    "    '1A. PRIVATE': 'PRIVATE',\n",
    "    '2A. SIF': 'STATE INSURANCE',\n",
    "    '3A. SELF PUBLIC': 'SELF-PUBLIC',\n",
    "    '4A. SELF PRIVATE': 'SELF-PRIVATE',\n",
    "    '5D. SPECIAL FUND - UNKNOWN': 'SPECIAL FUND',\n",
    "    '5C. SPECIAL FUND - POI CARRIER WCB MENANDS': 'SPECIAL FUND',\n",
    "    '5A. SPECIAL FUND - CONS. COMM. (SECT. 25-A)':'SPECIAL FUND',\n",
    "    'UNKNOWN':'UNKNOWN'\n",
    "    })"
   ]
  },
  {
   "cell_type": "code",
   "execution_count": null,
   "metadata": {},
   "outputs": [],
   "source": [
    "value_c = df_train['Carrier Type'].value_counts()\n",
    "value_c_df = pd.DataFrame({'Carrier Type': value_c.index, 'Count': value_c.values})\n",
    "value_c_df['Percentage'] = value_c_df['Count'] / len(df_train) * 100\n",
    "value_c_df"
   ]
  },
  {
   "cell_type": "code",
   "execution_count": null,
   "metadata": {},
   "outputs": [],
   "source": [
    "# Group by 'Carrier Type' and calculate the mean of 'Average Weekly Wage'\n",
    "avg_weekly_wage_by_carrier_type = df_train.groupby('Carrier Type')['Average Weekly Wage'].mean()\n",
    "\n",
    "# Plot the data\n",
    "plt.figure(figsize=(15, 6))\n",
    "sns.barplot(x=avg_weekly_wage_by_carrier_type.values, y=avg_weekly_wage_by_carrier_type.index, color='#4782B4')"
   ]
  },
  {
   "cell_type": "code",
   "execution_count": null,
   "metadata": {},
   "outputs": [],
   "source": [
    "gender_proportion_carrier = pd.crosstab(df_train['Carrier Type'], df_train['Attorney/Representative'], normalize='index') * 100\n",
    "fig, ax = plt.subplots(figsize=(10, 5))  # Increased figure size\n",
    "gender_proportion_carrier.plot(kind='bar', stacked=True, ax=ax)\n",
    "plt.xlabel('Carrier Type')\n",
    "plt.ylabel('Proportion')\n",
    "plt.title('Proportion of Genders by Carrier Type')"
   ]
  },
  {
   "cell_type": "code",
   "execution_count": null,
   "metadata": {},
   "outputs": [],
   "source": [
    "gender_proportion_carrier = pd.crosstab(df_train['Carrier Type'], df_train['Gender'], normalize='index') * 100\n",
    "fig, ax = plt.subplots(figsize=(10, 5))  # Increased figure size\n",
    "gender_proportion_carrier.plot(kind='bar', stacked=True, ax=ax)\n",
    "plt.xlabel('Carrier Type')\n",
    "plt.ylabel('Proportion')\n",
    "plt.title('Proportion of Genders by Carrier Type')"
   ]
  },
  {
   "cell_type": "markdown",
   "metadata": {},
   "source": [
    "## Code Variables\n",
    "\n",
    "In the dataset, there are a lot of columns regarding codes (industry codes, injury codes, etc.). These codes have a high cardinality (there are between 50 to 70 unique values) and, as such, they are of no use to the model or visualization."
   ]
  },
  {
   "cell_type": "code",
   "execution_count": null,
   "metadata": {},
   "outputs": [],
   "source": [
    "unique_cause_codes = df_train[['WCIO Cause of Injury Code', 'WCIO Cause of Injury Description']].drop_duplicates()\n",
    "unique_nature_codes = df_train[['WCIO Nature of Injury Code', 'WCIO Nature of Injury Description']].drop_duplicates()\n",
    "unique_body_codes = df_train[['WCIO Part Of Body Code', 'WCIO Part Of Body Description']].drop_duplicates()"
   ]
  },
  {
   "cell_type": "code",
   "execution_count": null,
   "metadata": {},
   "outputs": [],
   "source": [
    "unique_body_codes"
   ]
  },
  {
   "cell_type": "markdown",
   "metadata": {},
   "source": [
    "### Body Groups\n",
    "\n",
    "To reduce the dimensionality, the codes can be grouped into 5 groups:\n",
    "- Head\n",
    "- Torso\n",
    "- Arms\n",
    "- Legs\n",
    "- Other (for unkown codes)\n",
    "\n",
    "This has to be done manually."
   ]
  },
  {
   "cell_type": "code",
   "execution_count": null,
   "metadata": {},
   "outputs": [],
   "source": [
    "## change the descriptions of the given codes to more readable descriptions:\n",
    "# 18 - SOFT TISSUE HEAD\n",
    "# 25 - SOFT TISSUE NECK\n",
    "# 22 - DISC NECK\n",
    "# 43 - DISC TRUNK\n",
    "\n",
    "# the body part code 18 has a description of 'SOFT TISSUE that need to be altered to 'SOFT TISSUE HEAD'\n",
    "df_train.loc[df_train['WCIO Part Of Body Code'] == 18, 'WCIO Part Of Body Description'] = 'SOFT TISSUE HEAD'\n",
    "\n",
    "# the body part code 25 has a description of 'SOFT TISSUE that need to be altered to 'SOFT TISSUE NECK'\n",
    "df_train.loc[df_train['WCIO Part Of Body Code'] == 25, 'WCIO Part Of Body Description'] = 'SOFT TISSUE NECK'\n",
    "\n",
    "# the body part code 22 has a description of 'DISC that need to be altered to 'DISC NECK'\n",
    "df_train.loc[df_train['WCIO Part Of Body Code'] == 22, 'WCIO Part Of Body Description'] = 'DISC NECK'\n",
    "\n",
    "# the body part code 43 has a description of 'DISC that need to be altered to 'DISC TRUNK'\n",
    "df_train.loc[df_train['WCIO Part Of Body Code'] == 43, 'WCIO Part Of Body Description'] = 'DISC TRUNK'"
   ]
  },
  {
   "cell_type": "code",
   "execution_count": null,
   "metadata": {},
   "outputs": [],
   "source": [
    "head = [\n",
    "    \"MULTIPLE HEAD INJURY\", \"EYE(S)\", \"MOUTH\", \"EAR(S)\", \"SKULL\", \"FACIAL BONES\", \n",
    "    \"TEETH\", \"NOSE\", \"BRAIN\", \"LARYNX\", \"TRACHEA\", \"MULTIPLE NECK INJURY\", \"SOFT TISSUE HEAD\", \"SOFT TISSUE NECK\"\n",
    "]\n",
    "\n",
    "torso = [\n",
    "    \"TORSO\", \"SHOULDER(S)\", \"LUNGS\", \"BUTTOCKS\", \"LOWER BACK AREA\", \"ABDOMEN INCLUDING GROIN\", \n",
    "    \"HIP\", \"CHEST\", \"DISC NECK\", \"DISC TRUNK\", \"UPPER BACK AREA\", \"PELVIS\", \"HEART\", \"VERTEBRAE\", \n",
    "    \"LUMBAR & OR SACRAL VERTEBRAE (VERTEBRA\", \"SACRUM AND COCCYX\", \"SPINAL CORD\", \"MULTIPLE TRUNK\", \"SPINAL CORD\", \"INTERNAL ORGANS\"\n",
    "]\n",
    "\n",
    "arm = [\n",
    "    \"ARMS\", \"FINGER(S)\", \"THUMB\", \"WRIST\", \"HAND\", \"UPPER ARM\", \"ELBOW\", \"WRIST (S) & HAND(S)\", \"MULTIPLE UPPER EXTREMITIES\"\n",
    "]\n",
    "\n",
    "leg = [\n",
    "    \"LEGS\", \"ANKLE\", \"KNEE\", \"LOWER LEG\", \"UPPER LEG\", \"FOOT\", \"TOES\", \"GREAT TOE\", \n",
    "    \"MULTIPLE LOWER EXTREMITIES\"\n",
    "]\n",
    "\n",
    "multiple_body_parts = [ 'ARTIFICIAL APPLIANCE', \"INSUFFICIENT INFO TO PROPERLY IDENTIFY - UNCLASSIFIED\",\n",
    "                        'NO PHYSICAL INJURY', 'MULTIPLE BODY PARTS (INCLUDING BODY', 'BODY SYSTEMS AND MULTIPLE BODY SYSTEMS',\n",
    "                         'WHOLE BODY', 'MULTIPLE']"
   ]
  },
  {
   "cell_type": "code",
   "execution_count": null,
   "metadata": {},
   "outputs": [],
   "source": [
    "df_train['body_group'] = np.nan\n",
    "df_train.loc[df_train['WCIO Part Of Body Description'].isin(head), 'body_group'] = 'Head'\n",
    "df_train.loc[df_train['WCIO Part Of Body Description'].isin(torso), 'body_group'] = 'Torso'\n",
    "df_train.loc[df_train['WCIO Part Of Body Description'].isin(arm), 'body_group'] = 'Arms'\n",
    "df_train.loc[df_train['WCIO Part Of Body Description'].isin(leg), 'body_group'] = 'Legs'\n",
    "df_train.loc[df_train['WCIO Part Of Body Description'].isin(multiple_body_parts), 'body_group'] = 'Multiple Body Parts'"
   ]
  },
  {
   "cell_type": "code",
   "execution_count": null,
   "metadata": {},
   "outputs": [],
   "source": [
    "df_train['body_group'].value_counts()\n",
    "plt.bar(df_train['body_group'].value_counts().index, df_train['body_group'].value_counts().values, color='#B2D300')"
   ]
  },
  {
   "cell_type": "markdown",
   "metadata": {},
   "source": [
    "Most of our observations suffered injuries in the torso area."
   ]
  },
  {
   "cell_type": "code",
   "execution_count": null,
   "metadata": {},
   "outputs": [],
   "source": [
    "body_group_percentage = df_train.groupby(['Claim Injury Type', 'body_group']).size().unstack().apply(lambda x: x / x.sum() * 100, axis=1)\n",
    "fig, axes = plt.subplots(nrows=4, ncols=2, figsize=(25, 20))\n",
    "axes = axes.flatten()\n",
    "for ax, claim_type in zip(axes, body_group_percentage.index):\n",
    "    body_group_percentage.loc[claim_type].plot(kind='bar', ax=ax, color='#B2D300')\n",
    "    ax.set_xticklabels(ax.get_xticklabels(), rotation=0)\n",
    "    ax.set_title(claim_type)\n",
    "    ax.set_xlabel('Body Group')\n",
    "    ax.set_ylabel('Percentage')\n",
    "    ax.grid(True)\n",
    "    ax.spines['top'].set_visible(False)\n",
    "    ax.spines['right'].set_visible(False)\n",
    "    ax.spines['left'].set_visible(False)\n",
    "    ax.spines['bottom'].set_visible(False)\n",
    "plt.tight_layout()\n",
    "plt.show()"
   ]
  },
  {
   "cell_type": "markdown",
   "metadata": {},
   "source": [
    "The 'Other' category grows as the cases get more severe, reaching its peak in the most severe cases. The 'Head' category also shows a slight increase in the 7th and 8th categories."
   ]
  },
  {
   "cell_type": "code",
   "execution_count": null,
   "metadata": {},
   "outputs": [],
   "source": [
    "unique_nature_codes"
   ]
  },
  {
   "cell_type": "markdown",
   "metadata": {},
   "source": [
    "### Injury Nature\n",
    "\n",
    "The same can be done for the diseases, grouping them will reduce their dimensionality. They are grouped as follows:\n",
    "- External Physical Trauma (caused by direct impact, injury, or physical force)\n",
    "- Chronic and Repetitive Stress Injuries (due to repetitive motion or long-term strain)\n",
    "- Cumulative and Occupational Injuries (work-related conditions or cumulative injuries)\n",
    "- Infectious Diseases (disease or infection-related injuries)\n",
    "- Poisoning and Chemical Exposure (injuries related to toxic substances or reactions)\n",
    "- Cardiovascular and Respiratory Conditions (heart, lung, and vascular system-related)\n",
    "- Neurological and Sensory Conditions (affecting the nervous system, vision, or hearing)\n",
    "- Mental Health and Stress-Related Conditions (psychological or emotional conditions)\n",
    "- Other (Multiple injuries and special/rare conditions combined)\n",
    "\n",
    "Again, this needs to be done manually and in the case of some injuries, research is necessary."
   ]
  },
  {
   "cell_type": "code",
   "execution_count": null,
   "metadata": {},
   "outputs": [],
   "source": [
    "physical_trauma = [\"CONTUSION\", \"SPRAIN OR TEAR\", \"CONCUSSION\", \"PUNCTURE\", \"LACERATION\", \"BURN\", \n",
    "                   \"STRAIN OR TEAR\", \"FRACTURE\", \"FOREIGN BODY\", \"RUPTURE\", \"DISLOCATION\", \"CRUSHING\", \n",
    "                   \"SEVERANCE\", \"ELECTRIC SHOCK\", \"AMPUTATION\"]\n",
    "\n",
    "repetitive_stress_injuries = [\"INFLAMMATION\", \"CARPAL TUNNEL SYNDROME\", \"HERNIA\", \"VDT - RELATED DISEASES\"]\n",
    "\n",
    "cumulative_occupational_injuries = [\"ALL OTHER OCCUPATIONAL DISEASE INJURY, NOC\", \"ALL OTHER SPECIFIC INJURIES, NOC\", \"ALL OTHER CUMULATIVE INJURY, NOC\", \n",
    "                                    \"DUST DISEASE, NOC\", \"ASBESTOSIS\", \"SILICOSIS\", \"BLACK LUNG\", \"BYSSINOSIS\", \"DERMATITIS\"]\n",
    "\n",
    "infectious_diseases = [\"INFECTION\", \"COVID-19\", \"CONTAGIOUS DISEASE\", \"HEPATITIS C\", \"AIDS\"]\n",
    "\n",
    "poisoning_chemical_exposure = [\"POISONING - GENERAL (NOT OD OR CUMULATIVE\", \"POISONING - CHEMICAL, (OTHER THAN METALS)\", \"POISONING - METAL\", \n",
    "                               \"RADIATION\", \"ADVERSE REACTION TO A VACCINATION OR INOCULATION\"]\n",
    "\n",
    "cardiovascular_respiratory = [\"ANGINA PECTORIS\", \"MYOCARDIAL INFARCTION\", \"RESPIRATORY DISORDERS\", \n",
    "                              \"VASCULAR\", \"ASPHYXIATION\", \"HEAT PROSTRATION\"]\n",
    "\n",
    "neurological_sensory = [\"HEARING LOSS OR IMPAIRMENT\", \"LOSS OF HEARING\", \"VISION LOSS\", \"ENUCLEATION\", \"SYNCOPE\"]\n",
    "\n",
    "mental_health_stress = [\"MENTAL STRESS\", \"MENTAL DISORDER\"]\n",
    "\n",
    "other_injury = [\"MULTIPLE PHYSICAL INJURIES ONLY\", \"MULTIPLE INJURIES INCLUDING BOTH PHYSICAL AND PSYCHOLOGICAL\", \n",
    "         \"FREEZING\", \"RADIATION\", \"ADVERSE REACTION TO A VACCINATION OR INOCULATION\", \"CANCER\", 'NO PHYSICAL INJURY']\n"
   ]
  },
  {
   "cell_type": "code",
   "execution_count": null,
   "metadata": {},
   "outputs": [],
   "source": [
    "df_train['injury_type'] = np.nan\n",
    "df_train.loc[df_train['WCIO Nature of Injury Description'].isin(physical_trauma), 'injury_type'] = 'Physical Trauma'\n",
    "df_train.loc[df_train['WCIO Nature of Injury Description'].isin(repetitive_stress_injuries), 'injury_type'] = 'Repetitive Stress Injuries'\n",
    "df_train.loc[df_train['WCIO Nature of Injury Description'].isin(cumulative_occupational_injuries), 'injury_type'] = 'Cumulative Occupational Injuries'\n",
    "df_train.loc[df_train['WCIO Nature of Injury Description'].isin(infectious_diseases), 'injury_type'] = 'Infectious Diseases'\n",
    "df_train.loc[df_train['WCIO Nature of Injury Description'].isin(poisoning_chemical_exposure), 'injury_type'] = 'Poisoning/Chemical Exposure'\n",
    "df_train.loc[df_train['WCIO Nature of Injury Description'].isin(cardiovascular_respiratory), 'injury_type'] = 'Cardiovascular/Respiratory'\n",
    "df_train.loc[df_train['WCIO Nature of Injury Description'].isin(neurological_sensory), 'injury_type'] = 'Neurological/Sensory'\n",
    "df_train.loc[df_train['WCIO Nature of Injury Description'].isin(mental_health_stress), 'injury_type'] = 'Mental Health/Stress'\n",
    "df_train.loc[df_train['WCIO Nature of Injury Description'].isin(other_injury), 'injury_type'] = 'Other'"
   ]
  },
  {
   "cell_type": "code",
   "execution_count": null,
   "metadata": {},
   "outputs": [],
   "source": [
    "injury_group_percentage = df_train.groupby(['Claim Injury Type', 'injury_type']).size().unstack().apply(lambda x: x / x.sum() * 100, axis=1)\n",
    "fig, axes = plt.subplots(nrows=4, ncols=2, figsize=(25, 20))\n",
    "axes = axes.flatten()\n",
    "for ax, claim_type in zip(axes, injury_group_percentage.index):\n",
    "    injury_group_percentage.loc[claim_type].plot(kind='barh', ax=ax, color='#B2D300')\n",
    "    ax.set_yticklabels(ax.get_yticklabels(), rotation=0)\n",
    "    ax.set_title(claim_type)\n",
    "    ax.set_ylabel('Injury Type')\n",
    "    ax.set_xlabel('Percentage')\n",
    "    ax.grid(True)\n",
    "    ax.spines['top'].set_visible(False)\n",
    "    ax.spines['right'].set_visible(False)\n",
    "    ax.spines['left'].set_visible(False)\n",
    "    ax.spines['bottom'].set_visible(False)\n",
    "plt.tight_layout()\n",
    "plt.show()"
   ]
  },
  {
   "cell_type": "markdown",
   "metadata": {},
   "source": [
    "This graph, like some of the graphs showed before, changes the most in cases where death is involved. Other types of cases are not so easily separated by these codes, as the increaases and decreases are only minor."
   ]
  },
  {
   "cell_type": "code",
   "execution_count": null,
   "metadata": {},
   "outputs": [],
   "source": [
    "for i in unique_cause_codes['WCIO Cause of Injury Description']:\n",
    "    print(i)"
   ]
  },
  {
   "cell_type": "markdown",
   "metadata": {},
   "source": [
    "### Cause of Injury\n",
    "\n",
    "The causes of accident can also be grouped:\n",
    "- Slips, Trips, and Falls (related to losing balance or falling)\n",
    "- Lifting, Carrying, and Handling (injuries related to lifting or handling objects)\n",
    "- Struck by or Contact with Objects (injuries from being hit or coming into contact with objects)\n",
    "- Vehicle and Machinery Accidents (related to collisions, crashes, or machine injuries)\n",
    "- Chemical, Environmental, and Biological Hazards (exposure to harmful substances or environments)\n",
    "- Manual Tools and Physical Operations (injuries caused by tools or physical operations)\n",
    "- Repetitive Motion and Strain (injuries from repeated actions or excessive strain)\n",
    "- Miscellaneous Causes (other causes that don’t fit into the above categories)\n",
    "\n",
    "Note: 'NOC' means 'Not Otherwise Classified', this code is used for observations that do not fit into a specific classification/category. 'FALL, SLIP OR TRIP, NOC' means it is a fall, slip or trip that does not fit in the categories present in the list such as snow or stairs.\n",
    "\n",
    "References:<br>\n",
    "https://workinjuryrights.com/glossary/not-otherwise-classified-noc/"
   ]
  },
  {
   "cell_type": "code",
   "execution_count": null,
   "metadata": {},
   "outputs": [],
   "source": [
    "slips_trips_falls = [\"FROM LIQUID OR GREASE SPILLS\", \"FALL, SLIP OR TRIP, NOC\", \"ON SAME LEVEL\", \"FROM DIFFERENT LEVEL (ELEVATION)\", \n",
    "                     \"ON ICE OR SNOW\", \"INTO OPENINGS\", \"ON STAIRS\", \"FROM LADDER OR SCAFFOLDING\", \"SLIP, OR TRIP, DID NOT FALL\", \n",
    "                     \"JUMPING OR LEAPING\"]\n",
    "\n",
    "lifting_carrying_handling = [\"OBJECT BEING LIFTED OR HANDLED\", \"LIFTING\", \"PUSHING OR PULLING\", \"HOLDING OR CARRYING\", \n",
    "                             \"OBJECT HANDLED\", \"OBJECT HANDLED BY OTHERS\"]\n",
    "\n",
    "struck_by_or_contact = [\"STRUCK OR INJURED, NOC\", \"FALLING OR FLYING OBJECT\", \"STEAM OR HOT FLUIDS\", \n",
    "                        \"STATIONARY OBJECT\", \"ELECTRICAL CURRENT\", \"HOT OBJECTS OR SUBSTANCES\", \n",
    "                        \"CAUGHT IN, UNDER OR BETWEEN, NOC\", \"FIRE OR FLAME\", \"CONTACT WITH, NOC\", \n",
    "                        \"BROKEN GLASS\", \"STEPPING ON SHARP OBJECT\", \"GUNSHOT\", \"ANIMAL OR INSECT\"]\n",
    "\n",
    "vehicle_machinery_accidents = [\"COLLISION OR SIDESWIPE WITH ANOTHER VEHICLE\", \"MOTOR VEHICLE, NOC\", \"MOTOR VEHICLE\", \"VEHICLE UPSET\", \"COLLISION WITH A FIXED OBJECT\", \n",
    "                               \"CRASH OF RAIL VEHICLE\", \"CRASH OF WATER VEHICLE\", \"CRASH OF AIRPLANE\", \"MOVING PARTS OF MACHINE\", \"MACHINE OR MACHINERY\", \"POWERED HAND TOOL, APPLIANCE\", \n",
    "                               \"USING TOOL OR MACHINERY\", \"MOVING PART OF MACHINE\", \"HAND TOOL OR MACHINE IN USE\"]\n",
    "\n",
    "chemical_environmental_biological = [\"CHEMICALS\", \"DUST, GASES, FUMES OR VAPORS\", \"ABSORPTION, INGESTION OR INHALATION, NOC\", \n",
    "                                     \"MOLD\", \"CUMULATIVE, NOC\", \"TEMPERATURE EXTREMES\", \"COLD OBJECTS OR SUBSTANCES\", \"RADIATION\", \n",
    "                                     \"ABNORMAL AIR PRESSURE\"]\n",
    "\n",
    "manual_tools_operations = [\"HAND TOOL, UTENSIL; NOT POWERED\", \"CUT, PUNCTURE, SCRAPE, NOC\", \"RUBBED OR ABRADED, NOC\", \n",
    "                           \"SANDING, SCRAPING, CLEANING OPERATION\", \"WELDING OPERATION\", \"STRIKING AGAINST OR STEPPING ON, NOC\", \n",
    "                           \"USING TOOL OR MACHINERY\"]\n",
    "\n",
    "repetitive_motion_strain = [\"REPETITIVE MOTION\", \"REACHING\", \"TWISTING\", \"STRAIN OR INJURY BY, NOC\"]\n",
    "\n",
    "other_cause = [\"OTHER - MISCELLANEOUS, NOC\", \"FELLOW WORKER, PATIENT OR OTHER PERSON\", \"FOREIGN MATTER (BODY) IN EYE(S)\",\n",
    "                \"OTHER THAN PHYSICAL CAUSE OF INJURY\", \"PANDEMIC\", \"TERRORISM\", \"NATURAL DISASTERS\", \"EXPLOSION OR FLARE BACK\", \n",
    "                \"COLLAPSING MATERIALS (SLIDES OF EARTH)\", \"CONTINUAL NOISE\", \"WIELDING OR THROWING\", \"PERSON IN ACT OF A CRIME\"]"
   ]
  },
  {
   "cell_type": "code",
   "execution_count": null,
   "metadata": {},
   "outputs": [],
   "source": [
    "df_train['injury_cause'] = np.nan\n",
    "df_train.loc[df_train['WCIO Cause of Injury Description'].isin(slips_trips_falls), 'injury_cause'] = 'Slips, Trips, and Falls'\n",
    "df_train.loc[df_train['WCIO Cause of Injury Description'].isin(lifting_carrying_handling), 'injury_cause'] = 'Lifting, Carrying, and Handling'\n",
    "df_train.loc[df_train['WCIO Cause of Injury Description'].isin(struck_by_or_contact), 'injury_cause'] = 'Struck by or Contact with Objects'\n",
    "df_train.loc[df_train['WCIO Cause of Injury Description'].isin(vehicle_machinery_accidents), 'injury_cause'] = 'Vehicle and Machinery Accidents'\n",
    "df_train.loc[df_train['WCIO Cause of Injury Description'].isin(chemical_environmental_biological), 'injury_cause'] = 'Chemical, Environmental, and Biological Hazards'\n",
    "df_train.loc[df_train['WCIO Cause of Injury Description'].isin(manual_tools_operations), 'injury_cause'] = 'Manual Tools and Physical Operations'\n",
    "df_train.loc[df_train['WCIO Cause of Injury Description'].isin(repetitive_motion_strain), 'injury_cause'] = 'Repetitive Motion and Strain'\n",
    "df_train.loc[df_train['WCIO Cause of Injury Description'].isin(other_cause), 'injury_cause'] = 'Other'\n"
   ]
  },
  {
   "cell_type": "code",
   "execution_count": null,
   "metadata": {},
   "outputs": [],
   "source": [
    "cause_group_percentage = df_train.groupby(['Claim Injury Type', 'injury_cause']).size().unstack().apply(lambda x: x / x.sum() * 100, axis=1)\n",
    "fig, axes = plt.subplots(nrows=4, ncols=2, figsize=(25, 20))\n",
    "axes = axes.flatten()\n",
    "for ax, claim_type in zip(axes, cause_group_percentage.index):\n",
    "    cause_group_percentage.loc[claim_type].plot(kind='barh', ax=ax, color='#B2D300')\n",
    "    ax.set_yticklabels(ax.get_yticklabels(), rotation=0)\n",
    "    ax.set_title(claim_type)\n",
    "    ax.set_ylabel('Injury Type')\n",
    "    ax.set_xlabel('Percentage')\n",
    "    ax.grid(True)\n",
    "    ax.spines['top'].set_visible(False)\n",
    "    ax.spines['right'].set_visible(False)\n",
    "    ax.spines['left'].set_visible(False)\n",
    "    ax.spines['bottom'].set_visible(False)\n",
    "plt.tight_layout()\n",
    "plt.show()"
   ]
  },
  {
   "cell_type": "markdown",
   "metadata": {},
   "source": [
    "Unlike in the other bar charts, the causes for the accidents seem to be a differenciating factor. As always, this could be due to the fact that as cases get more severe the number of cases dwindles and so a small amount of cases caused by \"repetitive motion or strain\" can account for a large portion of the cases in a category."
   ]
  },
  {
   "cell_type": "markdown",
   "metadata": {
    "jp-MarkdownHeadingCollapsed": true
   },
   "source": [
    "### Industry Codes\n",
    "\n",
    "Industry codes can be categorized into five main groups:\n",
    "\n",
    "- Natural Resources and Utilities\n",
    "- Goods Production and Trade\n",
    "- Services\n",
    "- Education Health Public Services\n",
    "- Leisure Hospitality\n",
    "\n",
    "Like before, this selection is done manually."
   ]
  },
  {
   "cell_type": "code",
   "execution_count": null,
   "metadata": {},
   "outputs": [],
   "source": [
    "unique_industry_codes = df_train[['Industry Code', 'Industry Code Description']].drop_duplicates()"
   ]
  },
  {
   "cell_type": "code",
   "execution_count": null,
   "metadata": {},
   "outputs": [],
   "source": [
    "unique_industry_codes"
   ]
  },
  {
   "cell_type": "code",
   "execution_count": null,
   "metadata": {},
   "outputs": [],
   "source": [
    "natural_resources_utilities = [\"AGRICULTURE, FORESTRY, FISHING AND HUNTING\", \"MINING\", \"UTILITIES\"]\n",
    "\n",
    "goods_production_and_trade = [\"CONSTRUCTION\", \"MANUFACTURING\", \"WHOLESALE TRADE\", \"RETAIL TRADE\"]\n",
    "\n",
    "services = [\"TRANSPORTATION AND WAREHOUSING\", \"INFORMATION\", \"FINANCE AND INSURANCE\", \"REAL ESTATE AND RENTAL AND LEASING\", \n",
    "    \"PROFESSIONAL, SCIENTIFIC, AND TECHNICAL SERVICES\", \"MANAGEMENT OF COMPANIES AND ENTERPRISES\",\n",
    "    \"OTHER SERVICES (EXCEPT PUBLIC ADMINISTRATION)\", \"ADMINISTRATIVE AND SUPPORT AND WASTE MANAGEMENT AND REMEDIAT\"]\n",
    "\n",
    "education_health_public_services = [\"EDUCATIONAL SERVICES\", \"HEALTH CARE AND SOCIAL ASSISTANCE\", \"PUBLIC ADMINISTRATION\"]\n",
    "\n",
    "leisure_hospitality = [\"ARTS, ENTERTAINMENT, AND RECREATION\", \"ACCOMMODATION AND FOOD SERVICES\"]"
   ]
  },
  {
   "cell_type": "code",
   "execution_count": null,
   "metadata": {},
   "outputs": [],
   "source": [
    "df_train['industry_group'] = np.nan\n",
    "df_train.loc[df_train['Industry Code Description'].isin(natural_resources_utilities), 'industry_group'] = 'Natural Resources and Utilities'\n",
    "df_train.loc[df_train['Industry Code Description'].isin(goods_production_and_trade), 'industry_group'] = 'Goods Production and Trade'\n",
    "df_train.loc[df_train['Industry Code Description'].isin(services), 'industry_group'] = 'Services'\n",
    "df_train.loc[df_train['Industry Code Description'].isin(education_health_public_services), 'industry_group'] = 'Education Health and Public Services'\n",
    "df_train.loc[df_train['Industry Code Description'].isin(leisure_hospitality), 'industry_group'] = 'Leisure Hospitality'"
   ]
  },
  {
   "cell_type": "code",
   "execution_count": null,
   "metadata": {},
   "outputs": [],
   "source": [
    "df_train['industry_group'].value_counts()\n",
    "plt.barh(df_train['industry_group'].value_counts().index, df_train['industry_group'].value_counts().values, color='#B2D300')\n",
    "plt.show()"
   ]
  },
  {
   "cell_type": "markdown",
   "metadata": {},
   "source": [
    "Most of the cases belong to the education, health and public services, with almost double the number of cases of the second most frequent industry group."
   ]
  },
  {
   "cell_type": "code",
   "execution_count": null,
   "metadata": {},
   "outputs": [],
   "source": [
    "industry_group_percentage = df_train.groupby(['Claim Injury Type', 'industry_group']).size().unstack().apply(lambda x: x / x.sum() * 100, axis=1)\n",
    "fig, axes = plt.subplots(nrows=4, ncols=2, figsize=(25, 20))\n",
    "axes = axes.flatten()\n",
    "for ax, claim_type in zip(axes, industry_group_percentage.index):\n",
    "    industry_group_percentage.loc[claim_type].plot(kind='bar', ax=ax, color='#B2D300')\n",
    "    ax.set_xticklabels(ax.get_xticklabels(), rotation=0)\n",
    "    ax.set_title(claim_type)\n",
    "    ax.set_xlabel('Industry Group')\n",
    "    ax.set_ylabel('Percentage')\n",
    "    ax.grid(True)\n",
    "    ax.spines['top'].set_visible(False)\n",
    "    ax.spines['right'].set_visible(False)\n",
    "    ax.spines['left'].set_visible(False)\n",
    "    ax.spines['bottom'].set_visible(False)\n",
    "plt.tight_layout()\n",
    "plt.show()"
   ]
  },
  {
   "cell_type": "markdown",
   "metadata": {},
   "source": [
    "'Education Health and Public Services' takes the lead in every category except for one. For canceled cases the most represented industry is 'Goods Production and Trade' (by around 5%). The least represented industry is 'Natural Resources and Utilities'. This industry like other minority code groups ('head' in the body_groups, 'Infecteous Diseases' in the nature group), reaches its peak in the most severe accidents."
   ]
  },
  {
   "cell_type": "markdown",
   "metadata": {},
   "source": [
    "## Agreement Reached"
   ]
  },
  {
   "cell_type": "markdown",
   "metadata": {},
   "source": [
    "For the open-ended segment of the project, the group has chosen to predict an additional variable: Agreement Reached.\n",
    "\n",
    "This variable indicates whether an agreement was reached between the parties involved before the intervention of the Workers' Compensation Board.\n",
    "\n",
    "Exploring the relationships between 'Agreement Reached' and other variables can uncover information about the conditions that favor agreements before Workers' Compensation Board intervention.\n",
    "\n",
    "First, the distribution of the Agreement Reached will be examined to see how this variable behaves in this data set."
   ]
  },
  {
   "cell_type": "code",
   "execution_count": null,
   "metadata": {},
   "outputs": [],
   "source": [
    "agreement_reached_counts = df_train['Agreement Reached'].value_counts()\n",
    "plt.figure(figsize=(8, 6)) \n",
    "plt.bar(agreement_reached_counts.index, agreement_reached_counts.values, color=['grey','#B2D300'])\n",
    "plt.xticks(ticks=[0, 1], labels=['Not Reached', 'Reached'])\n",
    "plt.xlabel('Agreement Reached')\n",
    "plt.ylabel('Count')\n",
    "plt.title('Distribution of Agreement Reached')\n",
    "plt.grid(True)\n",
    "\n",
    "for index, value in enumerate(agreement_reached_counts.values):\n",
    "    plt.text(index, value + 0.5, str(value), ha='center', va='bottom')\n",
    "\n",
    "ax = plt.gca()\n",
    "ax.spines['top'].set_visible(False)\n",
    "ax.spines['right'].set_visible(False)\n",
    "plt.show()"
   ]
  },
  {
   "cell_type": "markdown",
   "metadata": {},
   "source": [
    "The variable is unbalanced. This is something to take into account as it poses a challenge for prediction.\n",
    "\n",
    "Moving forward, for now, it is essential to analyze the relationships between \"Agreement Reached\" and other variables in the dataset to determine its relevance for prediction."
   ]
  },
  {
   "cell_type": "code",
   "execution_count": null,
   "metadata": {},
   "outputs": [],
   "source": [
    "df_train['Attorney/Representative'] = df_train['Attorney/Representative'].replace({'N': 'No', 'Y': 'Yes'})\n",
    "agreement_by_attorney = pd.crosstab(df_train['Attorney/Representative'], df_train['Agreement Reached'])\n",
    "agreement_by_attorney.columns = ['Not Reached', 'Reached']\n",
    "agreement_by_attorney['Reached'] = (agreement_by_attorney['Reached'] / (agreement_by_attorney['Not Reached'] + agreement_by_attorney['Reached'])) * 100\n",
    "agreement_by_attorney['Not Reached'] = 100 - agreement_by_attorney['Reached']\n",
    "agreement_by_attorney.plot(kind='bar', stacked=False, color=['Grey', '#B2D300'], figsize=(12, 6))\n",
    "plt.xlabel('Attorney/Representative')\n",
    "plt.ylabel('Percentage')\n",
    "plt.title('Percentage of Cases with and without Agreement by Attorney')\n",
    "plt.xticks(rotation=0)\n",
    "plt.grid(True)\n",
    "ax = plt.gca()\n",
    "ax.spines['top'].set_visible(False)\n",
    "ax.spines['right'].set_visible(False)\n",
    "ax.spines['left'].set_visible(False)\n",
    "ax.spines['bottom'].set_visible(False)\n",
    "plt.show()"
   ]
  },
  {
   "cell_type": "markdown",
   "metadata": {},
   "source": [
    "From this graph, it is possible to understand that the presence of an attorney influences the likelihood of reaching an agreement. Even though there are way more cases where it was not reached, there is still a big increase in the number of cases in which it is possible to reach an agreement, when an attorney is present."
   ]
  },
  {
   "cell_type": "code",
   "execution_count": null,
   "metadata": {},
   "outputs": [],
   "source": [
    "agreement_by_wage = pd.crosstab(df_train1['wage_groups'], df_train['Agreement Reached'])\n",
    "agreement_by_wage.columns = ['Not Reached', 'Reached']\n",
    "agreement_by_wage['Reached'] = (agreement_by_wage['Reached'] / (agreement_by_wage['Not Reached'] + agreement_by_wage['Reached'])) * 100\n",
    "agreement_by_wage['Not Reached'] = 100 - agreement_by_wage['Reached']\n",
    "agreement_by_wage.plot(kind='bar', stacked=False, color=['Grey', '#B2D300'], figsize=(12, 6))\n",
    "plt.xlabel('Wage Group')\n",
    "plt.ylabel('Percentage')\n",
    "plt.title('Percentage of Cases with and without Agreement by Wage Group')\n",
    "plt.xticks(rotation=0)\n",
    "plt.grid(True)\n",
    "ax = plt.gca()\n",
    "ax.spines['top'].set_visible(False)\n",
    "ax.spines['right'].set_visible(False)\n",
    "ax.spines['left'].set_visible(False)\n",
    "ax.spines['bottom'].set_visible(False)\n",
    "plt.show()"
   ]
  },
  {
   "cell_type": "markdown",
   "metadata": {},
   "source": [
    "Cases in lower wage groups have a higher percentage of agreements reached compared to those in higher wage groups. Additionally, as the level of wage increase, the agreement not being reached also increases."
   ]
  },
  {
   "cell_type": "code",
   "execution_count": null,
   "metadata": {},
   "outputs": [],
   "source": [
    "df_train['COVID-19 Indicator'] = df_train['COVID-19 Indicator'].replace({'N': 'No', 'Y': 'Yes'})\n",
    "agreement_by_covid = pd.crosstab(df_train['COVID-19 Indicator'], df_train['Agreement Reached'])\n",
    "agreement_by_covid.columns = ['Not Reached', 'Reached']\n",
    "\n",
    "agreement_by_covid['Reached'] = (agreement_by_covid['Reached'] / (agreement_by_covid['Not Reached'] + agreement_by_covid['Reached'])) * 100\n",
    "agreement_by_covid['Not Reached'] = 100 - agreement_by_covid['Reached']\n",
    "\n",
    "agreement_covid_table = agreement_by_covid[['Reached', 'Not Reached']].copy()\n",
    "agreement_covid_table.index.name = 'COVID-19 Indicator'\n",
    "agreement_covid_table.columns = ['Agreement Reached (%)', 'Agreement Not Reached (%)'] \n",
    "pd.DataFrame(agreement_covid_table)"
   ]
  },
  {
   "cell_type": "markdown",
   "metadata": {},
   "source": [
    "The table indicates that when the claim is not related to COVID-19, the percentage of cases reaching an agreement is higher."
   ]
  },
  {
   "cell_type": "code",
   "execution_count": null,
   "metadata": {},
   "outputs": [],
   "source": [
    "df_train['Agreement Reached'] = df_train['Agreement Reached'].astype(object)\n",
    "df_train['Agreement Reached'] = df_train['Agreement Reached'].replace({0: 'Not Reached', 1: 'Reached'})\n",
    "agreement_by_body_group = df_train.groupby(['Agreement Reached', 'body_group']).size().unstack()\n",
    "\n",
    "fig, ax = plt.subplots(figsize=(14, 8))\n",
    "agreement_by_body_group.T.plot(kind='bar', ax=ax, color=['Grey','#B2D300'], rot=0)\n",
    "ax.set_xlabel('Body Group')\n",
    "ax.set_ylabel('Frequency')\n",
    "ax.set_title('Frequency of Agreement Reached by Body Group')\n",
    "ax.grid(True, axis='y', linestyle='--', linewidth=0.5)\n",
    "ax.spines['top'].set_visible(False)\n",
    "ax.spines['right'].set_visible(False)\n",
    "ax.spines['left'].set_visible(False)\n",
    "ax.spines['bottom'].set_visible(False)\n",
    "plt.show()"
   ]
  },
  {
   "cell_type": "markdown",
   "metadata": {},
   "source": [
    "The graph shows that the percentage of cases in which an agreement is reached varies significantly across different body parts. In particular, for arm and torso injuries, the percentage of cases in which an agreement is not reached is significantly higher than the percentage of cases in which an agreement is reached."
   ]
  },
  {
   "cell_type": "code",
   "execution_count": null,
   "metadata": {},
   "outputs": [],
   "source": [
    "agreement_by_injury_type_proportion = pd.crosstab(df_train['injury_type'], df_train['Agreement Reached'], normalize='index') * 100\n",
    "colors = ['#B2D300', '#4A7200']\n",
    "fig, ax = plt.subplots(figsize=(10, 5))\n",
    "agreement_by_injury_type_proportion.plot(kind='barh', stacked=True, color=colors, ax=ax)\n",
    "plt.xlabel('Percentage')\n",
    "plt.ylabel('Injury Type')\n",
    "plt.title('Proportion of Agreement Reached by Injury Type')\n",
    "plt.grid(True, axis='y', linestyle='--', alpha=0.7)\n",
    "plt.xticks(rotation=45)\n",
    "ax.spines['top'].set_visible(False)\n",
    "ax.spines['right'].set_visible(False)\n",
    "ax.spines['left'].set_visible(False)\n",
    "ax.spines['bottom'].set_visible(False)\n",
    "plt.show()"
   ]
  },
  {
   "cell_type": "markdown",
   "metadata": {},
   "source": [
    "In both categories, \"Physical Trauma\" is the most common type of injury, accounting for the highest proportion. Other injuries, such as \"Infectious Diseases\" and \"Cumulative Occupational Injuries\" are present but with much smaller percentages. In general, the pattern of injury types is quite similar between the two groups."
   ]
  },
  {
   "cell_type": "code",
   "execution_count": null,
   "metadata": {},
   "outputs": [],
   "source": [
    "agreement_by_injury_cause_proportion = pd.crosstab(df_train['injury_cause'], df_train['Agreement Reached'], normalize='index') * 100\n",
    "colors = ['#B2D300', '#4A7200']\n",
    "fig, ax = plt.subplots(figsize=(10, 5))\n",
    "agreement_by_injury_cause_proportion.plot(kind='barh', stacked=True, color=colors, ax=ax)\n",
    "plt.xlabel('Percentage')\n",
    "plt.ylabel('Cause of Injury')\n",
    "plt.title('Proportion of Agreement Reached by Cause of Injury')\n",
    "plt.grid(True, axis='y', linestyle='--', alpha=0.7)\n",
    "plt.xticks(rotation=45)\n",
    "ax.spines['top'].set_visible(False)\n",
    "ax.spines['right'].set_visible(False)\n",
    "ax.spines['left'].set_visible(False)\n",
    "ax.spines['bottom'].set_visible(False)\n",
    "plt.show()"
   ]
  },
  {
   "cell_type": "markdown",
   "metadata": {},
   "source": [
    "The chart indicates that injury causes such as \"Slips, Trips, and Falls\" and \"Lifting, Carrying, and Handling\" are consistently significant contributors to injuries in both \"Reached\" and \"Not Reached\" cases. This trend could reflect common challenges in resolving cases involving these types of injuries or their overall higher frequency. Less common causes like \"Chemical, Environmental, and Biological Hazards\" are rare across both groups, suggesting that they may be easier to resolve or simply occur less frequently."
   ]
  },
  {
   "cell_type": "markdown",
   "metadata": {},
   "source": [
    "## Zip Codes"
   ]
  },
  {
   "cell_type": "markdown",
   "metadata": {},
   "source": [
    "For zip codes, they can be grouped them into 9 main groups:\n",
    "- Syracuse\n",
    "- Rochester\n",
    "- Albany\n",
    "- Hauppage\n",
    "- NYC\n",
    "- Buffalo\n",
    "- Binghamton\n",
    "- Stadewide\n",
    "- Other\n",
    "\n",
    "This has to be done manually, as it was done before with the other grouped variables.\n",
    "\n",
    "References:<br>\n",
    "https://www.unitedstateszipcodes.org/#zips-list"
   ]
  },
  {
   "cell_type": "code",
   "execution_count": null,
   "metadata": {},
   "outputs": [],
   "source": [
    "# most frequent zip codes\n",
    "zip_code_counts = df_train['Zip Code'].value_counts().head(50)\n",
    "zip_code_counts"
   ]
  },
  {
   "cell_type": "code",
   "execution_count": null,
   "metadata": {},
   "outputs": [],
   "source": [
    "# # Fill NaN values with an empty string\n",
    "# df_train['Zip Code'] = df_train['Zip Code'].fillna('')\n",
    "\n",
    "# # Convert all zip codes to string type\n",
    "# df_train['Zip Code'] = df_train['Zip Code'].astype(str)\n",
    "\n",
    "# # Unique zip codes\n",
    "# unique_zip_codes = df_train['Zip Code'].unique()\n",
    "\n",
    "# # Check if zip codes have letters and digits\n",
    "# zip_codes_with_letters = [zip_code for zip_code in unique_zip_codes if any(char.isalpha() for char in zip_code)]\n",
    "\n",
    "# # Check if zip codes have digits only\n",
    "# zip_codes_with_digits = [zip_code for zip_code in unique_zip_codes if zip_code.isdigit()]\n",
    "# # order by ascending order the list with the zip codes that contain digits\n",
    "# zip_codes_with_digits.sort()"
   ]
  },
  {
   "cell_type": "code",
   "execution_count": null,
   "metadata": {},
   "outputs": [],
   "source": [
    "unique_zip_codes = df_train[['Zip Code']].drop_duplicates()"
   ]
  },
  {
   "cell_type": "code",
   "execution_count": null,
   "metadata": {},
   "outputs": [],
   "source": [
    "unique_zip_codes"
   ]
  },
  {
   "cell_type": "code",
   "execution_count": null,
   "metadata": {},
   "outputs": [],
   "source": [
    "region_ny = {\n",
    "\"CENTRAL NEW YORK\": [\"OSWEGO\", \"ONONDAGA\", \"CAYUGA\", \"MADISON\", \"CORTLAND\"], \n",
    "\"SOUTHERN TIER\": [\"DELAWARE\", \"CHENANGO\", \"BROOME\", \"TIOGA\", \"TOMPKINS\", \"CHEMUNG\", \"SCHUYLER\", \"STEUBEN\"],\n",
    "\"FINGER LAKES\": [\"WAYNE\", \"SENECA\", \"YATES\", \"MONROE\", \"LIVINGSTON\", \"ONTARIO\", \"ORLEANS\", \"GENESEE\", \"WYOMING\"], \n",
    "\"WESTERN NEW YORK\": [\"ERIE\", \"NIAGARA\", \"CHAUTAUQUA\", \"CATTARAUGUS\", \"ALLEGANY\"], \n",
    "\"NORTH COUNTRY\": [\"JEFFERSON\", \"LEWIS\", \"ST. LAWRENCE\", \"FRANKLIN\", \"CLINTON\", \"ESSEX\", \"HAMILTON\"], \n",
    "\"MOHAWK VALLEY\": [\"HERKIMER\", \"ONEIDA\", \"OTSEGO\", \"MONTGOMERY\", \"FULTON\", \"SCHOHAIRE\"], \n",
    "\"CAPITAL REGION\": [\"SCHENECTADY\", \"ALBANY\", \"RENSSELAER\", \"SARATOGA\", \"GREENE\", \"COLUMBIA\", \"WARREN\", \"WASHINGTON\"], \n",
    "\"HUDSON VALLEY\": [\"ROCKLAND\", \"ORANGE\", \"PUTNAM\", \"DUTCHESS\", \"ULSTER\", \"SULLIVAN\", \"WESTCHESTER\"],\n",
    "\"NEW YORK CITY\": [\"BRONX\", \"KINGS\", \"NEW YORK\", \"QUEENS\", \"RICHMOND\"], \n",
    "\"LONG ISLAND\": [\"NASSAU\", \"SUFFOLK\"]\n",
    "}"
   ]
  },
  {
   "cell_type": "code",
   "execution_count": null,
   "metadata": {},
   "outputs": [],
   "source": [
    "df_train['Zip Code'] = pd.to_numeric(df_train['Zip Code'], errors='coerce')\n",
    "\n",
    "counties_ny = {'ALBANY':(12007, 12009, 12023, 12041, 12045, 12046, 12047, 12054, 12055, 12059, 12067, 12077, 12084, 12085, 12107, 12110, 12110, 12120, 12128, \n",
    "                12128, 12143, 12147, 12158, 12159, 12161, 12183, 12183, 12186, 12189, 12201, 12202, 12203, 12203, 12204, 12204, 12205, 12205, 12205, \n",
    "                12206, 12207, 12208, 12209, 12210, 12211, 12211, 12211, 12212, 12220, 12223, 12224, 12225, 12226, 12227, 12247, 12260, 12469), \n",
    "               \n",
    "               'ALLEGANY':(14029, 14707, 14708, 14709, 14711, 14714, 14715, 14717, 14721, 14727, 14735, 14739, 14744, 14745, 14754, 14774, 14777, 14786, 14802,\n",
    "                14803, 14804, 14806, 14813, 14822, 14880, 14884, 14895), \n",
    "               \n",
    "               'BRONX':(10451, 10452, 10453, 10454, 10455, 10456, 10457, 10458, 10459, 10460, 10461, 10462, 10463, 10464, 10465, 10466, 10467, 10468, 10469,\n",
    "                10470, 10471, 10472, 10473, 10474, 10475), \n",
    "               \n",
    "               'BROOME':(13737, 13744, 13745, 13746, 13748, 13749, 13754, 13760, 13760, 13761, 13762, 13763, 13777, 13787, 13790, 13794, 13795, 13797, 13802,\n",
    "                13813, 13826, 13826, 13833, 13833, 13848, 13850, 13851, 13901, 13902, 13903, 13904, 13905), \n",
    "               \n",
    "               'CATTARAUGUS':(14041, 14042, 14060, 14065, 14065, 14070, 14101, 14129, 14133, 14138, 14168, 14706, 14719, 14726, 14729, 14730, 14731, 14737, 14741,\n",
    "                14743, 14743, 14748, 14751, 14753, 14755, 14760, 14760, 14766, 14770, 14772, 14778, 14779, 14783), \n",
    "               \n",
    "               'CAYUGA':(13021, 13021, 13022, 13026, 13033, 13034, 13064, 13071, 13081, 13111, 13113, 13117, 13118, 13139, 13140, 13147, 13147, 13156, 13160,\n",
    "                13166),\n",
    "\n",
    "               'CHAUTAUQUA':(14048, 14048, 14062, 14063, 14081, 14135, 14136, 14166, 14166, 14701, 14702, 14710, 14712, 14716, 14718, 14720, 14722, 14723, 14724,\n",
    "                14728, 14732, 14733, 14736, 14738, 14740, 14742, 14747, 14750, 14752, 14756, 14757, 14758, 14767, 14767, 14769, 14775, 14781, 14782,\n",
    "                14784, 14785),\n",
    "\n",
    "               'CHEMUNG':(14814, 14816, 14825, 14838, 14844, 14845, 14861, 14864, 14871, 14872, 14889, 14894, 14901, 14902, 14903, 14903, 14903, 14903, 14904,\n",
    "                14905, 14925),\n",
    "\n",
    "               'CHENANGO':(13124, 13129, 13136, 13155, 13332, 13332, 13411, 13411, 13460, 13464, 13730, 13733, 13758, 13778, 13780, 13801, 13809, 13814, 13815,\n",
    "                13830, 13830, 13832, 13841, 13843, 13844),\n",
    "\n",
    "               'CLINTON':(12901, 12903, 12910, 12911, 12911, 12911, 12912, 12918, 12919, 12921, 12923, 12924, 12924, 12929, 12933, 12934, 12935, 12944, 12952,\n",
    "                12955, 12955, 12958, 12959, 12962, 12972, 12978, 12979, 12981, 12985, 12992),\n",
    "\n",
    "               'COLUMBIA':(12017, 12029, 12037, 12050, 12060, 12062, 12075, 12106, 12115, 12125, 12125, 12130, 12132, 12136, 12165, 12172, 12173, 12174, 12184,\n",
    "                12195, 12502, 12503, 12513, 12516, 12517, 12521, 12523, 12526, 12529, 12530, 12534, 12541, 12544, 12565, 12593, 12593),\n",
    "\n",
    "               'CORTLAND':(13040, 13040, 13045, 13056, 13077, 13087, 13101, 13141, 13158, 13738, 13784, 13803),\n",
    "\n",
    "               'DELAWARE':(12167, 12406, 12421, 12430, 12430, 12434, 12438, 12455, 12459, 12474, 13731, 13739, 13740, 13750, 13751, 13752, 13753, 13753, 13755,\n",
    "                13756, 13757, 13774, 13775, 13782, 13783, 13783, 13786, 13788, 13804, 13806, 13837, 13838, 13839, 13842, 13846, 13846, 13847, 13856,\n",
    "                13860),\n",
    "\n",
    "               'DUTCHESS':(12501, 12504, 12504, 12504, 12506, 12507, 12507, 12508, 12510, 12511, 12512, 12514, 12522, 12524, 12527, 12531, 12533, 12533, 12537,\n",
    "                12538, 12540, 12545, 12546, 12564, 12567, 12569, 12570, 12571, 12571, 12572, 12574, 12578, 12580, 12581, 12582, 12583, 12585, 12590,\n",
    "                12590, 12592, 12601, 12602, 12603, 12603),\n",
    "\n",
    "               'ERIE':(14001, 14004, 14006, 14010, 14025, 14026, 14027, 14030, 14031, 14032, 14033, 14034, 14035, 14038, 14043, 14047, 14051, 14051, 14052,\n",
    "                14055, 14057, 14059, 14061, 14068, 14069, 14072, 14075, 14080, 14085, 14086, 14091, 14102, 14110, 14111, 14112, 14127, 14134, 14139,\n",
    "                14140, 14141, 14150, 14151, 14169, 14170, 14201, 14202, 14203, 14204, 14205, 14206, 14206, 14207, 14208, 14209, 14210, 14211, 14212,\n",
    "                14212, 14213, 14214, 14215, 14216, 14217, 14217, 14217, 14217, 14218, 14218, 14219, 14219, 14220, 14221, 14221, 14222, 14223, 14223,\n",
    "                14223, 14224, 14225, 14225, 14226, 14226, 14226, 14226,14227, 14227, 14227, 14228, 14228, 14231, 14240, 14280),\n",
    "\n",
    "               'ESSEX':(12851, 12852, 12855, 12857, 12858, 12858, 12870, 12872, 12879, 12879, 12883, 12913,12928, 12932, 12936, 12941, 12942, 12943, 12943,\n",
    "                12946, 12946, 12950, 12956, 12960, 12961, 12964, 12974, 12975, 12977, 12987, 12993),\n",
    "\n",
    "               'FRANKLIN':(12914, 12915, 12916, 12917, 12920, 12926, 12930, 12937, 12939, 12945, 12945, 12953,\n",
    "                12957, 12966, 12966, 12966, 12969, 12970, 12976, 12980, 12983, 12986, 12986, 12989,\n",
    "                12989, 12989, 13655, 13655, 13655),\n",
    "\n",
    "               'FULTON':(12025, 12032, 12078, 12095, 12117, 12134, 12134, 13470),\n",
    "\n",
    "               'GENESEE':(14003, 14005, 14013, 14020, 14021, 14036, 14040, 14054, 14056, 14058, 14125, 14143, 14416, 14422, 14482, 14486, 14525, 14525, 14557),\n",
    "\n",
    "               'GREENE':(12015, 12042, 12051, 12058, 12083, 12083, 12083, 12087, 12124, 12176, 12192, 12405, 12407, 12413, 12414, 12414, 12418, 12422, 12423,\n",
    "                12424, 12424, 12427, 12431, 12436, 12439, 12439, 12442, 12444, 12450, 12451, 12452, 12454, 12460, 12463, 12468, 12470, 12473, 12482, \n",
    "                12485, 12492),\n",
    "\n",
    "               'HAMILTON':(12108, 12139, 12164, 12190, 12812, 12842, 12847, 12864, 13353, 13360, 13436),\n",
    "\n",
    "               'HERKIMER':(13324, 13329, 13331, 13340, 13340, 13350, 13357, 13361, 13365, 13406, 13407, 13416, 13420, 13431, 13454, 13472, 13475, 13491),\n",
    "\n",
    "               'JEFFERSON':(13601, 13602, 13603, 13605, 13606, 13607, 13607, 13608, 13608, 13611, 13612, 13615, 13616, 13618, 13619, 13622, 13624, 13624, 13624,\n",
    "                13624, 13628, 13632, 13634, 13636, 13637, 13638, 13640, 13640, 13641, 13643, 13650, 13651, 13656, 13657, 13659, 13661, 13665, 13671,\n",
    "                13673, 13674, 13675, 13679, 13682, 13685, 13688, 13691, 13692, 13693),\n",
    "\n",
    "               'KINGS':(11201, 11202, 11203, 11204, 11205, 11206, 11207, 11208, 11209, 11210, 11211, 11212, 11213, 11214, 11215, 11216, 11217, 11218, 11219,\n",
    "                11220, 11221, 11222, 11223, 11224, 11225, 11226, 11228, 11229, 11230, 11231, 11232, 11233, 11234, 11235, 11236, 11237, 11238, 11239,\n",
    "                11240, 11241, 11242, 11243, 11247, 11249, 11252, 11252, 11256),\n",
    "\n",
    "               'LEWIS':(13305, 13305, 13312, 13312, 13325, 13327, 13343, 13345, 13367, 13367, 13368, 13404, 13433, 13473, 13489, 13620, 13626, 13626, 13627, \n",
    "                13631, 13648),\n",
    "\n",
    "               'LIVINGSTON':(14414, 14423, 14435, 14437, 14454, 14462, 14466, 14480, 14481, 14485, 14487, 14488, 14510, 14510, 14517, 14533, 14533, 14539, 14545,\n",
    "                14545, 14556, 14558, 14560, 14560, 14836, 14846),\n",
    "\n",
    "               'MADISON':(13032, 13032, 13035, 13037, 13043, 13052, 13061, 13072, 13082, 13122, 13134, 13163, 13310, 13314, 13334, 13346, 13355, 13364, 13402,\n",
    "                13408, 13409, 13409, 13418, 13421, 13465, 13484),\n",
    "\n",
    "               'MONROE':(14410, 14420, 14428, 14428, 14430, 14445, 14450, 14464, 14467, 14468, 14472, 14506, 14511, 14514, 14515, 14526, 14534, 14543, 14543,\n",
    "                14546, 14559, 14580, 14586, 14601, 14602, 14603, 14604, 14605, 14606, 14607, 14608, 14609, 14610, 14611, 14612, 14612, 14613, 14614,\n",
    "                14615, 14615, 14616, 14616, 14617, 14617, 14618, 14618, 14619, 14620, 14621, 14622, 14622, 14623, 14624, 14625, 14625, 14626, 14626,\n",
    "                14626, 14627, 14660, 14692),\n",
    "\n",
    "               'MONTGOMERY':(12010, 12010, 12016, 12016, 12066, 12068, 12069, 12070, 12072, 12086, 12166, 12177, 13317, 13317, 13339, 13410, 13428, 13452),\n",
    "\n",
    "               'NASSAU':(11001, 11002, 11003, 11003, 11003, 11003, 11010, 11020, 11021, 11022, 11023, 11024, 11024, 11026, 11027, 11030, 11030, 11040, 11042,\n",
    "                11050, 11050, 11096, 11096, 11501, 11507, 11509, 11510, 11510, 11514, 11516, 11518, 11520, 11530, 11530, 11531, 11542, 11545, 11547,\n",
    "                11548, 11550, 11550, 11551, 11552, 11553, 11554, 11557, 11558, 11559, 11560, 11561, 11561, 11561, 11563, 11565, 11566, 11566, 11568,\n",
    "                11569, 11570, 11571, 11572, 11572, 11575, 11576, 11577, 11579, 11580, 11581, 11582, 11596, 11599, 11709, 11710, 11710, 11714, 11732,\n",
    "                11735, 11735, 11753, 11756, 11758, 11758, 11762, 11765, 11771, 11783, 11791, 11793, 11801, 11802, 11803, 11803, 11804, 11804),\n",
    "\n",
    "               'NEW YORK CITY':(10001, 10002, 10002, 10003, 10004, 10004, 10005, 10006, 10006, 10007, 10008, 10009, 10010, 10011, 10012, 10012, 10013, 10013, 10013,\n",
    "                10014, 10015, 10016, 10017, 10018, 10019, 10020, 10021, 10022, 10023, 10024, 10025, 10026, 10027, 10028, 10029, 10030, 10031, 10032,\n",
    "                10033, 10034, 10035, 10036, 10037, 10038, 10038, 10039, 10040, 10041, 10044, 10044, 10045, 10048, 10055, 10060, 10069, 10090, 10095,\n",
    "                10098, 10099, 10101, 10103, 10104, 10105, 10106, 10107, 10108, 10110, 10111, 10112, 10113, 10115, 10116, 10118, 10119, 10120, 10121,\n",
    "                10122, 10123, 10128, 10129, 10150, 10151, 10152, 10153, 10154, 10155, 10156, 10158, 10159, 10161, 10162, 10163, 10165, 10166, 10167,\n",
    "                10168, 10169, 10170, 10171, 10172, 10173, 10174, 10175, 10176, 10177, 10178, 10185, 10199, 10242, 10249, 10268, 10270, 10271, 10272,\n",
    "                10274, 10276, 10278, 10279, 10280, 10281, 10282),\n",
    "\n",
    "               'NIAGARA':(14008, 14012, 14028, 14067, 14092, 14092, 14094, 14095, 14105, 14107, 14108, 14109, 14120, 14126, 14131, 14132, 14144, 14301, 14302,\n",
    "                14303, 14304, 14305),\n",
    "\n",
    "               'ONEIDA':(13054, 13123, 13157, 13162, 13301, 13303, 13304, 13308, 13309, 13313, 13316, 13318, 13319, 13321, 13322, 13323, 13328, 13338, 13341,\n",
    "                13352, 13354, 13362, 13363, 13401, 13403, 13413, 13417, 13424, 13425, 13435, 13438, 13440, 13441, 13442, 13455, 13456, 13456, 13461,\n",
    "                13469, 13471, 13476, 13477, 13478, 13479, 13480, 13501, 13502, 13502, 13503, 13504, 13505),\n",
    "\n",
    "               'ONONDAGA':(13020, 13027, 13027, 13029, 13030, 13031, 13039, 13041, 13051, 13057, 13060, 13063, 13066, 13078, 13080, 13084, 13088, 13089, 13090,\n",
    "                13090, 13104, 13108, 13110, 13112, 13116, 13119, 13120, 13137, 13138, 13152, 13153, 13159, 13164, 13201, 13202, 13203, 13204, 13205,\n",
    "                13206, 13207, 13208, 13209, 13209, 13210, 13211, 13211, 13212, 13212, 13214, 13214, 13215, 13217, 13218, 13219, 13220, 13221, 13224,\n",
    "                13235, 13261, 13290),\n",
    "\n",
    "               'ONTARIO':(14424, 14425, 14425, 14432, 14443, 14453, 14456, 14461, 14463, 14469, 14471, 14475, 14504, 14512, 14518, 14532, 14537, 14547, 14548,\n",
    "                14561, 14564, 14585),\n",
    "\n",
    "               'ORANGE':(10910, 10912, 10914, 10915, 10916, 10917, 10918, 10919, 10921, 10922, 10924, 10925, 10926, 10928, 10930, 10932, 10933, 10940, 10940,\n",
    "                10941, 10941, 10950, 10953, 10958, 10959, 10963, 10969, 10973, 10975, 10979, 10981, 10985, 10987, 10988, 10990, 10992, 10996, 10997,\n",
    "                12518, 12520, 12543, 12549, 12550, 12551, 12552, 12553, 12553, 12555, 12566, 12575, 12577, 12584, 12586, 12729, 12739, 12746, 12771, \n",
    "                12780, 12780),\n",
    "\n",
    "               'ORLEANS':(14098, 14103, 14411, 14411, 14429, 14452, 14470, 14470, 14476, 14477, 14479, 14508, 14571),\n",
    "\n",
    "               'OSWEGO':(13028, 13036, 13042, 13044, 13069, 13074, 13076, 13083, 13093, 13103, 13107, 13114, 13115, 13121, 13126, 13131, 13132, 13135, 13142, \n",
    "                13144, 13145, 13167, 13302, 13426, 13437),\n",
    "\n",
    "               'OTSEGO':(12064, 12116, 12155, 13315, 13320, 13326, 13326, 13333, 13335, 13337, 13342, 13348, 13415, 13439, 13450, 13457, 13468, 13482, 13485, \n",
    "                13747, 13776, 13796, 13807, 13808, 13810, 13820, 13825, 13834, 13849, 13859, 13861),\n",
    "\n",
    "               'PUTNAM':(10509, 10512, 10512, 10516, 10516, 10524, 10537, 10541, 10541, 10542, 10579, 12563),\n",
    "\n",
    "               'QUEENS':(11004, 11004, 11005, 11101, 11101, 11102, 11102, 11103, 11103, 11104, 11104, 11104, 11105, 11105, 11106, 11106, 11109, 11351, 11352,\n",
    "                11354, 11355, 11356, 11356, 11357, 11357, 11357, 11358, 11359, 11359, 11359, 11360, 11360, 11361, 11361, 11362, 11362, 11362, 11363,\n",
    "                11363, 11363, 11364, 11364, 11365, 11365, 11366, 11366, 11367, 11368, 11368, 11369, 11369, 11370, 11371, 11371, 11371, 11372, 11372,\n",
    "                11372, 11373, 11373, 11374, 11374, 11375, 11375, 11377, 11378, 11378, 11379, 11379, 11379, 11380, 11380, 11380, 11385, 11385, 11385,\n",
    "                11386, 11386, 11411, 11411, 11412, 11412, 11413, 11413, 11413, 11414, 11414, 11415, 11415, 11416, 11416, 11417, 11417, 11418, 11418,\n",
    "                11419, 11419, 11420, 11420, 11421, 11422, 11422, 11423, 11423, 11424, 11426, 11426, 11427, 11427, 11428, 11428, 11429, 11429, 11430,\n",
    "                11430, 11431, 11432, 11432, 11433, 11434, 11435, 11436, 11436, 11437, 11437, 11438, 11438, 11439, 11440, 11441, 11442, 11443, 11443,\n",
    "                11444, 11445, 11446, 11446, 11447, 11447, 11449, 11449, 11451, 11451, 11452, 11453, 11453, 11454, 11455, 11455, 11456, 11456, 11457,\n",
    "                11458, 11459, 11459, 11460, 11461, 11462, 11463, 11464, 11465, 11466, 11467, 11468, 11469, 11470, 11471, 11472, 11473, 11474, 11475,\n",
    "                11476, 11477, 11478, 11479, 11480, 11481, 11482, 11483, 11484, 11485, 11486, 11487, 11488, 11489, 11490, 11491, 11492, 11493, 11494,\n",
    "                11495, 11496, 11497, 11498, 11499, 11690, 11690, 11691, 11692, 11692, 11693, 11693, 11693, 11694, 11694, 11694, 11695, 11695, 11697,\n",
    "                11697, 11697),\n",
    "\n",
    "               'RENSSELAER':(12018, 12022, 12024, 12028, 12033, 12033, 12040, 12052, 12057, 12061, 12063, 12082, 12089, 12090, 12094, 12121, 12123, 12133, 12138,\n",
    "                12138, 12138, 12140, 12144, 12153, 12154, 12156, 12168, 12169, 12180, 12181, 12182, 12185),\n",
    "\n",
    "               'RICHMOND':(10301, 10302, 10303, 10304, 10305, 10306, 10307, 10308, 10309, 10310, 10311, 10312, 10313, 10314),\n",
    "\n",
    "               'ROCKLAND':(10901, 10901, 10901, 10911, 10913, 10920, 10923, 10927, 10931, 10952, 10954, 10954, 10956, 10960, 10962, 10964, 10965, 10968, 10970,\n",
    "                10974, 10976, 10977, 10977, 10980, 10982, 10983, 10984, 10986, 10989, 10993,  10994),\n",
    "\n",
    "               'SARATOGA':(12019, 12019, 12019, 12020, 12020, 12027, 12065, 12074, 12118, 12148, 12151, 12170, 12188, 12803, 12803, 12822, 12831, 12833, 12835,\n",
    "                12850, 12859, 12863, 12866, 12871, 12884),\n",
    "\n",
    "               'SCHENECTADY':(12008, 12008, 12053, 12056, 12137, 12141, 12150, 12301, 12302, 12302, 12302, 12303, 12304, 12305, 12306, 12306, 12307, 12308, 12309,\n",
    "                12309, 12325, 12325),\n",
    "\n",
    "               'SCHOHARIE':(12031, 12035, 12036, 12043, 12043, 12071, 12073, 12076, 12092, 12093, 12122, 12131, 12149, 12157, 12160, 12175, 12187, 12194, 13459),\n",
    "\n",
    "               'SCHUYLER':(14805, 14812, 14815, 14818, 14824, 14841, 14841, 14863, 14865, 14869, 14876, 14878, 14887, 14891, 14893),\n",
    "\n",
    "               'SENECA':(13065, 13148, 13165, 14521, 14521, 14541, 14541, 14847, 14860),\n",
    "\n",
    "               'ST. LAWRENCE':(12922, 12927, 12949, 12965, 12965, 12967, 12973, 13613, 13614, 13617, 13621, 13623, 13625, 13630, 13633, 13635, 13639, 13642, 13645,\n",
    "                13646, 13647, 13649, 13652, 13654, 13658, 13660, 13662, 13664, 13666, 13667, 13668, 13669, 13670, 13672, 13676, 13677, 13678, 13680,\n",
    "                13681, 13683, 13684, 13684, 13687, 13690, 13694, 13695),\n",
    "\n",
    "               'STEUBEN':(14529, 14572, 14801, 14807, 14808, 14808, 14809, 14809, 14810, 14810, 14819, 14820, 14821, 14823, 14826, 14827, 14830, 14839, 14840,\n",
    "                14843, 14855, 14856, 14858, 14870, 14873, 14874, 14877, 14879, 14885),\n",
    "\n",
    "               'SUFFOLK':(6390, 11701, 11701, 11702, 11702, 11702, 11702, 11702, 11703, 11703, 11704, 11704, 11705, 11706, 11706, 11706, 11706, 11707, 11707,\n",
    "                11708, 11713, 11715, 11716, 11717, 11717, 11717, 11718, 11719, 11720, 11720, 11721, 11722, 11724, 11725, 11726, 11727, 11729, 11730,\n",
    "                11731, 11731, 11733, 11733, 11738, 11739, 11740, 11741, 11742, 11743, 11743, 11743, 11746, 11746, 11747, 11747, 11749, 11749, 11749,\n",
    "                11749, 11751, 11752, 11754, 11755, 11757, 11760, 11763, 11764, 11766, 11767, 11768, 11769, 11770, 11772, 11772, 11772, 11776, 11777,\n",
    "                11777, 11777, 11777, 11778, 11779, 11779, 11780, 11782, 11782, 11782, 11784, 11786, 11787, 11788, 11788, 11789, 11790, 11792, 11795,\n",
    "                11805, 11901, 11901, 11930, 11931, 11932, 11933, 11934, 11934, 11935, 11937, 11939, 11940, 11941, 11942, 11944, 11946, 11947, 11948,\n",
    "                11949, 11950, 11951, 11952, 11953, 11954, 11955, 11956, 11957, 11958, 11959, 11960, 11961, 11962, 11963, 11964, 11965, 11967, 11967,\n",
    "                11968, 11969, 11970, 11971, 11972, 11973, 11975, 11976),\n",
    "\n",
    "               'SULLIVAN':(12701, 12719, 12720, 12721, 12722, 12723, 12724, 12725, 12726, 12727, 12732, 12733, 12734, 12736, 12737, 12738, 12740, 12741, 12742,\n",
    "                12743, 12745, 12747, 12748, 12749, 12750, 12751, 12752, 12754, 12758, 12758, 12759, 12760, 12762, 12763, 12764, 12765, 12766, 12767,\n",
    "                12768, 12769, 12770, 12775, 12776, 12777, 12777, 12778, 12779, 12781, 12783, 12784, 12785),\n",
    "\n",
    "               'TIOGA':(13732, 13734, 13736, 13743, 13811, 13812, 13827, 13835, 13840, 13845, 14859, 14883, 14883, 14892),\n",
    "\n",
    "               'TOMPKINS':(13053, 13062, 13068, 13073, 13092, 13102, 14817, 14850, 14850, 14851, 14852, 14853, 14854, 14867, 14881, 14882, 14882, 14886),\n",
    "\n",
    "               'ULSTER':(12401, 12401, 12401, 12402, 12404, 12409, 12409, 12410, 12410, 12411, 12412, 12416, 12417, 12419, 12420, 12428, 12429, 12432, 12433,\n",
    "                12435, 12440, 12441, 12443, 12446, 12448, 12449, 12453, 12456, 12457, 12458, 12461, 12461, 12464, 12465, 12466, 12471, 12472, 12475,\n",
    "                12477, 12480, 12481, 12483, 12484, 12486, 12487, 12489, 12490, 12491, 12493, 12515, 12525, 12528, 12542, 12547, 12548, 12561, 12568,\n",
    "                12588, 12589, 12782, 12782),\n",
    "\n",
    "               'WARREN':(12801, 12801, 12804, 12804, 12808, 12810, 12811, 12814, 12815, 12817, 12820, 12824, 12836, 12843, 12844, 12844, 12845, 12846, 12853,\n",
    "                12856, 12860, 12862, 12874, 12878, 12885, 12885),\n",
    "\n",
    "               'WASHINGTON':(12809, 12816, 12819, 12821, 12823, 12827, 12828, 12832, 12834, 12834, 12837, 12838, 12839, 12841, 12848, 12849, 12854, 12861, 12865,\n",
    "                12865, 12873),\n",
    "\n",
    "               'WAYNE':(13143, 13146, 13154, 14413, 14433, 14449, 14489, 14502, 14505, 14513, 14513, 14516, 14519, 14520, 14522, 14538, 14542, 14551, 14551,\n",
    "                14555, 14563, 14568),\n",
    "\n",
    "               'WESTCHESTER':(10501, 10502, 10503, 10504, 10504, 10505, 10506, 10507, 10510, 10510, 10511, 10514, 10517, 10518, 10519, 10520, 10521, 10521, 10522,\n",
    "                10523, 10526, 10527, 10528, 10530, 10532, 10533, 10535, 10536, 10538, 10540, 10543, 10545, 10546, 10547, 10548, 10549, 10549, 10550,\n",
    "                10551, 10552, 10553, 10560, 10562, 10566, 10567, 10570, 10573, 10573, 10576, 10577, 10578, 10580, 10583, 10583, 10587, 10588, 10589,\n",
    "                10590, 10591, 10591, 10591, 10594, 10595, 10596, 10597, 10604, 10706, 10707, 10707, 10708, 10709, 10801, 10802, 10803, 10804, 10805),\n",
    "\n",
    "               'WYOMING':(14009, 14011, 14024, 14037, 14039, 14066, 14082, 14083, 14113, 14130, 14145, 14167, 14427, 14530, 14536, 14536, 14549, 14550, 14550,\n",
    "                14569),\n",
    "\n",
    "               'YATES':(14415, 14418, 14441, 14478, 14478, 14507, 14527, 14544, 14837, 14842, 14857)\n",
    "                }\n",
    "\n",
    "def region_finder(zip_code):\n",
    "    for county, zips in counties_ny.items():\n",
    "        if zip_code in zips:\n",
    "            for region, counties in region_ny.items():\n",
    "                if county in counties:\n",
    "                    return region\n",
    "    return 'OTHER'\n",
    "    \n",
    "\n",
    "df_train['zip_group'] = df_train['Zip Code'].apply(region_finder)\n",
    "\n",
    "df_train[['zip_group']]"
   ]
  },
  {
   "cell_type": "code",
   "execution_count": null,
   "metadata": {},
   "outputs": [],
   "source": [
    "plt.figure(figsize=(10, 10))\n",
    "plt.barh(df_train['zip_group'].value_counts().index, df_train['zip_group'].value_counts().values, color='#B2D300')\n",
    "plt.xlabel('Zip Group')\n",
    "plt.ylabel('Count')\n",
    "plt.title('Count of Zip Groups')\n",
    "plt.show()"
   ]
  },
  {
   "cell_type": "code",
   "execution_count": null,
   "metadata": {},
   "outputs": [],
   "source": [
    "agreement_by_zip_code = pd.crosstab(df_train['zip_group'], df_train['Agreement Reached'])\n",
    "agreement_by_zip_code.columns = ['Not Reached', 'Reached']\n",
    "agreement_by_zip_code['Reached'] = (agreement_by_zip_code['Reached'] / (agreement_by_zip_code['Not Reached'] + agreement_by_zip_code['Reached'])) * 100\n",
    "agreement_by_zip_code['Not Reached'] = 100 - agreement_by_zip_code['Reached']\n",
    "agreement_by_zip_code.plot(kind='bar', stacked=False, color=['Grey', '#B2D300'], figsize=(12, 6))\n",
    "plt.xlabel('Zip Code')\n",
    "plt.ylabel('Percentage')\n",
    "plt.title('Percentage of Cases with and without Agreement by Zip Code')\n",
    "plt.xticks(rotation=0)\n",
    "plt.grid(True)\n",
    "ax = plt.gca()\n",
    "ax.spines['top'].set_visible(False)\n",
    "ax.spines['right'].set_visible(False)\n",
    "ax.spines['left'].set_visible(False)\n",
    "ax.spines['bottom'].set_visible(False)\n",
    "plt.show()"
   ]
  },
  {
   "cell_type": "markdown",
   "metadata": {
    "jp-MarkdownHeadingCollapsed": true
   },
   "source": [
    "## Time to Assembly Date"
   ]
  },
  {
   "cell_type": "markdown",
   "metadata": {},
   "source": [
    "How does the time between accidents and the day of the claim assembly vary?<br>\n",
    "To create this variable, the group subtracted the accident date from the assembly date.\n",
    "\n",
    "Note: The assembly date is the date the claim was first assembled. The WCB “assembles” a claim in which an injured worker has lost more than one week of work, has a serious injury that may result in a permanent disability, is disputed by the carrier or employer, or receives a claim form from the injured worker \n",
    "\n",
    "Reference:\n",
    "\n",
    "https://data.ny.gov/Government-Finance/Assembled-Workers-Compensation-Claims-Beginning-20/jshw-gkgu/about_data"
   ]
  },
  {
   "cell_type": "code",
   "execution_count": null,
   "metadata": {},
   "outputs": [],
   "source": [
    "df_train['days_accident_to_assembly'] = (df_train['Assembly Date'] - df_train['Accident Date']).dt.days"
   ]
  },
  {
   "cell_type": "code",
   "execution_count": null,
   "metadata": {},
   "outputs": [],
   "source": [
    "negative_days = df_train[df_train['days_accident_to_assembly'] < 0]\n",
    "negative_days"
   ]
  },
  {
   "cell_type": "code",
   "execution_count": null,
   "metadata": {},
   "outputs": [],
   "source": [
    "print(f'There are {len(negative_days)} rows where the Assembly Date is before the Accident Date, this amounts to {round(len(negative_days)/len(df_train)*100, 2)}% of the data.')"
   ]
  },
  {
   "cell_type": "markdown",
   "metadata": {
    "jp-MarkdownHeadingCollapsed": true
   },
   "source": [
    "There are cases where the date of the assembly precedes the date of the accident, obviously this should be impossible. These rows will be adressed in the data cleaning proccess."
   ]
  },
  {
   "cell_type": "code",
   "execution_count": null,
   "metadata": {},
   "outputs": [],
   "source": [
    "df_train['days_accident_to_assembly'] = (df_train['Assembly Date'] - df_train['Accident Date']).dt.days\n",
    "df_train_days = df_train[df_train['days_accident_to_assembly'] > 0.0]\n",
    "plt.figure(figsize=(12, 6))\n",
    "plt.boxplot(df_train_days['days_accident_to_assembly'], patch_artist=True,\n",
    "            boxprops=dict(facecolor='#B2D300'))\n",
    "plt.xlabel('Days')\n",
    "plt.ylabel('Count')\n",
    "plt.title('Box Plot of Days from Accident to Assembly')\n",
    "plt.grid(True)\n",
    "ax = plt.gca()\n",
    "ax.spines['top'].set_visible(False)\n",
    "ax.spines['right'].set_visible(False)\n",
    "ax.spines['left'].set_visible(False)\n",
    "ax.spines['bottom'].set_visible(False)\n",
    "plt.show()"
   ]
  },
  {
   "cell_type": "markdown",
   "metadata": {},
   "source": [
    "The days can be grouped into the following categories:\n",
    "- Same day (0 days)\n",
    "- 1 week (7 days)\n",
    "- 1 month (30 days)\n",
    "- 3 Months (90 days)\n",
    "- 6 months (180 days)\n",
    "- 1 year (365 days)\n",
    "- 365 x 10 (10 years)\n",
    "- 365 x 60 (60 years, this group was created to encompass all observations)"
   ]
  },
  {
   "cell_type": "code",
   "execution_count": null,
   "metadata": {},
   "outputs": [],
   "source": [
    "bins = (-1, 0, 7, 30, 90, 180, 365, 365*2, 365*10, 60*365)\n",
    "labels = ['Same Day', '1 week', '1 month', '3 months', '6 months', '1 year', '2 years', '10 years', '10+ years']\n",
    "df_train['days_accident_to_assembly_binned'] = pd.cut(df_train['days_accident_to_assembly'], bins=bins, labels=labels)"
   ]
  },
  {
   "cell_type": "code",
   "execution_count": null,
   "metadata": {},
   "outputs": [],
   "source": [
    "fig, axes = plt.subplots(nrows=4, ncols=2, figsize=(20, 20))\n",
    "claim_list = ['1. CANCELLED', '2. NON-COMP', '3. MED ONLY', '4. TEMPORARY', '5. PPD SCH LOSS', '6. PPD NSL', '7. PTD', '8. DEATH']\n",
    "\n",
    "for ax, claim in zip(axes.flatten(), claim_list):\n",
    "    days_accident_binned = df_train[df_train['Claim Injury Type'] == claim]['days_accident_to_assembly_binned'].value_counts().sort_index()\n",
    "    bars = ax.bar(days_accident_binned.index.astype(str), days_accident_binned.values / days_accident_binned.values.sum() * 100, color='#B2D300')\n",
    "    ax.set_title(f'{claim} - Days from Accident to Assembly')\n",
    "    ax.set_xlabel('Days')\n",
    "    ax.set_ylabel('Percentage (%)')\n",
    "    ax.set_ylim(0, 50)\n",
    "    ax.grid(True)\n",
    "    ax.spines['top'].set_visible(False)\n",
    "    ax.spines['right'].set_visible(False)\n",
    "    ax.spines['left'].set_visible(False)\n",
    "    ax.spines['bottom'].set_visible(False)\n",
    "plt.tight_layout()\n",
    "plt.show()"
   ]
  },
  {
   "cell_type": "markdown",
   "metadata": {},
   "source": [
    "Expectedly, most of the claiments present in the dataset had their claims assembled within a month of the accident date. Unexpectedly, the type of claim where more time elapsed between accident and claim assembly is the cases involving death. This rise in 'waiting time' could possibly be due to the compexity of creating a claim for a case where a person died (such as the need for an autopsy report or police investigation).\n",
    "\n",
    "There are some outliers - one observation waited for almost 60 years before assembeling the claim - but these cases will most likely be removed in the data cleaning phase."
   ]
  },
  {
   "cell_type": "markdown",
   "metadata": {},
   "source": [
    "## Accident Severity Score"
   ]
  },
  {
   "cell_type": "markdown",
   "metadata": {},
   "source": [
    "### Reworking the AIS Codes into an Ordinal Variable  \n",
    "\n",
    "To enhance the predictive power of injury scoring, the AIS body region codes were reworked into an ordinal variable by grouping regions and assigning corresponding weights. This approach aimed to better reflect the criticality of injuries by body region.  \n",
    "\n",
    "| **AIS Code** | **Body Region**                      | **Associated Weight (Adult)**    |\n",
    "|--------------|--------------------------------------|----------------------------------|\n",
    "| 1            | Head                                 | 6.39                             |\n",
    "| 2            | Face                                 | 4.18                             |\n",
    "| 3            | Neck                                 | 6.39                             |\n",
    "| 4            | Thorax                               | 4.80                             |\n",
    "| 5            | Abdomen                              | 4.76                             |\n",
    "| 6            | Spine                                | 5.32                             |\n",
    "| 7            | Upper Extremity                      | 5.65                             |\n",
    "| 8            | Lower Extremity                      | 5.65                             |\n",
    "| 9            | Unspecified                          | NA                               |\n",
    "\n",
    "The AIS codes represent **9 body regions**, aligned with the AIS (Abbreviated Injury Scale) standards. However, code 9 is used here to represent unspecified body regions instead of external injuries, such as burns. The weights, drawn from a 2019 study, aim to provide a more meaningful assessment of injury severity and mortality risk by emphasizing the criticality of certain body regions (e.g., head, neck, and thorax).  \n",
    "\n",
    "**References:**<br>\n",
    "Shi, J., Shen, J., Zhu, M. et al. A new weighted injury severity scoring system: better predictive power for adult trauma mortality. Inj. Epidemiol. 6, 40 (2019) <br>\n",
    "Morris, Andrew, Barnes, Jo, Fildes, Brian, Bentivegna, Fulvio, Seyer, Keith. _Effectiveness of ADR 69: A Case-Control Study of Crashed Vehicles Equipped with Airbags_.\n"
   ]
  },
  {
   "cell_type": "code",
   "execution_count": null,
   "metadata": {},
   "outputs": [],
   "source": [
    "# Mapping logic\n",
    "body_region = {\n",
    "'Head':[\"MULTIPLE HEAD INJURY\", \"EAR(S)\", \"SKULL\", \n",
    "        \"BRAIN\", \"SOFT TISSUE HEAD\"],\n",
    "\n",
    "'Face':[\"EYE(S)\", \"MOUTH\", \"NOSE\", \"FACIAL BONES\", \"TEETH\"],\n",
    "\n",
    "'Neck':[\"LARYNX\", \"TRACHEA\", \"MULTIPLE NECK INJURY\", \"VERTEBRAE\",\n",
    "        \"DISC NECK\", \"SPINAL CORD\", \"SOFT TISSUE NECK\"],\n",
    "\n",
    "\"Thorax\":[\"CHEST\", \"LUNGS\", \"HEART\", \"MULTIPLE TRUNK\", \"UPPER BACK AREA\"],\n",
    "\n",
    "\"Abdomen\":[\"ABDOMEN INCLUDING GROIN\", \"INTERNAL ORGANS\", \"PELVIS\"],\n",
    "\n",
    "\"Spine\":[\"SPINAL CORD\", \"VERTEBRAE\", \"LUMBAR & OR SACRAL VERTEBRAE (VERTEBRA)\", \n",
    "        \"SACRUM AND COCCYX\", \"LOWER BACK AREA\", \"DISC TRUNK\", \"BUTTOCKS\"],\n",
    "\n",
    "\"Upper Extremity\":[\"SHOULDER(S)\", \"ARMS\", \"FINGER(S)\", \"THUMB\", \"WRIST\", \"HAND\", \n",
    "                    \"UPPER ARM\", \"ELBOW\", \"WRIST (S) & HAND(S)\", \"MULTIPLE UPPER EXTREMITIES\", \n",
    "                    \"LOWER ARM\"],\n",
    "\"Lower Extremity\":[\"LEGS\", \"ANKLE\", \"KNEE\", \"LOWER LEG\", \"UPPER LEG\", \"FOOT\", \"TOES\", \n",
    "                    \"GREAT TOE\", \"MULTIPLE LOWER EXTREMITIES\", \"HIP\"],\n",
    "\n",
    "\"Unspecified\":[\"ARTIFICIAL APPLIANCE\", \"INSUFFICIENT INFO TO PROPERLY IDENTIFY - UNCLASSIFIED\", \n",
    "                \"NO PHYSICAL INJURY\", \"MULTIPLE BODY PARTS (INCLUDING BODY\", \n",
    "                \"BODY SYSTEMS AND MULTIPLE BODY SYSTEMS\", \"WHOLE BODY\", \"MULTIPLE\"]\n",
    "}"
   ]
  },
  {
   "cell_type": "code",
   "execution_count": null,
   "metadata": {},
   "outputs": [],
   "source": [
    "# Initialize a new column for severity\n",
    "df_train['body_region'] = None\n",
    "\n",
    "# Function to categorize an body group\n",
    "def categorize_body(body):\n",
    "    for region, body_part in body_region.items():\n",
    "        if body in body_part:\n",
    "            return region\n",
    "\n",
    "# Apply the function to categorize injuries\n",
    "df_train['body_region'] = df_train['WCIO Part Of Body Description'].apply(categorize_body)"
   ]
  },
  {
   "cell_type": "code",
   "execution_count": null,
   "metadata": {},
   "outputs": [],
   "source": [
    "# AIS Body Regions Mapping\n",
    "ais_body_regions = {\n",
    "    1: \"Head\",\n",
    "    2: \"Face\",\n",
    "    3: \"Neck\",\n",
    "    4: \"Thorax\",\n",
    "    5: \"Abdomen\",\n",
    "    6: \"Spine\",\n",
    "    7: \"Upper Extremity\",\n",
    "    8: \"Lower Extremity\",\n",
    "    9: \"Unspecified\"\n",
    "}"
   ]
  },
  {
   "cell_type": "code",
   "execution_count": null,
   "metadata": {},
   "outputs": [],
   "source": [
    "df_train['AIS'] = None\n",
    "\n",
    "# Function to categorize an body group\n",
    "def categorize_AIS(body_region):\n",
    "    if body_region is None:\n",
    "        return None\n",
    "    for ais, body_regions in ais_body_regions.items():\n",
    "        if body_region in body_regions:\n",
    "            return ais\n",
    "\n",
    "# Apply the function to categorize injuries\n",
    "df_train['AIS'] = df_train['body_region'].apply(categorize_AIS)"
   ]
  },
  {
   "cell_type": "code",
   "execution_count": null,
   "metadata": {},
   "outputs": [],
   "source": [
    "w_adult = {\n",
    "    1: 6.39,\n",
    "    2: 4.18,\n",
    "    3: 6.39,\n",
    "    4: 4.80,\n",
    "    5: 4.76,\n",
    "    6: 5.32,\n",
    "    7: 5.65,\n",
    "    8: 5.65,\n",
    "    9: 0\n",
    "}\n",
    "import math \n",
    "\n",
    "def ais_weights (row):\n",
    "    if math.isnan(row['Age at Injury']):\n",
    "        return float('nan')\n",
    "    elif math.isnan(row['AIS']):\n",
    "        return float('nan')\n",
    "    else:\n",
    "        return w_adult[row['AIS']]"
   ]
  },
  {
   "cell_type": "code",
   "execution_count": null,
   "metadata": {},
   "outputs": [],
   "source": [
    "ais_weights = df_train.apply(lambda row: ais_weights(row), axis=1)\n",
    "df_train['ais_weights'] = ais_weights"
   ]
  },
  {
   "cell_type": "code",
   "execution_count": null,
   "metadata": {},
   "outputs": [],
   "source": [
    "df_train.head()"
   ]
  },
  {
   "cell_type": "markdown",
   "metadata": {},
   "source": [
    "### Reworking the Injury Codes: Severity Score\n",
    "\n",
    "The group also decided to rework the grouping of injury codes. In line with the body region codes, the objective behind this shift was to transform a categorical variable into what is effectively an ordinal variable. To achieve this goal, the following scale was used:\n",
    "\n",
    "| **Severity Score** | **Injury**                           |\n",
    "|--------------------|--------------------------------------|\n",
    "| 1                  | Minor                                |\n",
    "| 2                  | Moderate                             |\n",
    "| 3                  | Serious                              |\n",
    "| 4                  | Severe                               |\n",
    "| 5                  | Critical                             |\n",
    "| 6                  | Fatal                                |\n",
    "| 9                  | Not Further Specified (NFS)          |\n",
    "\n",
    "Injuries were grouped into **7 categories**, each assigned an injury severity score, which aligns with the AIS norms. This is based on the AIS structure presented in the report from the Department of Transport and Regional Services Australian Transport Safety Bureau regarding the effectiveness of ADR 69 (Australian Design Rules). These codes can then be used in conjunction with the body region codes to calculate a severity index, which will be explained later.\n",
    "\n",
    "References:<br>\n",
    "Morris, Andrew, Barnes, Jo, Fildes, Brian, Bentivegna, Fulvio, Seyer, Keith. _Effectiveness of ADR 69: A Case-Control Study of Crashed Vehicles Equipped with Airbags_.\n"
   ]
  },
  {
   "cell_type": "code",
   "execution_count": null,
   "metadata": {},
   "outputs": [],
   "source": [
    "# Categorization of all injuries into severity levels\n",
    "injury_categories = {\n",
    "    \"Minor\": [\n",
    "        \"CONTUSION\", \"SPRAIN OR TEAR\", \"BURN\", \"INFLAMMATION\", \"DERMATITIS\", \n",
    "        \"FOREIGN BODY\", \"VDT - RELATED DISEASES\"\n",
    "    ],\n",
    "\n",
    "    \"Moderate\": [\n",
    "        \"CONCUSSION\", \"PUNCTURE\", \"LACERATION\", \"STRAIN OR TEAR\", \n",
    "        \"CARPAL TUNNEL SYNDROME\", \"HERNIA\", \"HEARING LOSS OR IMPAIRMENT\", \n",
    "        \"LOSS OF HEARING\", \"VISION LOSS\", \"SYNCOPE\", \"ENUCLEATION\"\n",
    "    ],\n",
    "\n",
    "    \"Serious\": [\n",
    "        \"FRACTURE\", \"RUPTURE\", \"DISLOCATION\", \"ELECTRIC SHOCK\", \"INFECTION\",\n",
    "        \"BYSSINOSIS\", \"BLACK LUNG\", \"SILICOSIS\", \"POISONING - METAL\", \n",
    "        \"POISONING - CHEMICAL, (OTHER THAN METALS)\", \"DUST DISEASE, NOC\", \n",
    "        \"ALL OTHER OCCUPATIONAL DISEASE INJURY, NOC\"\n",
    "        \"ALL OTHER SPECIFIC INJURIES, NOC\", \"ALL OTHER CUMULATIVE INJURY, NOC\"\n",
    "    ],\n",
    "\n",
    "    \"Severe\": [\n",
    "        \"CRUSHING\", \"SEVERANCE\", \"ASBESTOSIS\", \"ANGINA PECTORIS\", \n",
    "        \"RESPIRATORY DISORDERS\", \"VASCULAR\", \"HEAT PROSTRATION\", \n",
    "        \"RADIATION\", \"POISONING - GENERAL (NOT OD OR CUMULATIVE\"\n",
    "    ],\n",
    "\n",
    "    \"Critical\": [\n",
    "        \"AMPUTATION\", \"MYOCARDIAL INFARCTION\", \"ASPHYXIATION\", \n",
    "        \"COVID-19\", \"AIDS\", \"HEPATITIS C\", \"CONTAGIOUS DISEASE\"\n",
    "    ],\n",
    "\n",
    "    \"Fatal\": [\n",
    "        \"CANCER\", \"FATAL INFECTION\", \"MULTIPLE INJURIES INCLUDING BOTH PHYSICAL AND PSYCHOLOGICAL\", \"MULTIPLE PHYSICAL INJURIES ONLY\"\n",
    "    ],\n",
    "\n",
    "    \"Not further specified (NFS)\": [\n",
    "        \"NO PHYSICAL INJURY\", \"ADVERSE REACTION TO A VACCINATION OR INOCULATION\", \n",
    "        \"NOT FURTHER SPECIFIED\", \"FREEZING\", \"MENTAL STRESS\", \"MENTAL DISORDER\",\n",
    "        \"ALL OTHER SPECIFIC INJURIES, NOC\", \"ALL OTHER OCCUPATIONAL DISEASE INJURY, NOC\"\n",
    "    ]\n",
    "}"
   ]
  },
  {
   "cell_type": "code",
   "execution_count": null,
   "metadata": {},
   "outputs": [],
   "source": [
    "# Initialize a new column for severity\n",
    "df_train['severity'] = None\n",
    "\n",
    "# Function to categorize an injury\n",
    "def categorize_injury(injury):\n",
    "    for severity, injuries in injury_categories.items():\n",
    "        if injury in injuries:\n",
    "            return severity\n",
    "\n",
    "# Apply the function to categorize injuries\n",
    "df_train['severity'] = df_train['WCIO Nature of Injury Description'].apply(categorize_injury)"
   ]
  },
  {
   "cell_type": "code",
   "execution_count": null,
   "metadata": {},
   "outputs": [],
   "source": [
    "# Dictionary mapping AIS codes to severity levels\n",
    "ais_severity_map = {\n",
    "    \"Minor\": 1,\n",
    "    \"Moderate\": 2,\n",
    "    \"Serious\": 3,\n",
    "    \"Severe\": 4,\n",
    "    \"Critical\": 5,\n",
    "    \"Fatal\": 6,\n",
    "    \"Not further specified (NFS)\": 0\n",
    "}"
   ]
  },
  {
   "cell_type": "code",
   "execution_count": null,
   "metadata": {},
   "outputs": [],
   "source": [
    "df_train['SS'] = None\n",
    "\n",
    "# Assuming the 'AIS Code' column exists in your DataFrame\n",
    "# Create or replace the 'AIS' column by mapping AIS codes using the dictionary\n",
    "df_train['SS'] = df_train['severity'].map(ais_severity_map)"
   ]
  },
  {
   "cell_type": "markdown",
   "metadata": {},
   "source": [
    "### Calculating the Accident Severity Score (ASS)\n",
    "\n",
    "To calculate the final score that reflects the severity of an accident (ASS for short), the following formula was used:\n",
    "\n",
    "$$\n",
    "\\text{Accident Severity Score (ASS)} = \\text{Body Region Weight} \\times \\text{Severity Score}\n",
    "$$\n",
    "\n",
    "However, there is an important caveat: if either the **AIS Body Region** or the **Severity Score** is equal to **9** (indicating unspecified values), the row is automatically assigned an **ASS score of 0.5**. This approach minimizes the introduction of noise into the data by assigning a neutral value to cases with incomplete information.  "
   ]
  },
  {
   "cell_type": "code",
   "execution_count": null,
   "metadata": {},
   "outputs": [],
   "source": [
    "df_train['ASS'] = None\n",
    "\n",
    "def calculate_ass(row):\n",
    "    if row['ais_weights'] == 0:\n",
    "        return 0.5\n",
    "    elif row['SS'] == 0:\n",
    "        return 0.5\n",
    "    else:\n",
    "        return row['ais_weights'] * row['SS']\n",
    "\n",
    "df_train['ASS'] = df_train.apply(calculate_ass, axis=1)"
   ]
  },
  {
   "cell_type": "code",
   "execution_count": null,
   "metadata": {},
   "outputs": [],
   "source": [
    "from sklearn.preprocessing import MinMaxScaler\n",
    "\n",
    "scaler = MinMaxScaler()\n",
    "\n",
    "values_excluding_0_5 = df_train[df_train['ASS'] != 0.5]['ASS'].values.reshape(-1, 1)\n",
    "scaled_values = scaler.fit_transform(values_excluding_0_5)\n",
    "df_train['ASS'] = df_train['ASS'].apply(lambda x: 0.5 if x == 0.5 else scaler.transform([[x]])[0][0])"
   ]
  },
  {
   "cell_type": "code",
   "execution_count": null,
   "metadata": {},
   "outputs": [],
   "source": [
    "#calculate the average ASS for each claim injury type\n",
    "df_train.groupby('Claim Injury Type')['ASS'].mean()"
   ]
  },
  {
   "cell_type": "markdown",
   "metadata": {},
   "source": [
    "### Reworking the Industry Codes: Industry Risk Index (IRS)\n",
    "\n",
    "In the same vein as body regions and injury types, the group decided to devise a way to turn the variable regarding industries into an ordinal variable. To achieve this objective, an external dataset was necessary. The data was collected from the National Safety Council (NSC), a nonprofit public service organization promoting health and safety in the United States. According to the NSC, the data is sourced from the U.S. Bureau of Labor Statistics.\n",
    "\n",
    "The group's idea was to use this dataset to analyze the death and injury rates across different industries to create a ranking of industries that pose the highest risk to workers. This ranking could then be used to assign a score to each industry, effectively transforming it into an ordinal variable.\n",
    "\n",
    "References: <br>\n",
    "[National Safety Council - Most Dangerous Industries](https://injuryfacts.nsc.org/work/industry-incidence-rates/most-dangerous-industries/)"
   ]
  },
  {
   "cell_type": "code",
   "execution_count": null,
   "metadata": {},
   "outputs": [],
   "source": [
    "industry_df = pd.read_excel('datasets/industry.xlsx', sheet_name=0, header=1)\n",
    "industry_df = industry_df.drop(index=[0, 1, 2, 3])\n",
    "industry_df = industry_df.drop(columns=['Unnamed: 2', 'Unnamed: 3'])"
   ]
  },
  {
   "cell_type": "code",
   "execution_count": null,
   "metadata": {},
   "outputs": [],
   "source": [
    "industry_df['Fatality rate per 100,000 workers'] = pd.to_numeric(industry_df['Fatality rate per 100,000 workers'], errors='coerce')\n",
    "avg_fatality_industry = industry_df.groupby('Industry')['Fatality rate per 100,000 workers'].mean().sort_values(ascending=False)\n",
    "avg_fatality_industry"
   ]
  },
  {
   "cell_type": "code",
   "execution_count": null,
   "metadata": {},
   "outputs": [],
   "source": [
    "industry_df['Nonfatal injury and illness involving days away from work rate per 10,000 workers'] = pd.to_numeric(industry_df['Nonfatal injury and illness involving days away from work rate per 10,000 workers'], errors='coerce')\n",
    "avg_nonfatal_industry = industry_df.groupby('Industry')['Nonfatal injury and illness involving days away from work rate per 10,000 workers'].mean().sort_values(ascending=False)\n",
    "avg_nonfatal_industry"
   ]
  },
  {
   "cell_type": "code",
   "execution_count": null,
   "metadata": {},
   "outputs": [],
   "source": [
    "industry_df['Nonfatal injury and illness involving days away from work rate per 10,000 workers'] = pd.to_numeric(industry_df['Nonfatal injury and illness involving days away from work rate per 10,000 workers'], errors='coerce')\n",
    "avg_nonfatal_industry = industry_df.groupby('Industry')['Nonfatal injury and illness involving days away from work rate per 10,000 workers'].mean().sort_values(ascending=False)\n",
    "avg_nonfatal_industry"
   ]
  },
  {
   "cell_type": "code",
   "execution_count": null,
   "metadata": {},
   "outputs": [],
   "source": [
    "industry_risk_df = pd.concat(\n",
    "    [avg_fatality_industry, avg_nonfatal_industry], \n",
    "    axis=1, \n",
    "    keys=['Avg Fatality Rate per 100,000', 'Avg Nonfatal Injury Rate per 10,000']\n",
    ")\n",
    "\n",
    "industry_risk_df.reset_index(inplace=True)\n",
    "industry_risk_df"
   ]
  },
  {
   "cell_type": "markdown",
   "metadata": {},
   "source": [
    "#### Risk Index Formula (70/30 Weighting)\n",
    "\n",
    "To calculate the risk index for industries, the following formula is used:\n",
    "\n",
    "$$\n",
    "\\text{Risk Index} = 0.7 \\times \\left( \\frac{\\text{Fatality Rate per 100,000}}{10} \\right) + 0.3 \\times \\text{Nonfatal Injury Rate per 10,000}\n",
    "$$\n",
    "\n",
    "**Explanation:**\n",
    "- **Fatality Rate per 100,000**: Divided by 10 to align the scale with the nonfatal injury rate.\n",
    "- **Nonfatal Injury Rate per 10,000**: Used as is.\n",
    "- **Weights (70/30)**: Reflect the greater importance of fatalities compared to nonfatal injuries.\n",
    "\n",
    "This formula provides a composite score that quantifies the overall risk level of industries, balancing the severity and frequency of workplace incidents."
   ]
  },
  {
   "cell_type": "code",
   "execution_count": null,
   "metadata": {},
   "outputs": [],
   "source": [
    "industry_risk_df['Avg Fatality Rate per 10,000'] = industry_risk_df['Avg Fatality Rate per 100,000'] / 10\n",
    "industry_risk_df.drop(columns='Avg Fatality Rate per 100,000', inplace=True)"
   ]
  },
  {
   "cell_type": "code",
   "execution_count": null,
   "metadata": {},
   "outputs": [],
   "source": [
    "scaler = MinMaxScaler()\n",
    "\n",
    "industry_risk_df[['Avg Nonfatal Injury Rate per 10,000 (Normalized)', 'Avg Fatality Rate per 10,000 (Normalized)']] = scaler.fit_transform(industry_risk_df[['Avg Nonfatal Injury Rate per 10,000', 'Avg Fatality Rate per 10,000']])\n",
    "industry_risk_df"
   ]
  },
  {
   "cell_type": "code",
   "execution_count": null,
   "metadata": {},
   "outputs": [],
   "source": [
    "industry_risk_df['Risk Score'] = industry_risk_df['Avg Fatality Rate per 10,000 (Normalized)'] * 0.70 + industry_risk_df['Avg Nonfatal Injury Rate per 10,000 (Normalized)']  * 0.3\n",
    "industry_risk_df"
   ]
  },
  {
   "cell_type": "code",
   "execution_count": null,
   "metadata": {},
   "outputs": [],
   "source": [
    "# make a new column for df_train with the new names for the industries\n",
    "df_train['industry_new'] = df_train['Industry Code Description'].replace({\n",
    "    'AGRICULTURE, FORESTRY, FISHING AND HUNTING': 'Agriculture, forestry, fishing, and hunting',\n",
    "    'MINING': 'Mining',\n",
    "    'UTILITIES': 'Utilities',\n",
    "    'CONSTRUCTION': 'Construction',\n",
    "    'MANUFACTURING': 'Manufacturing',\n",
    "    'WHOLESALE TRADE': 'Wholesale trade',\n",
    "    'RETAIL TRADE': 'Retail trade',\n",
    "    'TRANSPORTATION AND WAREHOUSING': 'Transportation and warehousing',\n",
    "    'INFORMATION': 'Information',\n",
    "    'FINANCE AND INSURANCE': 'Financial activities',\n",
    "    'REAL ESTATE AND RENTAL AND LEASING': 'Other services',\n",
    "    'PROFESSIONAL, SCIENTIFIC, AND TECHNICAL SERVICES': 'Professional and business services',\n",
    "    'MANAGEMENT OF COMPANIES AND ENTERPRISES': 'Professional and business services',\n",
    "    'OTHER SERVICES (EXCEPT PUBLIC ADMINISTRATION)': 'Other services',\n",
    "    'ADMINISTRATIVE AND SUPPORT AND WASTE MANAGEMENT AND REMEDIAT': 'Other services',\n",
    "    'EDUCATIONAL SERVICES': 'Education and health services',\n",
    "    'HEALTH CARE AND SOCIAL ASSISTANCE': 'Education and health services',\n",
    "    'PUBLIC ADMINISTRATION': 'Government',\n",
    "    'ARTS, ENTERTAINMENT, AND RECREATION': 'Leisure and hospitality',\n",
    "    'ACCOMMODATION AND FOOD SERVICES': 'Leisure and hospitality'\n",
    "})\n",
    "\n",
    "# assign the risk score to the dataframe based on the new names and the risk score of industry_risk_df\n",
    "df_train['IRS'] = df_train['industry_new'].map(industry_risk_df.set_index('Industry')['Risk Score'])\n",
    "df_train.head()"
   ]
  },
  {
   "cell_type": "code",
   "execution_count": null,
   "metadata": {},
   "outputs": [],
   "source": [
    "## check when industry code description has a value and industry new is missing value\n",
    "df_train[df_train['Industry Code Description'].notnull() & df_train['industry_new'].isnull()]['Industry Code Description'].value_counts()"
   ]
  },
  {
   "cell_type": "code",
   "execution_count": null,
   "metadata": {},
   "outputs": [],
   "source": [
    "#rows when industry code description has a value and industry new is missing value\n",
    "df_train[df_train['Industry Code Description'].notnull() & df_train['industry_new'].isnull()]"
   ]
  },
  {
   "cell_type": "markdown",
   "metadata": {},
   "source": [
    "## Early check for correlations"
   ]
  },
  {
   "cell_type": "markdown",
   "metadata": {
    "jp-MarkdownHeadingCollapsed": true
   },
   "source": [
    "### Cramér's V\n",
    "\n",
    "Cramér's V is a metric for measuring the correlation between categorical variables. In python, there are no functions to calculate this metric, instead a function that is available online will be used.\n",
    "\n",
    "References:<br>\n",
    "https://stackoverflow.com/questions/46498455/categorical-features-correlation/46498792#46498792<br>\n",
    "https://towardsdatascience.com/the-search-for-categorical-correlation-a1cf7f1888c9"
   ]
  },
  {
   "cell_type": "markdown",
   "metadata": {},
   "source": [
    "### Claim Injury Type"
   ]
  },
  {
   "cell_type": "code",
   "execution_count": null,
   "metadata": {},
   "outputs": [],
   "source": [
    "var_list = ['age_group', 'body_group', 'injury_type', 'injury_cause', 'industry_group','Attorney/Representative', 'COVID-19 Indicator', 'days_accident_to_assembly_binned', 'Carrier Type', 'zip_group']\n",
    "\n",
    "def cramers_v(x, y):\n",
    "    confusion_matrix = pd.crosstab(x,y)\n",
    "    chi2 = ss.chi2_contingency(confusion_matrix)[0]\n",
    "    n = confusion_matrix.sum().sum()\n",
    "    phi2 = chi2/n\n",
    "    r,k = confusion_matrix.shape\n",
    "    phi2corr = max(0, phi2-((k-1)*(r-1))/(n-1))\n",
    "    rcorr = r-((r-1)**2)/(n-1)\n",
    "    kcorr = k-((k-1)**2)/(n-1)\n",
    "    return np.sqrt(phi2corr/min((kcorr-1),(rcorr-1)))\n",
    "\n",
    "for i in var_list:\n",
    "    cvi = cramers_v(df_train['Claim Injury Type'], df_train[i])\n",
    "    if cvi >= 0.1:\n",
    "        print(f'{i} : {cvi:.2f}')"
   ]
  },
  {
   "cell_type": "markdown",
   "metadata": {},
   "source": [
    "According to Cramér's V, the variable \"Attorney/Representative\" is highly correlated to the first target variable."
   ]
  },
  {
   "cell_type": "markdown",
   "metadata": {},
   "source": [
    "### Agreement Reached"
   ]
  },
  {
   "cell_type": "code",
   "execution_count": null,
   "metadata": {},
   "outputs": [],
   "source": [
    "for i in var_list:\n",
    "    cvi = cramers_v(df_train['Agreement Reached'], df_train[i])\n",
    "    if cvi >= 0.1:\n",
    "        print(f'{i} : {cvi:.2f}')"
   ]
  },
  {
   "cell_type": "markdown",
   "metadata": {},
   "source": [
    "The same result is obtained in the second target variable, althought the connection is weaker."
   ]
  },
  {
   "cell_type": "code",
   "execution_count": null,
   "metadata": {},
   "outputs": [],
   "source": [
    "df_train.to_csv('df_train_v1.csv', index=False) #this cell is a checkpoint that the group used to avoid running the whole notebook when working"
   ]
  },
  {
   "cell_type": "markdown",
   "metadata": {},
   "source": [
    "# Data Cleaning"
   ]
  },
  {
   "cell_type": "markdown",
   "metadata": {},
   "source": [
    "### Transforming the test data\n",
    "\n",
    "Before beginning the data cleaning process, all the alterations that were performed on df_train will be applied to df_test:"
   ]
  },
  {
   "cell_type": "code",
   "execution_count": null,
   "metadata": {},
   "outputs": [],
   "source": [
    "df_test = pd.read_csv('test_data.csv')\n",
    "df_train = pd.read_csv('df_train_v1.csv') #this line is a checkpoint that the group used to avoid running the whole notebook when working"
   ]
  },
  {
   "cell_type": "code",
   "execution_count": null,
   "metadata": {},
   "outputs": [],
   "source": [
    "for i in df_train.columns:\n",
    "    if i not in df_test.columns:\n",
    "        print(i)"
   ]
  },
  {
   "cell_type": "code",
   "execution_count": null,
   "metadata": {},
   "outputs": [],
   "source": [
    "# Check for missing values in df_train\n",
    "missing_rows_train = df_train.isnull().any(axis=1).sum()\n",
    "total_rows_train = len(df_train)\n",
    "percent_missing_train = (missing_rows_train / total_rows_train) * 100\n",
    "print(f\"Missing rows in df_train: {round(percent_missing_train, 2)}%\")"
   ]
  },
  {
   "cell_type": "markdown",
   "metadata": {},
   "source": [
    "Drop irrelevant column and change datatypes:"
   ]
  },
  {
   "cell_type": "code",
   "execution_count": null,
   "metadata": {},
   "outputs": [],
   "source": [
    "df_test = df_test.drop(columns=['OIICS Nature of Injury Description', 'C-3 Date', 'First Hearing Date', 'IME-4 Count'])"
   ]
  },
  {
   "cell_type": "code",
   "execution_count": null,
   "metadata": {},
   "outputs": [],
   "source": [
    "int_list = ['Age at Injury', 'Industry Code', 'WCIO Cause of Injury Code', 'WCIO Nature of Injury Code', 'WCIO Part Of Body Code', 'Number of Dependents']\n",
    "for i in int_list:\n",
    "    df_test[i] = pd.to_numeric(df_test[i], errors='coerce').astype('Int64')\n",
    "    df_train[i] = pd.to_numeric(df_train[i], errors='coerce').astype('Int64')"
   ]
  },
  {
   "cell_type": "code",
   "execution_count": null,
   "metadata": {},
   "outputs": [],
   "source": [
    "date_list = ['Accident Date', 'Assembly Date', 'C-2 Date']\n",
    "for i in date_list:\n",
    "    df_test[i] = pd.to_datetime(df_test[i], errors='coerce')\n",
    "    df_train[i] = pd.to_datetime(df_train[i], errors='coerce')"
   ]
  },
  {
   "cell_type": "code",
   "execution_count": null,
   "metadata": {},
   "outputs": [],
   "source": [
    "bins = (1, 18, 25, 45, 65, float('inf'))\n",
    "labels = ['1-17', '18-24', '25-44', '45-64', '65+']\n",
    "df_test['age_group'] = pd.cut(df_test['Age at Injury'], bins=bins, labels=labels)"
   ]
  },
  {
   "cell_type": "code",
   "execution_count": null,
   "metadata": {},
   "outputs": [],
   "source": [
    "## Uncomment if you want to run the project without the eda\n",
    "\n",
    "\n",
    "# # calculate the quantiles and IQR excluding claims with 0 wage\n",
    "df_non_zero_wage = df_train[df_train['Average Weekly Wage'] > 0]\n",
    "\n",
    "q1 = df_non_zero_wage['Average Weekly Wage'].quantile(0.25) # 25th percentile or first quartile\n",
    "q3 = df_non_zero_wage['Average Weekly Wage'].quantile(0.75)  # 75th percentile or third quartile\n",
    "iqr = q3 - q1\n",
    "lower_bound = max(0,q1 - 1.5 * iqr)                          # the max function ensures the lower bound cannot be less than 0, as negative wages are not valid\n",
    "upper_bound = q3 + 1.5 * iqr"
   ]
  },
  {
   "cell_type": "code",
   "execution_count": null,
   "metadata": {},
   "outputs": [],
   "source": [
    "bins = [-1, 0, q1, q3, upper_bound, df_train['Average Weekly Wage'].max()]\n",
    "labels = ['No Wage', 'Low Wage', 'Medium Wage', 'High Wage', 'Very High Wage']\n",
    "df_test['wage_groups'] = pd.cut(df_test['Average Weekly Wage'], bins=bins, labels=labels)\n",
    "df_test[['Average Weekly Wage', 'wage_groups']]"
   ]
  },
  {
   "cell_type": "code",
   "execution_count": null,
   "metadata": {},
   "outputs": [],
   "source": [
    "## change the descriptions of the given codes to more readable descriptions:\n",
    "# 18 - SOFT TISSUE HEAD\n",
    "# 25 - SOFT TISSUE NECK\n",
    "# 22 - DISC NECK\n",
    "# 43 - DISC TRUNK\n",
    "\n",
    "# the body part code 18 has a description of 'SOFT TISSUE that need to be altered to 'SOFT TISSUE HEAD'\n",
    "df_test.loc[df_test['WCIO Part Of Body Code'] == 18, 'WCIO Part Of Body Description'] = 'SOFT TISSUE HEAD'\n",
    "\n",
    "# the body part code 25 has a description of 'SOFT TISSUE that need to be altered to 'SOFT TISSUE NECK'\n",
    "df_test.loc[df_test['WCIO Part Of Body Code'] == 25, 'WCIO Part Of Body Description'] = 'SOFT TISSUE NECK'\n",
    "\n",
    "# the body part code 22 has a description of 'DISC that need to be altered to 'DISC NECK'\n",
    "df_test.loc[df_test['WCIO Part Of Body Code'] == 22, 'WCIO Part Of Body Description'] = 'DISC NECK'\n",
    "\n",
    "# the body part code 43 has a description of 'DISC that need to be altered to 'DISC TRUNK'\n",
    "df_test.loc[df_test['WCIO Part Of Body Code'] == 43, 'WCIO Part Of Body Description'] = 'DISC TRUNK'"
   ]
  },
  {
   "cell_type": "code",
   "execution_count": null,
   "metadata": {},
   "outputs": [],
   "source": [
    "head = [\n",
    "    \"MULTIPLE HEAD INJURY\", \"EYE(S)\", \"MOUTH\", \"EAR(S)\", \"SKULL\", \"FACIAL BONES\", \n",
    "    \"TEETH\", \"NOSE\", \"BRAIN\", \"LARYNX\", \"TRACHEA\", \"MULTIPLE NECK INJURY\", \"SOFT TISSUE\"\n",
    "]\n",
    "\n",
    "torso = [\n",
    "    \"TORSO\", \"SHOULDER(S)\", \"LUNGS\", \"BUTTOCKS\", \"LOWER BACK AREA\", \"ABDOMEN INCLUDING GROIN\", \n",
    "    \"HIP\", \"CHEST\", \"DISC\", \"UPPER BACK AREA\", \"PELVIS\", \"HEART\", \"VERTEBRAE\", \n",
    "    \"LUMBAR & OR SACRAL VERTEBRAE (VERTEBRA\", \"SACRUM AND COCCYX\", \"SPINAL CORD\", \"MULTIPLE TRUNK\", \"SPINAL CORD\", \"INTERNAL ORGANS\"\n",
    "]\n",
    "\n",
    "arm = [\n",
    "    \"ARMS\", \"FINGER(S)\", \"THUMB\", \"WRIST\", \"HAND\", \"UPPER ARM\", \"ELBOW\", \"WRIST (S) & HAND(S)\", \"MULTIPLE UPPER EXTREMITIES\", \"LOWER ARM\"\n",
    "]\n",
    "\n",
    "leg = [\n",
    "    \"LEGS\", \"ANKLE\", \"KNEE\", \"LOWER LEG\", \"UPPER LEG\", \"FOOT\", \"TOES\", \"GREAT TOE\", \n",
    "    \"MULTIPLE LOWER EXTREMITIES\"\n",
    "]\n",
    "\n",
    "multiple_body_parts = [ \n",
    "    'ARTIFICIAL APPLIANCE', \"INSUFFICIENT INFO TO PROPERLY IDENTIFY - UNCLASSIFIED\",\n",
    "    'NO PHYSICAL INJURY', 'MULTIPLE BODY PARTS (INCLUDING BODY', 'BODY SYSTEMS AND MULTIPLE BODY SYSTEMS',\n",
    "    'WHOLE BODY', 'MULTIPLE'\n",
    "]"
   ]
  },
  {
   "cell_type": "markdown",
   "metadata": {},
   "source": [
    "Check for codes in the WCIO variables that are in the test dataset and are not in the train dataset. This process is going to be repeated for all variables of this type."
   ]
  },
  {
   "cell_type": "code",
   "execution_count": null,
   "metadata": {},
   "outputs": [],
   "source": [
    "# Checking for new information\n",
    "defined_body_parts = set(head + torso + arm + leg + multiple_body_parts)\n",
    "\n",
    "unique_body_parts = set(df_test['WCIO Part Of Body Description'].dropna().unique())\n",
    "\n",
    "new = list(unique_body_parts - defined_body_parts)\n",
    "\n",
    "print(new)"
   ]
  },
  {
   "cell_type": "markdown",
   "metadata": {},
   "source": [
    "Now, the codes are added to the respective categories."
   ]
  },
  {
   "cell_type": "code",
   "execution_count": null,
   "metadata": {},
   "outputs": [],
   "source": [
    "df_test['body_group'] = np.nan\n",
    "df_test.loc[df_test['WCIO Part Of Body Description'].isin(head), 'body_group'] = 'Head'\n",
    "df_test.loc[df_test['WCIO Part Of Body Description'].isin(torso), 'body_group'] = 'Torso'\n",
    "df_test.loc[df_test['WCIO Part Of Body Description'].isin(arm), 'body_group'] = 'Arms'\n",
    "df_test.loc[df_test['WCIO Part Of Body Description'].isin(leg), 'body_group'] = 'Legs'\n",
    "df_test.loc[df_test['WCIO Part Of Body Description'].isin(multiple_body_parts), 'body_group'] = 'Multiple Body Parts'"
   ]
  },
  {
   "cell_type": "code",
   "execution_count": null,
   "metadata": {},
   "outputs": [],
   "source": [
    "physical_trauma = [\"CONTUSION\", \"SPRAIN OR TEAR\", \"CONCUSSION\", \"PUNCTURE\", \"LACERATION\", \"BURN\", \n",
    "                   \"STRAIN OR TEAR\", \"FRACTURE\", \"FOREIGN BODY\", \"RUPTURE\", \"DISLOCATION\", \"CRUSHING\", \n",
    "                   \"SEVERANCE\", \"ELECTRIC SHOCK\", \"AMPUTATION\"]\n",
    "\n",
    "repetitive_stress_injuries = [\"INFLAMMATION\", \"CARPAL TUNNEL SYNDROME\", \"HERNIA\", \"VDT - RELATED DISEASES\"]\n",
    "\n",
    "cumulative_occupational_injuries = [\"ALL OTHER OCCUPATIONAL DISEASE INJURY, NOC\", \"ALL OTHER SPECIFIC INJURIES, NOC\", \"ALL OTHER CUMULATIVE INJURY, NOC\", \n",
    "                                    \"DUST DISEASE, NOC\", \"ASBESTOSIS\", \"SILICOSIS\", \"BLACK LUNG\", \"BYSSINOSIS\", \"DERMATITIS\"]\n",
    "\n",
    "infectious_diseases = [\"INFECTION\", \"COVID-19\", \"CONTAGIOUS DISEASE\", \"HEPATITIS C\", \"AIDS\"]\n",
    "\n",
    "poisoning_chemical_exposure = [\"POISONING - GENERAL (NOT OD OR CUMULATIVE\", \"POISONING - CHEMICAL, (OTHER THAN METALS)\", \"POISONING - METAL\", \n",
    "                               \"RADIATION\", \"ADVERSE REACTION TO A VACCINATION OR INOCULATION\",  'POISONING - CHEMICAL, (OTHER THAN METALS)']\n",
    "\n",
    "cardiovascular_respiratory = [\"ANGINA PECTORIS\", \"MYOCARDIAL INFARCTION\", \"RESPIRATORY DISORDERS\", \n",
    "                              \"VASCULAR\", \"ASPHYXIATION\", \"HEAT PROSTRATION\"]\n",
    "\n",
    "neurological_sensory = [\"HEARING LOSS OR IMPAIRMENT\", \"LOSS OF HEARING\", \"VISION LOSS\", \"ENUCLEATION\", \"SYNCOPE\"]\n",
    "\n",
    "mental_health_stress = [\"MENTAL STRESS\", \"MENTAL DISORDER\"]\n",
    "\n",
    "other_injury = [\"MULTIPLE PHYSICAL INJURIES ONLY\", \"MULTIPLE INJURIES INCLUDING BOTH PHYSICAL AND PSYCHOLOGICAL\", \n",
    "         \"FREEZING\", \"RADIATION\", \"ADVERSE REACTION TO A VACCINATION OR INOCULATION\", \"CANCER\", 'NO PHYSICAL INJURY']"
   ]
  },
  {
   "cell_type": "code",
   "execution_count": null,
   "metadata": {},
   "outputs": [],
   "source": [
    "# Checking for new information\n",
    "defined_nature_types = set(physical_trauma + repetitive_stress_injuries + cumulative_occupational_injuries + infectious_diseases + poisoning_chemical_exposure + cardiovascular_respiratory + neurological_sensory + mental_health_stress + other_injury)\t\n",
    "\n",
    "unique_nature_types = set(df_test['WCIO Nature of Injury Description'].dropna().unique())\n",
    "\n",
    "new = list(unique_nature_types - defined_nature_types)\n",
    "\n",
    "print(new)"
   ]
  },
  {
   "cell_type": "code",
   "execution_count": null,
   "metadata": {},
   "outputs": [],
   "source": [
    "df_test['injury_type'] = np.nan\n",
    "df_test.loc[df_test['WCIO Nature of Injury Description'].isin(physical_trauma), 'injury_type'] = 'Physical Trauma'\n",
    "df_test.loc[df_test['WCIO Nature of Injury Description'].isin(repetitive_stress_injuries), 'injury_type'] = 'Repetitive Stress Injuries'\n",
    "df_test.loc[df_test['WCIO Nature of Injury Description'].isin(cumulative_occupational_injuries), 'injury_type'] = 'Cumulative Occupational Injuries'\n",
    "df_test.loc[df_test['WCIO Nature of Injury Description'].isin(infectious_diseases), 'injury_type'] = 'Infectious Diseases'\n",
    "df_test.loc[df_test['WCIO Nature of Injury Description'].isin(poisoning_chemical_exposure), 'injury_type'] = 'Poisoning/Chemical Exposure'\n",
    "df_test.loc[df_test['WCIO Nature of Injury Description'].isin(cardiovascular_respiratory), 'injury_type'] = 'Cardiovascular/Respiratory'\n",
    "df_test.loc[df_test['WCIO Nature of Injury Description'].isin(neurological_sensory), 'injury_type'] = 'Neurological/Sensory'\n",
    "df_test.loc[df_test['WCIO Nature of Injury Description'].isin(mental_health_stress), 'injury_type'] = 'Mental Health/Stress'\n",
    "df_test.loc[df_test['WCIO Nature of Injury Description'].isin(other_injury), 'injury_type'] = 'Other'"
   ]
  },
  {
   "cell_type": "code",
   "execution_count": null,
   "metadata": {},
   "outputs": [],
   "source": [
    "slips_trips_falls = [\"FROM LIQUID OR GREASE SPILLS\", \"FALL, SLIP OR TRIP, NOC\", \"ON SAME LEVEL\", \"FROM DIFFERENT LEVEL (ELEVATION)\", \n",
    "                     \"ON ICE OR SNOW\", \"INTO OPENINGS\", \"ON STAIRS\", \"FROM LADDER OR SCAFFOLDING\", \"SLIP, OR TRIP, DID NOT FALL\", \n",
    "                     \"JUMPING OR LEAPING\"]\n",
    "\n",
    "lifting_carrying_handling = [\"OBJECT BEING LIFTED OR HANDLED\", \"LIFTING\", \"PUSHING OR PULLING\", \"HOLDING OR CARRYING\", \n",
    "                             \"OBJECT HANDLED\", \"OBJECT HANDLED BY OTHERS\"]\n",
    "\n",
    "struck_by_or_contact = [\"STRUCK OR INJURED, NOC\", \"FALLING OR FLYING OBJECT\", \"STEAM OR HOT FLUIDS\", \n",
    "                        \"STATIONARY OBJECT\", \"ELECTRICAL CURRENT\", \"HOT OBJECTS OR SUBSTANCES\", \n",
    "                        \"CAUGHT IN, UNDER OR BETWEEN, NOC\", \"FIRE OR FLAME\", \"CONTACT WITH, NOC\", \n",
    "                        \"BROKEN GLASS\", \"STEPPING ON SHARP OBJECT\", \"GUNSHOT\", \"ANIMAL OR INSECT\"]\n",
    "\n",
    "vehicle_machinery_accidents = [\"COLLISION OR SIDESWIPE WITH ANOTHER VEHICLE\", \"MOTOR VEHICLE, NOC\", \"MOTOR VEHICLE\", \"VEHICLE UPSET\", \"COLLISION WITH A FIXED OBJECT\", \n",
    "                               \"CRASH OF RAIL VEHICLE\", \"CRASH OF WATER VEHICLE\", \"CRASH OF AIRPLANE\", \"MOVING PARTS OF MACHINE\", \"MACHINE OR MACHINERY\", \"POWERED HAND TOOL, APPLIANCE\", \n",
    "                               \"USING TOOL OR MACHINERY\", \"MOVING PART OF MACHINE\", \"HAND TOOL OR MACHINE IN USE\"]\n",
    "\n",
    "chemical_environmental_biological = [\"CHEMICALS\", \"DUST, GASES, FUMES OR VAPORS\", \"ABSORPTION, INGESTION OR INHALATION, NOC\", \n",
    "                                     \"MOLD\", \"CUMULATIVE, NOC\", \"TEMPERATURE EXTREMES\", \"COLD OBJECTS OR SUBSTANCES\", \"RADIATION\", \n",
    "                                     \"ABNORMAL AIR PRESSURE\"]\n",
    "\n",
    "manual_tools_operations = [\"HAND TOOL, UTENSIL; NOT POWERED\", \"CUT, PUNCTURE, SCRAPE, NOC\", \"RUBBED OR ABRADED, NOC\", \n",
    "                           \"SANDING, SCRAPING, CLEANING OPERATION\", \"WELDING OPERATION\", \"STRIKING AGAINST OR STEPPING ON, NOC\", \n",
    "                           \"USING TOOL OR MACHINERY\"]\n",
    "\n",
    "repetitive_motion_strain = [\"REPETITIVE MOTION\", \"REACHING\", \"TWISTING\", \"STRAIN OR INJURY BY, NOC\"]\n",
    "\n",
    "other_cause = [\"OTHER - MISCELLANEOUS, NOC\", \"FELLOW WORKER, PATIENT OR OTHER PERSON\", \"FOREIGN MATTER (BODY) IN EYE(S)\",\n",
    "                \"OTHER THAN PHYSICAL CAUSE OF INJURY\", \"PANDEMIC\", \"TERRORISM\", \"NATURAL DISASTERS\", \"EXPLOSION OR FLARE BACK\", \n",
    "                \"COLLAPSING MATERIALS (SLIDES OF EARTH)\", \"CONTINUAL NOISE\", \"WIELDING OR THROWING\", \"PERSON IN ACT OF A CRIME\"]"
   ]
  },
  {
   "cell_type": "code",
   "execution_count": null,
   "metadata": {},
   "outputs": [],
   "source": [
    "# Checking for new information\n",
    "defined_cause_types = set(slips_trips_falls + lifting_carrying_handling + struck_by_or_contact + vehicle_machinery_accidents + chemical_environmental_biological + manual_tools_operations + repetitive_motion_strain + other_cause)\n",
    "\n",
    "unique_cause_types = set(df_test['WCIO Cause of Injury Description'].dropna().unique())\n",
    "\n",
    "new = list(unique_cause_types - defined_cause_types)\n",
    "\n",
    "print(new)"
   ]
  },
  {
   "cell_type": "code",
   "execution_count": null,
   "metadata": {},
   "outputs": [],
   "source": [
    "df_test['injury_cause'] = np.nan\n",
    "df_test.loc[df_test['WCIO Cause of Injury Description'].isin(slips_trips_falls), 'injury_cause'] = 'Slips, Trips, and Falls'\n",
    "df_test.loc[df_test['WCIO Cause of Injury Description'].isin(lifting_carrying_handling), 'injury_cause'] = 'Lifting, Carrying, and Handling'\n",
    "df_test.loc[df_test['WCIO Cause of Injury Description'].isin(struck_by_or_contact), 'injury_cause'] = 'Struck by or Contact with Objects'\n",
    "df_test.loc[df_test['WCIO Cause of Injury Description'].isin(vehicle_machinery_accidents), 'injury_cause'] = 'Vehicle and Machinery Accidents'\n",
    "df_test.loc[df_test['WCIO Cause of Injury Description'].isin(chemical_environmental_biological), 'injury_cause'] = 'Chemical, Environmental, and Biological Hazards'\n",
    "df_test.loc[df_test['WCIO Cause of Injury Description'].isin(manual_tools_operations), 'injury_cause'] = 'Manual Tools and Physical Operations'\n",
    "df_test.loc[df_test['WCIO Cause of Injury Description'].isin(repetitive_motion_strain), 'injury_cause'] = 'Repetitive Motion and Strain'\n",
    "df_test.loc[df_test['WCIO Cause of Injury Description'].isin(other_cause), 'injury_cause'] = 'Other'\n"
   ]
  },
  {
   "cell_type": "code",
   "execution_count": null,
   "metadata": {},
   "outputs": [],
   "source": [
    "natural_resources_utilities = [\"AGRICULTURE, FORESTRY, FISHING AND HUNTING\", \"MINING\", \"UTILITIES\"]\n",
    "\n",
    "goods_production_and_trade = [\"CONSTRUCTION\", \"MANUFACTURING\", \"WHOLESALE TRADE\", \"RETAIL TRADE\"]\n",
    "\n",
    "services = [\"TRANSPORTATION AND WAREHOUSING\", \"INFORMATION\", \"FINANCE AND INSURANCE\", \"REAL ESTATE AND RENTAL AND LEASING\", \n",
    "    \"PROFESSIONAL, SCIENTIFIC, AND TECHNICAL SERVICES\", \"MANAGEMENT OF COMPANIES AND ENTERPRISES\",\n",
    "    \"OTHER SERVICES (EXCEPT PUBLIC ADMINISTRATION)\", \"ADMINISTRATIVE AND SUPPORT AND WASTE MANAGEMENT AND REMEDIAT\"]\n",
    "\n",
    "education_health_public_services = [\"EDUCATIONAL SERVICES\", \"HEALTH CARE AND SOCIAL ASSISTANCE\", \"PUBLIC ADMINISTRATION\"]\n",
    "\n",
    "leisure_hospitality = [\"ARTS, ENTERTAINMENT, AND RECREATION\", \"ACCOMMODATION AND FOOD SERVICES\"]"
   ]
  },
  {
   "cell_type": "code",
   "execution_count": null,
   "metadata": {},
   "outputs": [],
   "source": [
    "# Checking for new information\n",
    "\n",
    "defined_industries = set(natural_resources_utilities + goods_production_and_trade + services + education_health_public_services + leisure_hospitality)\n",
    "\n",
    "unique_industries = set(df_test['Industry Code Description'].dropna().unique())\n",
    "\n",
    "new_industries = list(unique_industries - defined_industries)\n",
    "print(new_industries)\n"
   ]
  },
  {
   "cell_type": "code",
   "execution_count": null,
   "metadata": {},
   "outputs": [],
   "source": [
    "df_test['industry_group'] = np.nan\n",
    "df_test.loc[df_test['Industry Code Description'].isin(natural_resources_utilities), 'industry_group'] = 'Natural Resources Utilities'\n",
    "df_test.loc[df_test['Industry Code Description'].isin(goods_production_and_trade), 'industry_group'] = 'Goods Production and Trade'\n",
    "df_test.loc[df_test['Industry Code Description'].isin(services), 'industry_group'] = 'Services'\n",
    "df_test.loc[df_test['Industry Code Description'].isin(education_health_public_services), 'industry_group'] = 'Education Health Public Services'\n",
    "df_test.loc[df_test['Industry Code Description'].isin(leisure_hospitality), 'industry_group'] = 'Leisure Hospitality'"
   ]
  },
  {
   "cell_type": "code",
   "execution_count": null,
   "metadata": {},
   "outputs": [],
   "source": [
    "df_test['days_accident_to_assembly'] = (df_test['Assembly Date'] - df_test['Accident Date']).dt.days"
   ]
  },
  {
   "cell_type": "code",
   "execution_count": null,
   "metadata": {},
   "outputs": [],
   "source": [
    "negative_days = df_test[df_test['days_accident_to_assembly'] < 0]\n",
    "percentage_negative_days = len(negative_days) / len(df_test) * 100\n",
    "print(f'Percentage of rows with negative days: {percentage_negative_days:.2f}%')"
   ]
  },
  {
   "cell_type": "markdown",
   "metadata": {},
   "source": [
    "0.06% of the rows in 'df_test' have accident dates that happen after the claim was assembled, this should be impossible and will therefore be changed."
   ]
  },
  {
   "cell_type": "code",
   "execution_count": null,
   "metadata": {},
   "outputs": [],
   "source": [
    "df_train.loc[df_train['days_accident_to_assembly'] < 0, 'days_accident_to_assembly'] = np.nan\n",
    "df_test.loc[df_test['days_accident_to_assembly'] < 0, 'days_accident_to_assembly'] = np.nan"
   ]
  },
  {
   "cell_type": "code",
   "execution_count": null,
   "metadata": {},
   "outputs": [],
   "source": [
    "bins = (-1, 0, 7, 30, 90, 180, 365, 365*2, 365*10, 60*365)\n",
    "labels = ['Same day', '1 week', '1 month', '3 months', '6 months', '1 year', '2 years', '10 years', '10+ years']\n",
    "df_test['days_accident_to_assembly_binned'] = pd.cut(df_test['days_accident_to_assembly'], bins=bins, labels=labels)"
   ]
  },
  {
   "cell_type": "code",
   "execution_count": null,
   "metadata": {},
   "outputs": [],
   "source": [
    "region_ny = {\n",
    "\"CENTRAL NEW YORK\": [\"OSWEGO\", \"ONONDAGA\", \"CAYUGA\", \"MADISON\", \"CORTLAND\"], \n",
    "\"SOUTHERN TIER\": [\"DELAWARE\", \"CHENANGO\", \"BROOME\", \"TIOGA\", \"TOMPKINS\", \"CHEMUNG\", \"SCHUYLER\", \"STEUBEN\"],\n",
    "\"FINGER LAKES\": [\"WAYNE\", \"SENECA\", \"YATES\", \"MONROE\", \"LIVINGSTON\", \"ONTARIO\", \"ORLEANS\", \"GENESEE\", \"WYOMING\"], \n",
    "\"WESTERN NEW YORK\": [\"ERIE\", \"NIAGARA\", \"CHAUTAUQUA\", \"CATTARAUGUS\", \"ALLEGANY\"], \n",
    "\"NORTH COUNTRY\": [\"JEFFERSON\", \"LEWIS\", \"ST. LAWRENCE\", \"FRANKLIN\", \"CLINTON\", \"ESSEX\", \"HAMILTON\"], \n",
    "\"MOHAWK VALLEY\": [\"HERKIMER\", \"ONEIDA\", \"OTSEGO\", \"MONTGOMERY\", \"FULTON\", \"SCHOHAIRE\"], \n",
    "\"CAPITAL REGION\": [\"SCHENECTADY\", \"ALBANY\", \"RENSSELAER\", \"SARATOGA\", \"GREENE\", \"COLUMBIA\", \"WARREN\", \"WASHINGTON\"], \n",
    "\"HUDSON VALLEY\": [\"ROCKLAND\", \"ORANGE\", \"PUTNAM\", \"DUTCHESS\", \"ULSTER\", \"SULLIVAN\", \"WESTCHESTER\"],\n",
    "\"NEW YORK CITY\": [\"BRONX\", \"KINGS\", \"NEW YORK\", \"QUEENS\", \"RICHMOND\"], \n",
    "\"LONG ISLAND\": [\"NASSAU\", \"SUFFOLK\"]\n",
    "}\n",
    "\n",
    "df_test['Zip Code'] = pd.to_numeric(df_test['Zip Code'], errors='coerce')\n",
    "\n",
    "counties_ny = {'ALBANY':(12007, 12009, 12023, 12041, 12045, 12046, 12047, 12054, 12055, 12059, 12067, 12077, 12084, 12085, 12107, 12110, 12110, 12120, 12128, \n",
    "                12128, 12143, 12147, 12158, 12159, 12161, 12183, 12183, 12186, 12189, 12201, 12202, 12203, 12203, 12204, 12204, 12205, 12205, 12205, \n",
    "                12206, 12207, 12208, 12209, 12210, 12211, 12211, 12211, 12212, 12220, 12223, 12224, 12225, 12226, 12227, 12247, 12260, 12469), \n",
    "               \n",
    "               'ALLEGANY':(14029, 14707, 14708, 14709, 14711, 14714, 14715, 14717, 14721, 14727, 14735, 14739, 14744, 14745, 14754, 14774, 14777, 14786, 14802,\n",
    "                14803, 14804, 14806, 14813, 14822, 14880, 14884, 14895), \n",
    "               \n",
    "               'BRONX':(10451, 10452, 10453, 10454, 10455, 10456, 10457, 10458, 10459, 10460, 10461, 10462, 10463, 10464, 10465, 10466, 10467, 10468, 10469,\n",
    "                10470, 10471, 10472, 10473, 10474, 10475), \n",
    "               \n",
    "               'BROOME':(13737, 13744, 13745, 13746, 13748, 13749, 13754, 13760, 13760, 13761, 13762, 13763, 13777, 13787, 13790, 13794, 13795, 13797, 13802,\n",
    "                13813, 13826, 13826, 13833, 13833, 13848, 13850, 13851, 13901, 13902, 13903, 13904, 13905), \n",
    "               \n",
    "               'CATTARAUGUS':(14041, 14042, 14060, 14065, 14065, 14070, 14101, 14129, 14133, 14138, 14168, 14706, 14719, 14726, 14729, 14730, 14731, 14737, 14741,\n",
    "                14743, 14743, 14748, 14751, 14753, 14755, 14760, 14760, 14766, 14770, 14772, 14778, 14779, 14783), \n",
    "               \n",
    "               'CAYUGA':(13021, 13021, 13022, 13026, 13033, 13034, 13064, 13071, 13081, 13111, 13113, 13117, 13118, 13139, 13140, 13147, 13147, 13156, 13160,\n",
    "                13166),\n",
    "\n",
    "               'CHAUTAUQUA':(14048, 14048, 14062, 14063, 14081, 14135, 14136, 14166, 14166, 14701, 14702, 14710, 14712, 14716, 14718, 14720, 14722, 14723, 14724,\n",
    "                14728, 14732, 14733, 14736, 14738, 14740, 14742, 14747, 14750, 14752, 14756, 14757, 14758, 14767, 14767, 14769, 14775, 14781, 14782,\n",
    "                14784, 14785),\n",
    "\n",
    "               'CHEMUNG':(14814, 14816, 14825, 14838, 14844, 14845, 14861, 14864, 14871, 14872, 14889, 14894, 14901, 14902, 14903, 14903, 14903, 14903, 14904,\n",
    "                14905, 14925),\n",
    "\n",
    "               'CHENANGO':(13124, 13129, 13136, 13155, 13332, 13332, 13411, 13411, 13460, 13464, 13730, 13733, 13758, 13778, 13780, 13801, 13809, 13814, 13815,\n",
    "                13830, 13830, 13832, 13841, 13843, 13844),\n",
    "\n",
    "               'CLINTON':(12901, 12903, 12910, 12911, 12911, 12911, 12912, 12918, 12919, 12921, 12923, 12924, 12924, 12929, 12933, 12934, 12935, 12944, 12952,\n",
    "                12955, 12955, 12958, 12959, 12962, 12972, 12978, 12979, 12981, 12985, 12992),\n",
    "\n",
    "               'COLUMBIA':(12017, 12029, 12037, 12050, 12060, 12062, 12075, 12106, 12115, 12125, 12125, 12130, 12132, 12136, 12165, 12172, 12173, 12174, 12184,\n",
    "                12195, 12502, 12503, 12513, 12516, 12517, 12521, 12523, 12526, 12529, 12530, 12534, 12541, 12544, 12565, 12593, 12593),\n",
    "\n",
    "               'CORTLAND':(13040, 13040, 13045, 13056, 13077, 13087, 13101, 13141, 13158, 13738, 13784, 13803),\n",
    "\n",
    "               'DELAWARE':(12167, 12406, 12421, 12430, 12430, 12434, 12438, 12455, 12459, 12474, 13731, 13739, 13740, 13750, 13751, 13752, 13753, 13753, 13755,\n",
    "                13756, 13757, 13774, 13775, 13782, 13783, 13783, 13786, 13788, 13804, 13806, 13837, 13838, 13839, 13842, 13846, 13846, 13847, 13856,\n",
    "                13860),\n",
    "\n",
    "               'DUTCHESS':(12501, 12504, 12504, 12504, 12506, 12507, 12507, 12508, 12510, 12511, 12512, 12514, 12522, 12524, 12527, 12531, 12533, 12533, 12537,\n",
    "                12538, 12540, 12545, 12546, 12564, 12567, 12569, 12570, 12571, 12571, 12572, 12574, 12578, 12580, 12581, 12582, 12583, 12585, 12590,\n",
    "                12590, 12592, 12601, 12602, 12603, 12603),\n",
    "\n",
    "               'ERIE':(14001, 14004, 14006, 14010, 14025, 14026, 14027, 14030, 14031, 14032, 14033, 14034, 14035, 14038, 14043, 14047, 14051, 14051, 14052,\n",
    "                14055, 14057, 14059, 14061, 14068, 14069, 14072, 14075, 14080, 14085, 14086, 14091, 14102, 14110, 14111, 14112, 14127, 14134, 14139,\n",
    "                14140, 14141, 14150, 14151, 14169, 14170, 14201, 14202, 14203, 14204, 14205, 14206, 14206, 14207, 14208, 14209, 14210, 14211, 14212,\n",
    "                14212, 14213, 14214, 14215, 14216, 14217, 14217, 14217, 14217, 14218, 14218, 14219, 14219, 14220, 14221, 14221, 14222, 14223, 14223,\n",
    "                14223, 14224, 14225, 14225, 14226, 14226, 14226, 14226,14227, 14227, 14227, 14228, 14228, 14231, 14240, 14280),\n",
    "\n",
    "               'ESSEX':(12851, 12852, 12855, 12857, 12858, 12858, 12870, 12872, 12879, 12879, 12883, 12913,12928, 12932, 12936, 12941, 12942, 12943, 12943,\n",
    "                12946, 12946, 12950, 12956, 12960, 12961, 12964, 12974, 12975, 12977, 12987, 12993),\n",
    "\n",
    "               'FRANKLIN':(12914, 12915, 12916, 12917, 12920, 12926, 12930, 12937, 12939, 12945, 12945, 12953,\n",
    "                12957, 12966, 12966, 12966, 12969, 12970, 12976, 12980, 12983, 12986, 12986, 12989,\n",
    "                12989, 12989, 13655, 13655, 13655),\n",
    "\n",
    "               'FULTON':(12025, 12032, 12078, 12095, 12117, 12134, 12134, 13470),\n",
    "\n",
    "               'GENESEE':(14003, 14005, 14013, 14020, 14021, 14036, 14040, 14054, 14056, 14058, 14125, 14143, 14416, 14422, 14482, 14486, 14525, 14525, 14557),\n",
    "\n",
    "               'GREENE':(12015, 12042, 12051, 12058, 12083, 12083, 12083, 12087, 12124, 12176, 12192, 12405, 12407, 12413, 12414, 12414, 12418, 12422, 12423,\n",
    "                12424, 12424, 12427, 12431, 12436, 12439, 12439, 12442, 12444, 12450, 12451, 12452, 12454, 12460, 12463, 12468, 12470, 12473, 12482, \n",
    "                12485, 12492),\n",
    "\n",
    "               'HAMILTON':(12108, 12139, 12164, 12190, 12812, 12842, 12847, 12864, 13353, 13360, 13436),\n",
    "\n",
    "               'HERKIMER':(13324, 13329, 13331, 13340, 13340, 13350, 13357, 13361, 13365, 13406, 13407, 13416, 13420, 13431, 13454, 13472, 13475, 13491),\n",
    "\n",
    "               'JEFFERSON':(13601, 13602, 13603, 13605, 13606, 13607, 13607, 13608, 13608, 13611, 13612, 13615, 13616, 13618, 13619, 13622, 13624, 13624, 13624,\n",
    "                13624, 13628, 13632, 13634, 13636, 13637, 13638, 13640, 13640, 13641, 13643, 13650, 13651, 13656, 13657, 13659, 13661, 13665, 13671,\n",
    "                13673, 13674, 13675, 13679, 13682, 13685, 13688, 13691, 13692, 13693),\n",
    "\n",
    "               'KINGS':(11201, 11202, 11203, 11204, 11205, 11206, 11207, 11208, 11209, 11210, 11211, 11212, 11213, 11214, 11215, 11216, 11217, 11218, 11219,\n",
    "                11220, 11221, 11222, 11223, 11224, 11225, 11226, 11228, 11229, 11230, 11231, 11232, 11233, 11234, 11235, 11236, 11237, 11238, 11239,\n",
    "                11240, 11241, 11242, 11243, 11247, 11249, 11252, 11252, 11256),\n",
    "\n",
    "               'LEWIS':(13305, 13305, 13312, 13312, 13325, 13327, 13343, 13345, 13367, 13367, 13368, 13404, 13433, 13473, 13489, 13620, 13626, 13626, 13627, \n",
    "                13631, 13648),\n",
    "\n",
    "               'LIVINGSTON':(14414, 14423, 14435, 14437, 14454, 14462, 14466, 14480, 14481, 14485, 14487, 14488, 14510, 14510, 14517, 14533, 14533, 14539, 14545,\n",
    "                14545, 14556, 14558, 14560, 14560, 14836, 14846),\n",
    "\n",
    "               'MADISON':(13032, 13032, 13035, 13037, 13043, 13052, 13061, 13072, 13082, 13122, 13134, 13163, 13310, 13314, 13334, 13346, 13355, 13364, 13402,\n",
    "                13408, 13409, 13409, 13418, 13421, 13465, 13484),\n",
    "\n",
    "               'MONROE':(14410, 14420, 14428, 14428, 14430, 14445, 14450, 14464, 14467, 14468, 14472, 14506, 14511, 14514, 14515, 14526, 14534, 14543, 14543,\n",
    "                14546, 14559, 14580, 14586, 14601, 14602, 14603, 14604, 14605, 14606, 14607, 14608, 14609, 14610, 14611, 14612, 14612, 14613, 14614,\n",
    "                14615, 14615, 14616, 14616, 14617, 14617, 14618, 14618, 14619, 14620, 14621, 14622, 14622, 14623, 14624, 14625, 14625, 14626, 14626,\n",
    "                14626, 14627, 14660, 14692),\n",
    "\n",
    "               'MONTGOMERY':(12010, 12010, 12016, 12016, 12066, 12068, 12069, 12070, 12072, 12086, 12166, 12177, 13317, 13317, 13339, 13410, 13428, 13452),\n",
    "\n",
    "               'NASSAU':(11001, 11002, 11003, 11003, 11003, 11003, 11010, 11020, 11021, 11022, 11023, 11024, 11024, 11026, 11027, 11030, 11030, 11040, 11042,\n",
    "                11050, 11050, 11096, 11096, 11501, 11507, 11509, 11510, 11510, 11514, 11516, 11518, 11520, 11530, 11530, 11531, 11542, 11545, 11547,\n",
    "                11548, 11550, 11550, 11551, 11552, 11553, 11554, 11557, 11558, 11559, 11560, 11561, 11561, 11561, 11563, 11565, 11566, 11566, 11568,\n",
    "                11569, 11570, 11571, 11572, 11572, 11575, 11576, 11577, 11579, 11580, 11581, 11582, 11596, 11599, 11709, 11710, 11710, 11714, 11732,\n",
    "                11735, 11735, 11753, 11756, 11758, 11758, 11762, 11765, 11771, 11783, 11791, 11793, 11801, 11802, 11803, 11803, 11804, 11804),\n",
    "\n",
    "               'NEW YORK CITY':(10001, 10002, 10002, 10003, 10004, 10004, 10005, 10006, 10006, 10007, 10008, 10009, 10010, 10011, 10012, 10012, 10013, 10013, 10013,\n",
    "                10014, 10015, 10016, 10017, 10018, 10019, 10020, 10021, 10022, 10023, 10024, 10025, 10026, 10027, 10028, 10029, 10030, 10031, 10032,\n",
    "                10033, 10034, 10035, 10036, 10037, 10038, 10038, 10039, 10040, 10041, 10044, 10044, 10045, 10048, 10055, 10060, 10069, 10090, 10095,\n",
    "                10098, 10099, 10101, 10103, 10104, 10105, 10106, 10107, 10108, 10110, 10111, 10112, 10113, 10115, 10116, 10118, 10119, 10120, 10121,\n",
    "                10122, 10123, 10128, 10129, 10150, 10151, 10152, 10153, 10154, 10155, 10156, 10158, 10159, 10161, 10162, 10163, 10165, 10166, 10167,\n",
    "                10168, 10169, 10170, 10171, 10172, 10173, 10174, 10175, 10176, 10177, 10178, 10185, 10199, 10242, 10249, 10268, 10270, 10271, 10272,\n",
    "                10274, 10276, 10278, 10279, 10280, 10281, 10282),\n",
    "\n",
    "               'NIAGARA':(14008, 14012, 14028, 14067, 14092, 14092, 14094, 14095, 14105, 14107, 14108, 14109, 14120, 14126, 14131, 14132, 14144, 14301, 14302,\n",
    "                14303, 14304, 14305),\n",
    "\n",
    "               'ONEIDA':(13054, 13123, 13157, 13162, 13301, 13303, 13304, 13308, 13309, 13313, 13316, 13318, 13319, 13321, 13322, 13323, 13328, 13338, 13341,\n",
    "                13352, 13354, 13362, 13363, 13401, 13403, 13413, 13417, 13424, 13425, 13435, 13438, 13440, 13441, 13442, 13455, 13456, 13456, 13461,\n",
    "                13469, 13471, 13476, 13477, 13478, 13479, 13480, 13501, 13502, 13502, 13503, 13504, 13505),\n",
    "\n",
    "               'ONONDAGA':(13020, 13027, 13027, 13029, 13030, 13031, 13039, 13041, 13051, 13057, 13060, 13063, 13066, 13078, 13080, 13084, 13088, 13089, 13090,\n",
    "                13090, 13104, 13108, 13110, 13112, 13116, 13119, 13120, 13137, 13138, 13152, 13153, 13159, 13164, 13201, 13202, 13203, 13204, 13205,\n",
    "                13206, 13207, 13208, 13209, 13209, 13210, 13211, 13211, 13212, 13212, 13214, 13214, 13215, 13217, 13218, 13219, 13220, 13221, 13224,\n",
    "                13235, 13261, 13290),\n",
    "\n",
    "               'ONTARIO':(14424, 14425, 14425, 14432, 14443, 14453, 14456, 14461, 14463, 14469, 14471, 14475, 14504, 14512, 14518, 14532, 14537, 14547, 14548,\n",
    "                14561, 14564, 14585),\n",
    "\n",
    "               'ORANGE':(10910, 10912, 10914, 10915, 10916, 10917, 10918, 10919, 10921, 10922, 10924, 10925, 10926, 10928, 10930, 10932, 10933, 10940, 10940,\n",
    "                10941, 10941, 10950, 10953, 10958, 10959, 10963, 10969, 10973, 10975, 10979, 10981, 10985, 10987, 10988, 10990, 10992, 10996, 10997,\n",
    "                12518, 12520, 12543, 12549, 12550, 12551, 12552, 12553, 12553, 12555, 12566, 12575, 12577, 12584, 12586, 12729, 12739, 12746, 12771, \n",
    "                12780, 12780),\n",
    "\n",
    "               'ORLEANS':(14098, 14103, 14411, 14411, 14429, 14452, 14470, 14470, 14476, 14477, 14479, 14508, 14571),\n",
    "\n",
    "               'OSWEGO':(13028, 13036, 13042, 13044, 13069, 13074, 13076, 13083, 13093, 13103, 13107, 13114, 13115, 13121, 13126, 13131, 13132, 13135, 13142, \n",
    "                13144, 13145, 13167, 13302, 13426, 13437),\n",
    "\n",
    "               'OTSEGO':(12064, 12116, 12155, 13315, 13320, 13326, 13326, 13333, 13335, 13337, 13342, 13348, 13415, 13439, 13450, 13457, 13468, 13482, 13485, \n",
    "                13747, 13776, 13796, 13807, 13808, 13810, 13820, 13825, 13834, 13849, 13859, 13861),\n",
    "\n",
    "               'PUTNAM':(10509, 10512, 10512, 10516, 10516, 10524, 10537, 10541, 10541, 10542, 10579, 12563),\n",
    "\n",
    "               'QUEENS':(11004, 11004, 11005, 11101, 11101, 11102, 11102, 11103, 11103, 11104, 11104, 11104, 11105, 11105, 11106, 11106, 11109, 11351, 11352,\n",
    "                11354, 11355, 11356, 11356, 11357, 11357, 11357, 11358, 11359, 11359, 11359, 11360, 11360, 11361, 11361, 11362, 11362, 11362, 11363,\n",
    "                11363, 11363, 11364, 11364, 11365, 11365, 11366, 11366, 11367, 11368, 11368, 11369, 11369, 11370, 11371, 11371, 11371, 11372, 11372,\n",
    "                11372, 11373, 11373, 11374, 11374, 11375, 11375, 11377, 11378, 11378, 11379, 11379, 11379, 11380, 11380, 11380, 11385, 11385, 11385,\n",
    "                11386, 11386, 11411, 11411, 11412, 11412, 11413, 11413, 11413, 11414, 11414, 11415, 11415, 11416, 11416, 11417, 11417, 11418, 11418,\n",
    "                11419, 11419, 11420, 11420, 11421, 11422, 11422, 11423, 11423, 11424, 11426, 11426, 11427, 11427, 11428, 11428, 11429, 11429, 11430,\n",
    "                11430, 11431, 11432, 11432, 11433, 11434, 11435, 11436, 11436, 11437, 11437, 11438, 11438, 11439, 11440, 11441, 11442, 11443, 11443,\n",
    "                11444, 11445, 11446, 11446, 11447, 11447, 11449, 11449, 11451, 11451, 11452, 11453, 11453, 11454, 11455, 11455, 11456, 11456, 11457,\n",
    "                11458, 11459, 11459, 11460, 11461, 11462, 11463, 11464, 11465, 11466, 11467, 11468, 11469, 11470, 11471, 11472, 11473, 11474, 11475,\n",
    "                11476, 11477, 11478, 11479, 11480, 11481, 11482, 11483, 11484, 11485, 11486, 11487, 11488, 11489, 11490, 11491, 11492, 11493, 11494,\n",
    "                11495, 11496, 11497, 11498, 11499, 11690, 11690, 11691, 11692, 11692, 11693, 11693, 11693, 11694, 11694, 11694, 11695, 11695, 11697,\n",
    "                11697, 11697),\n",
    "\n",
    "               'RENSSELAER':(12018, 12022, 12024, 12028, 12033, 12033, 12040, 12052, 12057, 12061, 12063, 12082, 12089, 12090, 12094, 12121, 12123, 12133, 12138,\n",
    "                12138, 12138, 12140, 12144, 12153, 12154, 12156, 12168, 12169, 12180, 12181, 12182, 12185),\n",
    "\n",
    "               'RICHMOND':(10301, 10302, 10303, 10304, 10305, 10306, 10307, 10308, 10309, 10310, 10311, 10312, 10313, 10314),\n",
    "\n",
    "               'ROCKLAND':(10901, 10901, 10901, 10911, 10913, 10920, 10923, 10927, 10931, 10952, 10954, 10954, 10956, 10960, 10962, 10964, 10965, 10968, 10970,\n",
    "                10974, 10976, 10977, 10977, 10980, 10982, 10983, 10984, 10986, 10989, 10993,  10994),\n",
    "\n",
    "               'SARATOGA':(12019, 12019, 12019, 12020, 12020, 12027, 12065, 12074, 12118, 12148, 12151, 12170, 12188, 12803, 12803, 12822, 12831, 12833, 12835,\n",
    "                12850, 12859, 12863, 12866, 12871, 12884),\n",
    "\n",
    "               'SCHENECTADY':(12008, 12008, 12053, 12056, 12137, 12141, 12150, 12301, 12302, 12302, 12302, 12303, 12304, 12305, 12306, 12306, 12307, 12308, 12309,\n",
    "                12309, 12325, 12325),\n",
    "\n",
    "               'SCHOHARIE':(12031, 12035, 12036, 12043, 12043, 12071, 12073, 12076, 12092, 12093, 12122, 12131, 12149, 12157, 12160, 12175, 12187, 12194, 13459),\n",
    "\n",
    "               'SCHUYLER':(14805, 14812, 14815, 14818, 14824, 14841, 14841, 14863, 14865, 14869, 14876, 14878, 14887, 14891, 14893),\n",
    "\n",
    "               'SENECA':(13065, 13148, 13165, 14521, 14521, 14541, 14541, 14847, 14860),\n",
    "\n",
    "               'ST. LAWRENCE':(12922, 12927, 12949, 12965, 12965, 12967, 12973, 13613, 13614, 13617, 13621, 13623, 13625, 13630, 13633, 13635, 13639, 13642, 13645,\n",
    "                13646, 13647, 13649, 13652, 13654, 13658, 13660, 13662, 13664, 13666, 13667, 13668, 13669, 13670, 13672, 13676, 13677, 13678, 13680,\n",
    "                13681, 13683, 13684, 13684, 13687, 13690, 13694, 13695),\n",
    "\n",
    "               'STEUBEN':(14529, 14572, 14801, 14807, 14808, 14808, 14809, 14809, 14810, 14810, 14819, 14820, 14821, 14823, 14826, 14827, 14830, 14839, 14840,\n",
    "                14843, 14855, 14856, 14858, 14870, 14873, 14874, 14877, 14879, 14885),\n",
    "\n",
    "               'SUFFOLK':(6390, 11701, 11701, 11702, 11702, 11702, 11702, 11702, 11703, 11703, 11704, 11704, 11705, 11706, 11706, 11706, 11706, 11707, 11707,\n",
    "                11708, 11713, 11715, 11716, 11717, 11717, 11717, 11718, 11719, 11720, 11720, 11721, 11722, 11724, 11725, 11726, 11727, 11729, 11730,\n",
    "                11731, 11731, 11733, 11733, 11738, 11739, 11740, 11741, 11742, 11743, 11743, 11743, 11746, 11746, 11747, 11747, 11749, 11749, 11749,\n",
    "                11749, 11751, 11752, 11754, 11755, 11757, 11760, 11763, 11764, 11766, 11767, 11768, 11769, 11770, 11772, 11772, 11772, 11776, 11777,\n",
    "                11777, 11777, 11777, 11778, 11779, 11779, 11780, 11782, 11782, 11782, 11784, 11786, 11787, 11788, 11788, 11789, 11790, 11792, 11795,\n",
    "                11805, 11901, 11901, 11930, 11931, 11932, 11933, 11934, 11934, 11935, 11937, 11939, 11940, 11941, 11942, 11944, 11946, 11947, 11948,\n",
    "                11949, 11950, 11951, 11952, 11953, 11954, 11955, 11956, 11957, 11958, 11959, 11960, 11961, 11962, 11963, 11964, 11965, 11967, 11967,\n",
    "                11968, 11969, 11970, 11971, 11972, 11973, 11975, 11976),\n",
    "\n",
    "               'SULLIVAN':(12701, 12719, 12720, 12721, 12722, 12723, 12724, 12725, 12726, 12727, 12732, 12733, 12734, 12736, 12737, 12738, 12740, 12741, 12742,\n",
    "                12743, 12745, 12747, 12748, 12749, 12750, 12751, 12752, 12754, 12758, 12758, 12759, 12760, 12762, 12763, 12764, 12765, 12766, 12767,\n",
    "                12768, 12769, 12770, 12775, 12776, 12777, 12777, 12778, 12779, 12781, 12783, 12784, 12785),\n",
    "\n",
    "               'TIOGA':(13732, 13734, 13736, 13743, 13811, 13812, 13827, 13835, 13840, 13845, 14859, 14883, 14883, 14892),\n",
    "\n",
    "               'TOMPKINS':(13053, 13062, 13068, 13073, 13092, 13102, 14817, 14850, 14850, 14851, 14852, 14853, 14854, 14867, 14881, 14882, 14882, 14886),\n",
    "\n",
    "               'ULSTER':(12401, 12401, 12401, 12402, 12404, 12409, 12409, 12410, 12410, 12411, 12412, 12416, 12417, 12419, 12420, 12428, 12429, 12432, 12433,\n",
    "                12435, 12440, 12441, 12443, 12446, 12448, 12449, 12453, 12456, 12457, 12458, 12461, 12461, 12464, 12465, 12466, 12471, 12472, 12475,\n",
    "                12477, 12480, 12481, 12483, 12484, 12486, 12487, 12489, 12490, 12491, 12493, 12515, 12525, 12528, 12542, 12547, 12548, 12561, 12568,\n",
    "                12588, 12589, 12782, 12782),\n",
    "\n",
    "               'WARREN':(12801, 12801, 12804, 12804, 12808, 12810, 12811, 12814, 12815, 12817, 12820, 12824, 12836, 12843, 12844, 12844, 12845, 12846, 12853,\n",
    "                12856, 12860, 12862, 12874, 12878, 12885, 12885),\n",
    "\n",
    "               'WASHINGTON':(12809, 12816, 12819, 12821, 12823, 12827, 12828, 12832, 12834, 12834, 12837, 12838, 12839, 12841, 12848, 12849, 12854, 12861, 12865,\n",
    "                12865, 12873),\n",
    "\n",
    "               'WAYNE':(13143, 13146, 13154, 14413, 14433, 14449, 14489, 14502, 14505, 14513, 14513, 14516, 14519, 14520, 14522, 14538, 14542, 14551, 14551,\n",
    "                14555, 14563, 14568),\n",
    "\n",
    "               'WESTCHESTER':(10501, 10502, 10503, 10504, 10504, 10505, 10506, 10507, 10510, 10510, 10511, 10514, 10517, 10518, 10519, 10520, 10521, 10521, 10522,\n",
    "                10523, 10526, 10527, 10528, 10530, 10532, 10533, 10535, 10536, 10538, 10540, 10543, 10545, 10546, 10547, 10548, 10549, 10549, 10550,\n",
    "                10551, 10552, 10553, 10560, 10562, 10566, 10567, 10570, 10573, 10573, 10576, 10577, 10578, 10580, 10583, 10583, 10587, 10588, 10589,\n",
    "                10590, 10591, 10591, 10591, 10594, 10595, 10596, 10597, 10604, 10706, 10707, 10707, 10708, 10709, 10801, 10802, 10803, 10804, 10805),\n",
    "\n",
    "               'WYOMING':(14009, 14011, 14024, 14037, 14039, 14066, 14082, 14083, 14113, 14130, 14145, 14167, 14427, 14530, 14536, 14536, 14549, 14550, 14550,\n",
    "                14569),\n",
    "\n",
    "               'YATES':(14415, 14418, 14441, 14478, 14478, 14507, 14527, 14544, 14837, 14842, 14857)\n",
    "                }\n",
    "\n",
    "def region_finder(zip_code):\n",
    "    for county, zips in counties_ny.items():\n",
    "        if zip_code in zips:\n",
    "            for region, counties in region_ny.items():\n",
    "                if county in counties:\n",
    "                    return region\n",
    "    return 'OTHER'\n",
    "    \n",
    "\n",
    "df_test['zip_group'] = df_test['Zip Code'].apply(region_finder)"
   ]
  },
  {
   "cell_type": "code",
   "execution_count": null,
   "metadata": {},
   "outputs": [],
   "source": [
    "df_test['Carrier Type'] = df_test['Carrier Type'].map({\n",
    "    '1A. PRIVATE': 'PRIVATE',\n",
    "    '2A. SIF': 'STATE INSURANCE',\n",
    "    '3A. SELF PUBLIC': 'SELF-PUBLIC',\n",
    "    '4A. SELF PRIVATE': 'SELF-PRIVATE',\n",
    "    '5D. SPECIAL FUND - UNKNOWN': 'SPECIAL FUND',\n",
    "    '5C. SPECIAL FUND - POI CARRIER WCB MENANDS': 'SPECIAL FUND',\n",
    "    '5A. SPECIAL FUND - CONS. COMM. (SECT. 25-A)':'SPECIAL FUND',\n",
    "    'UNKNOWN':'UNKNOWN'\n",
    "    })"
   ]
  },
  {
   "cell_type": "code",
   "execution_count": null,
   "metadata": {},
   "outputs": [],
   "source": [
    "df_test['days_to_c2'] = (df_test['C-2 Date'] - df_test['Accident Date']).dt.days"
   ]
  },
  {
   "cell_type": "code",
   "execution_count": null,
   "metadata": {},
   "outputs": [],
   "source": [
    "df_test['days_to_c2'] = (df_test['C-2 Date'] - df_test['Accident Date']).dt.days\n",
    "bins = (-1, 0, 7, 30, 90, 180, 365, 365*2, 365*10, 60*365)\n",
    "labels = ['Same Day', '1 week', '1 month', '3 months', '6 months', '1 year', '2 years', '10 years', '10+ years']\n",
    "df_test['days_to_c2_binned'] = pd.cut(df_test['days_to_c2'], bins=bins, labels=labels)"
   ]
  },
  {
   "cell_type": "code",
   "execution_count": null,
   "metadata": {},
   "outputs": [],
   "source": [
    "body_region = {\n",
    "'Head':[\"MULTIPLE HEAD INJURY\", \"EAR(S)\", \"SKULL\", \n",
    "        \"BRAIN\", \"SOFT TISSUE HEAD\"],\n",
    "\n",
    "'Face':[\"EYE(S)\", \"MOUTH\", \"NOSE\", \"FACIAL BONES\", \"TEETH\"],\n",
    "\n",
    "'Neck':[\"LARYNX\", \"TRACHEA\", \"MULTIPLE NECK INJURY\", \"VERTEBRAE\",\n",
    "        \"DISC NECK\", \"SPINAL CORD\", \"SOFT TISSUE NECK\"],\n",
    "\n",
    "\"Thorax\":[\"CHEST\", \"LUNGS\", \"HEART\", \"MULTIPLE TRUNK\", \"UPPER BACK AREA\"],\n",
    "\n",
    "\"Abdomen\":[\"ABDOMEN INCLUDING GROIN\", \"INTERNAL ORGANS\", \"PELVIS\"],\n",
    "\n",
    "\"Spine\":[\"SPINAL CORD\", \"VERTEBRAE\", \"LUMBAR & OR SACRAL VERTEBRAE (VERTEBRA\", \n",
    "        \"SACRUM AND COCCYX\", \"LOWER BACK AREA\", \"DISC TRUNK\", \"BUTTOCKS\", ],\n",
    "\n",
    "\"Upper Extremity\":[\"SHOULDER(S)\", \"ARMS\", \"FINGER(S)\", \"THUMB\", \"WRIST\", \"HAND\", \n",
    "                    \"UPPER ARM\", \"ELBOW\", \"WRIST (S) & HAND(S)\", \"MULTIPLE UPPER EXTREMITIES\", \n",
    "                    \"LOWER ARM\"],\n",
    "\"Lower Extremity\":[\"LEGS\", \"ANKLE\", \"KNEE\", \"LOWER LEG\", \"UPPER LEG\", \"FOOT\", \"TOES\", \n",
    "                    \"GREAT TOE\", \"MULTIPLE LOWER EXTREMITIES\", \"HIP\"],\n",
    "\n",
    "\"Unspecified\":[\"ARTIFICIAL APPLIANCE\", \"INSUFFICIENT INFO TO PROPERLY IDENTIFY - UNCLASSIFIED\", \n",
    "                \"NO PHYSICAL INJURY\", \"MULTIPLE BODY PARTS (INCLUDING BODY\", \n",
    "                \"BODY SYSTEMS AND MULTIPLE BODY SYSTEMS\", \"WHOLE BODY\", \"MULTIPLE\"]\n",
    "}\n",
    "\n",
    "df_test['body_region'] = None\n",
    "\n",
    "def categorize_body(body):\n",
    "    for region, body_part in body_region.items():\n",
    "        if body in body_part:\n",
    "            return region\n",
    "\n",
    "df_test['body_region'] = df_test['WCIO Part Of Body Description'].apply(categorize_body)\n",
    "\n",
    "ais_body_regions = {\n",
    "    1: \"Head\",\n",
    "    2: \"Face\",\n",
    "    3: \"Neck\",\n",
    "    4: \"Thorax\",\n",
    "    5: \"Abdomen\",\n",
    "    6: \"Spine\",\n",
    "    7: \"Upper Extremity\",\n",
    "    8: \"Lower Extremity\",\n",
    "    9: \"Unspecified\"\n",
    "}\n",
    "\n",
    "df_test['AIS'] = None\n",
    "\n",
    "def categorize_AIS(body_region):\n",
    "    if body_region is None:\n",
    "        return None\n",
    "    for ais, body_regions in ais_body_regions.items():\n",
    "        if body_region in body_regions:\n",
    "            return ais\n",
    "\n",
    "df_test['AIS'] = df_test['body_region'].apply(categorize_AIS)\n",
    "\n",
    "\n",
    "w_adult = {\n",
    "    1: 6.39,\n",
    "    2: 4.18,\n",
    "    3: 6.39,\n",
    "    4: 4.80,\n",
    "    5: 4.76,\n",
    "    6: 5.32,\n",
    "    7: 5.65,\n",
    "    8: 5.65,\n",
    "    9: 0\n",
    "}\n",
    "\n",
    "import math \n",
    "\n",
    "def ais_weights (row):\n",
    "    if math.isnan(row['Age at Injury']):\n",
    "        return float('nan')\n",
    "    elif math.isnan(row['AIS']):\n",
    "        return float('nan')\n",
    "    else:\n",
    "        return w_adult[row['AIS']]\n",
    "    \n",
    "ais_weights = df_test.apply(lambda row: ais_weights(row), axis=1)\n",
    "df_test['ais_weights'] = ais_weights"
   ]
  },
  {
   "cell_type": "code",
   "execution_count": null,
   "metadata": {},
   "outputs": [],
   "source": [
    "# Categorization of all injuries into severity levels\n",
    "injury_categories = {\n",
    "    \"Minor\": [\n",
    "        \"CONTUSION\", \"SPRAIN OR TEAR\", \"BURN\", \"INFLAMMATION\", \"DERMATITIS\", \n",
    "        \"FOREIGN BODY\", \"VDT - RELATED DISEASES\"\n",
    "    ],\n",
    "\n",
    "    \"Moderate\": [\n",
    "        \"CONCUSSION\", \"PUNCTURE\", \"LACERATION\", \"STRAIN OR TEAR\", \n",
    "        \"CARPAL TUNNEL SYNDROME\", \"HERNIA\", \"HEARING LOSS OR IMPAIRMENT\", \n",
    "        \"LOSS OF HEARING\", \"VISION LOSS\", \"SYNCOPE\", \"ENUCLEATION\"\n",
    "    ],\n",
    "\n",
    "    \"Serious\": [\n",
    "        \"FRACTURE\", \"RUPTURE\", \"DISLOCATION\", \"ELECTRIC SHOCK\", \"INFECTION\",\n",
    "        \"BYSSINOSIS\", \"BLACK LUNG\", \"SILICOSIS\", \"POISONING - METAL\", \n",
    "        \"POISONING - CHEMICAL, (OTHER THAN METALS)\", \"DUST DISEASE, NOC\", \n",
    "        \"ALL OTHER OCCUPATIONAL DISEASE INJURY, NOC\"\n",
    "        \"ALL OTHER SPECIFIC INJURIES, NOC\", \"ALL OTHER CUMULATIVE INJURY, NOC\"\n",
    "    ],\n",
    "\n",
    "    \"Severe\": [\n",
    "        \"CRUSHING\", \"SEVERANCE\", \"ASBESTOSIS\", \"ANGINA PECTORIS\", \n",
    "        \"RESPIRATORY DISORDERS\", \"VASCULAR\", \"HEAT PROSTRATION\", \n",
    "        \"RADIATION\", \"POISONING - GENERAL (NOT OD OR CUMULATIVE\"\n",
    "    ],\n",
    "\n",
    "    \"Critical\": [\n",
    "        \"AMPUTATION\", \"MYOCARDIAL INFARCTION\", \"ASPHYXIATION\", \n",
    "        \"COVID-19\", \"AIDS\", \"HEPATITIS C\", \"CONTAGIOUS DISEASE\"\n",
    "    ],\n",
    "\n",
    "    \"Fatal\": [\n",
    "        \"CANCER\", \"FATAL INFECTION\", \"MULTIPLE INJURIES INCLUDING BOTH PHYSICAL AND PSYCHOLOGICAL\", \"MULTIPLE PHYSICAL INJURIES ONLY\"\n",
    "    ],\n",
    "\n",
    "    \"Not further specified (NFS)\": [\n",
    "        \"NO PHYSICAL INJURY\", \"ADVERSE REACTION TO A VACCINATION OR INOCULATION\", \n",
    "        \"NOT FURTHER SPECIFIED\", \"FREEZING\", \"MENTAL STRESS\", \"MENTAL DISORDER\",\n",
    "        \"ALL OTHER SPECIFIC INJURIES, NOC\", \"ALL OTHER OCCUPATIONAL DISEASE INJURY, NOC\"\n",
    "    ]\n",
    "}\n",
    "\n",
    "# Initialize a new column for severity\n",
    "df_test['severity'] = None\n",
    "\n",
    "# Function to categorize an injury\n",
    "def categorize_injury(injury):\n",
    "    for severity, injuries in injury_categories.items():\n",
    "        if injury in injuries:\n",
    "            return severity\n",
    "\n",
    "# Apply the function to categorize injuries\n",
    "df_test['severity'] = df_test['WCIO Nature of Injury Description'].apply(categorize_injury)\n",
    "\n",
    "# Dictionary mapping AIS codes to severity levels\n",
    "ais_severity_map = {\n",
    "    \"Minor\": 1,\n",
    "    \"Moderate\": 2,\n",
    "    \"Serious\": 3,\n",
    "    \"Severe\": 4,\n",
    "    \"Critical\": 5,\n",
    "    \"Fatal\": 6,\n",
    "    \"Not further specified (NFS)\": 0\n",
    "}\n",
    "\n",
    "df_test['SS'] = None\n",
    "\n",
    "# Assuming the 'AIS Code' column exists in your DataFrame\n",
    "# Create or replace the 'AIS' column by mapping AIS codes using the dictionary\n",
    "df_test['SS'] = df_test['severity'].map(ais_severity_map)"
   ]
  },
  {
   "cell_type": "code",
   "execution_count": null,
   "metadata": {},
   "outputs": [],
   "source": [
    "df_test['ASS'] = None\n",
    "\n",
    "def calculate_ass(row):\n",
    "    if row['ais_weights'] == 0:\n",
    "        return 0.5\n",
    "    elif row['SS'] == 0:\n",
    "        return 0.5\n",
    "    else:\n",
    "        return row['ais_weights'] * row['SS']\n",
    "\n",
    "df_test['ASS'] = df_test.apply(calculate_ass, axis=1)\n",
    "\n",
    "from sklearn.preprocessing import MinMaxScaler\n",
    "\n",
    "scaler = MinMaxScaler()\n",
    "\n",
    "values_excluding_0_5 = df_test[df_test['ASS'] != 0.5]['ASS'].values.reshape(-1, 1)\n",
    "scaled_values = scaler.fit_transform(values_excluding_0_5)\n",
    "df_test['ASS'] = df_test['ASS'].apply(lambda x: 0.5 if x == 0.5 else scaler.transform([[x]])[0][0])"
   ]
  },
  {
   "cell_type": "code",
   "execution_count": null,
   "metadata": {},
   "outputs": [],
   "source": [
    "############################## First part of this cell only needs to be run if the EDA is being skipped #######################################################################################\n",
    "\n",
    "# industry_df = pd.read_excel('datasets/industry.xlsx', sheet_name=0, header=1)\n",
    "# industry_df = industry_df.drop(index=[0, 1, 2, 3])\n",
    "# industry_df = industry_df.drop(columns=['Unnamed: 2', 'Unnamed: 3'])\n",
    "\n",
    "# industry_df['Fatality rate per 100,000 workers'] = pd.to_numeric(industry_df['Fatality rate per 100,000 workers'], errors='coerce')\n",
    "# avg_fatality_industry = industry_df.groupby('Industry')['Fatality rate per 100,000 workers'].mean().sort_values(ascending=False)\n",
    "\n",
    "# industry_df['Nonfatal injury and illness involving days away from work rate per 10,000 workers'] = pd.to_numeric(industry_df['Nonfatal injury and illness involving days away from work rate per 10,000 workers'], errors='coerce')\n",
    "# avg_nonfatal_industry = industry_df.groupby('Industry')['Nonfatal injury and illness involving days away from work rate per 10,000 workers'].mean().sort_values(ascending=False)\n",
    "\n",
    "# industry_df['Nonfatal injury and illness involving days away from work rate per 10,000 workers'] = pd.to_numeric(industry_df['Nonfatal injury and illness involving days away from work rate per 10,000 workers'], errors='coerce')\n",
    "# avg_nonfatal_industry = industry_df.groupby('Industry')['Nonfatal injury and illness involving days away from work rate per 10,000 workers'].mean().sort_values(ascending=False)\n",
    "\n",
    "# industry_risk_df = pd.concat(\n",
    "#     [avg_fatality_industry, avg_nonfatal_industry], \n",
    "#     axis=1, \n",
    "#     keys=['Avg Fatality Rate per 100,000', 'Avg Nonfatal Injury Rate per 10,000']\n",
    "# )\n",
    "\n",
    "# industry_risk_df.reset_index(inplace=True)\n",
    "\n",
    "# industry_risk_df['Avg Fatality Rate per 10,000'] = industry_risk_df['Avg Fatality Rate per 100,000'] / 10\n",
    "# industry_risk_df.drop(columns='Avg Fatality Rate per 100,000', inplace=True)\n",
    "\n",
    "# scaler = MinMaxScaler()\n",
    "\n",
    "# industry_risk_df[['Avg Nonfatal Injury Rate per 10,000 (Normalized)', 'Avg Fatality Rate per 10,000 (Normalized)']] = scaler.fit_transform(industry_risk_df[['Avg Nonfatal Injury Rate per 10,000', 'Avg Fatality Rate per 10,000']])\n",
    "# industry_risk_df['Risk Score'] = industry_risk_df['Avg Fatality Rate per 10,000 (Normalized)'] * 0.70 + industry_risk_df['Avg Nonfatal Injury Rate per 10,000 (Normalized)']  * 0.3\n",
    "\n",
    "# industry_risk_df['Risk Score'] = industry_risk_df['Avg Fatality Rate per 10,000 (Normalized)'] * 0.70 + industry_risk_df['Avg Nonfatal Injury Rate per 10,000 (Normalized)']  * 0.3\n",
    "# industry_risk_df\n",
    "\n",
    "df_test['industry_new'] = df_test['Industry Code Description'].replace({\n",
    "    'AGRICULTURE, FORESTRY': 'Agriculture, forestry, fishing, and hunting',\n",
    "    'FISHING AND HUNTING': 'Agriculture, forestry, fishing, and hunting',\n",
    "    'MINING': 'Mining',\n",
    "    'UTILITIES': 'Utilities',\n",
    "    'CONSTRUCTION': 'Construction',\n",
    "    'MANUFACTURING': 'Manufacturing',\n",
    "    'WHOLESALE TRADE': 'Wholesale trade',\n",
    "    'RETAIL TRADE': 'Retail trade',\n",
    "    'TRANSPORTATION AND WAREHOUSING': 'Transportation and warehousing',\n",
    "    'INFORMATION': 'Information',\n",
    "    'FINANCE AND INSURANCE': 'Financial activities',\n",
    "    'REAL ESTATE AND RENTAL AND LEASING': 'Other services',\n",
    "    'PROFESSIONAL, SCIENTIFIC, AND TECHNICAL SERVICES': 'Professional and business services',\n",
    "    'MANAGEMENT OF COMPANIES AND ENTERPRISES': 'Professional and business services',\n",
    "    'OTHER SERVICES (EXCEPT PUBLIC ADMINISTRATION)': 'Other services',\n",
    "    'ADMINISTRATIVE AND SUPPORT AND WASTE MANAGEMENT AND REMEDIAT': 'Other services',\n",
    "    'EDUCATIONAL SERVICES': 'Education and health services',\n",
    "    'HEALTH CARE AND SOCIAL ASSISTANCE': 'Education and health services',\n",
    "    'PUBLIC ADMINISTRATION': 'Government',\n",
    "    'ARTS, ENTERTAINMENT, AND RECREATION': 'Leisure and hospitality',\n",
    "    'ACCOMMODATION AND FOOD SERVICES': 'Leisure and hospitality'\n",
    "})\n",
    "\n",
    "# assign the risk score to the dataframe based on the new names and the risk score of industry_risk_df\n",
    "df_test['IRS'] = df_test['industry_new'].map(industry_risk_df.set_index('Industry')['Risk Score'])\n",
    "df_test.head()"
   ]
  },
  {
   "cell_type": "code",
   "execution_count": null,
   "metadata": {},
   "outputs": [],
   "source": [
    "df_test[df_test['Industry Code Description'].notnull() & df_test['industry_new'].isnull()]['Industry Code Description'].value_counts()"
   ]
  },
  {
   "cell_type": "code",
   "execution_count": null,
   "metadata": {},
   "outputs": [],
   "source": [
    "# Do a final check of columns not present in both dataframes\n",
    "\n",
    "for i in df_train.columns:\n",
    "    if i not in df_test.columns:\n",
    "        print(i)"
   ]
  },
  {
   "cell_type": "code",
   "execution_count": null,
   "metadata": {},
   "outputs": [],
   "source": [
    "df_test['wage_groups'].unique()"
   ]
  },
  {
   "cell_type": "code",
   "execution_count": null,
   "metadata": {},
   "outputs": [],
   "source": [
    "df_train['wage_groups'].unique()"
   ]
  },
  {
   "cell_type": "markdown",
   "metadata": {},
   "source": [
    "### Irrelevant Data\n",
    "\n",
    "Some of the data columns are simply irrelevant to the project's goal, they will therefore be removed."
   ]
  },
  {
   "cell_type": "code",
   "execution_count": null,
   "metadata": {},
   "outputs": [],
   "source": [
    "dropping = ['Carrier Name', 'Industry Code',\n",
    "            'WCIO Cause of Injury Code', 'WCIO Nature of Injury Code',\n",
    "            'WCIO Part Of Body Code']\n",
    "\n",
    "df_train.drop(columns=dropping, inplace=True)\n",
    "df_test.drop(columns=dropping, inplace=True)\n",
    "# df_test.drop(columns={\"WCB Decision\"}, inplace=True)"
   ]
  },
  {
   "cell_type": "markdown",
   "metadata": {},
   "source": [
    "### Duplicates\n",
    "\n",
    "The training set has already been checked for duplicates, but the test set has not."
   ]
  },
  {
   "cell_type": "code",
   "execution_count": null,
   "metadata": {},
   "outputs": [],
   "source": [
    "duplicates = df_test[df_test.duplicated()]\n",
    "if not duplicates.empty:\n",
    "    display(duplicates)\n",
    "else:\n",
    "    print('No duplicates found in df_test.')"
   ]
  },
  {
   "cell_type": "markdown",
   "metadata": {
    "jp-MarkdownHeadingCollapsed": true
   },
   "source": [
    "### Type Conversion\n",
    "\n",
    "Most conversions were handled to simplify the data exploration, but a second check is necessary to make sure no column was overlooked in both datasets."
   ]
  },
  {
   "cell_type": "code",
   "execution_count": null,
   "metadata": {},
   "outputs": [],
   "source": [
    "df_test.info()"
   ]
  },
  {
   "cell_type": "code",
   "execution_count": null,
   "metadata": {},
   "outputs": [],
   "source": [
    "df_train.info()"
   ]
  },
  {
   "cell_type": "markdown",
   "metadata": {},
   "source": [
    "## Splitting the Data\n",
    "\n",
    "To avoid data leakage, the train and validation data is separated before imputation."
   ]
  },
  {
   "cell_type": "code",
   "execution_count": null,
   "metadata": {},
   "outputs": [],
   "source": [
    "df_train.set_index('Claim Identifier', inplace = True)\n",
    "df_test.set_index('Claim Identifier', inplace = True)"
   ]
  },
  {
   "cell_type": "code",
   "execution_count": null,
   "metadata": {},
   "outputs": [],
   "source": [
    "df_train['claim_injury_num'] = df_train['Claim Injury Type'].astype('category').cat.codes + 1\n",
    "df_train.drop(columns = {'Claim Injury Type'}, inplace=True)"
   ]
  },
  {
   "cell_type": "code",
   "execution_count": null,
   "metadata": {},
   "outputs": [],
   "source": [
    "X = df_train.drop(columns ={'claim_injury_num'}, axis = 1) # axis = 1 means column\n",
    "y = df_train['claim_injury_num']"
   ]
  },
  {
   "cell_type": "markdown",
   "metadata": {},
   "source": [
    "The size of the slip is arbitrary, a usual value is 70/30 but the group decided on 75/25."
   ]
  },
  {
   "cell_type": "code",
   "execution_count": null,
   "metadata": {},
   "outputs": [],
   "source": [
    "X_train, X_val, y_train, y_val = train_test_split(X, y, test_size = 0.25, \n",
    "                                                  random_state = 13, \n",
    "                                                  stratify = df_train['claim_injury_num'],\n",
    "                                                  shuffle = True)"
   ]
  },
  {
   "cell_type": "markdown",
   "metadata": {
    "jp-MarkdownHeadingCollapsed": true
   },
   "source": [
    "## Imputation\n"
   ]
  },
  {
   "cell_type": "markdown",
   "metadata": {},
   "source": [
    "The first columns to undergo the process are the code group variables (those created by the group to reduce cardinality). Due to project time constraints, the group decided that using predictive models for imputation would be too time-intensive, so an alternative imputation method was chosen.<br>\n",
    "The group proposed using a conditional mode approach, the reasoning behind this choice was the following: code variables are likely to influence each other, as they are related to the causes and outcomes of accidents. This suggests that certain code or code group combinations are more probable than others (i.e. more frequent). With this in mind, missing values can be filled using the most common value for each code variable, conditional on the values of the other code variables.\n",
    "\n",
    "However, a problem remains: some rows have most (if not all) codes missing. In these cases, the approach is to impute based on the column mode.\n",
    "\n",
    "References:<br>\n",
    "https://towardsdatascience.com/missing-value-imputation-explained-a-visual-guide-with-code-examples-for-beginners-93e0726284eb<br>\n",
    "https://medium.com/@megha.natarajan/mastering-data-imputation-a-comprehensive-guide-with-visualizations-43466c51bcab<br>"
   ]
  },
  {
   "cell_type": "code",
   "execution_count": null,
   "metadata": {},
   "outputs": [],
   "source": [
    "def imputer(target, list_of_features, df):\n",
    "    mode_df = (df.dropna(subset=[target])\n",
    "                 .groupby(list_of_features)[target]\n",
    "                 .agg(lambda x: x.value_counts().idxmax())\n",
    "                 .reset_index()\n",
    "                 .rename(columns={target: f\"{target}_mode\"}))\n",
    "    df = df.reset_index().merge(mode_df, on=list_of_features, how='left').set_index('Claim Identifier')\n",
    "    df[target] = df[target].fillna(df[f\"{target}_mode\"])\n",
    "    df = df.drop(columns=[f\"{target}_mode\"])\n",
    "    overall_mode = df[target].mode()[0]\n",
    "    df[target] = df[target].fillna(overall_mode)\n",
    "    return df"
   ]
  },
  {
   "cell_type": "code",
   "execution_count": null,
   "metadata": {},
   "outputs": [],
   "source": [
    "X_train = imputer('WCIO Part Of Body Description', ['WCIO Nature of Injury Description', 'WCIO Cause of Injury Description', 'Industry Code Description'], X_train)\n",
    "X_train = imputer('WCIO Cause of Injury Description', ['WCIO Part Of Body Description', 'WCIO Nature of Injury Description', 'Industry Code Description'], X_train)\n",
    "X_train = imputer('WCIO Nature of Injury Description', ['WCIO Part Of Body Description', 'WCIO Cause of Injury Description', 'Industry Code Description'], X_train)\n",
    "X_train = imputer('Industry Code Description', ['WCIO Part Of Body Description', 'WCIO Cause of Injury Description', 'WCIO Nature of Injury Description'], X_train)"
   ]
  },
  {
   "cell_type": "code",
   "execution_count": null,
   "metadata": {},
   "outputs": [],
   "source": [
    "X_val = imputer('WCIO Part Of Body Description', ['WCIO Nature of Injury Description', 'WCIO Cause of Injury Description', 'Industry Code Description'], X_val)\n",
    "X_val = imputer('WCIO Cause of Injury Description', ['WCIO Part Of Body Description', 'WCIO Nature of Injury Description', 'Industry Code Description'], X_val)\n",
    "X_val = imputer('WCIO Nature of Injury Description', ['WCIO Part Of Body Description', 'WCIO Cause of Injury Description', 'Industry Code Description'], X_val)\n",
    "X_val = imputer('Industry Code Description', ['WCIO Part Of Body Description', 'WCIO Cause of Injury Description', 'WCIO Nature of Injury Description'], X_val)"
   ]
  },
  {
   "cell_type": "code",
   "execution_count": null,
   "metadata": {},
   "outputs": [],
   "source": [
    "df_test = imputer('WCIO Part Of Body Description', ['WCIO Nature of Injury Description', 'WCIO Cause of Injury Description', 'Industry Code Description'], df_test)\n",
    "df_test = imputer('WCIO Cause of Injury Description', ['WCIO Part Of Body Description', 'WCIO Nature of Injury Description', 'Industry Code Description'], df_test)\n",
    "df_test = imputer('WCIO Nature of Injury Description', ['WCIO Part Of Body Description', 'WCIO Cause of Injury Description', 'Industry Code Description'], df_test)\n",
    "df_test = imputer('Industry Code Description', ['WCIO Part Of Body Description', 'WCIO Cause of Injury Description', 'WCIO Nature of Injury Description'], df_test)"
   ]
  },
  {
   "cell_type": "code",
   "execution_count": null,
   "metadata": {},
   "outputs": [],
   "source": [
    "X_train['industry_new'] = X_train['Industry Code Description'].replace({\n",
    "    'AGRICULTURE, FORESTRY, FISHING AND HUNTING': 'Agriculture, forestry, fishing, and hunting',\n",
    "    'MINING': 'Mining',\n",
    "    'UTILITIES': 'Utilities',\n",
    "    'CONSTRUCTION': 'Construction',\n",
    "    'MANUFACTURING': 'Manufacturing',\n",
    "    'WHOLESALE TRADE': 'Wholesale trade',\n",
    "    'RETAIL TRADE': 'Retail trade',\n",
    "    'TRANSPORTATION AND WAREHOUSING': 'Transportation and warehousing',\n",
    "    'INFORMATION': 'Information',\n",
    "    'FINANCE AND INSURANCE': 'Financial activities',\n",
    "    'REAL ESTATE AND RENTAL AND LEASING': 'Other services',\n",
    "    'PROFESSIONAL, SCIENTIFIC, AND TECHNICAL SERVICES': 'Professional and business services',\n",
    "    'MANAGEMENT OF COMPANIES AND ENTERPRISES': 'Professional and business services',\n",
    "    'OTHER SERVICES (EXCEPT PUBLIC ADMINISTRATION)': 'Other services',\n",
    "    'ADMINISTRATIVE AND SUPPORT AND WASTE MANAGEMENT AND REMEDIAT': 'Other services',\n",
    "    'EDUCATIONAL SERVICES': 'Education and health services',\n",
    "    'HEALTH CARE AND SOCIAL ASSISTANCE': 'Education and health services',\n",
    "    'PUBLIC ADMINISTRATION': 'Government',\n",
    "    'ARTS, ENTERTAINMENT, AND RECREATION': 'Leisure and hospitality',\n",
    "    'ACCOMMODATION AND FOOD SERVICES': 'Leisure and hospitality'\n",
    "})\n",
    "\n",
    "X_val['industry_new'] = X_val['Industry Code Description'].replace({\n",
    "    'AGRICULTURE, FORESTRY, FISHING AND HUNTING': 'Agriculture, forestry, fishing, and hunting',\n",
    "    'MINING': 'Mining',\n",
    "    'UTILITIES': 'Utilities',\n",
    "    'CONSTRUCTION': 'Construction',\n",
    "    'MANUFACTURING': 'Manufacturing',\n",
    "    'WHOLESALE TRADE': 'Wholesale trade',\n",
    "    'RETAIL TRADE': 'Retail trade',\n",
    "    'TRANSPORTATION AND WAREHOUSING': 'Transportation and warehousing',\n",
    "    'INFORMATION': 'Information',\n",
    "    'FINANCE AND INSURANCE': 'Financial activities',\n",
    "    'REAL ESTATE AND RENTAL AND LEASING': 'Other services',\n",
    "    'PROFESSIONAL, SCIENTIFIC, AND TECHNICAL SERVICES': 'Professional and business services',\n",
    "    'MANAGEMENT OF COMPANIES AND ENTERPRISES': 'Professional and business services',\n",
    "    'OTHER SERVICES (EXCEPT PUBLIC ADMINISTRATION)': 'Other services',\n",
    "    'ADMINISTRATIVE AND SUPPORT AND WASTE MANAGEMENT AND REMEDIAT': 'Other services',\n",
    "    'EDUCATIONAL SERVICES': 'Education and health services',\n",
    "    'HEALTH CARE AND SOCIAL ASSISTANCE': 'Education and health services',\n",
    "    'PUBLIC ADMINISTRATION': 'Government',\n",
    "    'ARTS, ENTERTAINMENT, AND RECREATION': 'Leisure and hospitality',\n",
    "    'ACCOMMODATION AND FOOD SERVICES': 'Leisure and hospitality'\n",
    "})\n",
    "\n",
    "df_test['industry_new'] = df_test['Industry Code Description'].replace({\n",
    "    'AGRICULTURE, FORESTRY, FISHING AND HUNTING': 'Agriculture, forestry, fishing, and hunting',\n",
    "    'MINING': 'Mining',\n",
    "    'UTILITIES': 'Utilities',\n",
    "    'CONSTRUCTION': 'Construction',\n",
    "    'MANUFACTURING': 'Manufacturing',\n",
    "    'WHOLESALE TRADE': 'Wholesale trade',\n",
    "    'RETAIL TRADE': 'Retail trade',\n",
    "    'TRANSPORTATION AND WAREHOUSING': 'Transportation and warehousing',\n",
    "    'INFORMATION': 'Information',\n",
    "    'FINANCE AND INSURANCE': 'Financial activities',\n",
    "    'REAL ESTATE AND RENTAL AND LEASING': 'Other services',\n",
    "    'PROFESSIONAL, SCIENTIFIC, AND TECHNICAL SERVICES': 'Professional and business services',\n",
    "    'MANAGEMENT OF COMPANIES AND ENTERPRISES': 'Professional and business services',\n",
    "    'OTHER SERVICES (EXCEPT PUBLIC ADMINISTRATION)': 'Other services',\n",
    "    'ADMINISTRATIVE AND SUPPORT AND WASTE MANAGEMENT AND REMEDIAT': 'Other services',\n",
    "    'EDUCATIONAL SERVICES': 'Education and health services',\n",
    "    'HEALTH CARE AND SOCIAL ASSISTANCE': 'Education and health services',\n",
    "    'PUBLIC ADMINISTRATION': 'Government',\n",
    "    'ARTS, ENTERTAINMENT, AND RECREATION': 'Leisure and hospitality',\n",
    "    'ACCOMMODATION AND FOOD SERVICES': 'Leisure and hospitality'\n",
    "    })\n",
    "# assign the risk score to the dataframe based on the new names and the risk score of industry_risk_df\n",
    "X_train['IRS'] = X_train['industry_new'].map(industry_risk_df.set_index('Industry')['Risk Score'])\n",
    "X_val['IRS'] = X_val['industry_new'].map(industry_risk_df.set_index('Industry')['Risk Score'])\n",
    "df_test['IRS'] = df_test['industry_new'].map(industry_risk_df.set_index('Industry')['Risk Score'])"
   ]
  },
  {
   "cell_type": "markdown",
   "metadata": {},
   "source": [
    "The group assigned the imputed values to their respective general category"
   ]
  },
  {
   "cell_type": "markdown",
   "metadata": {},
   "source": [
    "- Body Part"
   ]
  },
  {
   "cell_type": "code",
   "execution_count": null,
   "metadata": {},
   "outputs": [],
   "source": [
    "datasets = [X_train, X_val, df_test]\n",
    "body_groups = {\n",
    "    'Head': head,\n",
    "    'Torso': torso,\n",
    "    'Arms': arm,\n",
    "    'Legs': leg,\n",
    "    'Multiple Body Part': multiple_body_parts\n",
    "}\n",
    "\n",
    "for dataset in datasets:\n",
    "    for group, parts in body_groups.items():\n",
    "        dataset.loc[dataset['WCIO Part Of Body Description'].isin(parts), 'body_group'] = group"
   ]
  },
  {
   "cell_type": "markdown",
   "metadata": {},
   "source": [
    "- Nature of Injury"
   ]
  },
  {
   "cell_type": "code",
   "execution_count": null,
   "metadata": {},
   "outputs": [],
   "source": [
    "datasets = [X_train, X_val, df_test]\n",
    "injury_type = {\n",
    "    'Physical Trauma': physical_trauma,\n",
    "    'Repetitive Stress Injuries': repetitive_stress_injuries,\n",
    "    'Cumulative Occupational Injuries': cumulative_occupational_injuries,\n",
    "    'Infectious Diseases': infectious_diseases,\n",
    "    'Poisoning/Chemical Exposure': poisoning_chemical_exposure,\n",
    "    'Cardiovascular/Respiratory': cardiovascular_respiratory,\n",
    "    'Neurological/Sensory': neurological_sensory,\n",
    "    'Mental Health/Stress': mental_health_stress,\n",
    "    'Other': other_injury\n",
    "}\n",
    "\n",
    "for dataset in datasets:\n",
    "    for group, parts in injury_type.items():\n",
    "        dataset.loc[dataset['WCIO Nature of Injury Description'].isin(parts), 'injury_type'] = group"
   ]
  },
  {
   "cell_type": "markdown",
   "metadata": {},
   "source": [
    "- Cause of Injury"
   ]
  },
  {
   "cell_type": "code",
   "execution_count": null,
   "metadata": {},
   "outputs": [],
   "source": [
    "datasets = [X_train, X_val, df_test]\n",
    "injury_cause = {\n",
    "    'Slips, Trips, and Falls': slips_trips_falls,\n",
    "    'Lifting, Carrying, and Handling': lifting_carrying_handling,\n",
    "    'Struck by or Contact with Objects': struck_by_or_contact,\n",
    "    'Vehicle and Machinery Accidents': vehicle_machinery_accidents,\n",
    "    'Chemical, Environmental, and Biological Hazards': chemical_environmental_biological,\n",
    "    'Manual Tools and Physical Operations': manual_tools_operations,\n",
    "    'Repetitive Motion and Strain': repetitive_motion_strain,\n",
    "    'Other': other_cause\n",
    "}\n",
    "\n",
    "for dataset in datasets:\n",
    "    for group, parts in injury_cause.items():\n",
    "        dataset.loc[dataset['WCIO Cause of Injury Description'].isin(parts), 'injury_cause'] = group"
   ]
  },
  {
   "cell_type": "markdown",
   "metadata": {},
   "source": [
    "- Industry"
   ]
  },
  {
   "cell_type": "code",
   "execution_count": null,
   "metadata": {},
   "outputs": [],
   "source": [
    "datasets = [X_train, X_val, df_test]\n",
    "industry = {\n",
    "    'Natural Resources and Utilities': natural_resources_utilities,\n",
    "    'Goods Production and Trade': goods_production_and_trade,\n",
    "    'Services': services,\n",
    "    'Education Health and Public Services': education_health_public_services,\n",
    "    'Leisure Hospitality': leisure_hospitality\n",
    "}\n",
    "\n",
    "for dataset in datasets:\n",
    "    for group, parts in industry.items():\n",
    "        dataset.loc[dataset['Industry Code Description'].isin(parts), 'industry_group'] = group"
   ]
  },
  {
   "cell_type": "markdown",
   "metadata": {},
   "source": [
    "- For AIS Weights, SS and ASS"
   ]
  },
  {
   "cell_type": "code",
   "execution_count": null,
   "metadata": {},
   "outputs": [],
   "source": [
    "def categorize_body(body):\n",
    "    for region, body_part in body_region.items():\n",
    "        if body in body_part:\n",
    "            return region\n",
    "        \n",
    "X_train['body_region'] = None\n",
    "X_val['body_region'] = None\n",
    "df_test['body_region'] = None\n",
    "X_train['body_region'] = X_train['WCIO Part Of Body Description'].apply(categorize_body)\n",
    "X_val['body_region'] = X_val['WCIO Part Of Body Description'].apply(categorize_body)\n",
    "df_test['body_region'] = df_test['WCIO Part Of Body Description'].apply(categorize_body)\n",
    "\n",
    "def categorize_AIS(body_region):\n",
    "    if body_region is None:\n",
    "        return None\n",
    "    for ais, body_regions in ais_body_regions.items():\n",
    "        if body_region in body_regions:\n",
    "            return ais\n",
    "\n",
    "X_train['AIS'] = None\n",
    "X_val['AIS'] = None\n",
    "df_test['AIS'] = None\n",
    "X_train['AIS'] = X_train['body_region'].apply(categorize_AIS)\n",
    "X_val['AIS'] = X_val['body_region'].apply(categorize_AIS)\n",
    "df_test['AIS'] = df_test['body_region'].apply(categorize_AIS)\n",
    "\n",
    "#final verison of the AIS weights as to be calculated after correcting the ages\n",
    "\n",
    "X_train['severity'] = None\n",
    "X_val['severity'] = None\n",
    "df_test['severity'] = None\n",
    "\n",
    "def categorize_injury(injury):\n",
    "    for severity, injuries in injury_categories.items():\n",
    "        if injury in injuries:\n",
    "            return severity\n",
    "\n",
    "X_train['severity'] = X_train['WCIO Nature of Injury Description'].apply(categorize_injury)\n",
    "X_val['severity'] = X_val['WCIO Nature of Injury Description'].apply(categorize_injury)\n",
    "df_test['severity'] = df_test['WCIO Nature of Injury Description'].apply(categorize_injury)\n",
    "\n",
    "X_train['SS'] = None\n",
    "X_val['SS'] = None\n",
    "df_test['SS'] = None\n",
    "\n",
    "X_train['SS'] = X_train['severity'].map(ais_severity_map)\n",
    "X_val['SS'] = X_val['severity'].map(ais_severity_map)\n",
    "df_test['SS'] = df_test['severity'].map(ais_severity_map)"
   ]
  },
  {
   "cell_type": "markdown",
   "metadata": {},
   "source": [
    "It was previously noted that in some rows the date of the accident and the birth year were available and could be used to calculate the age of the claimant. In communication with the WCB the group was told:\n",
    ">\"As our data team explained it, “Age at Injury” is the difference between the injured worker’s date of birth and the reported date of injury or illness. This calculation is not 100% foolproof as it depends on the availability and quality of the information provided to the Board.\"<br>\n",
    "\n",
    "First the group checked how many rows had wrong ages, then corrections were made."
   ]
  },
  {
   "cell_type": "code",
   "execution_count": null,
   "metadata": {},
   "outputs": [],
   "source": [
    "def check_age(df):\n",
    "    # calculate the two potential age values based on the 'Accident Date' and 'Birth Year': if the person already had their birthday or not\n",
    "    age_after_anniversary = df['Accident Date'].dt.year - df['Birth Year'] \n",
    "    age_before_anniversary = age_after_anniversary - 1\n",
    "\n",
    "    df['Age_Correct'] = (df['Age at Injury'] == age_after_anniversary) | (df['Age at Injury'] == age_before_anniversary) # check if the 'Age at Injury' is valid for each row and create a new column for correctness\n",
    "\n",
    "    incorrect_rows = df[~df['Age_Correct']]   # filter out the rows where 'Age_Correct' is False\n",
    "    if incorrect_rows.empty:\n",
    "        print(\"All ages are correct.\")\n",
    "    else:\n",
    "        print(f\"Number of incorrect ages: {len(incorrect_rows)}\\n\")\n",
    "    \n",
    "    return incorrect_rows\n",
    "incorrect_age_train = check_age(X_train)\n",
    "incorrect_age_train = check_age(df_test)\n",
    "incorrect_age_train = check_age(X_val)"
   ]
  },
  {
   "cell_type": "code",
   "execution_count": null,
   "metadata": {},
   "outputs": [],
   "source": [
    "print(f\"X_train: {round(X_train['Age at Injury'].isnull().sum() / len(X_train) * 100, 2)}%\")\n",
    "print(f\"X_val: {round(X_val['Age at Injury'].isnull().sum() / len(X_val) * 100, 2)}%\")\n",
    "print(f\"df_test: {round(df_test['Age at Injury'].isnull().sum() / len(df_test) * 100, 2)}%\")"
   ]
  },
  {
   "cell_type": "markdown",
   "metadata": {},
   "source": [
    "Firstly, it is necessary to replace any values equaling to 0 into missing values, this is done in order to avoid the calculation result being the year the accident took place in."
   ]
  },
  {
   "cell_type": "code",
   "execution_count": null,
   "metadata": {},
   "outputs": [],
   "source": [
    "df_test['Birth Year'] = df_test['Birth Year'].replace(0, np.nan)\n",
    "X_train['Birth Year'] = X_train['Birth Year'].replace(0, np.nan)\n",
    "X_val['Birth Year'] = X_val['Birth Year'].replace(0, np.nan)"
   ]
  },
  {
   "cell_type": "code",
   "execution_count": null,
   "metadata": {},
   "outputs": [],
   "source": [
    "def age_correction(df):\n",
    "    mask = df['Age at Injury'] == 0\n",
    "    valid_conditions = mask & df['Accident Date'].notnull() & df['Birth Year'].notnull()\n",
    "    df.loc[valid_conditions, 'Age at Injury'] = (df.loc[valid_conditions, 'Accident Date'].dt.year).astype(int) - (df.loc[valid_conditions, 'Birth Year']).astype(int)\n",
    "    df.loc[mask & ~valid_conditions, 'Age at Injury'] = np.nan\n",
    "\n",
    "def ages(df):\n",
    "    age_correction(df)\n",
    "    age_after_anniversary = df['Accident Date'].dt.year - df['Birth Year'] \n",
    "    age_before_anniversary = age_after_anniversary - 1\n",
    "    df['Age_Correct'] = (df['Age at Injury'] == age_after_anniversary) | (df['Age at Injury'] == age_before_anniversary)\n",
    "    incorrect_rows = df[~df['Age_Correct']]\n",
    "    if incorrect_rows.empty:\n",
    "        print(\"All ages have been corrected.\")\n",
    "    else:\n",
    "        df.loc[incorrect_rows.index, 'Age at Injury'] = (df.loc[incorrect_rows.index, 'Accident Date'].dt.year).astype(int) - (df.loc[incorrect_rows.index, 'Birth Year']).astype(int)\n",
    "\n",
    "\n",
    "ages(X_train)\n",
    "ages(df_test)\n",
    "ages(X_val)"
   ]
  },
  {
   "cell_type": "markdown",
   "metadata": {},
   "source": [
    "Checking what percentage of the data is still missing."
   ]
  },
  {
   "cell_type": "code",
   "execution_count": null,
   "metadata": {},
   "outputs": [],
   "source": [
    "print(f\"X_train: {round(X_train['Age at Injury'].isnull().sum() / len(X_train) * 100, 2)}%\")\n",
    "print(f\"X_val: {round(X_val['Age at Injury'].isnull().sum() / len(X_val) * 100, 2)}%\")\n",
    "print(f\"df_test: {round(df_test['Age at Injury'].isnull().sum() / len(df_test) * 100, 2)}%\")"
   ]
  },
  {
   "cell_type": "markdown",
   "metadata": {},
   "source": [
    "There are still missing values but they represent a small percentage of the data. The group used the median to fill these values as to avoid creating to much noise."
   ]
  },
  {
   "cell_type": "code",
   "execution_count": null,
   "metadata": {},
   "outputs": [],
   "source": [
    "X_train['Age at Injury'] = X_train['Age at Injury'].fillna(X_train['Age at Injury'].median())\n",
    "X_val['Age at Injury'] = X_val['Age at Injury'].fillna(X_train['Age at Injury'].median())\n",
    "df_test['Age at Injury'] = df_test['Age at Injury'].fillna(X_train['Age at Injury'].median())"
   ]
  },
  {
   "cell_type": "code",
   "execution_count": null,
   "metadata": {},
   "outputs": [],
   "source": [
    "X_train.drop(columns = {'Age_Correct'}, inplace=True)\n",
    "X_val.drop(columns = {'Age_Correct'}, inplace=True)\n",
    "df_test.drop(columns = {'Age_Correct'}, inplace=True)"
   ]
  },
  {
   "cell_type": "markdown",
   "metadata": {},
   "source": [
    "After the ages were corrected the final version of the AIS weights could be calculated."
   ]
  },
  {
   "cell_type": "code",
   "execution_count": null,
   "metadata": {},
   "outputs": [],
   "source": [
    "def ais_weights (row):\n",
    "    if math.isnan(row['Age at Injury']):\n",
    "        return float('nan')\n",
    "    elif math.isnan(row['AIS']):\n",
    "        return float('nan')\n",
    "    else:\n",
    "        return w_adult[row['AIS']]\n",
    "    \n",
    "X_train['ais_weights'] = X_train.apply(lambda row: ais_weights(row), axis=1)\n",
    "X_val['ais_weights'] = X_val.apply(lambda row: ais_weights(row), axis=1)\n",
    "df_test['ais_weights'] = df_test.apply(lambda row: ais_weights(row), axis=1)"
   ]
  },
  {
   "cell_type": "code",
   "execution_count": null,
   "metadata": {},
   "outputs": [],
   "source": [
    "X_train['ASS'] = None\n",
    "X_val['ASS'] = None\n",
    "df_test['ASS'] = None\n",
    "\n",
    "def calculate_ass(row):\n",
    "    if row['ais_weights'] == 0:\n",
    "        return 0.5\n",
    "    elif row['SS'] == 0:\n",
    "        return 0.5\n",
    "    else:\n",
    "        return row['ais_weights'] * row['SS']\n",
    "\n",
    "X_train['ASS'] = X_train.apply(calculate_ass, axis=1)\n",
    "X_val['ASS'] = X_val.apply(calculate_ass, axis=1)\n",
    "df_test['ASS'] = df_test.apply(calculate_ass, axis=1)\n",
    "\n",
    "from sklearn.preprocessing import MinMaxScaler\n",
    "\n",
    "scaler = MinMaxScaler()\n",
    "\n",
    "values_excluding_0_5 = X_train[X_train['ASS'] != 0.5]['ASS'].values.reshape(-1, 1)\n",
    "scaled_values = scaler.fit_transform(values_excluding_0_5)\n",
    "X_train['ASS'] = X_train['ASS'].apply(lambda x: 0.5 if x == 0.5 else scaler.transform([[x]])[0][0])\n",
    "\n",
    "values_excluding_0_5 = X_val[X_val['ASS'] != 0.5]['ASS'].values.reshape(-1, 1)\n",
    "scaled_values = scaler.transform(values_excluding_0_5)\n",
    "X_val['ASS'] = X_val['ASS'].apply(lambda x: 0.5 if x == 0.5 else scaler.transform([[x]])[0][0])\n",
    "\n",
    "values_excluding_0_5 = df_test[df_test['ASS'] != 0.5]['ASS'].values.reshape(-1, 1)\n",
    "scaled_values = scaler.transform(values_excluding_0_5)\n",
    "df_test['ASS'] = df_test['ASS'].apply(lambda x: 0.5 if x == 0.5 else scaler.transform([[x]])[0][0])"
   ]
  },
  {
   "cell_type": "code",
   "execution_count": null,
   "metadata": {},
   "outputs": [],
   "source": [
    "# The goup grouped the ages based on the eurostat grouping\n",
    "bins = [0, 17, 24, 49, 64, 79, float('inf')]  # Bins include the upper limit of each range\n",
    "labels = ['0-17', '18-24', '25-49', '50-64', '65-79', '80+']\n",
    "df_test['age_group'] = pd.cut(df_test['Age at Injury'], bins=bins, labels=labels)\n",
    "X_train['age_group'] = pd.cut(X_train['Age at Injury'], bins=bins, labels=labels)\n",
    "X_val['age_group'] = pd.cut(X_val['Age at Injury'], bins=bins, labels=labels)"
   ]
  },
  {
   "cell_type": "code",
   "execution_count": null,
   "metadata": {},
   "outputs": [],
   "source": [
    "# bins = (0, 10, 20, 30, 40, 50, 60, 70, 80, 90, 130)\n",
    "# labels = ['0-10', '11-20', '21-30', '31-40', '41-50', '51-60', '61-70', '71-80', '81-90', '+100']\n",
    "# df_test['age_group'] = pd.cut(df_test['Age at Injury'], bins=bins, labels=labels)\n",
    "# X_train['age_group'] = pd.cut(X_train['Age at Injury'], bins=bins, labels=labels)\n",
    "# X_val['age_group'] = pd.cut(X_val['Age at Injury'], bins=bins, labels=labels)"
   ]
  },
  {
   "cell_type": "code",
   "execution_count": null,
   "metadata": {},
   "outputs": [],
   "source": [
    "X_train.drop(columns=['Birth Year'], inplace=True)\n",
    "X_val.drop(columns=['Birth Year'], inplace=True)\n",
    "df_test.drop(columns=['Birth Year'], inplace=True)"
   ]
  },
  {
   "cell_type": "markdown",
   "metadata": {},
   "source": [
    "Previously, the group encontered negative values in the variable \"days_accident_to_assembly\", these values were dismissed as errors and turned into missing values. To fill these values, the median will be used."
   ]
  },
  {
   "cell_type": "code",
   "execution_count": null,
   "metadata": {},
   "outputs": [],
   "source": [
    "X_train['days_accident_to_assembly'] = X_train['days_accident_to_assembly'].fillna(X_train['days_accident_to_assembly'].median())\n",
    "X_val['days_accident_to_assembly'] = X_val['days_accident_to_assembly'].fillna(X_train['days_accident_to_assembly'].median())\n",
    "df_test['days_accident_to_assembly'] = df_test['days_accident_to_assembly'].fillna(X_train['days_accident_to_assembly'].median())"
   ]
  },
  {
   "cell_type": "code",
   "execution_count": null,
   "metadata": {},
   "outputs": [],
   "source": [
    "bins = (-1, 0, 7, 30, 90, 180, 365, 365*2, 365*10, 60*365)\n",
    "labels = ['Same Day', '1 week', '1 month', '3 months', '6 months', '1 year', '2 years', '10 years', '10+ years']\n",
    "X_train['days_accident_to_assembly_binned'] = pd.cut(X_train['days_accident_to_assembly'], bins=bins, labels=labels)\n",
    "X_val['days_accident_to_assembly_binned'] = pd.cut(X_val['days_accident_to_assembly'], bins=bins, labels=labels)\n",
    "df_test['days_accident_to_assembly_binned'] = pd.cut(df_test['days_accident_to_assembly'], bins=bins, labels=labels)"
   ]
  },
  {
   "cell_type": "code",
   "execution_count": null,
   "metadata": {},
   "outputs": [],
   "source": [
    "X_train[\"Average Weekly Wage\"] = X_train[\"Average Weekly Wage\"].fillna(0)\n",
    "X_val[\"Average Weekly Wage\"] = X_val[\"Average Weekly Wage\"].fillna(0)\n",
    "df_test[\"Average Weekly Wage\"] = df_test[\"Average Weekly Wage\"].fillna(0)\n",
    "\n",
    "bins = [-1, 0, q1, q3, upper_bound, X_train['Average Weekly Wage'].max()]\n",
    "labels = ['No Wage', 'Low Wage', 'Medium Wage', 'High Wage', 'Very High Wage']\n",
    "X_train['wage_groups'] = pd.cut(X_train['Average Weekly Wage'], bins=bins, labels=labels)\n",
    "X_val['wage_groups'] = pd.cut(X_val['Average Weekly Wage'], bins=bins, labels=labels)\n",
    "df_test['wage_groups'] = pd.cut(df_test['Average Weekly Wage'], bins=bins, labels=labels)"
   ]
  },
  {
   "cell_type": "markdown",
   "metadata": {},
   "source": [
    "As previously mentioned, the `Gender` variable has two underrepresented genders. The group decided to reassign these rows to the most common gender."
   ]
  },
  {
   "cell_type": "code",
   "execution_count": null,
   "metadata": {},
   "outputs": [],
   "source": [
    "# Replace 'Unknown/Other' with the mode and replace this value in the validation and test set\n",
    "mode_gender = X_train['Gender'].mode()[0]\n",
    "X_train[\"Gender\"] = X_train[\"Gender\"].replace('X', mode_gender)\n",
    "X_val[\"Gender\"] = X_val[\"Gender\"].replace('X', mode_gender)\n",
    "df_test[\"Gender\"] = df_test[\"Gender\"].replace('X', mode_gender)\n",
    "\n",
    "\n",
    "X_train[\"Gender\"] = X_train[\"Gender\"].replace('U', mode_gender)\n",
    "X_val[\"Gender\"] = X_val[\"Gender\"].replace('U', mode_gender)\n",
    "df_test[\"Gender\"] = df_test[\"Gender\"].replace('U', mode_gender)"
   ]
  },
  {
   "cell_type": "markdown",
   "metadata": {},
   "source": [
    "Missing values in dates Accident Date were also filled in. \n",
    "\n",
    "In the cases where Accident Date was missing but C-2 Date was not, the group calculated the most common value of days to c2. Then the group subtracted this value with the C-2 Date to get the date for the Accident Date."
   ]
  },
  {
   "cell_type": "code",
   "execution_count": null,
   "metadata": {},
   "outputs": [],
   "source": [
    "X_train[\"Accident Date\"] = X_train.apply(\n",
    "    lambda row: row[\"C-2 Date\"] - pd.Timedelta(days=X_train[\"days_to_c2\"].median()) \n",
    "    if pd.isna(row[\"Accident Date\"]) and not pd.isna(row[\"C-2 Date\"]) \n",
    "    else row[\"Accident Date\"],\n",
    "    axis=1\n",
    ")\n",
    "\n",
    "X_val[\"Accident Date\"] = X_val.apply(\n",
    "    lambda row: row[\"C-2 Date\"] - pd.Timedelta(days=X_train[\"days_to_c2\"].median()) \n",
    "    if pd.isna(row[\"Accident Date\"]) and not pd.isna(row[\"C-2 Date\"]) \n",
    "    else row[\"Accident Date\"],\n",
    "    axis=1\n",
    ")\n",
    "\n",
    "df_test[\"Accident Date\"] = df_test.apply(\n",
    "    lambda row: row[\"C-2 Date\"] - pd.Timedelta(days=X_train[\"days_to_c2\"].median()) \n",
    "    if pd.isna(row[\"Accident Date\"]) and not pd.isna(row[\"C-2 Date\"]) \n",
    "    else row[\"Accident Date\"],\n",
    "    axis=1\n",
    ")"
   ]
  },
  {
   "cell_type": "code",
   "execution_count": null,
   "metadata": {},
   "outputs": [],
   "source": [
    "X_train['Accident Date'] = X_train['Accident Date'].fillna(X_train['Accident Date'].median())\n",
    "X_val['Accident Date'] = X_val['Accident Date'].fillna(X_train['Accident Date'].median())\n",
    "df_test['Accident Date'] = df_test['Accident Date'].fillna(X_train['Accident Date'].median())"
   ]
  },
  {
   "cell_type": "markdown",
   "metadata": {},
   "source": [
    "For C-2 Date, as mentioned in the visualization section, missing values mean the report was never received. Therefore, in order to clean the missing values, it will be considered that in these cases C-2 Date = Accident Date."
   ]
  },
  {
   "cell_type": "code",
   "execution_count": null,
   "metadata": {},
   "outputs": [],
   "source": [
    "X_train['C-2 Date'] = X_train['C-2 Date'].fillna(X_train['Accident Date'])\n",
    "X_val['C-2 Date'] = X_val['C-2 Date'].fillna(X_val['Accident Date'])\n",
    "df_test['C-2 Date'] = df_test['C-2 Date'].fillna(df_test['Accident Date'])"
   ]
  },
  {
   "cell_type": "markdown",
   "metadata": {},
   "source": [
    "In the data visualization section, it was noted that some values of C-2 Date did not seem correct as they preceeded Accident Date. This must also be fixed."
   ]
  },
  {
   "cell_type": "code",
   "execution_count": null,
   "metadata": {},
   "outputs": [],
   "source": [
    "c2_before_accident = X_train[X_train['C-2 Date'] < X_train['Accident Date']]\n",
    "print(f\"Number of times the C-2 report is filled before the accident happens in X_train (after previous data treatments): {c2_before_accident.shape[0]}\")\n",
    "\n",
    "c2_before_accident = X_val[X_val['C-2 Date'] < X_val['Accident Date']]\n",
    "print(f\"Number of times the C-2 report is filled before the accident happens in X_val (after previous data treatments): {c2_before_accident.shape[0]}\")\n",
    "\n",
    "c2_before_accident = df_test[df_test['C-2 Date'] < df_test['Accident Date']]\n",
    "print(f\"Number of times the C-2 report is filled before the accident happens in df_test: {c2_before_accident.shape[0]}\")"
   ]
  },
  {
   "cell_type": "markdown",
   "metadata": {},
   "source": [
    "In these cases, the values for C-2 Date will be considered incorrect and treated as NaN, since rows cannot be deleted. Thus, the previous approach will be adopted, and these values will be set to the corresponding Accident Date"
   ]
  },
  {
   "cell_type": "code",
   "execution_count": null,
   "metadata": {},
   "outputs": [],
   "source": [
    "# correcting C-2 Date\n",
    "X_train['C-2 Date'] = np.where(X_train['days_to_c2'] < 0, X_train['Accident Date'], X_train['C-2 Date'])\n",
    "X_val['C-2 Date'] = np.where(X_val['days_to_c2'] < 0, X_val['Accident Date'], X_val['C-2 Date'])\n",
    "df_test['C-2 Date'] = np.where(df_test['days_to_c2'] < 0, df_test['Accident Date'], df_test['C-2 Date'])\n",
    "\n",
    "# updating days_to_c2\n",
    "X_train['days_to_c2'] = (X_train['C-2 Date'] - X_train['Accident Date']).dt.days\n",
    "X_val['days_to_c2'] = (X_val['C-2 Date'] - X_val['Accident Date']).dt.days\n",
    "df_test['days_to_c2'] = (df_test['C-2 Date'] - df_test['Accident Date']).dt.days"
   ]
  },
  {
   "cell_type": "code",
   "execution_count": null,
   "metadata": {},
   "outputs": [],
   "source": [
    "bins = (-1, 0, 7, 30, 90, 180, 365, 365*2, 365*10, 60*365)\n",
    "labels = ['Same Day', '1 week', '1 month', '3 months', '6 months', '1 year', '2 years', '10 years', '10+ years']\n",
    "X_train['days_to_c2_binned'] = pd.cut(X_train['days_to_c2'], bins=bins, labels=labels)\n",
    "X_val['days_to_c2_binned'] = pd.cut(X_val['days_to_c2'], bins=bins, labels=labels)\n",
    "df_test['days_to_c2_binned'] = pd.cut(df_test['days_to_c2'], bins=bins, labels=labels)"
   ]
  },
  {
   "cell_type": "markdown",
   "metadata": {},
   "source": [
    "Zip codes will also be filled. In this case, it makes more sense to fill with the most common value rather than the one in the middle, since it's categorical data with no inherent order. Therefore, the mode will be used."
   ]
  },
  {
   "cell_type": "code",
   "execution_count": null,
   "metadata": {},
   "outputs": [],
   "source": [
    "X_train['Zip Code'] = X_train['Zip Code'].fillna(X_train['Zip Code'].mode()[0])\n",
    "X_val['Zip Code'] = X_val['Zip Code'].fillna(X_train['Zip Code'].mode()[0])\n",
    "df_test['Zip Code'] = df_test['Zip Code'].fillna(X_train['Zip Code'].mode()[0])"
   ]
  },
  {
   "cell_type": "code",
   "execution_count": null,
   "metadata": {},
   "outputs": [],
   "source": [
    "X_train['zip_group'] = X_train['zip_group'].fillna(X_train['zip_group'].mode()[0])\n",
    "X_val['zip_group'] = X_val['zip_group'].fillna(X_train['zip_group'].mode()[0])\n",
    "df_test['zip_group'] = df_test['zip_group'].fillna(X_train['zip_group'].mode()[0])"
   ]
  },
  {
   "cell_type": "markdown",
   "metadata": {},
   "source": [
    "## Dealing with Outliers\n",
    "\n",
    "Now that the missing values have been attended, outliers have to be dealt with."
   ]
  },
  {
   "cell_type": "code",
   "execution_count": null,
   "metadata": {},
   "outputs": [],
   "source": [
    "X_train.describe()"
   ]
  },
  {
   "cell_type": "markdown",
   "metadata": {},
   "source": [
    "There is a maximum value of 21503 days between the accident date and assembly date. The same happens in the time from the accident to the submission of the C-2 form."
   ]
  },
  {
   "cell_type": "code",
   "execution_count": null,
   "metadata": {},
   "outputs": [],
   "source": [
    "X_val.describe()"
   ]
  },
  {
   "cell_type": "code",
   "execution_count": null,
   "metadata": {},
   "outputs": [],
   "source": [
    "df_test.describe()"
   ]
  },
  {
   "cell_type": "markdown",
   "metadata": {},
   "source": [
    "Like in the train data, there is a extreme value in the column refering to days elapsed from the accident to the assembly of the claim (21503 days). The same happens in the time from the accident to the submission of the C-2 form."
   ]
  },
  {
   "cell_type": "code",
   "execution_count": null,
   "metadata": {},
   "outputs": [],
   "source": [
    "X_train.loc[[X_train['days_to_c2'].idxmax()]]"
   ]
  },
  {
   "cell_type": "code",
   "execution_count": null,
   "metadata": {},
   "outputs": [],
   "source": [
    "X_val.loc[[X_val['days_to_c2'].idxmax()]]"
   ]
  },
  {
   "cell_type": "code",
   "execution_count": null,
   "metadata": {},
   "outputs": [],
   "source": [
    "df_test.loc[[df_test['days_to_c2'].idxmax()]]"
   ]
  },
  {
   "cell_type": "markdown",
   "metadata": {},
   "source": [
    "In both data sets, this happens in extreme cases where the accident occurs in the 1960s but are only brought to court in the 2020s. This case, and other, will be dealt with in order to make sure the model runs properly."
   ]
  },
  {
   "cell_type": "markdown",
   "metadata": {},
   "source": [
    "In order to treat outliers, due to the constraint of not being able to drop rows, the group will instead identify the outliers using the box plot and the IQR methods. Then, the outliers will be treated by using the Winsorizing method, which caps at a certain value  and brings any observation beyond that value to the defined limit.\n",
    "\n",
    "First, some helper functions will be defined. Then, they will be applied to the data to detect and treat outliers. \n",
    "\n",
    "- detect_outliers: uses the IQR method to detect outliers\n",
    "- plot_boxplots: plots the box plots for a variable, side by side, for X_train, X_val and X_test, for a visualization of the outliers\n",
    "- winsorize: winsorizes the outliers.\n",
    " \n",
    "References:\n",
    "\n",
    "https://statisticsbyjim.com/basics/outliers/ <br>\n",
    "https://ndgigliotti.medium.com/trimming-vs-winsorizing-outliers-e5cae0bf22cb"
   ]
  },
  {
   "cell_type": "code",
   "execution_count": null,
   "metadata": {},
   "outputs": [],
   "source": [
    "X_test = df_test"
   ]
  },
  {
   "cell_type": "code",
   "execution_count": null,
   "metadata": {},
   "outputs": [],
   "source": [
    "def detect_outliers_ages(df, column):\n",
    "    if df is X_train or df is X_val or df is df_test:\n",
    "        lower_bound = df_train[column].quantile(0.05)\n",
    "        upper_bound = 105\n",
    "    outliers = df[(df[column] < lower_bound) | (df[column] > upper_bound)]\n",
    "    return outliers"
   ]
  },
  {
   "cell_type": "code",
   "execution_count": null,
   "metadata": {},
   "outputs": [],
   "source": [
    "# choosing to allow 5% of the extreme values to remain, thus setting the lower and upper bound to the 5th and 95th percentiles\n",
    "# making it so that the dfs are impavted by the bounds of X_train\n",
    "\n",
    "def winsorize_ages(df_train, df, column):\n",
    "    if df is X_train or df is X_val or df is df_test:\n",
    "        lower_bound = df_train[column].quantile(0.05)\n",
    "        upper_bound = 105\n",
    "    # Winsorize the column by capping values outside the bounds in df\n",
    "    df[column] = df[column].clip(lower=lower_bound, upper=upper_bound)"
   ]
  },
  {
   "cell_type": "markdown",
   "metadata": {},
   "source": [
    "### Age at Injury"
   ]
  },
  {
   "cell_type": "code",
   "execution_count": null,
   "metadata": {},
   "outputs": [],
   "source": [
    "import matplotlib.pyplot as plt\n",
    "\n",
    "def plot_boxplots(dfs, columns, titles, vertical_lines):\n",
    "    num_plots = len(dfs)\n",
    "    fig, axes = plt.subplots(1, num_plots, figsize=(5 * num_plots, 6), sharey=True)\n",
    "    \n",
    "    if num_plots == 1:\n",
    "        axes = [axes]\n",
    "    \n",
    "    for i, (df, column, title, vline) in enumerate(zip(dfs, columns, titles, vertical_lines)):\n",
    "        ax = axes[i]\n",
    "        ax.boxplot(df[column])\n",
    "        ax.axhline(vline, color='r', linestyle='--', label=f'vline={vline}')\n",
    "        ax.set_title(title)\n",
    "        ax.set_xlabel(column)\n",
    "        ax.legend()\n",
    "    \n",
    "    axes[0].set_ylabel('Values')\n",
    "    plt.tight_layout()\n",
    "    plt.show()\n",
    "\n",
    "# Usage example\n",
    "plot_boxplots(\n",
    "    dfs=[X_train],\n",
    "    columns=['Age at Injury'],\n",
    "    titles=['X_train'],\n",
    "    vertical_lines=[105]\n",
    ")"
   ]
  },
  {
   "cell_type": "code",
   "execution_count": null,
   "metadata": {},
   "outputs": [],
   "source": [
    "print(f\"X_train: {len(detect_outliers_ages(X_train, \"Age at Injury\"))} outliers\")\n",
    "print(f\"X_val: {len(detect_outliers_ages(X_val, \"Age at Injury\"))} outliers\")\n",
    "print(f\"X_test: {len(detect_outliers_ages(df_test, \"Age at Injury\"))} outliers\")"
   ]
  },
  {
   "cell_type": "code",
   "execution_count": null,
   "metadata": {},
   "outputs": [],
   "source": [
    "winsorize_ages(X_train, X_train, \"Age at Injury\")\n",
    "winsorize_ages(X_train, X_val, \"Age at Injury\")\n",
    "winsorize_ages(X_train, X_test, \"Age at Injury\")"
   ]
  },
  {
   "cell_type": "markdown",
   "metadata": {},
   "source": [
    "### Average Weekly Wage"
   ]
  },
  {
   "cell_type": "code",
   "execution_count": null,
   "metadata": {},
   "outputs": [],
   "source": [
    "import matplotlib.pyplot as plt\n",
    "\n",
    "def plot_boxplots(dfs, columns, titles, vertical_lines):\n",
    "    num_plots = len(dfs)\n",
    "    fig, axes = plt.subplots(1, num_plots, figsize=(5 * num_plots, 6), sharey=True)\n",
    "    \n",
    "    if num_plots == 1:\n",
    "        axes = [axes]\n",
    "    \n",
    "    for i, (df, column, title, vline) in enumerate(zip(dfs, columns, titles, vertical_lines)):\n",
    "        ax = axes[i]\n",
    "        ax.boxplot(df[column])\n",
    "        ax.axhline(vline, color='r', linestyle='--', label=f'vline={vline}')\n",
    "        ax.set_title(title)\n",
    "        ax.set_xlabel(column)\n",
    "        ax.legend()\n",
    "    \n",
    "    axes[0].set_ylabel('Values')\n",
    "    plt.tight_layout()\n",
    "    plt.show()\n",
    "\n",
    "# Usage example\n",
    "plot_boxplots(\n",
    "    dfs=[X_train],\n",
    "    columns=['Average Weekly Wage'],\n",
    "    titles=['X_train'],\n",
    "    vertical_lines=[400000]\n",
    ")"
   ]
  },
  {
   "cell_type": "code",
   "execution_count": null,
   "metadata": {},
   "outputs": [],
   "source": [
    "def detect_outliers_wages(df, column):\n",
    "    if df is X_train or df is X_val or df is df_test:\n",
    "        lower_bound = df_train[column].quantile(0.05)\n",
    "        upper_bound = 400000\n",
    "    outliers = df[(df[column] < lower_bound) | (df[column] > upper_bound)]\n",
    "    return outliers"
   ]
  },
  {
   "cell_type": "code",
   "execution_count": null,
   "metadata": {},
   "outputs": [],
   "source": [
    "# choosing to allow 5% of the extreme values to remain, thus setting the lower and upper bound to the 5th and 95th percentiles\n",
    "# making it so that the dfs are impavted by the bounds of X_train\n",
    "\n",
    "def winsorize_wages(df_train, df, column):\n",
    "    if df is X_train or df is X_val or df is df_test:\n",
    "        lower_bound = df_train[column].quantile(0.05)\n",
    "        upper_bound = 400000\n",
    "    # Winsorize the column by capping values outside the bounds in df\n",
    "    df[column] = df[column].clip(lower=lower_bound, upper=upper_bound)"
   ]
  },
  {
   "cell_type": "code",
   "execution_count": null,
   "metadata": {},
   "outputs": [],
   "source": [
    "print(f\"X_train: {len(detect_outliers_wages(X_train, \"Average Weekly Wage\"))} outliers\")\n",
    "print(f\"X_val: {len(detect_outliers_wages(X_val, \"Average Weekly Wage\"))} outliers\")\n",
    "print(f\"X_test: {len(detect_outliers_wages(df_test, \"Average Weekly Wage\"))} outliers\")"
   ]
  },
  {
   "cell_type": "code",
   "execution_count": null,
   "metadata": {},
   "outputs": [],
   "source": [
    "winsorize_wages(X_train, X_train, \"Average Weekly Wage\")\n",
    "winsorize_wages(X_train, X_val, \"Average Weekly Wage\")\n",
    "winsorize_wages(X_train, X_test, \"Average Weekly Wage\")"
   ]
  },
  {
   "cell_type": "markdown",
   "metadata": {},
   "source": [
    "### days_to_c2"
   ]
  },
  {
   "cell_type": "code",
   "execution_count": null,
   "metadata": {},
   "outputs": [],
   "source": [
    "import matplotlib.pyplot as plt\n",
    "\n",
    "def plot_boxplots(dfs, columns, titles, vertical_lines):\n",
    "    num_plots = len(dfs)\n",
    "    fig, axes = plt.subplots(1, num_plots, figsize=(5 * num_plots, 6), sharey=True)\n",
    "    \n",
    "    if num_plots == 1:\n",
    "        axes = [axes]\n",
    "    \n",
    "    for i, (df, column, title, vline) in enumerate(zip(dfs, columns, titles, vertical_lines)):\n",
    "        ax = axes[i]\n",
    "        ax.boxplot(df[column])\n",
    "        ax.axhline(vline, color='r', linestyle='--', label=f'vline={vline}')\n",
    "        ax.set_title(title)\n",
    "        ax.set_xlabel(column)\n",
    "        ax.legend()\n",
    "    \n",
    "    axes[0].set_ylabel('Values')\n",
    "    plt.tight_layout()\n",
    "    plt.show()\n",
    "\n",
    "# Usage example\n",
    "plot_boxplots(\n",
    "    dfs=[X_train],\n",
    "    columns=['days_to_c2'],\n",
    "    titles=['X_train'],\n",
    "    vertical_lines=[18780]\n",
    ")"
   ]
  },
  {
   "cell_type": "code",
   "execution_count": null,
   "metadata": {},
   "outputs": [],
   "source": [
    "def detect_outliers_days_c2(df, column):\n",
    "    if df is X_train or df is X_val or df is df_test:\n",
    "        lower_bound = df_train[column].quantile(0.05)\n",
    "        upper_bound = 18780\n",
    "    outliers = df[(df[column] < lower_bound) | (df[column] > upper_bound)]\n",
    "    return outliers"
   ]
  },
  {
   "cell_type": "code",
   "execution_count": null,
   "metadata": {},
   "outputs": [],
   "source": [
    "# choosing to allow 5% of the extreme values to remain, thus setting the lower and upper bound to the 5th and 95th percentiles\n",
    "# making it so that the dfs are impavted by the bounds of X_train\n",
    "\n",
    "def winsorize_c2(df_train, df, column):\n",
    "    if df is X_train or df is X_val or df is df_test:\n",
    "        lower_bound = df_train[column].quantile(0.05)\n",
    "        upper_bound = 18780\n",
    "    \n",
    "    # Winsorize the column by capping values outside the bounds in df\n",
    "    df[column] = df[column].clip(lower=lower_bound, upper=upper_bound)"
   ]
  },
  {
   "cell_type": "code",
   "execution_count": null,
   "metadata": {},
   "outputs": [],
   "source": [
    "print(f\"X_train: {len(detect_outliers_days_c2(X_train, \"days_to_c2\"))} outliers\")\n",
    "print(f\"X_val: {len(detect_outliers_days_c2(X_val, \"days_to_c2\"))} outliers\")\n",
    "print(f\"X_test: {len(detect_outliers_days_c2(df_test, \"days_to_c2\"))} outliers\")"
   ]
  },
  {
   "cell_type": "code",
   "execution_count": null,
   "metadata": {},
   "outputs": [],
   "source": [
    "winsorize_c2(X_train, X_train, \"days_to_c2\")\n",
    "winsorize_c2(X_train, X_val, \"days_to_c2\")\n",
    "winsorize_c2(X_train, X_test, \"days_to_c2\")"
   ]
  },
  {
   "cell_type": "markdown",
   "metadata": {},
   "source": [
    "### days_accident_to_assembly"
   ]
  },
  {
   "cell_type": "code",
   "execution_count": null,
   "metadata": {},
   "outputs": [],
   "source": [
    "import matplotlib.pyplot as plt\n",
    "\n",
    "def plot_boxplots(dfs, columns, titles, vertical_lines):\n",
    "    num_plots = len(dfs)\n",
    "    fig, axes = plt.subplots(1, num_plots, figsize=(5 * num_plots, 6), sharey=True)\n",
    "    \n",
    "    if num_plots == 1:\n",
    "        axes = [axes]\n",
    "    \n",
    "    for i, (df, column, title, vline) in enumerate(zip(dfs, columns, titles, vertical_lines)):\n",
    "        ax = axes[i]\n",
    "        ax.boxplot(df[column])\n",
    "        ax.axhline(vline, color='r', linestyle='--', label=f'vline={vline}')\n",
    "        ax.set_title(title)\n",
    "        ax.set_xlabel(column)\n",
    "        ax.legend()\n",
    "    \n",
    "    axes[0].set_ylabel('Values')\n",
    "    plt.tight_layout()\n",
    "    plt.show()\n",
    "\n",
    "# Usage example\n",
    "plot_boxplots(\n",
    "    dfs=[X_train],\n",
    "    columns=['days_accident_to_assembly'],\n",
    "    titles=['X_train'],\n",
    "    vertical_lines=[18800]\n",
    ")"
   ]
  },
  {
   "cell_type": "code",
   "execution_count": null,
   "metadata": {},
   "outputs": [],
   "source": [
    "def detect_outliers_days_assembly(df, column):\n",
    "    if df is X_train or df is X_val or df is df_test:\n",
    "        lower_bound = df_train[column].quantile(0.05)\n",
    "        upper_bound = 18800\n",
    "    outliers = df[(df[column] < lower_bound) | (df[column] > upper_bound)]\n",
    "    return outliers"
   ]
  },
  {
   "cell_type": "code",
   "execution_count": null,
   "metadata": {},
   "outputs": [],
   "source": [
    "\n",
    "def winsorize_assembly(df_train, df, column):\n",
    "    if df is X_train or df is X_val or df is df_test:\n",
    "        lower_bound = df_train[column].quantile(0.05)\n",
    "        upper_bound = 18800\n",
    "    \n",
    "    # Winsorize the column by capping values outside the bounds in df\n",
    "    df[column] = df[column].clip(lower=lower_bound, upper=upper_bound)"
   ]
  },
  {
   "cell_type": "code",
   "execution_count": null,
   "metadata": {},
   "outputs": [],
   "source": [
    "print(f\"X_train: {len(detect_outliers_days_assembly(X_train, \"days_accident_to_assembly\"))} outliers\")\n",
    "print(f\"X_val: {len(detect_outliers_days_assembly(X_val, \"days_accident_to_assembly\"))} outliers\")\n",
    "print(f\"X_test: {len(detect_outliers_days_assembly(df_test, \"days_accident_to_assembly\"))} outliers\")"
   ]
  },
  {
   "cell_type": "code",
   "execution_count": null,
   "metadata": {},
   "outputs": [],
   "source": [
    "winsorize_assembly(X_train, X_train, \"days_accident_to_assembly\")\n",
    "winsorize_assembly(X_train, X_val, \"days_accident_to_assembly\")\n",
    "winsorize_assembly(X_train, X_test, \"days_accident_to_assembly\")"
   ]
  },
  {
   "cell_type": "markdown",
   "metadata": {},
   "source": [
    "## Last changes"
   ]
  },
  {
   "cell_type": "markdown",
   "metadata": {},
   "source": [
    "Some last changes are made to the data to ensure it is ready for feature selection."
   ]
  },
  {
   "cell_type": "code",
   "execution_count": null,
   "metadata": {},
   "outputs": [],
   "source": [
    "X_train = X_train.drop(columns=['Accident Date', 'Assembly Date', 'County of Injury', 'Zip Code', 'C-2 Date'])\n",
    "X_train = X_train.drop(columns=['Agreement Reached'])\n",
    "X_train['days_accident_to_assembly'] = X_train['days_accident_to_assembly'].astype(int)"
   ]
  },
  {
   "cell_type": "code",
   "execution_count": null,
   "metadata": {},
   "outputs": [],
   "source": [
    "X_val = X_val.drop(columns=['Accident Date', 'Assembly Date', 'County of Injury', 'Zip Code', 'C-2 Date'])\n",
    "X_val = X_val.drop(columns=['Agreement Reached'])\n",
    "X_val['days_accident_to_assembly'] = X_val['days_accident_to_assembly'].astype(int)"
   ]
  },
  {
   "cell_type": "code",
   "execution_count": null,
   "metadata": {},
   "outputs": [],
   "source": [
    "X_test = X_test.drop(columns=['Accident Date', 'Assembly Date', 'County of Injury', 'Zip Code', 'C-2 Date'])\n",
    "X_test['days_accident_to_assembly'] = X_test['days_accident_to_assembly'].astype(int)"
   ]
  },
  {
   "cell_type": "code",
   "execution_count": null,
   "metadata": {},
   "outputs": [],
   "source": [
    "#this cell was used as a checkpoint so the group could avoid running the whole notebook when working\n",
    "\n",
    "X_train.to_csv('X_train_v1.csv', index=True)\n",
    "X_val.to_csv('X_val_v1.csv', index=True)\n",
    "X_test.to_csv('X_test_v1.csv', index=True)\n",
    "y_train.to_csv('y_train_v1.csv', index=True, header=True)\n",
    "y_val.to_csv('y_val_v1.csv', index=True, header=True)"
   ]
  },
  {
   "cell_type": "code",
   "execution_count": 2,
   "metadata": {},
   "outputs": [],
   "source": [
    "# this cell was used as a checkpoint so the group could avoid running the whole notebook when working\n",
    "\n",
    "X_train = pd.read_csv('X_train_v1.csv', index_col=0)\n",
    "X_val = pd.read_csv('X_val_v1.csv', index_col=0)\n",
    "X_test = pd.read_csv('X_test_v1.csv', index_col=0)\n",
    "y_train = pd.read_csv('y_train_v1.csv', index_col=0).squeeze()\n",
    "y_val = pd.read_csv('y_val_v1.csv', index_col=0).squeeze()"
   ]
  },
  {
   "cell_type": "markdown",
   "metadata": {},
   "source": [
    "For the feature selection section the group decided to use the methodologies that were taught in class. As it stands this section can still be worked on extensively. A better selection could lead to a better model, therefore improvement in this section is essencial."
   ]
  },
  {
   "cell_type": "markdown",
   "metadata": {},
   "source": [
    "## Encoding"
   ]
  },
  {
   "cell_type": "markdown",
   "metadata": {},
   "source": [
    "### Binary Encoding\n",
    "\n",
    "Binary Variables do not require too much work to be encoded. In this case, the group decided to turn No to 0 and Yes to 1."
   ]
  },
  {
   "cell_type": "code",
   "execution_count": 3,
   "metadata": {},
   "outputs": [],
   "source": [
    "binary_features = ['Attorney/Representative', 'COVID-19 Indicator']\n",
    "for feature in binary_features:\n",
    "    X_train[feature] = X_train[feature].map({'No': 0, 'Yes': 1}).astype(int)\n",
    "    X_val[feature] = X_val[feature].map({'No': 0, 'Yes': 1}).astype(int)\n",
    "    X_test[feature] = X_test[feature].map({'N': 0, 'Y': 1}).astype(int)\n",
    "\n",
    "X_train['Gender'] = X_train['Gender'].map({'F': 0, 'M': 1}).astype(int)\n",
    "X_val['Gender'] = X_val['Gender'].map({'F': 0, 'M': 1}).astype(int)\n",
    "X_test['Gender'] = X_test['Gender'].map({'F': 0, 'M': 1}).astype(int)"
   ]
  },
  {
   "cell_type": "markdown",
   "metadata": {},
   "source": [
    "During the process of creating a final model and trying to obtain the best score possible in Kaggle, the group tried several encoding techniques. Two techniques were chosen as the best ones.\n",
    "\n",
    "### Count Encoding\n",
    "The first method the group settled on was count encoding. In this method, categorical variables are substituted by their respective frequency count. This encoding method is simplistic, which makes it easy to use. However, it comes with some disadvantages. It's biggest flaw is the following:<br>\n",
    "If a variable 'A' has 3 possible values, say 'red', 'green' and 'blue'. If 2 of the values are equally represented in the variable (as in they have the same frequency) then the encoding will 'delete' one of the values. This happens because the encoding for each value is the same, this type of error is called collision."
   ]
  },
  {
   "cell_type": "markdown",
   "metadata": {},
   "source": [
    "References: <br>\n",
    "https://towardsdatascience.com/4-ways-to-encode-categorical-features-with-high-cardinality-1bc6d8fd7b13#99d8"
   ]
  },
  {
   "cell_type": "code",
   "execution_count": 4,
   "metadata": {},
   "outputs": [],
   "source": [
    "X_test.drop(columns=['Alternative Dispute Resolution'], inplace=True)"
   ]
  },
  {
   "cell_type": "code",
   "execution_count": 5,
   "metadata": {},
   "outputs": [],
   "source": [
    "X_train = X_train.reset_index(drop=True)\n",
    "y_train = y_train.reset_index(drop=True)"
   ]
  },
  {
   "cell_type": "code",
   "execution_count": 6,
   "metadata": {},
   "outputs": [],
   "source": [
    "from category_encoders.count import CountEncoder\n",
    "        \n",
    "categorical_features = ['Carrier Type', 'District Name', 'Industry Code Description', 'Medical Fee Region', 'WCIO Cause of Injury Description',\n",
    "                        'WCIO Nature of Injury Description', 'WCIO Part Of Body Description', 'age_group', 'wage_groups', 'body_group', 'injury_type', 'injury_cause',\n",
    "                        'industry_group', 'days_accident_to_assembly_binned', 'zip_group','days_to_c2_binned', 'body_region', 'AIS', 'severity', 'industry_new']\n",
    "\n",
    "\n",
    "enc = CountEncoder(cols=categorical_features).fit(X_train, y_train)\n",
    "X_train_encoded = enc.transform(X_train)\n",
    "X_val_encoded = enc.transform(X_val)\n",
    "X_test_encoded = enc.transform(X_test)"
   ]
  },
  {
   "cell_type": "markdown",
   "metadata": {},
   "source": [
    "### Hashing\n",
    "After experimenting with the Count Encoder, the group wondered if there was a method that might yield better results. Standard techniques such as dummy variables or one-hot encoding were tested, but the results weren’t compelling. Eventually, through research, a new method was discovered: the 'Hashing Trick'.<br>\n",
    "This encoding technique (also available in the category_encoders package) maps data of arbitrary size to a fixed size. In simple terms, the hashing function assigns specific numbers to each item it receives. The number itself is not important; what matters is that the assignment is consistent.<br>\n",
    "The function takes a parameter, 'n_components' which defines the number of columns, or 'lockers'. Like the Count Encoder, the hashing function can result in collisions (when two different categories receive the same value). Increasing this parameter reduces collisions but also increases the sparsity of the data. The final value of 64 was chosen after several iterations in a trial-and-error process.\n",
    "\n"
   ]
  },
  {
   "cell_type": "markdown",
   "metadata": {},
   "source": [
    "References:<br>\n",
    "https://stats.stackexchange.com/questions/411767/encoding-of-categorical-variables-with-high-cardinality<br>\n",
    "https://contrib.scikit-learn.org/category_encoders/hashing.html<br>\n",
    "https://medium.com/value-stream-design/introducing-one-of-the-best-hacks-in-machine-learning-the-hashing-trick-bf6a9c8af18f"
   ]
  },
  {
   "cell_type": "code",
   "execution_count": 176,
   "metadata": {},
   "outputs": [
    {
     "ename": "KeyError",
     "evalue": "\"['Alternative Dispute Resolution'] not found in axis\"",
     "output_type": "error",
     "traceback": [
      "\u001b[1;31m---------------------------------------------------------------------------\u001b[0m",
      "\u001b[1;31mKeyError\u001b[0m                                  Traceback (most recent call last)",
      "Cell \u001b[1;32mIn[176], line 1\u001b[0m\n\u001b[1;32m----> 1\u001b[0m \u001b[43mX_test\u001b[49m\u001b[38;5;241;43m.\u001b[39;49m\u001b[43mdrop\u001b[49m\u001b[43m(\u001b[49m\u001b[43mcolumns\u001b[49m\u001b[38;5;241;43m=\u001b[39;49m\u001b[43m[\u001b[49m\u001b[38;5;124;43m'\u001b[39;49m\u001b[38;5;124;43mAlternative Dispute Resolution\u001b[39;49m\u001b[38;5;124;43m'\u001b[39;49m\u001b[43m]\u001b[49m\u001b[43m,\u001b[49m\u001b[43m \u001b[49m\u001b[43minplace\u001b[49m\u001b[38;5;241;43m=\u001b[39;49m\u001b[38;5;28;43;01mTrue\u001b[39;49;00m\u001b[43m)\u001b[49m\n",
      "File \u001b[1;32mc:\\Users\\alexr\\AppData\\Local\\Programs\\Python\\Python312\\Lib\\site-packages\\pandas\\core\\frame.py:5581\u001b[0m, in \u001b[0;36mDataFrame.drop\u001b[1;34m(self, labels, axis, index, columns, level, inplace, errors)\u001b[0m\n\u001b[0;32m   5433\u001b[0m \u001b[38;5;28;01mdef\u001b[39;00m \u001b[38;5;21mdrop\u001b[39m(\n\u001b[0;32m   5434\u001b[0m     \u001b[38;5;28mself\u001b[39m,\n\u001b[0;32m   5435\u001b[0m     labels: IndexLabel \u001b[38;5;241m|\u001b[39m \u001b[38;5;28;01mNone\u001b[39;00m \u001b[38;5;241m=\u001b[39m \u001b[38;5;28;01mNone\u001b[39;00m,\n\u001b[1;32m   (...)\u001b[0m\n\u001b[0;32m   5442\u001b[0m     errors: IgnoreRaise \u001b[38;5;241m=\u001b[39m \u001b[38;5;124m\"\u001b[39m\u001b[38;5;124mraise\u001b[39m\u001b[38;5;124m\"\u001b[39m,\n\u001b[0;32m   5443\u001b[0m ) \u001b[38;5;241m-\u001b[39m\u001b[38;5;241m>\u001b[39m DataFrame \u001b[38;5;241m|\u001b[39m \u001b[38;5;28;01mNone\u001b[39;00m:\n\u001b[0;32m   5444\u001b[0m \u001b[38;5;250m    \u001b[39m\u001b[38;5;124;03m\"\"\"\u001b[39;00m\n\u001b[0;32m   5445\u001b[0m \u001b[38;5;124;03m    Drop specified labels from rows or columns.\u001b[39;00m\n\u001b[0;32m   5446\u001b[0m \n\u001b[1;32m   (...)\u001b[0m\n\u001b[0;32m   5579\u001b[0m \u001b[38;5;124;03m            weight  1.0     0.8\u001b[39;00m\n\u001b[0;32m   5580\u001b[0m \u001b[38;5;124;03m    \"\"\"\u001b[39;00m\n\u001b[1;32m-> 5581\u001b[0m     \u001b[38;5;28;01mreturn\u001b[39;00m \u001b[38;5;28;43msuper\u001b[39;49m\u001b[43m(\u001b[49m\u001b[43m)\u001b[49m\u001b[38;5;241;43m.\u001b[39;49m\u001b[43mdrop\u001b[49m\u001b[43m(\u001b[49m\n\u001b[0;32m   5582\u001b[0m \u001b[43m        \u001b[49m\u001b[43mlabels\u001b[49m\u001b[38;5;241;43m=\u001b[39;49m\u001b[43mlabels\u001b[49m\u001b[43m,\u001b[49m\n\u001b[0;32m   5583\u001b[0m \u001b[43m        \u001b[49m\u001b[43maxis\u001b[49m\u001b[38;5;241;43m=\u001b[39;49m\u001b[43maxis\u001b[49m\u001b[43m,\u001b[49m\n\u001b[0;32m   5584\u001b[0m \u001b[43m        \u001b[49m\u001b[43mindex\u001b[49m\u001b[38;5;241;43m=\u001b[39;49m\u001b[43mindex\u001b[49m\u001b[43m,\u001b[49m\n\u001b[0;32m   5585\u001b[0m \u001b[43m        \u001b[49m\u001b[43mcolumns\u001b[49m\u001b[38;5;241;43m=\u001b[39;49m\u001b[43mcolumns\u001b[49m\u001b[43m,\u001b[49m\n\u001b[0;32m   5586\u001b[0m \u001b[43m        \u001b[49m\u001b[43mlevel\u001b[49m\u001b[38;5;241;43m=\u001b[39;49m\u001b[43mlevel\u001b[49m\u001b[43m,\u001b[49m\n\u001b[0;32m   5587\u001b[0m \u001b[43m        \u001b[49m\u001b[43minplace\u001b[49m\u001b[38;5;241;43m=\u001b[39;49m\u001b[43minplace\u001b[49m\u001b[43m,\u001b[49m\n\u001b[0;32m   5588\u001b[0m \u001b[43m        \u001b[49m\u001b[43merrors\u001b[49m\u001b[38;5;241;43m=\u001b[39;49m\u001b[43merrors\u001b[49m\u001b[43m,\u001b[49m\n\u001b[0;32m   5589\u001b[0m \u001b[43m    \u001b[49m\u001b[43m)\u001b[49m\n",
      "File \u001b[1;32mc:\\Users\\alexr\\AppData\\Local\\Programs\\Python\\Python312\\Lib\\site-packages\\pandas\\core\\generic.py:4788\u001b[0m, in \u001b[0;36mNDFrame.drop\u001b[1;34m(self, labels, axis, index, columns, level, inplace, errors)\u001b[0m\n\u001b[0;32m   4786\u001b[0m \u001b[38;5;28;01mfor\u001b[39;00m axis, labels \u001b[38;5;129;01min\u001b[39;00m axes\u001b[38;5;241m.\u001b[39mitems():\n\u001b[0;32m   4787\u001b[0m     \u001b[38;5;28;01mif\u001b[39;00m labels \u001b[38;5;129;01mis\u001b[39;00m \u001b[38;5;129;01mnot\u001b[39;00m \u001b[38;5;28;01mNone\u001b[39;00m:\n\u001b[1;32m-> 4788\u001b[0m         obj \u001b[38;5;241m=\u001b[39m \u001b[43mobj\u001b[49m\u001b[38;5;241;43m.\u001b[39;49m\u001b[43m_drop_axis\u001b[49m\u001b[43m(\u001b[49m\u001b[43mlabels\u001b[49m\u001b[43m,\u001b[49m\u001b[43m \u001b[49m\u001b[43maxis\u001b[49m\u001b[43m,\u001b[49m\u001b[43m \u001b[49m\u001b[43mlevel\u001b[49m\u001b[38;5;241;43m=\u001b[39;49m\u001b[43mlevel\u001b[49m\u001b[43m,\u001b[49m\u001b[43m \u001b[49m\u001b[43merrors\u001b[49m\u001b[38;5;241;43m=\u001b[39;49m\u001b[43merrors\u001b[49m\u001b[43m)\u001b[49m\n\u001b[0;32m   4790\u001b[0m \u001b[38;5;28;01mif\u001b[39;00m inplace:\n\u001b[0;32m   4791\u001b[0m     \u001b[38;5;28mself\u001b[39m\u001b[38;5;241m.\u001b[39m_update_inplace(obj)\n",
      "File \u001b[1;32mc:\\Users\\alexr\\AppData\\Local\\Programs\\Python\\Python312\\Lib\\site-packages\\pandas\\core\\generic.py:4830\u001b[0m, in \u001b[0;36mNDFrame._drop_axis\u001b[1;34m(self, labels, axis, level, errors, only_slice)\u001b[0m\n\u001b[0;32m   4828\u001b[0m         new_axis \u001b[38;5;241m=\u001b[39m axis\u001b[38;5;241m.\u001b[39mdrop(labels, level\u001b[38;5;241m=\u001b[39mlevel, errors\u001b[38;5;241m=\u001b[39merrors)\n\u001b[0;32m   4829\u001b[0m     \u001b[38;5;28;01melse\u001b[39;00m:\n\u001b[1;32m-> 4830\u001b[0m         new_axis \u001b[38;5;241m=\u001b[39m \u001b[43maxis\u001b[49m\u001b[38;5;241;43m.\u001b[39;49m\u001b[43mdrop\u001b[49m\u001b[43m(\u001b[49m\u001b[43mlabels\u001b[49m\u001b[43m,\u001b[49m\u001b[43m \u001b[49m\u001b[43merrors\u001b[49m\u001b[38;5;241;43m=\u001b[39;49m\u001b[43merrors\u001b[49m\u001b[43m)\u001b[49m\n\u001b[0;32m   4831\u001b[0m     indexer \u001b[38;5;241m=\u001b[39m axis\u001b[38;5;241m.\u001b[39mget_indexer(new_axis)\n\u001b[0;32m   4833\u001b[0m \u001b[38;5;66;03m# Case for non-unique axis\u001b[39;00m\n\u001b[0;32m   4834\u001b[0m \u001b[38;5;28;01melse\u001b[39;00m:\n",
      "File \u001b[1;32mc:\\Users\\alexr\\AppData\\Local\\Programs\\Python\\Python312\\Lib\\site-packages\\pandas\\core\\indexes\\base.py:7070\u001b[0m, in \u001b[0;36mIndex.drop\u001b[1;34m(self, labels, errors)\u001b[0m\n\u001b[0;32m   7068\u001b[0m \u001b[38;5;28;01mif\u001b[39;00m mask\u001b[38;5;241m.\u001b[39many():\n\u001b[0;32m   7069\u001b[0m     \u001b[38;5;28;01mif\u001b[39;00m errors \u001b[38;5;241m!=\u001b[39m \u001b[38;5;124m\"\u001b[39m\u001b[38;5;124mignore\u001b[39m\u001b[38;5;124m\"\u001b[39m:\n\u001b[1;32m-> 7070\u001b[0m         \u001b[38;5;28;01mraise\u001b[39;00m \u001b[38;5;167;01mKeyError\u001b[39;00m(\u001b[38;5;124mf\u001b[39m\u001b[38;5;124m\"\u001b[39m\u001b[38;5;132;01m{\u001b[39;00mlabels[mask]\u001b[38;5;241m.\u001b[39mtolist()\u001b[38;5;132;01m}\u001b[39;00m\u001b[38;5;124m not found in axis\u001b[39m\u001b[38;5;124m\"\u001b[39m)\n\u001b[0;32m   7071\u001b[0m     indexer \u001b[38;5;241m=\u001b[39m indexer[\u001b[38;5;241m~\u001b[39mmask]\n\u001b[0;32m   7072\u001b[0m \u001b[38;5;28;01mreturn\u001b[39;00m \u001b[38;5;28mself\u001b[39m\u001b[38;5;241m.\u001b[39mdelete(indexer)\n",
      "\u001b[1;31mKeyError\u001b[0m: \"['Alternative Dispute Resolution'] not found in axis\""
     ]
    }
   ],
   "source": [
    "X_test.drop(columns=['Alternative Dispute Resolution'], inplace=True)"
   ]
  },
  {
   "cell_type": "code",
   "execution_count": 177,
   "metadata": {},
   "outputs": [],
   "source": [
    "import category_encoders as ce\n",
    "\n",
    "categorical_features = ['Carrier Type', 'District Name', 'Industry Code Description', 'Medical Fee Region', 'WCIO Cause of Injury Description',\n",
    "                        'WCIO Nature of Injury Description', 'WCIO Part Of Body Description', 'age_group', 'wage_groups', 'body_group', 'injury_type', 'injury_cause',\n",
    "                        'industry_group', 'days_accident_to_assembly_binned', 'zip_group','days_to_c2_binned', 'body_region', 'AIS', 'severity', 'industry_new']\n",
    "\n",
    "encoder = ce.HashingEncoder(cols=categorical_features, n_components=64)\n",
    "\n",
    "X_train_encoded = encoder.fit_transform(X_train)\n",
    "X_val_encoded = encoder.transform(X_val)\n",
    "X_test_encoded = encoder.transform(X_test)"
   ]
  },
  {
   "cell_type": "markdown",
   "metadata": {},
   "source": [
    "Making sure the columns are in the correct order so the scaler can funtion properly."
   ]
  },
  {
   "cell_type": "code",
   "execution_count": 178,
   "metadata": {},
   "outputs": [],
   "source": [
    "new_order = list(X_train_encoded.columns) \n",
    "X_test_encoded = X_test_encoded[new_order]"
   ]
  },
  {
   "cell_type": "code",
   "execution_count": null,
   "metadata": {},
   "outputs": [],
   "source": [
    "# dfs = [X_train_encoded, X_val_encoded, X_test_encoded]\n",
    "# for df in dfs:\n",
    "#     df.drop(columns=['body_region', 'AIS', 'severity', 'industry_new'], inplace=True)"
   ]
  },
  {
   "cell_type": "markdown",
   "metadata": {},
   "source": [
    "\n",
    "## Scaling"
   ]
  },
  {
   "cell_type": "code",
   "execution_count": 7,
   "metadata": {},
   "outputs": [
    {
     "name": "stdout",
     "output_type": "stream",
     "text": [
      "<class 'pandas.core.frame.DataFrame'>\n",
      "RangeIndex: 430518 entries, 0 to 430517\n",
      "Data columns (total 32 columns):\n",
      " #   Column                             Non-Null Count   Dtype  \n",
      "---  ------                             --------------   -----  \n",
      " 0   Age at Injury                      430518 non-null  int64  \n",
      " 1   Attorney/Representative            430518 non-null  int64  \n",
      " 2   Average Weekly Wage                430518 non-null  float64\n",
      " 3   Carrier Type                       430518 non-null  int64  \n",
      " 4   COVID-19 Indicator                 430518 non-null  int64  \n",
      " 5   District Name                      430518 non-null  int64  \n",
      " 6   Gender                             430518 non-null  int64  \n",
      " 7   Industry Code Description          430518 non-null  int64  \n",
      " 8   Medical Fee Region                 430518 non-null  int64  \n",
      " 9   WCIO Cause of Injury Description   430518 non-null  int64  \n",
      " 10  WCIO Nature of Injury Description  430518 non-null  int64  \n",
      " 11  WCIO Part Of Body Description      430518 non-null  int64  \n",
      " 12  Number of Dependents               430518 non-null  int64  \n",
      " 13  age_group                          430518 non-null  int64  \n",
      " 14  wage_groups                        430518 non-null  int64  \n",
      " 15  days_to_c2                         430518 non-null  int64  \n",
      " 16  days_to_c2_binned                  430518 non-null  int64  \n",
      " 17  body_group                         430518 non-null  int64  \n",
      " 18  injury_type                        430518 non-null  int64  \n",
      " 19  injury_cause                       430518 non-null  int64  \n",
      " 20  industry_group                     430518 non-null  int64  \n",
      " 21  zip_group                          430518 non-null  int64  \n",
      " 22  days_accident_to_assembly          430518 non-null  int64  \n",
      " 23  days_accident_to_assembly_binned   430518 non-null  int64  \n",
      " 24  body_region                        430518 non-null  int64  \n",
      " 25  AIS                                430518 non-null  int64  \n",
      " 26  ais_weights                        430518 non-null  float64\n",
      " 27  severity                           430518 non-null  int64  \n",
      " 28  SS                                 430518 non-null  int64  \n",
      " 29  ASS                                430518 non-null  float64\n",
      " 30  industry_new                       430518 non-null  int64  \n",
      " 31  IRS                                430518 non-null  float64\n",
      "dtypes: float64(4), int64(28)\n",
      "memory usage: 105.1 MB\n"
     ]
    }
   ],
   "source": [
    "X_train_encoded.info()"
   ]
  },
  {
   "cell_type": "code",
   "execution_count": 8,
   "metadata": {},
   "outputs": [
    {
     "data": {
      "text/html": [
       "<div>\n",
       "<style scoped>\n",
       "    .dataframe tbody tr th:only-of-type {\n",
       "        vertical-align: middle;\n",
       "    }\n",
       "\n",
       "    .dataframe tbody tr th {\n",
       "        vertical-align: top;\n",
       "    }\n",
       "\n",
       "    .dataframe thead th {\n",
       "        text-align: right;\n",
       "    }\n",
       "</style>\n",
       "<table border=\"1\" class=\"dataframe\">\n",
       "  <thead>\n",
       "    <tr style=\"text-align: right;\">\n",
       "      <th></th>\n",
       "      <th>Age at Injury</th>\n",
       "      <th>Attorney/Representative</th>\n",
       "      <th>Average Weekly Wage</th>\n",
       "      <th>Carrier Type</th>\n",
       "      <th>COVID-19 Indicator</th>\n",
       "      <th>District Name</th>\n",
       "      <th>Gender</th>\n",
       "      <th>Industry Code Description</th>\n",
       "      <th>Medical Fee Region</th>\n",
       "      <th>WCIO Cause of Injury Description</th>\n",
       "      <th>...</th>\n",
       "      <th>days_accident_to_assembly</th>\n",
       "      <th>days_accident_to_assembly_binned</th>\n",
       "      <th>body_region</th>\n",
       "      <th>AIS</th>\n",
       "      <th>ais_weights</th>\n",
       "      <th>severity</th>\n",
       "      <th>SS</th>\n",
       "      <th>ASS</th>\n",
       "      <th>industry_new</th>\n",
       "      <th>IRS</th>\n",
       "    </tr>\n",
       "    <tr>\n",
       "      <th>Claim Identifier</th>\n",
       "      <th></th>\n",
       "      <th></th>\n",
       "      <th></th>\n",
       "      <th></th>\n",
       "      <th></th>\n",
       "      <th></th>\n",
       "      <th></th>\n",
       "      <th></th>\n",
       "      <th></th>\n",
       "      <th></th>\n",
       "      <th></th>\n",
       "      <th></th>\n",
       "      <th></th>\n",
       "      <th></th>\n",
       "      <th></th>\n",
       "      <th></th>\n",
       "      <th></th>\n",
       "      <th></th>\n",
       "      <th></th>\n",
       "      <th></th>\n",
       "      <th></th>\n",
       "    </tr>\n",
       "  </thead>\n",
       "  <tbody>\n",
       "    <tr>\n",
       "      <th>5713803</th>\n",
       "      <td>46</td>\n",
       "      <td>1</td>\n",
       "      <td>1006.87</td>\n",
       "      <td>214179</td>\n",
       "      <td>0</td>\n",
       "      <td>202894</td>\n",
       "      <td>1</td>\n",
       "      <td>28703</td>\n",
       "      <td>199485</td>\n",
       "      <td>2806</td>\n",
       "      <td>...</td>\n",
       "      <td>13</td>\n",
       "      <td>167480</td>\n",
       "      <td>9238</td>\n",
       "      <td>9238</td>\n",
       "      <td>6.39</td>\n",
       "      <td>146416</td>\n",
       "      <td>1</td>\n",
       "      <td>0.064696</td>\n",
       "      <td>28703</td>\n",
       "      <td>0.163348</td>\n",
       "    </tr>\n",
       "    <tr>\n",
       "      <th>5638483</th>\n",
       "      <td>49</td>\n",
       "      <td>0</td>\n",
       "      <td>0.00</td>\n",
       "      <td>214179</td>\n",
       "      <td>0</td>\n",
       "      <td>202894</td>\n",
       "      <td>1</td>\n",
       "      <td>40540</td>\n",
       "      <td>40294</td>\n",
       "      <td>8994</td>\n",
       "      <td>...</td>\n",
       "      <td>7</td>\n",
       "      <td>170922</td>\n",
       "      <td>90629</td>\n",
       "      <td>90629</td>\n",
       "      <td>5.65</td>\n",
       "      <td>146416</td>\n",
       "      <td>1</td>\n",
       "      <td>0.043033</td>\n",
       "      <td>40540</td>\n",
       "      <td>0.732306</td>\n",
       "    </tr>\n",
       "    <tr>\n",
       "      <th>5845425</th>\n",
       "      <td>32</td>\n",
       "      <td>0</td>\n",
       "      <td>0.00</td>\n",
       "      <td>214179</td>\n",
       "      <td>1</td>\n",
       "      <td>34227</td>\n",
       "      <td>1</td>\n",
       "      <td>40540</td>\n",
       "      <td>63702</td>\n",
       "      <td>18813</td>\n",
       "      <td>...</td>\n",
       "      <td>14</td>\n",
       "      <td>167480</td>\n",
       "      <td>24175</td>\n",
       "      <td>24175</td>\n",
       "      <td>4.80</td>\n",
       "      <td>20879</td>\n",
       "      <td>5</td>\n",
       "      <td>0.580211</td>\n",
       "      <td>40540</td>\n",
       "      <td>0.732306</td>\n",
       "    </tr>\n",
       "    <tr>\n",
       "      <th>5824359</th>\n",
       "      <td>31</td>\n",
       "      <td>1</td>\n",
       "      <td>581.75</td>\n",
       "      <td>214179</td>\n",
       "      <td>0</td>\n",
       "      <td>45543</td>\n",
       "      <td>1</td>\n",
       "      <td>15779</td>\n",
       "      <td>40294</td>\n",
       "      <td>4808</td>\n",
       "      <td>...</td>\n",
       "      <td>7</td>\n",
       "      <td>170922</td>\n",
       "      <td>90629</td>\n",
       "      <td>90629</td>\n",
       "      <td>5.65</td>\n",
       "      <td>25908</td>\n",
       "      <td>3</td>\n",
       "      <td>0.373829</td>\n",
       "      <td>32327</td>\n",
       "      <td>0.144994</td>\n",
       "    </tr>\n",
       "    <tr>\n",
       "      <th>5860845</th>\n",
       "      <td>48</td>\n",
       "      <td>0</td>\n",
       "      <td>1830.15</td>\n",
       "      <td>214179</td>\n",
       "      <td>0</td>\n",
       "      <td>202894</td>\n",
       "      <td>1</td>\n",
       "      <td>7454</td>\n",
       "      <td>199485</td>\n",
       "      <td>46622</td>\n",
       "      <td>...</td>\n",
       "      <td>21</td>\n",
       "      <td>167480</td>\n",
       "      <td>90629</td>\n",
       "      <td>90629</td>\n",
       "      <td>5.65</td>\n",
       "      <td>186635</td>\n",
       "      <td>2</td>\n",
       "      <td>0.208431</td>\n",
       "      <td>27353</td>\n",
       "      <td>0.152969</td>\n",
       "    </tr>\n",
       "    <tr>\n",
       "      <th>...</th>\n",
       "      <td>...</td>\n",
       "      <td>...</td>\n",
       "      <td>...</td>\n",
       "      <td>...</td>\n",
       "      <td>...</td>\n",
       "      <td>...</td>\n",
       "      <td>...</td>\n",
       "      <td>...</td>\n",
       "      <td>...</td>\n",
       "      <td>...</td>\n",
       "      <td>...</td>\n",
       "      <td>...</td>\n",
       "      <td>...</td>\n",
       "      <td>...</td>\n",
       "      <td>...</td>\n",
       "      <td>...</td>\n",
       "      <td>...</td>\n",
       "      <td>...</td>\n",
       "      <td>...</td>\n",
       "      <td>...</td>\n",
       "      <td>...</td>\n",
       "    </tr>\n",
       "    <tr>\n",
       "      <th>5684330</th>\n",
       "      <td>24</td>\n",
       "      <td>0</td>\n",
       "      <td>663.37</td>\n",
       "      <td>214179</td>\n",
       "      <td>0</td>\n",
       "      <td>33674</td>\n",
       "      <td>0</td>\n",
       "      <td>92295</td>\n",
       "      <td>101965</td>\n",
       "      <td>5637</td>\n",
       "      <td>...</td>\n",
       "      <td>5</td>\n",
       "      <td>170922</td>\n",
       "      <td>134448</td>\n",
       "      <td>134448</td>\n",
       "      <td>5.65</td>\n",
       "      <td>186635</td>\n",
       "      <td>2</td>\n",
       "      <td>0.208431</td>\n",
       "      <td>125604</td>\n",
       "      <td>0.170204</td>\n",
       "    </tr>\n",
       "    <tr>\n",
       "      <th>5548944</th>\n",
       "      <td>42</td>\n",
       "      <td>0</td>\n",
       "      <td>0.00</td>\n",
       "      <td>214179</td>\n",
       "      <td>0</td>\n",
       "      <td>64524</td>\n",
       "      <td>0</td>\n",
       "      <td>92295</td>\n",
       "      <td>63702</td>\n",
       "      <td>46622</td>\n",
       "      <td>...</td>\n",
       "      <td>1411</td>\n",
       "      <td>2662</td>\n",
       "      <td>54393</td>\n",
       "      <td>54393</td>\n",
       "      <td>5.32</td>\n",
       "      <td>186635</td>\n",
       "      <td>2</td>\n",
       "      <td>0.189110</td>\n",
       "      <td>125604</td>\n",
       "      <td>0.170204</td>\n",
       "    </tr>\n",
       "    <tr>\n",
       "      <th>6029859</th>\n",
       "      <td>33</td>\n",
       "      <td>0</td>\n",
       "      <td>0.00</td>\n",
       "      <td>39559</td>\n",
       "      <td>0</td>\n",
       "      <td>30220</td>\n",
       "      <td>0</td>\n",
       "      <td>92295</td>\n",
       "      <td>101965</td>\n",
       "      <td>19879</td>\n",
       "      <td>...</td>\n",
       "      <td>2</td>\n",
       "      <td>170922</td>\n",
       "      <td>90629</td>\n",
       "      <td>90629</td>\n",
       "      <td>5.65</td>\n",
       "      <td>146416</td>\n",
       "      <td>1</td>\n",
       "      <td>0.043033</td>\n",
       "      <td>125604</td>\n",
       "      <td>0.170204</td>\n",
       "    </tr>\n",
       "    <tr>\n",
       "      <th>6027385</th>\n",
       "      <td>60</td>\n",
       "      <td>1</td>\n",
       "      <td>0.00</td>\n",
       "      <td>214179</td>\n",
       "      <td>0</td>\n",
       "      <td>64524</td>\n",
       "      <td>1</td>\n",
       "      <td>28703</td>\n",
       "      <td>101965</td>\n",
       "      <td>46622</td>\n",
       "      <td>...</td>\n",
       "      <td>66</td>\n",
       "      <td>53364</td>\n",
       "      <td>54393</td>\n",
       "      <td>54393</td>\n",
       "      <td>5.32</td>\n",
       "      <td>34594</td>\n",
       "      <td>0</td>\n",
       "      <td>0.500000</td>\n",
       "      <td>28703</td>\n",
       "      <td>0.163348</td>\n",
       "    </tr>\n",
       "    <tr>\n",
       "      <th>6147500</th>\n",
       "      <td>56</td>\n",
       "      <td>0</td>\n",
       "      <td>2658.23</td>\n",
       "      <td>83327</td>\n",
       "      <td>0</td>\n",
       "      <td>202894</td>\n",
       "      <td>0</td>\n",
       "      <td>92295</td>\n",
       "      <td>40294</td>\n",
       "      <td>5466</td>\n",
       "      <td>...</td>\n",
       "      <td>5</td>\n",
       "      <td>170922</td>\n",
       "      <td>90629</td>\n",
       "      <td>90629</td>\n",
       "      <td>5.65</td>\n",
       "      <td>146416</td>\n",
       "      <td>1</td>\n",
       "      <td>0.043033</td>\n",
       "      <td>125604</td>\n",
       "      <td>0.170204</td>\n",
       "    </tr>\n",
       "  </tbody>\n",
       "</table>\n",
       "<p>143506 rows × 32 columns</p>\n",
       "</div>"
      ],
      "text/plain": [
       "                  Age at Injury  Attorney/Representative  Average Weekly Wage  \\\n",
       "Claim Identifier                                                                \n",
       "5713803                      46                        1              1006.87   \n",
       "5638483                      49                        0                 0.00   \n",
       "5845425                      32                        0                 0.00   \n",
       "5824359                      31                        1               581.75   \n",
       "5860845                      48                        0              1830.15   \n",
       "...                         ...                      ...                  ...   \n",
       "5684330                      24                        0               663.37   \n",
       "5548944                      42                        0                 0.00   \n",
       "6029859                      33                        0                 0.00   \n",
       "6027385                      60                        1                 0.00   \n",
       "6147500                      56                        0              2658.23   \n",
       "\n",
       "                  Carrier Type  COVID-19 Indicator  District Name  Gender  \\\n",
       "Claim Identifier                                                            \n",
       "5713803                 214179                   0         202894       1   \n",
       "5638483                 214179                   0         202894       1   \n",
       "5845425                 214179                   1          34227       1   \n",
       "5824359                 214179                   0          45543       1   \n",
       "5860845                 214179                   0         202894       1   \n",
       "...                        ...                 ...            ...     ...   \n",
       "5684330                 214179                   0          33674       0   \n",
       "5548944                 214179                   0          64524       0   \n",
       "6029859                  39559                   0          30220       0   \n",
       "6027385                 214179                   0          64524       1   \n",
       "6147500                  83327                   0         202894       0   \n",
       "\n",
       "                  Industry Code Description  Medical Fee Region  \\\n",
       "Claim Identifier                                                  \n",
       "5713803                               28703              199485   \n",
       "5638483                               40540               40294   \n",
       "5845425                               40540               63702   \n",
       "5824359                               15779               40294   \n",
       "5860845                                7454              199485   \n",
       "...                                     ...                 ...   \n",
       "5684330                               92295              101965   \n",
       "5548944                               92295               63702   \n",
       "6029859                               92295              101965   \n",
       "6027385                               28703              101965   \n",
       "6147500                               92295               40294   \n",
       "\n",
       "                  WCIO Cause of Injury Description  ...  \\\n",
       "Claim Identifier                                    ...   \n",
       "5713803                                       2806  ...   \n",
       "5638483                                       8994  ...   \n",
       "5845425                                      18813  ...   \n",
       "5824359                                       4808  ...   \n",
       "5860845                                      46622  ...   \n",
       "...                                            ...  ...   \n",
       "5684330                                       5637  ...   \n",
       "5548944                                      46622  ...   \n",
       "6029859                                      19879  ...   \n",
       "6027385                                      46622  ...   \n",
       "6147500                                       5466  ...   \n",
       "\n",
       "                  days_accident_to_assembly  days_accident_to_assembly_binned  \\\n",
       "Claim Identifier                                                                \n",
       "5713803                                  13                            167480   \n",
       "5638483                                   7                            170922   \n",
       "5845425                                  14                            167480   \n",
       "5824359                                   7                            170922   \n",
       "5860845                                  21                            167480   \n",
       "...                                     ...                               ...   \n",
       "5684330                                   5                            170922   \n",
       "5548944                                1411                              2662   \n",
       "6029859                                   2                            170922   \n",
       "6027385                                  66                             53364   \n",
       "6147500                                   5                            170922   \n",
       "\n",
       "                  body_region     AIS  ais_weights  severity  SS       ASS  \\\n",
       "Claim Identifier                                                             \n",
       "5713803                  9238    9238         6.39    146416   1  0.064696   \n",
       "5638483                 90629   90629         5.65    146416   1  0.043033   \n",
       "5845425                 24175   24175         4.80     20879   5  0.580211   \n",
       "5824359                 90629   90629         5.65     25908   3  0.373829   \n",
       "5860845                 90629   90629         5.65    186635   2  0.208431   \n",
       "...                       ...     ...          ...       ...  ..       ...   \n",
       "5684330                134448  134448         5.65    186635   2  0.208431   \n",
       "5548944                 54393   54393         5.32    186635   2  0.189110   \n",
       "6029859                 90629   90629         5.65    146416   1  0.043033   \n",
       "6027385                 54393   54393         5.32     34594   0  0.500000   \n",
       "6147500                 90629   90629         5.65    146416   1  0.043033   \n",
       "\n",
       "                  industry_new       IRS  \n",
       "Claim Identifier                          \n",
       "5713803                  28703  0.163348  \n",
       "5638483                  40540  0.732306  \n",
       "5845425                  40540  0.732306  \n",
       "5824359                  32327  0.144994  \n",
       "5860845                  27353  0.152969  \n",
       "...                        ...       ...  \n",
       "5684330                 125604  0.170204  \n",
       "5548944                 125604  0.170204  \n",
       "6029859                 125604  0.170204  \n",
       "6027385                  28703  0.163348  \n",
       "6147500                 125604  0.170204  \n",
       "\n",
       "[143506 rows x 32 columns]"
      ]
     },
     "execution_count": 8,
     "metadata": {},
     "output_type": "execute_result"
    }
   ],
   "source": [
    "X_val_encoded"
   ]
  },
  {
   "cell_type": "code",
   "execution_count": 9,
   "metadata": {},
   "outputs": [],
   "source": [
    "import pandas as pd\n",
    "from sklearn.preprocessing import MinMaxScaler, StandardScaler\n",
    "\n",
    "features_to_scale = ['Age at Injury', 'Average Weekly Wage', 'Carrier Type', 'District Name',\n",
    "                    'Industry Code Description', 'Medical Fee Region',\n",
    "                    'WCIO Cause of Injury Description', 'WCIO Nature of Injury Description', 'WCIO Part Of Body Description',\n",
    "                    'Number of Dependents', 'age_group', 'wage_groups', 'days_to_c2', 'days_to_c2_binned',\n",
    "                    'body_group', 'injury_type', 'injury_cause', 'industry_group', 'zip_group',\n",
    "                    'days_accident_to_assembly', 'days_accident_to_assembly_binned', 'ASS', 'SS', 'ais_weights', 'IRS', 'AIS',\n",
    "                    'severity', 'industry_new', 'body_region']\n",
    "\n",
    "#features_to_scale = ['Age at Injury', 'Average Weekly Wage', 'Number of Dependents', 'days_to_c2', 'days_accident_to_assembly', 'ais_weights', 'SS', 'ASS', 'IRS']\n",
    "\n",
    "#scaler = MinMaxScaler()\n",
    "scaler = StandardScaler()\n",
    "X_train_encoded[features_to_scale] = scaler.fit_transform(X_train_encoded[features_to_scale])\n",
    "\n",
    "X_val_encoded[features_to_scale] = scaler.transform(X_val_encoded[features_to_scale])\n",
    "X_test_encoded[features_to_scale] = scaler.transform(X_test_encoded[features_to_scale])\n",
    "\n",
    "X_train_scaled = X_train_encoded\n",
    "X_val_scaled = X_val_encoded\n",
    "X_test_scaled = X_test_encoded"
   ]
  },
  {
   "cell_type": "code",
   "execution_count": 180,
   "metadata": {},
   "outputs": [],
   "source": [
    "X_train_scaled = X_train_encoded\n",
    "X_val_scaled = X_val_encoded\n",
    "X_test_scaled = X_test_encoded"
   ]
  },
  {
   "cell_type": "markdown",
   "metadata": {},
   "source": [
    "## Resampling"
   ]
  },
  {
   "cell_type": "code",
   "execution_count": 9,
   "metadata": {},
   "outputs": [
    {
     "name": "stdout",
     "output_type": "stream",
     "text": [
      "Original class distribution: Counter({2: 218307, 4: 111380, 3: 51679, 5: 36210, 1: 9358, 6: 3158, 8: 353, 7: 73})\n"
     ]
    }
   ],
   "source": [
    "from imblearn.over_sampling import RandomOverSampler\n",
    "from collections import Counter\n",
    "\n",
    "# Check the original class distribution\n",
    "print(\"Original class distribution:\", Counter(y_train))"
   ]
  },
  {
   "cell_type": "code",
   "execution_count": 10,
   "metadata": {},
   "outputs": [
    {
     "name": "stdout",
     "output_type": "stream",
     "text": [
      "New class distribution: Counter({2: 218307, 4: 111380, 3: 51679, 5: 36210, 6: 15000, 8: 15000, 7: 15000, 1: 9358})\n"
     ]
    }
   ],
   "source": [
    "# Define the desired class sizes for moderate oversampling\n",
    "# Example: Increase minority classes but not fully balanced\n",
    "desired_class_counts = {\n",
    "    1: 9358,\n",
    "    2: 218307,\n",
    "    3: 51679,\n",
    "    4: 111380,\n",
    "    5: 36210,\n",
    "    6: 15000,\n",
    "    7: 15000,\n",
    "    8: 15000\n",
    "}\n",
    "\n",
    "\n",
    "# Apply RandomOverSampler with specified target counts\n",
    "ros = RandomOverSampler(sampling_strategy=desired_class_counts, random_state=42)\n",
    "X_resampled, y_resampled = ros.fit_resample(X_train_encoded, y_train)\n",
    "\n",
    "# Check the new class distribution\n",
    "print(\"New class distribution:\", Counter(y_resampled))"
   ]
  },
  {
   "cell_type": "code",
   "execution_count": 10,
   "metadata": {},
   "outputs": [],
   "source": [
    "X_resampled = X_train_scaled\n",
    "y_resampled = y_train"
   ]
  },
  {
   "cell_type": "code",
   "execution_count": null,
   "metadata": {},
   "outputs": [],
   "source": [
    "# # import the SMOTETomek.\n",
    "# from imblearn.combine import SMOTETomek\n",
    "\n",
    "# # create the  object with the desired sampling strategy.\n",
    "# smotemek = SMOTETomek(sampling_strategy='auto')\n",
    "\n",
    "# # fit the object to our training data.\n",
    "# x_train_smt, y_train_smt = smotemek.fit_resample(X_train_scaled, y_train)"
   ]
  },
  {
   "cell_type": "markdown",
   "metadata": {},
   "source": [
    "### ADASYN"
   ]
  },
  {
   "cell_type": "code",
   "execution_count": null,
   "metadata": {},
   "outputs": [],
   "source": [
    "# from imblearn.over_sampling import ADASYN\n",
    "\n",
    "# ada = ADASYN(sampling_strategy='auto', random_state=13)\n",
    "# X_train_ada, y_train_ada = ada.fit_resample(X_train_scaled, y_train)"
   ]
  },
  {
   "cell_type": "markdown",
   "metadata": {},
   "source": [
    "# Feature Selection"
   ]
  },
  {
   "cell_type": "markdown",
   "metadata": {},
   "source": [
    "## Filter Methods\n",
    "\n",
    "Filter methods identify the most important features by applying statistical measures to evaluate their correlation to the target variable. They are simple, fast, and can be applied before the modeling stage, which makes them a good starting point for feature selection. Indeed, they were crucial in the selection of features for the first models the group obtained (like in the case of the decision trees using the count encoder).\n",
    "\n",
    "The group decided to use Spearman's correlation coefficient because, in comparison to Pearson's, Spearman's correlation offers better results when data is non-linear or does not follow a normal distribution. The idea is that very highly correlated variables should be removed, as they're adding redundancy to the model without offering new information and that variables highly correlated to the target should be the most explanatory.\n",
    "\n",
    "Variance was also used to identify any univariate variables and remove them. This was done because univariate variables don't offer any new information to the model."
   ]
  },
  {
   "cell_type": "code",
   "execution_count": 184,
   "metadata": {},
   "outputs": [
    {
     "data": {
      "text/plain": [
       "Average Weekly Wage          2.926979e+06\n",
       "days_accident_to_assembly    3.599947e+05\n",
       "days_to_c2                   2.507128e+05\n",
       "Age at Injury                1.816586e+02\n",
       "ais_weights                  4.175223e+00\n",
       "Number of Dependents         3.998484e+00\n",
       "SS                           1.554687e+00\n",
       "col_49                       1.509964e+00\n",
       "col_3                        1.242495e+00\n",
       "col_8                        7.657179e-01\n",
       "col_38                       5.734476e-01\n",
       "col_63                       5.108734e-01\n",
       "col_26                       4.833897e-01\n",
       "col_11                       4.542399e-01\n",
       "col_37                       4.429696e-01\n",
       "col_62                       4.386282e-01\n",
       "col_57                       3.735199e-01\n",
       "col_45                       3.665931e-01\n",
       "col_61                       3.638529e-01\n",
       "col_32                       3.466090e-01\n",
       "col_5                        3.338649e-01\n",
       "col_27                       3.228455e-01\n",
       "col_41                       3.079666e-01\n",
       "col_20                       2.983315e-01\n",
       "col_19                       2.907472e-01\n",
       "col_7                        2.892161e-01\n",
       "col_39                       2.749151e-01\n",
       "col_60                       2.710507e-01\n",
       "col_43                       2.654933e-01\n",
       "col_42                       2.534336e-01\n",
       "col_9                        2.493125e-01\n",
       "col_47                       2.488096e-01\n",
       "Gender                       2.414400e-01\n",
       "col_4                        2.256366e-01\n",
       "Attorney/Representative      2.163044e-01\n",
       "col_10                       2.155487e-01\n",
       "col_44                       2.145420e-01\n",
       "col_31                       2.129610e-01\n",
       "col_53                       2.119742e-01\n",
       "col_0                        2.093356e-01\n",
       "col_48                       2.055153e-01\n",
       "col_6                        2.040748e-01\n",
       "col_18                       1.993621e-01\n",
       "col_21                       1.900529e-01\n",
       "col_15                       1.773258e-01\n",
       "col_24                       1.742649e-01\n",
       "col_25                       1.699592e-01\n",
       "col_35                       1.502934e-01\n",
       "col_12                       1.381976e-01\n",
       "col_51                       1.302681e-01\n",
       "col_28                       1.294404e-01\n",
       "col_22                       1.284461e-01\n",
       "col_55                       1.191248e-01\n",
       "col_13                       1.137610e-01\n",
       "col_36                       1.110649e-01\n",
       "col_46                       1.105515e-01\n",
       "col_58                       1.092467e-01\n",
       "col_59                       1.023330e-01\n",
       "col_33                       9.590380e-02\n",
       "col_34                       8.168910e-02\n",
       "col_16                       6.251240e-02\n",
       "col_29                       5.513058e-02\n",
       "col_2                        5.306333e-02\n",
       "col_56                       5.094948e-02\n",
       "COVID-19 Indicator           4.578457e-02\n",
       "col_54                       4.057648e-02\n",
       "ASS                          3.599789e-02\n",
       "col_14                       3.259805e-02\n",
       "IRS                          3.238427e-02\n",
       "col_40                       2.687211e-02\n",
       "col_52                       2.222299e-02\n",
       "col_1                        1.548243e-02\n",
       "col_30                       1.250999e-02\n",
       "col_17                       1.111591e-02\n",
       "col_50                       4.030038e-03\n",
       "col_23                       3.859400e-03\n",
       "dtype: float64"
      ]
     },
     "execution_count": 184,
     "metadata": {},
     "output_type": "execute_result"
    }
   ],
   "source": [
    "pd.set_option('display.max_rows', None)\n",
    "X_resampled.var().sort_values(ascending=False)\n"
   ]
  },
  {
   "cell_type": "markdown",
   "metadata": {},
   "source": [
    "Mutual Information"
   ]
  },
  {
   "cell_type": "code",
   "execution_count": 108,
   "metadata": {},
   "outputs": [
    {
     "data": {
      "text/plain": [
       "<Axes: title={'center': 'Mutual Information'}>"
      ]
     },
     "execution_count": 108,
     "metadata": {},
     "output_type": "execute_result"
    },
    {
     "data": {
      "image/png": "[encoded data removed]",
      "text/plain": [
       "<Figure size 1000x800 with 1 Axes>"
      ]
     },
     "metadata": {},
     "output_type": "display_data"
    }
   ],
   "source": [
    "mi = mutual_info_classif(X_resampled, y_resampled)\n",
    "mi = pd.Series(mi)\n",
    "mi.index = X_resampled.columns\n",
    "mi.sort_values(ascending=False)\n",
    "mi.sort_values().plot(kind='barh', title = \"Mutual Information\", figsize=(10, 8))"
   ]
  },
  {
   "cell_type": "code",
   "execution_count": 185,
   "metadata": {},
   "outputs": [
    {
     "name": "stdout",
     "output_type": "stream",
     "text": [
      "Mutual Information Scores:\n",
      "Average Weekly Wage          0.479399\n",
      "Attorney/Representative      0.210587\n",
      "col_49                       0.121274\n",
      "col_39                       0.082733\n",
      "ASS                          0.060298\n",
      "ais_weights                  0.052947\n",
      "col_59                       0.047159\n",
      "days_to_c2                   0.037569\n",
      "IRS                          0.035853\n",
      "col_21                       0.033015\n",
      "Gender                       0.032316\n",
      "col_26                       0.031172\n",
      "SS                           0.030990\n",
      "col_3                        0.023073\n",
      "col_9                        0.023021\n",
      "col_25                       0.022296\n",
      "col_28                       0.022007\n",
      "days_accident_to_assembly    0.020759\n",
      "col_5                        0.020512\n",
      "Age at Injury                0.016751\n",
      "col_10                       0.015177\n",
      "col_47                       0.015131\n",
      "col_32                       0.014923\n",
      "col_0                        0.014649\n",
      "col_57                       0.014462\n",
      "col_37                       0.014408\n",
      "col_18                       0.014352\n",
      "col_61                       0.014209\n",
      "col_6                        0.014103\n",
      "col_41                       0.013782\n",
      "col_19                       0.013751\n",
      "col_7                        0.013515\n",
      "col_62                       0.013335\n",
      "col_42                       0.012225\n",
      "col_38                       0.011216\n",
      "col_8                        0.011043\n",
      "col_11                       0.011012\n",
      "col_20                       0.010932\n",
      "col_15                       0.010245\n",
      "col_24                       0.009599\n",
      "col_60                       0.008156\n",
      "col_45                       0.007063\n",
      "col_53                       0.006973\n",
      "col_46                       0.006901\n",
      "col_43                       0.006608\n",
      "col_4                        0.006471\n",
      "col_44                       0.006450\n",
      "col_63                       0.006115\n",
      "col_31                       0.006075\n",
      "col_27                       0.006035\n",
      "COVID-19 Indicator           0.005733\n",
      "Number of Dependents         0.005675\n",
      "col_35                       0.005592\n",
      "col_33                       0.005564\n",
      "col_13                       0.005059\n",
      "col_52                       0.004337\n",
      "col_58                       0.003661\n",
      "col_36                       0.003139\n",
      "col_12                       0.002857\n",
      "col_51                       0.002772\n",
      "col_54                       0.002655\n",
      "col_55                       0.002601\n",
      "col_22                       0.002142\n",
      "col_2                        0.002113\n",
      "col_48                       0.002041\n",
      "col_14                       0.001293\n",
      "col_1                        0.001186\n",
      "col_17                       0.001159\n",
      "col_34                       0.001126\n",
      "col_16                       0.001058\n",
      "col_56                       0.001012\n",
      "col_50                       0.000632\n",
      "col_40                       0.000365\n",
      "col_29                       0.000280\n",
      "col_30                       0.000000\n",
      "col_23                       0.000000\n",
      "dtype: float64\n",
      "\n",
      "Features with Low Mutual Information:\n",
      "['col_3', 'col_9', 'col_25', 'col_28', 'days_accident_to_assembly', 'col_5', 'Age at Injury', 'col_10', 'col_47', 'col_32', 'col_0', 'col_57', 'col_37', 'col_18', 'col_61', 'col_6', 'col_41', 'col_19', 'col_7', 'col_62', 'col_42', 'col_38', 'col_8', 'col_11', 'col_20', 'col_15', 'col_24', 'col_60', 'col_45', 'col_53', 'col_46', 'col_43', 'col_4', 'col_44', 'col_63', 'col_31', 'col_27', 'COVID-19 Indicator', 'Number of Dependents', 'col_35', 'col_33', 'col_13', 'col_52', 'col_58', 'col_36', 'col_12', 'col_51', 'col_54', 'col_55', 'col_22', 'col_2', 'col_48', 'col_14', 'col_1', 'col_17', 'col_34', 'col_16', 'col_56', 'col_50', 'col_40', 'col_29', 'col_30', 'col_23']\n"
     ]
    }
   ],
   "source": [
    "def calculate_mutual_information(X, y):\n",
    "    mi_scores = mutual_info_classif(X, y, discrete_features='auto', random_state=42)\n",
    "    mi_scores_series = pd.Series(mi_scores, index=X.columns).sort_values(ascending=False)\n",
    "    return mi_scores_series\n",
    "# Calculate mutual information for the dataset\n",
    "mi_scores = calculate_mutual_information(X_resampled, y_resampled)\n",
    "\n",
    "# Display the mutual information scores\n",
    "print(\"Mutual Information Scores:\")\n",
    "print(mi_scores)\n",
    "\n",
    "# Features with low mutual information\n",
    "low_mi_features = mi_scores[mi_scores < 0.025].index.tolist()\n",
    "print(\"\\nFeatures with Low Mutual Information:\")\n",
    "print(low_mi_features)"
   ]
  },
  {
   "cell_type": "markdown",
   "metadata": {},
   "source": [
    "With a variance threshold of 0.01 and a correlation > 0.9 the method didn’t reduce the number of features, so the group changed the variance threshold to 0.1 and the correlation to 0.8"
   ]
  },
  {
   "cell_type": "code",
   "execution_count": 186,
   "metadata": {},
   "outputs": [
    {
     "name": "stdout",
     "output_type": "stream",
     "text": [
      "Features after low variance filtering: 58\n",
      "Index(['col_0', 'col_3', 'col_4', 'col_5', 'col_6', 'col_7', 'col_8', 'col_9',\n",
      "       'col_10', 'col_11', 'col_12', 'col_13', 'col_15', 'col_18', 'col_19',\n",
      "       'col_20', 'col_21', 'col_22', 'col_24', 'col_25', 'col_26', 'col_27',\n",
      "       'col_28', 'col_31', 'col_32', 'col_35', 'col_36', 'col_37', 'col_38',\n",
      "       'col_39', 'col_41', 'col_42', 'col_43', 'col_44', 'col_45', 'col_46',\n",
      "       'col_47', 'col_48', 'col_49', 'col_51', 'col_53', 'col_55', 'col_57',\n",
      "       'col_58', 'col_59', 'col_60', 'col_61', 'col_62', 'col_63',\n",
      "       'Age at Injury', 'Attorney/Representative', 'Average Weekly Wage',\n",
      "       'Gender', 'Number of Dependents', 'days_to_c2',\n",
      "       'days_accident_to_assembly', 'ais_weights', 'SS'],\n",
      "      dtype='object')\n",
      "\n",
      "Features after correlation filtering: 57\n",
      "Index(['col_0', 'col_3', 'col_4', 'col_5', 'col_6', 'col_7', 'col_8', 'col_9',\n",
      "       'col_10', 'col_11', 'col_12', 'col_13', 'col_15', 'col_18', 'col_19',\n",
      "       'col_20', 'col_21', 'col_22', 'col_24', 'col_25', 'col_26', 'col_27',\n",
      "       'col_28', 'col_31', 'col_32', 'col_35', 'col_36', 'col_37', 'col_38',\n",
      "       'col_39', 'col_41', 'col_42', 'col_43', 'col_44', 'col_45', 'col_46',\n",
      "       'col_47', 'col_48', 'col_49', 'col_51', 'col_53', 'col_55', 'col_57',\n",
      "       'col_58', 'col_59', 'col_60', 'col_61', 'col_62', 'col_63',\n",
      "       'Age at Injury', 'Attorney/Representative', 'Average Weekly Wage',\n",
      "       'Gender', 'Number of Dependents', 'days_to_c2',\n",
      "       'days_accident_to_assembly', 'SS'],\n",
      "      dtype='object')\n",
      "\n"
     ]
    }
   ],
   "source": [
    "import numpy as np\n",
    "import pandas as pd\n",
    "from sklearn.feature_selection import VarianceThreshold\n",
    "\n",
    "### STEP 1: LOW VARIANCE FILTER\n",
    "# Remove features with low variance\n",
    "variance_threshold = 0.1\n",
    "variance_filter = VarianceThreshold(threshold=variance_threshold)\n",
    "\n",
    "X_train_low_variance = variance_filter.fit_transform(X_resampled)\n",
    "\n",
    "X_val_low_variance = variance_filter.transform(X_val_scaled)\n",
    "\n",
    "# Get the names of the remaining features\n",
    "low_variance_selected_features = X_resampled.columns[variance_filter.get_support()]\n",
    "print(f\"Features after low variance filtering: {len(low_variance_selected_features)}\")\n",
    "print(f\"{low_variance_selected_features}\\n\")\n",
    "\n",
    "X_train_filtered = pd.DataFrame(X_train_low_variance, columns=low_variance_selected_features)\n",
    "X_val_filtered = pd.DataFrame(X_val_low_variance, columns=low_variance_selected_features)\n",
    "\n",
    "### STEP 2: CORRELATION-BASED FILTER\n",
    "correlation_matrix = X_train_filtered.corr().abs()\n",
    "\n",
    "upper_triangle = correlation_matrix.where(np.triu(np.ones(correlation_matrix.shape), k=1).astype(bool))\n",
    "\n",
    "# Find features with high correlation (correlation > 0.8)\n",
    "correlation_threshold = 0.9\n",
    "to_drop = [column for column in upper_triangle.columns if any(upper_triangle[column] > correlation_threshold)]\n",
    "\n",
    "# Drop highly correlated features\n",
    "X_train_final = X_train_filtered.drop(columns=to_drop)\n",
    "X_val_final = X_val_filtered.drop(columns=to_drop)\n",
    "\n",
    "# final list of selected features\n",
    "final_selected_features = X_train_final.columns\n",
    "print(f\"Features after correlation filtering: {len(final_selected_features)}\")\n",
    "print(f\"{final_selected_features}\\n\")"
   ]
  },
  {
   "cell_type": "code",
   "execution_count": 110,
   "metadata": {},
   "outputs": [
    {
     "name": "stdout",
     "output_type": "stream",
     "text": [
      "The columns: wage_groups & Average Weekly Wage have a correlation of: -0.9578784148960674 \n",
      "\n",
      "The columns: days_accident_to_assembly & days_to_c2 have a correlation of: 0.8771876704647396 \n",
      "\n",
      "The columns: days_accident_to_assembly & days_to_c2_binned have a correlation of: -0.8635520940354581 \n",
      "\n",
      "The columns: days_accident_to_assembly_binned & days_to_c2_binned have a correlation of: 0.9347200366183954 \n",
      "\n",
      "The columns: days_accident_to_assembly_binned & days_accident_to_assembly have a correlation of: -0.901676220347799 \n",
      "\n",
      "The columns: AIS & body_region have a correlation of: 1.0 \n",
      "\n",
      "The columns: industry_new & Industry Code Description have a correlation of: 0.8508809493668309 \n",
      "\n"
     ]
    }
   ],
   "source": [
    "cor_spearman = X_resampled.corr(method ='spearman')\n",
    "# check the name of the 2 variables that have a correlation higher than 0.5\n",
    "for i in range(len(cor_spearman.columns)):\n",
    "    for j in range(i):\n",
    "        if abs(cor_spearman.iloc[i, j]) > 0.85:\n",
    "            print(f\"The columns: {cor_spearman.columns[i]} & {cor_spearman.columns[j]} have a correlation of: {cor_spearman.iloc[i, j]} \\n\")"
   ]
  },
  {
   "cell_type": "code",
   "execution_count": 187,
   "metadata": {},
   "outputs": [
    {
     "data": {
      "text/plain": [
       "Attorney/Representative      0.581123\n",
       "col_39                       0.373323\n",
       "Average Weekly Wage          0.303118\n",
       "col_59                       0.301221\n",
       "col_25                       0.146203\n",
       "Age at Injury                0.106817\n",
       "IRS                          0.106464\n",
       "col_5                        0.085316\n",
       "col_18                       0.084558\n",
       "Gender                       0.075565\n",
       "col_11                       0.065061\n",
       "col_0                        0.064105\n",
       "col_37                       0.051823\n",
       "col_21                       0.044647\n",
       "col_45                       0.044141\n",
       "col_12                       0.042024\n",
       "col_9                        0.041490\n",
       "col_17                       0.040673\n",
       "col_22                       0.035094\n",
       "col_60                       0.034518\n",
       "col_40                       0.034401\n",
       "ASS                          0.033367\n",
       "col_55                       0.030051\n",
       "col_53                       0.029378\n",
       "col_44                       0.029359\n",
       "col_8                        0.028183\n",
       "col_4                        0.026339\n",
       "col_35                       0.024386\n",
       "col_29                       0.024066\n",
       "col_56                       0.021230\n",
       "col_54                       0.021152\n",
       "col_43                       0.019428\n",
       "days_to_c2                   0.015988\n",
       "col_27                       0.015898\n",
       "col_19                       0.014534\n",
       "col_47                       0.010345\n",
       "col_38                       0.009995\n",
       "SS                           0.008459\n",
       "col_63                       0.008016\n",
       "col_16                       0.005899\n",
       "col_23                       0.005793\n",
       "col_30                       0.005570\n",
       "col_24                       0.001560\n",
       "col_26                       0.000708\n",
       "Number of Dependents         0.000405\n",
       "col_14                      -0.001490\n",
       "col_41                      -0.001903\n",
       "col_34                      -0.002796\n",
       "days_accident_to_assembly   -0.005244\n",
       "col_36                      -0.006286\n",
       "col_2                       -0.006512\n",
       "ais_weights                 -0.009001\n",
       "col_48                      -0.012718\n",
       "col_32                      -0.014501\n",
       "col_31                      -0.015314\n",
       "col_50                      -0.018185\n",
       "col_57                      -0.019129\n",
       "col_3                       -0.019603\n",
       "col_51                      -0.019698\n",
       "col_1                       -0.022209\n",
       "col_6                       -0.022599\n",
       "col_58                      -0.024027\n",
       "col_20                      -0.024667\n",
       "col_42                      -0.047890\n",
       "col_61                      -0.048938\n",
       "col_62                      -0.052924\n",
       "col_15                      -0.058393\n",
       "col_13                      -0.059014\n",
       "col_46                      -0.060855\n",
       "COVID-19 Indicator          -0.069726\n",
       "col_33                      -0.075284\n",
       "col_52                      -0.080139\n",
       "col_10                      -0.090104\n",
       "col_7                       -0.090475\n",
       "col_28                      -0.091020\n",
       "col_49                      -0.327704\n",
       "dtype: float64"
      ]
     },
     "execution_count": 187,
     "metadata": {},
     "output_type": "execute_result"
    }
   ],
   "source": [
    "#making a correlation matrix between the variables and the target\n",
    "cor_target = X_resampled.corrwith(y_resampled)\n",
    "cor_target = cor_target.sort_values(ascending=False)\n",
    "cor_target"
   ]
  },
  {
   "cell_type": "markdown",
   "metadata": {},
   "source": [
    "com base no mutual information sai: 'days_to_c2', 'ais_weights', 'days_to_c2_binned', 'days_accident_to_assembly', 'injury_type', 'SS', 'injury_cause', 'body_group', 'Industry Code Description', 'Age at Injury', 'days_accident_to_assembly_binned', 'industry_risk_score', 'age_group', 'Carrier Type', 'Gender', 'District Name', 'Medical Fee Region', 'industry_group', 'COVID-19 Indicator', 'zip_group', 'Number of Dependents'"
   ]
  },
  {
   "cell_type": "markdown",
   "metadata": {},
   "source": [
    "com base em variance e correlation sai: days_to_c2, Average Weekly Wage, WCIO Nature of Injury Description, Industry Code Description, days_accident_to_assembly"
   ]
  },
  {
   "cell_type": "markdown",
   "metadata": {},
   "source": [
    "baseado no lasso sai: 'Average Weekly Wage', 'Carrier Type', 'COVID-19 Indicator', 'Industry Code Description', 'Number of Dependents', 'days_to_c2', 'days_to_c2_binned', 'body_group', 'injury_cause', 'industry_group', 'zip_group', 'days_accident_to_assembly', 'ASS', 'industry_risk_score'"
   ]
  },
  {
   "cell_type": "markdown",
   "metadata": {},
   "source": [
    "## Embedded Methods"
   ]
  },
  {
   "cell_type": "markdown",
   "metadata": {},
   "source": [
    "Embedded methods learn which features best contribute to the accuracy of the model while the model is being created, meaning that they integrate feature selection directly into the learning algorithm. The method the group chose was Lasso, a regression technique that works by reducing the coefficients of the least important features to zero. This means that it simultaneously indentifies those features and removes them from the model. The automatic feature selection that Lasso provides was the main reason to choose it over Ridge regression."
   ]
  },
  {
   "cell_type": "markdown",
   "metadata": {},
   "source": [
    "### LASSO Regression"
   ]
  },
  {
   "cell_type": "code",
   "execution_count": 188,
   "metadata": {},
   "outputs": [],
   "source": [
    "def plot_importance(coef,name):\n",
    "    imp_coef = coef.sort_values()\n",
    "    plt.figure(figsize=(8,10))\n",
    "    imp_coef.plot(kind = \"barh\")\n",
    "    plt.title(\"Feature importance using \" + name + \" Model\")\n",
    "    plt.show()"
   ]
  },
  {
   "cell_type": "code",
   "execution_count": 189,
   "metadata": {},
   "outputs": [],
   "source": [
    "from sklearn.linear_model import LassoCV\n",
    "import warnings\n",
    "warnings.filterwarnings('ignore')\n",
    "\n",
    "reg = LassoCV()"
   ]
  },
  {
   "cell_type": "code",
   "execution_count": 190,
   "metadata": {},
   "outputs": [
    {
     "data": {
      "text/html": [
       "<style>#sk-container-id-6 {\n",
       "  /* Definition of color scheme common for light and dark mode */\n",
       "  --sklearn-color-text: black;\n",
       "  --sklearn-color-line: gray;\n",
       "  /* Definition of color scheme for unfitted estimators */\n",
       "  --sklearn-color-unfitted-level-0: #fff5e6;\n",
       "  --sklearn-color-unfitted-level-1: #f6e4d2;\n",
       "  --sklearn-color-unfitted-level-2: #ffe0b3;\n",
       "  --sklearn-color-unfitted-level-3: chocolate;\n",
       "  /* Definition of color scheme for fitted estimators */\n",
       "  --sklearn-color-fitted-level-0: #f0f8ff;\n",
       "  --sklearn-color-fitted-level-1: #d4ebff;\n",
       "  --sklearn-color-fitted-level-2: #b3dbfd;\n",
       "  --sklearn-color-fitted-level-3: cornflowerblue;\n",
       "\n",
       "  /* Specific color for light theme */\n",
       "  --sklearn-color-text-on-default-background: var(--sg-text-color, var(--theme-code-foreground, var(--jp-content-font-color1, black)));\n",
       "  --sklearn-color-background: var(--sg-background-color, var(--theme-background, var(--jp-layout-color0, white)));\n",
       "  --sklearn-color-border-box: var(--sg-text-color, var(--theme-code-foreground, var(--jp-content-font-color1, black)));\n",
       "  --sklearn-color-icon: #696969;\n",
       "\n",
       "  @media (prefers-color-scheme: dark) {\n",
       "    /* Redefinition of color scheme for dark theme */\n",
       "    --sklearn-color-text-on-default-background: var(--sg-text-color, var(--theme-code-foreground, var(--jp-content-font-color1, white)));\n",
       "    --sklearn-color-background: var(--sg-background-color, var(--theme-background, var(--jp-layout-color0, #111)));\n",
       "    --sklearn-color-border-box: var(--sg-text-color, var(--theme-code-foreground, var(--jp-content-font-color1, white)));\n",
       "    --sklearn-color-icon: #878787;\n",
       "  }\n",
       "}\n",
       "\n",
       "#sk-container-id-6 {\n",
       "  color: var(--sklearn-color-text);\n",
       "}\n",
       "\n",
       "#sk-container-id-6 pre {\n",
       "  padding: 0;\n",
       "}\n",
       "\n",
       "#sk-container-id-6 input.sk-hidden--visually {\n",
       "  border: 0;\n",
       "  clip: rect(1px 1px 1px 1px);\n",
       "  clip: rect(1px, 1px, 1px, 1px);\n",
       "  height: 1px;\n",
       "  margin: -1px;\n",
       "  overflow: hidden;\n",
       "  padding: 0;\n",
       "  position: absolute;\n",
       "  width: 1px;\n",
       "}\n",
       "\n",
       "#sk-container-id-6 div.sk-dashed-wrapped {\n",
       "  border: 1px dashed var(--sklearn-color-line);\n",
       "  margin: 0 0.4em 0.5em 0.4em;\n",
       "  box-sizing: border-box;\n",
       "  padding-bottom: 0.4em;\n",
       "  background-color: var(--sklearn-color-background);\n",
       "}\n",
       "\n",
       "#sk-container-id-6 div.sk-container {\n",
       "  /* jupyter's `normalize.less` sets `[hidden] { display: none; }`\n",
       "     but bootstrap.min.css set `[hidden] { display: none !important; }`\n",
       "     so we also need the `!important` here to be able to override the\n",
       "     default hidden behavior on the sphinx rendered scikit-learn.org.\n",
       "     See: https://github.com/scikit-learn/scikit-learn/issues/21755 */\n",
       "  display: inline-block !important;\n",
       "  position: relative;\n",
       "}\n",
       "\n",
       "#sk-container-id-6 div.sk-text-repr-fallback {\n",
       "  display: none;\n",
       "}\n",
       "\n",
       "div.sk-parallel-item,\n",
       "div.sk-serial,\n",
       "div.sk-item {\n",
       "  /* draw centered vertical line to link estimators */\n",
       "  background-image: linear-gradient(var(--sklearn-color-text-on-default-background), var(--sklearn-color-text-on-default-background));\n",
       "  background-size: 2px 100%;\n",
       "  background-repeat: no-repeat;\n",
       "  background-position: center center;\n",
       "}\n",
       "\n",
       "/* Parallel-specific style estimator block */\n",
       "\n",
       "#sk-container-id-6 div.sk-parallel-item::after {\n",
       "  content: \"\";\n",
       "  width: 100%;\n",
       "  border-bottom: 2px solid var(--sklearn-color-text-on-default-background);\n",
       "  flex-grow: 1;\n",
       "}\n",
       "\n",
       "#sk-container-id-6 div.sk-parallel {\n",
       "  display: flex;\n",
       "  align-items: stretch;\n",
       "  justify-content: center;\n",
       "  background-color: var(--sklearn-color-background);\n",
       "  position: relative;\n",
       "}\n",
       "\n",
       "#sk-container-id-6 div.sk-parallel-item {\n",
       "  display: flex;\n",
       "  flex-direction: column;\n",
       "}\n",
       "\n",
       "#sk-container-id-6 div.sk-parallel-item:first-child::after {\n",
       "  align-self: flex-end;\n",
       "  width: 50%;\n",
       "}\n",
       "\n",
       "#sk-container-id-6 div.sk-parallel-item:last-child::after {\n",
       "  align-self: flex-start;\n",
       "  width: 50%;\n",
       "}\n",
       "\n",
       "#sk-container-id-6 div.sk-parallel-item:only-child::after {\n",
       "  width: 0;\n",
       "}\n",
       "\n",
       "/* Serial-specific style estimator block */\n",
       "\n",
       "#sk-container-id-6 div.sk-serial {\n",
       "  display: flex;\n",
       "  flex-direction: column;\n",
       "  align-items: center;\n",
       "  background-color: var(--sklearn-color-background);\n",
       "  padding-right: 1em;\n",
       "  padding-left: 1em;\n",
       "}\n",
       "\n",
       "\n",
       "/* Toggleable style: style used for estimator/Pipeline/ColumnTransformer box that is\n",
       "clickable and can be expanded/collapsed.\n",
       "- Pipeline and ColumnTransformer use this feature and define the default style\n",
       "- Estimators will overwrite some part of the style using the `sk-estimator` class\n",
       "*/\n",
       "\n",
       "/* Pipeline and ColumnTransformer style (default) */\n",
       "\n",
       "#sk-container-id-6 div.sk-toggleable {\n",
       "  /* Default theme specific background. It is overwritten whether we have a\n",
       "  specific estimator or a Pipeline/ColumnTransformer */\n",
       "  background-color: var(--sklearn-color-background);\n",
       "}\n",
       "\n",
       "/* Toggleable label */\n",
       "#sk-container-id-6 label.sk-toggleable__label {\n",
       "  cursor: pointer;\n",
       "  display: block;\n",
       "  width: 100%;\n",
       "  margin-bottom: 0;\n",
       "  padding: 0.5em;\n",
       "  box-sizing: border-box;\n",
       "  text-align: center;\n",
       "}\n",
       "\n",
       "#sk-container-id-6 label.sk-toggleable__label-arrow:before {\n",
       "  /* Arrow on the left of the label */\n",
       "  content: \"▸\";\n",
       "  float: left;\n",
       "  margin-right: 0.25em;\n",
       "  color: var(--sklearn-color-icon);\n",
       "}\n",
       "\n",
       "#sk-container-id-6 label.sk-toggleable__label-arrow:hover:before {\n",
       "  color: var(--sklearn-color-text);\n",
       "}\n",
       "\n",
       "/* Toggleable content - dropdown */\n",
       "\n",
       "#sk-container-id-6 div.sk-toggleable__content {\n",
       "  max-height: 0;\n",
       "  max-width: 0;\n",
       "  overflow: hidden;\n",
       "  text-align: left;\n",
       "  /* unfitted */\n",
       "  background-color: var(--sklearn-color-unfitted-level-0);\n",
       "}\n",
       "\n",
       "#sk-container-id-6 div.sk-toggleable__content.fitted {\n",
       "  /* fitted */\n",
       "  background-color: var(--sklearn-color-fitted-level-0);\n",
       "}\n",
       "\n",
       "#sk-container-id-6 div.sk-toggleable__content pre {\n",
       "  margin: 0.2em;\n",
       "  border-radius: 0.25em;\n",
       "  color: var(--sklearn-color-text);\n",
       "  /* unfitted */\n",
       "  background-color: var(--sklearn-color-unfitted-level-0);\n",
       "}\n",
       "\n",
       "#sk-container-id-6 div.sk-toggleable__content.fitted pre {\n",
       "  /* unfitted */\n",
       "  background-color: var(--sklearn-color-fitted-level-0);\n",
       "}\n",
       "\n",
       "#sk-container-id-6 input.sk-toggleable__control:checked~div.sk-toggleable__content {\n",
       "  /* Expand drop-down */\n",
       "  max-height: 200px;\n",
       "  max-width: 100%;\n",
       "  overflow: auto;\n",
       "}\n",
       "\n",
       "#sk-container-id-6 input.sk-toggleable__control:checked~label.sk-toggleable__label-arrow:before {\n",
       "  content: \"▾\";\n",
       "}\n",
       "\n",
       "/* Pipeline/ColumnTransformer-specific style */\n",
       "\n",
       "#sk-container-id-6 div.sk-label input.sk-toggleable__control:checked~label.sk-toggleable__label {\n",
       "  color: var(--sklearn-color-text);\n",
       "  background-color: var(--sklearn-color-unfitted-level-2);\n",
       "}\n",
       "\n",
       "#sk-container-id-6 div.sk-label.fitted input.sk-toggleable__control:checked~label.sk-toggleable__label {\n",
       "  background-color: var(--sklearn-color-fitted-level-2);\n",
       "}\n",
       "\n",
       "/* Estimator-specific style */\n",
       "\n",
       "/* Colorize estimator box */\n",
       "#sk-container-id-6 div.sk-estimator input.sk-toggleable__control:checked~label.sk-toggleable__label {\n",
       "  /* unfitted */\n",
       "  background-color: var(--sklearn-color-unfitted-level-2);\n",
       "}\n",
       "\n",
       "#sk-container-id-6 div.sk-estimator.fitted input.sk-toggleable__control:checked~label.sk-toggleable__label {\n",
       "  /* fitted */\n",
       "  background-color: var(--sklearn-color-fitted-level-2);\n",
       "}\n",
       "\n",
       "#sk-container-id-6 div.sk-label label.sk-toggleable__label,\n",
       "#sk-container-id-6 div.sk-label label {\n",
       "  /* The background is the default theme color */\n",
       "  color: var(--sklearn-color-text-on-default-background);\n",
       "}\n",
       "\n",
       "/* On hover, darken the color of the background */\n",
       "#sk-container-id-6 div.sk-label:hover label.sk-toggleable__label {\n",
       "  color: var(--sklearn-color-text);\n",
       "  background-color: var(--sklearn-color-unfitted-level-2);\n",
       "}\n",
       "\n",
       "/* Label box, darken color on hover, fitted */\n",
       "#sk-container-id-6 div.sk-label.fitted:hover label.sk-toggleable__label.fitted {\n",
       "  color: var(--sklearn-color-text);\n",
       "  background-color: var(--sklearn-color-fitted-level-2);\n",
       "}\n",
       "\n",
       "/* Estimator label */\n",
       "\n",
       "#sk-container-id-6 div.sk-label label {\n",
       "  font-family: monospace;\n",
       "  font-weight: bold;\n",
       "  display: inline-block;\n",
       "  line-height: 1.2em;\n",
       "}\n",
       "\n",
       "#sk-container-id-6 div.sk-label-container {\n",
       "  text-align: center;\n",
       "}\n",
       "\n",
       "/* Estimator-specific */\n",
       "#sk-container-id-6 div.sk-estimator {\n",
       "  font-family: monospace;\n",
       "  border: 1px dotted var(--sklearn-color-border-box);\n",
       "  border-radius: 0.25em;\n",
       "  box-sizing: border-box;\n",
       "  margin-bottom: 0.5em;\n",
       "  /* unfitted */\n",
       "  background-color: var(--sklearn-color-unfitted-level-0);\n",
       "}\n",
       "\n",
       "#sk-container-id-6 div.sk-estimator.fitted {\n",
       "  /* fitted */\n",
       "  background-color: var(--sklearn-color-fitted-level-0);\n",
       "}\n",
       "\n",
       "/* on hover */\n",
       "#sk-container-id-6 div.sk-estimator:hover {\n",
       "  /* unfitted */\n",
       "  background-color: var(--sklearn-color-unfitted-level-2);\n",
       "}\n",
       "\n",
       "#sk-container-id-6 div.sk-estimator.fitted:hover {\n",
       "  /* fitted */\n",
       "  background-color: var(--sklearn-color-fitted-level-2);\n",
       "}\n",
       "\n",
       "/* Specification for estimator info (e.g. \"i\" and \"?\") */\n",
       "\n",
       "/* Common style for \"i\" and \"?\" */\n",
       "\n",
       ".sk-estimator-doc-link,\n",
       "a:link.sk-estimator-doc-link,\n",
       "a:visited.sk-estimator-doc-link {\n",
       "  float: right;\n",
       "  font-size: smaller;\n",
       "  line-height: 1em;\n",
       "  font-family: monospace;\n",
       "  background-color: var(--sklearn-color-background);\n",
       "  border-radius: 1em;\n",
       "  height: 1em;\n",
       "  width: 1em;\n",
       "  text-decoration: none !important;\n",
       "  margin-left: 1ex;\n",
       "  /* unfitted */\n",
       "  border: var(--sklearn-color-unfitted-level-1) 1pt solid;\n",
       "  color: var(--sklearn-color-unfitted-level-1);\n",
       "}\n",
       "\n",
       ".sk-estimator-doc-link.fitted,\n",
       "a:link.sk-estimator-doc-link.fitted,\n",
       "a:visited.sk-estimator-doc-link.fitted {\n",
       "  /* fitted */\n",
       "  border: var(--sklearn-color-fitted-level-1) 1pt solid;\n",
       "  color: var(--sklearn-color-fitted-level-1);\n",
       "}\n",
       "\n",
       "/* On hover */\n",
       "div.sk-estimator:hover .sk-estimator-doc-link:hover,\n",
       ".sk-estimator-doc-link:hover,\n",
       "div.sk-label-container:hover .sk-estimator-doc-link:hover,\n",
       ".sk-estimator-doc-link:hover {\n",
       "  /* unfitted */\n",
       "  background-color: var(--sklearn-color-unfitted-level-3);\n",
       "  color: var(--sklearn-color-background);\n",
       "  text-decoration: none;\n",
       "}\n",
       "\n",
       "div.sk-estimator.fitted:hover .sk-estimator-doc-link.fitted:hover,\n",
       ".sk-estimator-doc-link.fitted:hover,\n",
       "div.sk-label-container:hover .sk-estimator-doc-link.fitted:hover,\n",
       ".sk-estimator-doc-link.fitted:hover {\n",
       "  /* fitted */\n",
       "  background-color: var(--sklearn-color-fitted-level-3);\n",
       "  color: var(--sklearn-color-background);\n",
       "  text-decoration: none;\n",
       "}\n",
       "\n",
       "/* Span, style for the box shown on hovering the info icon */\n",
       ".sk-estimator-doc-link span {\n",
       "  display: none;\n",
       "  z-index: 9999;\n",
       "  position: relative;\n",
       "  font-weight: normal;\n",
       "  right: .2ex;\n",
       "  padding: .5ex;\n",
       "  margin: .5ex;\n",
       "  width: min-content;\n",
       "  min-width: 20ex;\n",
       "  max-width: 50ex;\n",
       "  color: var(--sklearn-color-text);\n",
       "  box-shadow: 2pt 2pt 4pt #999;\n",
       "  /* unfitted */\n",
       "  background: var(--sklearn-color-unfitted-level-0);\n",
       "  border: .5pt solid var(--sklearn-color-unfitted-level-3);\n",
       "}\n",
       "\n",
       ".sk-estimator-doc-link.fitted span {\n",
       "  /* fitted */\n",
       "  background: var(--sklearn-color-fitted-level-0);\n",
       "  border: var(--sklearn-color-fitted-level-3);\n",
       "}\n",
       "\n",
       ".sk-estimator-doc-link:hover span {\n",
       "  display: block;\n",
       "}\n",
       "\n",
       "/* \"?\"-specific style due to the `<a>` HTML tag */\n",
       "\n",
       "#sk-container-id-6 a.estimator_doc_link {\n",
       "  float: right;\n",
       "  font-size: 1rem;\n",
       "  line-height: 1em;\n",
       "  font-family: monospace;\n",
       "  background-color: var(--sklearn-color-background);\n",
       "  border-radius: 1rem;\n",
       "  height: 1rem;\n",
       "  width: 1rem;\n",
       "  text-decoration: none;\n",
       "  /* unfitted */\n",
       "  color: var(--sklearn-color-unfitted-level-1);\n",
       "  border: var(--sklearn-color-unfitted-level-1) 1pt solid;\n",
       "}\n",
       "\n",
       "#sk-container-id-6 a.estimator_doc_link.fitted {\n",
       "  /* fitted */\n",
       "  border: var(--sklearn-color-fitted-level-1) 1pt solid;\n",
       "  color: var(--sklearn-color-fitted-level-1);\n",
       "}\n",
       "\n",
       "/* On hover */\n",
       "#sk-container-id-6 a.estimator_doc_link:hover {\n",
       "  /* unfitted */\n",
       "  background-color: var(--sklearn-color-unfitted-level-3);\n",
       "  color: var(--sklearn-color-background);\n",
       "  text-decoration: none;\n",
       "}\n",
       "\n",
       "#sk-container-id-6 a.estimator_doc_link.fitted:hover {\n",
       "  /* fitted */\n",
       "  background-color: var(--sklearn-color-fitted-level-3);\n",
       "}\n",
       "</style><div id=\"sk-container-id-6\" class=\"sk-top-container\"><div class=\"sk-text-repr-fallback\"><pre>LassoCV()</pre><b>In a Jupyter environment, please rerun this cell to show the HTML representation or trust the notebook. <br />On GitHub, the HTML representation is unable to render, please try loading this page with nbviewer.org.</b></div><div class=\"sk-container\" hidden><div class=\"sk-item\"><div class=\"sk-estimator fitted sk-toggleable\"><input class=\"sk-toggleable__control sk-hidden--visually\" id=\"sk-estimator-id-6\" type=\"checkbox\" checked><label for=\"sk-estimator-id-6\" class=\"sk-toggleable__label fitted sk-toggleable__label-arrow fitted\">&nbsp;&nbsp;LassoCV<a class=\"sk-estimator-doc-link fitted\" rel=\"noreferrer\" target=\"_blank\" href=\"https://scikit-learn.org/1.5/modules/generated/sklearn.linear_model.LassoCV.html\">?<span>Documentation for LassoCV</span></a><span class=\"sk-estimator-doc-link fitted\">i<span>Fitted</span></span></label><div class=\"sk-toggleable__content fitted\"><pre>LassoCV()</pre></div> </div></div></div></div>"
      ],
      "text/plain": [
       "LassoCV()"
      ]
     },
     "execution_count": 190,
     "metadata": {},
     "output_type": "execute_result"
    }
   ],
   "source": [
    "reg.fit(X_resampled, y_resampled)"
   ]
  },
  {
   "cell_type": "code",
   "execution_count": 191,
   "metadata": {},
   "outputs": [
    {
     "name": "stdout",
     "output_type": "stream",
     "text": [
      "Best alpha using built-in LassoCV: 0.584192\n"
     ]
    }
   ],
   "source": [
    "print(\"Best alpha using built-in LassoCV: %f\" % reg.alpha_)"
   ]
  },
  {
   "cell_type": "code",
   "execution_count": 192,
   "metadata": {},
   "outputs": [
    {
     "name": "stdout",
     "output_type": "stream",
     "text": [
      "Best score using built-in LassoCV: 0.099721\n"
     ]
    }
   ],
   "source": [
    "print(\"Best score using built-in LassoCV: %f\" %reg.score(X_resampled, y_resampled))"
   ]
  },
  {
   "cell_type": "code",
   "execution_count": 193,
   "metadata": {},
   "outputs": [],
   "source": [
    "coef = pd.Series(reg.coef_, index = X_resampled.columns)"
   ]
  },
  {
   "cell_type": "code",
   "execution_count": 194,
   "metadata": {},
   "outputs": [
    {
     "name": "stdout",
     "output_type": "stream",
     "text": [
      "Lasso picked 4 variables and eliminated the other 72 variables\n"
     ]
    }
   ],
   "source": [
    "print(\"Lasso picked \" + str(sum(coef != 0)) + \" variables and eliminated the other \" +  str(sum(coef == 0)) + \" variables\")"
   ]
  },
  {
   "cell_type": "code",
   "execution_count": 195,
   "metadata": {},
   "outputs": [
    {
     "data": {
      "text/plain": [
       "days_accident_to_assembly   -0.000075\n",
       "col_0                        0.000000\n",
       "col_2                       -0.000000\n",
       "col_1                       -0.000000\n",
       "col_4                        0.000000\n",
       "col_5                        0.000000\n",
       "col_6                       -0.000000\n",
       "col_3                       -0.000000\n",
       "col_8                        0.000000\n",
       "col_9                        0.000000\n",
       "col_10                      -0.000000\n",
       "col_11                       0.000000\n",
       "col_12                       0.000000\n",
       "col_13                      -0.000000\n",
       "col_14                       0.000000\n",
       "col_7                       -0.000000\n",
       "col_16                       0.000000\n",
       "col_17                       0.000000\n",
       "col_18                       0.000000\n",
       "col_19                       0.000000\n",
       "col_20                      -0.000000\n",
       "col_21                       0.000000\n",
       "col_22                       0.000000\n",
       "col_23                       0.000000\n",
       "col_24                       0.000000\n",
       "col_25                       0.000000\n",
       "col_26                      -0.000000\n",
       "col_27                       0.000000\n",
       "col_28                      -0.000000\n",
       "col_29                       0.000000\n",
       "col_30                       0.000000\n",
       "col_15                      -0.000000\n",
       "col_32                      -0.000000\n",
       "col_33                      -0.000000\n",
       "col_34                       0.000000\n",
       "col_35                       0.000000\n",
       "col_36                      -0.000000\n",
       "col_37                       0.000000\n",
       "col_38                      -0.000000\n",
       "col_39                       0.000000\n",
       "col_40                       0.000000\n",
       "col_41                       0.000000\n",
       "col_42                      -0.000000\n",
       "col_43                       0.000000\n",
       "col_44                       0.000000\n",
       "col_45                       0.000000\n",
       "col_46                      -0.000000\n",
       "col_47                       0.000000\n",
       "col_48                      -0.000000\n",
       "col_49                      -0.000000\n",
       "col_50                      -0.000000\n",
       "col_51                      -0.000000\n",
       "col_52                      -0.000000\n",
       "col_53                       0.000000\n",
       "col_54                       0.000000\n",
       "col_55                       0.000000\n",
       "col_56                       0.000000\n",
       "col_57                      -0.000000\n",
       "col_58                      -0.000000\n",
       "col_59                       0.000000\n",
       "col_60                       0.000000\n",
       "col_61                      -0.000000\n",
       "col_62                      -0.000000\n",
       "col_31                      -0.000000\n",
       "col_63                       0.000000\n",
       "Attorney/Representative      0.000000\n",
       "Gender                       0.000000\n",
       "COVID-19 Indicator          -0.000000\n",
       "Number of Dependents         0.000000\n",
       "ASS                          0.000000\n",
       "SS                           0.000000\n",
       "ais_weights                 -0.000000\n",
       "IRS                          0.000000\n",
       "days_to_c2                   0.000116\n",
       "Average Weekly Wage          0.000197\n",
       "Age at Injury                0.004396\n",
       "dtype: float64"
      ]
     },
     "execution_count": 195,
     "metadata": {},
     "output_type": "execute_result"
    }
   ],
   "source": [
    "coef.sort_values()"
   ]
  },
  {
   "cell_type": "code",
   "execution_count": 196,
   "metadata": {},
   "outputs": [
    {
     "data": {
      "text/plain": [
       "Index(['col_0', 'col_1', 'col_2', 'col_3', 'col_4', 'col_5', 'col_6', 'col_7',\n",
       "       'col_8', 'col_9', 'col_10', 'col_11', 'col_12', 'col_13', 'col_14',\n",
       "       'col_15', 'col_16', 'col_17', 'col_18', 'col_19', 'col_20', 'col_21',\n",
       "       'col_22', 'col_23', 'col_24', 'col_25', 'col_26', 'col_27', 'col_28',\n",
       "       'col_29', 'col_30', 'col_31', 'col_32', 'col_33', 'col_34', 'col_35',\n",
       "       'col_36', 'col_37', 'col_38', 'col_39', 'col_40', 'col_41', 'col_42',\n",
       "       'col_43', 'col_44', 'col_45', 'col_46', 'col_47', 'col_48', 'col_49',\n",
       "       'col_50', 'col_51', 'col_52', 'col_53', 'col_54', 'col_55', 'col_56',\n",
       "       'col_57', 'col_58', 'col_59', 'col_60', 'col_61', 'col_62', 'col_63',\n",
       "       'Attorney/Representative', 'COVID-19 Indicator', 'Gender',\n",
       "       'Number of Dependents', 'ais_weights', 'SS', 'ASS', 'IRS'],\n",
       "      dtype='object')"
      ]
     },
     "execution_count": 196,
     "metadata": {},
     "output_type": "execute_result"
    }
   ],
   "source": [
    "# features to drop\n",
    "lasso_drop = coef[coef == 0].index\n",
    "lasso_drop"
   ]
  },
  {
   "cell_type": "code",
   "execution_count": 197,
   "metadata": {},
   "outputs": [
    {
     "data": {
      "image/png": "[encoded data removed]",
      "text/plain": [
       "<Figure size 800x1000 with 1 Axes>"
      ]
     },
     "metadata": {},
     "output_type": "display_data"
    }
   ],
   "source": [
    "plot_importance(coef,'Lasso')"
   ]
  },
  {
   "cell_type": "markdown",
   "metadata": {},
   "source": [
    "baseado no lasso sai: 'Average Weekly Wage', 'Carrier Type', 'COVID-19 Indicator', 'Industry Code Description', 'Number of Dependents', 'days_to_c2', 'days_to_c2_binned', 'body_group', 'injury_cause', 'industry_group', 'zip_group', 'days_accident_to_assembly', 'ASS', 'industry_risk_score'"
   ]
  },
  {
   "cell_type": "markdown",
   "metadata": {},
   "source": [
    "### RIDGE Regression"
   ]
  },
  {
   "cell_type": "code",
   "execution_count": 133,
   "metadata": {},
   "outputs": [
    {
     "name": "stdout",
     "output_type": "stream",
     "text": [
      "Ridge picked 32 variables and eliminated the other 0 variables\n"
     ]
    }
   ],
   "source": [
    "# Ridge regularization\n",
    "from sklearn.linear_model import RidgeCV\n",
    "reg = RidgeCV()\n",
    "reg.fit(X_resampled, y_resampled)\n",
    "coef = pd.Series(reg.coef_, index = X_resampled.columns)\n",
    "\n",
    "print(\"Ridge picked \" + str(sum(coef != 0)) + \" variables and eliminated the other \" +  str(sum(coef == 0)) + \" variables\")"
   ]
  },
  {
   "cell_type": "code",
   "execution_count": 134,
   "metadata": {},
   "outputs": [],
   "source": [
    "from sklearn.linear_model import RidgeCV\n",
    "ridge = RidgeCV()"
   ]
  },
  {
   "cell_type": "code",
   "execution_count": null,
   "metadata": {},
   "outputs": [],
   "source": [
    "ridge.fit(X_resampled, y_resampled)"
   ]
  },
  {
   "cell_type": "code",
   "execution_count": null,
   "metadata": {},
   "outputs": [],
   "source": [
    "print(\"Best alpha using built-in RidgeCV: %f\" % ridge.alpha_)"
   ]
  },
  {
   "cell_type": "code",
   "execution_count": null,
   "metadata": {},
   "outputs": [],
   "source": [
    "print(\"Best score using built-in RidgeCV: %f\" %ridge.score(X_resampled, y_resampled))"
   ]
  },
  {
   "cell_type": "code",
   "execution_count": null,
   "metadata": {},
   "outputs": [],
   "source": [
    "# Ensure the ridge model is properly trained\n",
    "if len(ridge.coef_) == len(X_resampled.columns):\n",
    "\tcoef_ridge = pd.Series(ridge.coef_, index=X_resampled.columns)\n",
    "\tcoef_ridge.sort_values()\n",
    "else:\n",
    "\tprint(\"Mismatch in the number of coefficients and features.\")"
   ]
  },
  {
   "cell_type": "code",
   "execution_count": null,
   "metadata": {},
   "outputs": [],
   "source": [
    "def plot_importance(coef, name):\n",
    "\timp_coef = coef.sort_values()\n",
    "\tplt.figure(figsize=(8,10))\n",
    "\timp_coef.plot(kind=\"barh\")\n",
    "\tplt.title(\"Feature importance using \" + name + \" Model\")\n",
    "\tplt.show()\n",
    "\n",
    "plot_importance(coef_ridge, 'Ridge')"
   ]
  },
  {
   "cell_type": "markdown",
   "metadata": {},
   "source": [
    "### Elastic Net"
   ]
  },
  {
   "cell_type": "code",
   "execution_count": null,
   "metadata": {},
   "outputs": [],
   "source": [
    "from sklearn.linear_model import ElasticNetCV\n",
    "import pandas as pd\n",
    "\n",
    "elastic_net = ElasticNetCV(cv=5, l1_ratio=[0.1, 0.5, 0.7, 0.9, 1.0], random_state=13)"
   ]
  },
  {
   "cell_type": "code",
   "execution_count": null,
   "metadata": {},
   "outputs": [],
   "source": [
    "elastic_net.fit(X_resampled, y_resampled)"
   ]
  },
  {
   "cell_type": "code",
   "execution_count": null,
   "metadata": {},
   "outputs": [],
   "source": [
    "print(\"Best alpha using built-in ElasticNetCV: %f\" % elastic_net.alpha_)"
   ]
  },
  {
   "cell_type": "code",
   "execution_count": null,
   "metadata": {},
   "outputs": [],
   "source": [
    "print(\"Best l1_ratio using built-in ElasticNetCV: %f\" % elastic_net.l1_ratio_)"
   ]
  },
  {
   "cell_type": "code",
   "execution_count": null,
   "metadata": {},
   "outputs": [],
   "source": [
    "print(\"Best score using built-in ElasticNetCV: %f\" % elastic_net.score(X_resampled, y_resampled))"
   ]
  },
  {
   "cell_type": "code",
   "execution_count": null,
   "metadata": {},
   "outputs": [],
   "source": [
    "coef_elastic_net = pd.Series(elastic_net.coef_, index=X_resampled.columns)\n",
    "coef_elastic_net = coef_elastic_net.sort_values()\n",
    "\n",
    "print(coef_elastic_net)"
   ]
  },
  {
   "cell_type": "code",
   "execution_count": null,
   "metadata": {},
   "outputs": [],
   "source": [
    "plot_importance(coef_elastic_net, 'Elastic Net')"
   ]
  },
  {
   "cell_type": "markdown",
   "metadata": {},
   "source": [
    "# Modelation"
   ]
  },
  {
   "cell_type": "markdown",
   "metadata": {},
   "source": [
    "## Model 1: Decision Tree Classifier\n",
    "\n",
    "The first model that was tried was a decision tree. This model was picked based on its implementation simplicity. The group tried various iterations of the model based on the feature selection methods but the results weren't as good as expected so the group moved to a more complex model."
   ]
  },
  {
   "cell_type": "code",
   "execution_count": null,
   "metadata": {},
   "outputs": [],
   "source": [
    "# from sklearn.model_selection import train_test_split\n",
    "# from sklearn.tree import DecisionTreeClassifier\n",
    "# from sklearn.metrics import classification_report, accuracy_score\n",
    "# from sklearn.metrics import f1_score\n",
    "# from sklearn.metrics import confusion_matrix"
   ]
  },
  {
   "cell_type": "code",
   "execution_count": null,
   "metadata": {},
   "outputs": [],
   "source": [
    "# X_train_encoded_model = X_train_encoded[['wage_groups', 'days_accident_to_assembly', 'injury_type', 'industry_group', 'COVID-19 Indicator',\n",
    "#                                          'Attorney/Representative', 'days_to_c2', 'Alternative Dispute Resolution', 'Age at Injury', 'Gender', 'District Name']]\n",
    "\n",
    "# X_val_encoded_model = X_val_encoded[['wage_groups', 'days_accident_to_assembly', 'injury_type', 'industry_group', 'COVID-19 Indicator',\n",
    "#                                      'Attorney/Representative', 'days_to_c2', 'Alternative Dispute Resolution', 'Age at Injury', 'Gender', 'District Name']]\n",
    "\n",
    "# clf = DecisionTreeClassifier(random_state=13)\n",
    "# clf.fit(X_train_encoded_model, y_train)\n",
    "\n",
    "# # Predict and evaluate\n",
    "# y_pred = clf.predict(X_val_encoded_model)\n",
    "# accuracy = accuracy_score(y_pred, y_val)\n",
    "# report = classification_report(y_val, y_pred)\n",
    "# f1 = f1_score(y_val, y_pred, average='weighted')\n",
    "\n",
    "# print(f\"Accuracy: {accuracy:.2f}\")\n",
    "# print(f\"F1 Score: {f1:.2f}\")\n",
    "# print(\"Classification Report:\")\n",
    "# print(report)"
   ]
  },
  {
   "cell_type": "code",
   "execution_count": null,
   "metadata": {},
   "outputs": [],
   "source": [
    "# X_test_encoded_model = X_test_encoded[['wage_groups', 'days_accident_to_assembly', 'injury_type', 'industry_group', 'COVID-19 Indicator',\n",
    "#                                      'Attorney/Representative', 'days_to_c2', 'Alternative Dispute Resolution', 'Age at Injury', 'Gender', 'District Name']]"
   ]
  },
  {
   "cell_type": "code",
   "execution_count": null,
   "metadata": {},
   "outputs": [],
   "source": [
    "# y_pred = clf.predict(X_test_encoded_model)\n",
    "# len(y_pred)"
   ]
  },
  {
   "cell_type": "code",
   "execution_count": null,
   "metadata": {},
   "outputs": [],
   "source": [
    "# df_train['Claim Injury Type'].unique()"
   ]
  },
  {
   "cell_type": "code",
   "execution_count": null,
   "metadata": {},
   "outputs": [],
   "source": [
    "# import pandas as pd\n",
    "\n",
    "# y_pred_series = pd.Series(y_pred)\n",
    "# y_pred_mapped = y_pred_series.map({1:'1. CANCELLED', 2:'2. NON-COMP', 3:'3. MED ONLY', 4:'4. TEMPORARY', 5:'5. PPD SCH LOSS', 6:'6. PPD NSL', 7:'7. PTD', 8:'8. DEATH'})\n",
    "# print(y_pred_mapped)"
   ]
  },
  {
   "cell_type": "code",
   "execution_count": null,
   "metadata": {},
   "outputs": [],
   "source": [
    "# y_pred_df = pd.DataFrame({'Claim Identifier': X_test['Claim Identifier'], 'Predicted Claim Injury Type': y_pred_mapped})"
   ]
  },
  {
   "cell_type": "code",
   "execution_count": null,
   "metadata": {},
   "outputs": [],
   "source": [
    "# export_csv = y_pred_df.to_csv('y_pred.csv', index = None, header=True)"
   ]
  },
  {
   "cell_type": "markdown",
   "metadata": {},
   "source": [
    "## Model 2: Random Forest\n",
    "\n",
    "After testing the decision tree model, the group decided to try the next model: Random Forest. <br>\n",
    "This model, to put it simply, combines an ensemble of decision trees to improve overall accuracy and reduce the risk of overfitting.<br>\n",
    "Like the Decision Tree, this model underwent many iterations with different combinations of features and 'n_estimators' (the number of decision trees in the forest). Its performance was much better than the previous model, but after a certain number of iterations, the model plateaued, and the search for an optimal model began again."
   ]
  },
  {
   "cell_type": "code",
   "execution_count": 87,
   "metadata": {},
   "outputs": [],
   "source": [
    "from sklearn.ensemble import RandomForestClassifier\n",
    "from sklearn.metrics import accuracy_score, classification_report, f1_score\n",
    "import pandas as pd\n",
    "\n",
    "# X_train_encoded_model = X_train_scaled\n",
    "# #previous feature selection\n",
    "# #[['wage_groups', 'days_accident_to_assembly', 'injury_type', 'industry_group', 'COVID-19 Indicator',\n",
    "#                                         # 'Attorney/Representative', 'days_to_c2', 'Alternative Dispute Resolution', 'Age at Injury', 'Gender', 'District Name']]\n",
    "\n",
    "# X_val_encoded_model = X_val_scaled\n",
    "# #previous feature selection\n",
    "# #[['wage_groups', 'days_accident_to_assembly', 'injury_type', 'industry_group', 'COVID-19 Indicator',\n",
    "#                                     # 'Attorney/Representative', 'days_to_c2', 'Alternative Dispute Resolution', 'Age at Injury', 'Gender', 'District Name']]\n"
   ]
  },
  {
   "cell_type": "code",
   "execution_count": 88,
   "metadata": {},
   "outputs": [],
   "source": [
    "f6_list = ['Attorney/Representative', 'wage_groups', 'days_to_c2_binned', 'Carrier Type', 'ASS', 'IRS', 'SS', 'Average Weekly Wage', 'Age at Injury', 'ais_weights', 'WCIO Cause of Injury Description', 'WCIO Nature of Injury Description', 'WCIO Part Of Body Description']"
   ]
  },
  {
   "cell_type": "code",
   "execution_count": 93,
   "metadata": {},
   "outputs": [
    {
     "data": {
      "text/html": [
       "<div>\n",
       "<style scoped>\n",
       "    .dataframe tbody tr th:only-of-type {\n",
       "        vertical-align: middle;\n",
       "    }\n",
       "\n",
       "    .dataframe tbody tr th {\n",
       "        vertical-align: top;\n",
       "    }\n",
       "\n",
       "    .dataframe thead th {\n",
       "        text-align: right;\n",
       "    }\n",
       "</style>\n",
       "<table border=\"1\" class=\"dataframe\">\n",
       "  <thead>\n",
       "    <tr style=\"text-align: right;\">\n",
       "      <th></th>\n",
       "      <th>Age at Injury</th>\n",
       "      <th>Attorney/Representative</th>\n",
       "      <th>Average Weekly Wage</th>\n",
       "      <th>Carrier Type</th>\n",
       "      <th>COVID-19 Indicator</th>\n",
       "      <th>District Name</th>\n",
       "      <th>Gender</th>\n",
       "      <th>Industry Code Description</th>\n",
       "      <th>Medical Fee Region</th>\n",
       "      <th>WCIO Cause of Injury Description</th>\n",
       "      <th>...</th>\n",
       "      <th>days_accident_to_assembly</th>\n",
       "      <th>days_accident_to_assembly_binned</th>\n",
       "      <th>body_region</th>\n",
       "      <th>AIS</th>\n",
       "      <th>ais_weights</th>\n",
       "      <th>severity</th>\n",
       "      <th>SS</th>\n",
       "      <th>ASS</th>\n",
       "      <th>industry_new</th>\n",
       "      <th>IRS</th>\n",
       "    </tr>\n",
       "    <tr>\n",
       "      <th>Claim Identifier</th>\n",
       "      <th></th>\n",
       "      <th></th>\n",
       "      <th></th>\n",
       "      <th></th>\n",
       "      <th></th>\n",
       "      <th></th>\n",
       "      <th></th>\n",
       "      <th></th>\n",
       "      <th></th>\n",
       "      <th></th>\n",
       "      <th></th>\n",
       "      <th></th>\n",
       "      <th></th>\n",
       "      <th></th>\n",
       "      <th></th>\n",
       "      <th></th>\n",
       "      <th></th>\n",
       "      <th></th>\n",
       "      <th></th>\n",
       "      <th></th>\n",
       "      <th></th>\n",
       "    </tr>\n",
       "  </thead>\n",
       "  <tbody>\n",
       "    <tr>\n",
       "      <th>5713803</th>\n",
       "      <td>0.289157</td>\n",
       "      <td>1</td>\n",
       "      <td>0.002517</td>\n",
       "      <td>1.000000</td>\n",
       "      <td>0</td>\n",
       "      <td>1.000000</td>\n",
       "      <td>1</td>\n",
       "      <td>0.308903</td>\n",
       "      <td>1.000000</td>\n",
       "      <td>0.059985</td>\n",
       "      <td>...</td>\n",
       "      <td>0.000585</td>\n",
       "      <td>0.979567</td>\n",
       "      <td>9238</td>\n",
       "      <td>9238</td>\n",
       "      <td>1.000000</td>\n",
       "      <td>146416</td>\n",
       "      <td>0.166667</td>\n",
       "      <td>0.064696</td>\n",
       "      <td>28703</td>\n",
       "      <td>0.165159</td>\n",
       "    </tr>\n",
       "    <tr>\n",
       "      <th>5638483</th>\n",
       "      <td>0.325301</td>\n",
       "      <td>0</td>\n",
       "      <td>0.000000</td>\n",
       "      <td>1.000000</td>\n",
       "      <td>0</td>\n",
       "      <td>1.000000</td>\n",
       "      <td>1</td>\n",
       "      <td>0.437543</td>\n",
       "      <td>0.087276</td>\n",
       "      <td>0.192740</td>\n",
       "      <td>...</td>\n",
       "      <td>0.000266</td>\n",
       "      <td>1.000000</td>\n",
       "      <td>90629</td>\n",
       "      <td>90629</td>\n",
       "      <td>0.884194</td>\n",
       "      <td>146416</td>\n",
       "      <td>0.166667</td>\n",
       "      <td>0.043033</td>\n",
       "      <td>40540</td>\n",
       "      <td>0.772091</td>\n",
       "    </tr>\n",
       "    <tr>\n",
       "      <th>5845425</th>\n",
       "      <td>0.120482</td>\n",
       "      <td>0</td>\n",
       "      <td>0.000000</td>\n",
       "      <td>1.000000</td>\n",
       "      <td>1</td>\n",
       "      <td>0.156268</td>\n",
       "      <td>1</td>\n",
       "      <td>0.437543</td>\n",
       "      <td>0.221486</td>\n",
       "      <td>0.403394</td>\n",
       "      <td>...</td>\n",
       "      <td>0.000638</td>\n",
       "      <td>0.979567</td>\n",
       "      <td>24175</td>\n",
       "      <td>24175</td>\n",
       "      <td>0.751174</td>\n",
       "      <td>20879</td>\n",
       "      <td>0.833333</td>\n",
       "      <td>0.580211</td>\n",
       "      <td>40540</td>\n",
       "      <td>0.772091</td>\n",
       "    </tr>\n",
       "    <tr>\n",
       "      <th>5824359</th>\n",
       "      <td>0.108434</td>\n",
       "      <td>1</td>\n",
       "      <td>0.001454</td>\n",
       "      <td>1.000000</td>\n",
       "      <td>0</td>\n",
       "      <td>0.212875</td>\n",
       "      <td>1</td>\n",
       "      <td>0.168449</td>\n",
       "      <td>0.087276</td>\n",
       "      <td>0.102935</td>\n",
       "      <td>...</td>\n",
       "      <td>0.000266</td>\n",
       "      <td>1.000000</td>\n",
       "      <td>90629</td>\n",
       "      <td>90629</td>\n",
       "      <td>0.884194</td>\n",
       "      <td>25908</td>\n",
       "      <td>0.500000</td>\n",
       "      <td>0.373829</td>\n",
       "      <td>32327</td>\n",
       "      <td>0.145579</td>\n",
       "    </tr>\n",
       "    <tr>\n",
       "      <th>5860845</th>\n",
       "      <td>0.313253</td>\n",
       "      <td>0</td>\n",
       "      <td>0.004575</td>\n",
       "      <td>1.000000</td>\n",
       "      <td>0</td>\n",
       "      <td>1.000000</td>\n",
       "      <td>1</td>\n",
       "      <td>0.077976</td>\n",
       "      <td>1.000000</td>\n",
       "      <td>1.000000</td>\n",
       "      <td>...</td>\n",
       "      <td>0.001011</td>\n",
       "      <td>0.979567</td>\n",
       "      <td>90629</td>\n",
       "      <td>90629</td>\n",
       "      <td>0.884194</td>\n",
       "      <td>186635</td>\n",
       "      <td>0.333333</td>\n",
       "      <td>0.208431</td>\n",
       "      <td>27353</td>\n",
       "      <td>0.154087</td>\n",
       "    </tr>\n",
       "    <tr>\n",
       "      <th>...</th>\n",
       "      <td>...</td>\n",
       "      <td>...</td>\n",
       "      <td>...</td>\n",
       "      <td>...</td>\n",
       "      <td>...</td>\n",
       "      <td>...</td>\n",
       "      <td>...</td>\n",
       "      <td>...</td>\n",
       "      <td>...</td>\n",
       "      <td>...</td>\n",
       "      <td>...</td>\n",
       "      <td>...</td>\n",
       "      <td>...</td>\n",
       "      <td>...</td>\n",
       "      <td>...</td>\n",
       "      <td>...</td>\n",
       "      <td>...</td>\n",
       "      <td>...</td>\n",
       "      <td>...</td>\n",
       "      <td>...</td>\n",
       "      <td>...</td>\n",
       "    </tr>\n",
       "    <tr>\n",
       "      <th>5684330</th>\n",
       "      <td>0.024096</td>\n",
       "      <td>0</td>\n",
       "      <td>0.001658</td>\n",
       "      <td>1.000000</td>\n",
       "      <td>0</td>\n",
       "      <td>0.153502</td>\n",
       "      <td>0</td>\n",
       "      <td>1.000000</td>\n",
       "      <td>0.440867</td>\n",
       "      <td>0.120720</td>\n",
       "      <td>...</td>\n",
       "      <td>0.000160</td>\n",
       "      <td>1.000000</td>\n",
       "      <td>134448</td>\n",
       "      <td>134448</td>\n",
       "      <td>0.884194</td>\n",
       "      <td>186635</td>\n",
       "      <td>0.333333</td>\n",
       "      <td>0.208431</td>\n",
       "      <td>125604</td>\n",
       "      <td>0.172471</td>\n",
       "    </tr>\n",
       "    <tr>\n",
       "      <th>5548944</th>\n",
       "      <td>0.240964</td>\n",
       "      <td>0</td>\n",
       "      <td>0.000000</td>\n",
       "      <td>1.000000</td>\n",
       "      <td>0</td>\n",
       "      <td>0.307825</td>\n",
       "      <td>0</td>\n",
       "      <td>1.000000</td>\n",
       "      <td>0.221486</td>\n",
       "      <td>1.000000</td>\n",
       "      <td>...</td>\n",
       "      <td>0.074955</td>\n",
       "      <td>0.001122</td>\n",
       "      <td>54393</td>\n",
       "      <td>54393</td>\n",
       "      <td>0.832551</td>\n",
       "      <td>186635</td>\n",
       "      <td>0.333333</td>\n",
       "      <td>0.189110</td>\n",
       "      <td>125604</td>\n",
       "      <td>0.172471</td>\n",
       "    </tr>\n",
       "    <tr>\n",
       "      <th>6029859</th>\n",
       "      <td>0.132530</td>\n",
       "      <td>0</td>\n",
       "      <td>0.000000</td>\n",
       "      <td>0.181648</td>\n",
       "      <td>0</td>\n",
       "      <td>0.136224</td>\n",
       "      <td>0</td>\n",
       "      <td>1.000000</td>\n",
       "      <td>0.440867</td>\n",
       "      <td>0.426264</td>\n",
       "      <td>...</td>\n",
       "      <td>0.000000</td>\n",
       "      <td>1.000000</td>\n",
       "      <td>90629</td>\n",
       "      <td>90629</td>\n",
       "      <td>0.884194</td>\n",
       "      <td>146416</td>\n",
       "      <td>0.166667</td>\n",
       "      <td>0.043033</td>\n",
       "      <td>125604</td>\n",
       "      <td>0.172471</td>\n",
       "    </tr>\n",
       "    <tr>\n",
       "      <th>6027385</th>\n",
       "      <td>0.457831</td>\n",
       "      <td>1</td>\n",
       "      <td>0.000000</td>\n",
       "      <td>1.000000</td>\n",
       "      <td>0</td>\n",
       "      <td>0.307825</td>\n",
       "      <td>1</td>\n",
       "      <td>0.308903</td>\n",
       "      <td>0.440867</td>\n",
       "      <td>1.000000</td>\n",
       "      <td>...</td>\n",
       "      <td>0.003405</td>\n",
       "      <td>0.302115</td>\n",
       "      <td>54393</td>\n",
       "      <td>54393</td>\n",
       "      <td>0.832551</td>\n",
       "      <td>34594</td>\n",
       "      <td>0.000000</td>\n",
       "      <td>0.500000</td>\n",
       "      <td>28703</td>\n",
       "      <td>0.165159</td>\n",
       "    </tr>\n",
       "    <tr>\n",
       "      <th>6147500</th>\n",
       "      <td>0.409639</td>\n",
       "      <td>0</td>\n",
       "      <td>0.006646</td>\n",
       "      <td>0.386765</td>\n",
       "      <td>0</td>\n",
       "      <td>1.000000</td>\n",
       "      <td>0</td>\n",
       "      <td>1.000000</td>\n",
       "      <td>0.087276</td>\n",
       "      <td>0.117051</td>\n",
       "      <td>...</td>\n",
       "      <td>0.000160</td>\n",
       "      <td>1.000000</td>\n",
       "      <td>90629</td>\n",
       "      <td>90629</td>\n",
       "      <td>0.884194</td>\n",
       "      <td>146416</td>\n",
       "      <td>0.166667</td>\n",
       "      <td>0.043033</td>\n",
       "      <td>125604</td>\n",
       "      <td>0.172471</td>\n",
       "    </tr>\n",
       "  </tbody>\n",
       "</table>\n",
       "<p>143506 rows × 32 columns</p>\n",
       "</div>"
      ],
      "text/plain": [
       "                  Age at Injury  Attorney/Representative  Average Weekly Wage  \\\n",
       "Claim Identifier                                                                \n",
       "5713803                0.289157                        1             0.002517   \n",
       "5638483                0.325301                        0             0.000000   \n",
       "5845425                0.120482                        0             0.000000   \n",
       "5824359                0.108434                        1             0.001454   \n",
       "5860845                0.313253                        0             0.004575   \n",
       "...                         ...                      ...                  ...   \n",
       "5684330                0.024096                        0             0.001658   \n",
       "5548944                0.240964                        0             0.000000   \n",
       "6029859                0.132530                        0             0.000000   \n",
       "6027385                0.457831                        1             0.000000   \n",
       "6147500                0.409639                        0             0.006646   \n",
       "\n",
       "                  Carrier Type  COVID-19 Indicator  District Name  Gender  \\\n",
       "Claim Identifier                                                            \n",
       "5713803               1.000000                   0       1.000000       1   \n",
       "5638483               1.000000                   0       1.000000       1   \n",
       "5845425               1.000000                   1       0.156268       1   \n",
       "5824359               1.000000                   0       0.212875       1   \n",
       "5860845               1.000000                   0       1.000000       1   \n",
       "...                        ...                 ...            ...     ...   \n",
       "5684330               1.000000                   0       0.153502       0   \n",
       "5548944               1.000000                   0       0.307825       0   \n",
       "6029859               0.181648                   0       0.136224       0   \n",
       "6027385               1.000000                   0       0.307825       1   \n",
       "6147500               0.386765                   0       1.000000       0   \n",
       "\n",
       "                  Industry Code Description  Medical Fee Region  \\\n",
       "Claim Identifier                                                  \n",
       "5713803                            0.308903            1.000000   \n",
       "5638483                            0.437543            0.087276   \n",
       "5845425                            0.437543            0.221486   \n",
       "5824359                            0.168449            0.087276   \n",
       "5860845                            0.077976            1.000000   \n",
       "...                                     ...                 ...   \n",
       "5684330                            1.000000            0.440867   \n",
       "5548944                            1.000000            0.221486   \n",
       "6029859                            1.000000            0.440867   \n",
       "6027385                            0.308903            0.440867   \n",
       "6147500                            1.000000            0.087276   \n",
       "\n",
       "                  WCIO Cause of Injury Description  ...  \\\n",
       "Claim Identifier                                    ...   \n",
       "5713803                                   0.059985  ...   \n",
       "5638483                                   0.192740  ...   \n",
       "5845425                                   0.403394  ...   \n",
       "5824359                                   0.102935  ...   \n",
       "5860845                                   1.000000  ...   \n",
       "...                                            ...  ...   \n",
       "5684330                                   0.120720  ...   \n",
       "5548944                                   1.000000  ...   \n",
       "6029859                                   0.426264  ...   \n",
       "6027385                                   1.000000  ...   \n",
       "6147500                                   0.117051  ...   \n",
       "\n",
       "                  days_accident_to_assembly  days_accident_to_assembly_binned  \\\n",
       "Claim Identifier                                                                \n",
       "5713803                            0.000585                          0.979567   \n",
       "5638483                            0.000266                          1.000000   \n",
       "5845425                            0.000638                          0.979567   \n",
       "5824359                            0.000266                          1.000000   \n",
       "5860845                            0.001011                          0.979567   \n",
       "...                                     ...                               ...   \n",
       "5684330                            0.000160                          1.000000   \n",
       "5548944                            0.074955                          0.001122   \n",
       "6029859                            0.000000                          1.000000   \n",
       "6027385                            0.003405                          0.302115   \n",
       "6147500                            0.000160                          1.000000   \n",
       "\n",
       "                  body_region     AIS  ais_weights  severity        SS  \\\n",
       "Claim Identifier                                                         \n",
       "5713803                  9238    9238     1.000000    146416  0.166667   \n",
       "5638483                 90629   90629     0.884194    146416  0.166667   \n",
       "5845425                 24175   24175     0.751174     20879  0.833333   \n",
       "5824359                 90629   90629     0.884194     25908  0.500000   \n",
       "5860845                 90629   90629     0.884194    186635  0.333333   \n",
       "...                       ...     ...          ...       ...       ...   \n",
       "5684330                134448  134448     0.884194    186635  0.333333   \n",
       "5548944                 54393   54393     0.832551    186635  0.333333   \n",
       "6029859                 90629   90629     0.884194    146416  0.166667   \n",
       "6027385                 54393   54393     0.832551     34594  0.000000   \n",
       "6147500                 90629   90629     0.884194    146416  0.166667   \n",
       "\n",
       "                       ASS  industry_new       IRS  \n",
       "Claim Identifier                                    \n",
       "5713803           0.064696         28703  0.165159  \n",
       "5638483           0.043033         40540  0.772091  \n",
       "5845425           0.580211         40540  0.772091  \n",
       "5824359           0.373829         32327  0.145579  \n",
       "5860845           0.208431         27353  0.154087  \n",
       "...                    ...           ...       ...  \n",
       "5684330           0.208431        125604  0.172471  \n",
       "5548944           0.189110        125604  0.172471  \n",
       "6029859           0.043033        125604  0.172471  \n",
       "6027385           0.500000         28703  0.165159  \n",
       "6147500           0.043033        125604  0.172471  \n",
       "\n",
       "[143506 rows x 32 columns]"
      ]
     },
     "execution_count": 93,
     "metadata": {},
     "output_type": "execute_result"
    }
   ],
   "source": [
    "X_val_encoded"
   ]
  },
  {
   "cell_type": "code",
   "execution_count": 89,
   "metadata": {},
   "outputs": [
    {
     "data": {
      "text/html": [
       "<style>#sk-container-id-3 {\n",
       "  /* Definition of color scheme common for light and dark mode */\n",
       "  --sklearn-color-text: black;\n",
       "  --sklearn-color-line: gray;\n",
       "  /* Definition of color scheme for unfitted estimators */\n",
       "  --sklearn-color-unfitted-level-0: #fff5e6;\n",
       "  --sklearn-color-unfitted-level-1: #f6e4d2;\n",
       "  --sklearn-color-unfitted-level-2: #ffe0b3;\n",
       "  --sklearn-color-unfitted-level-3: chocolate;\n",
       "  /* Definition of color scheme for fitted estimators */\n",
       "  --sklearn-color-fitted-level-0: #f0f8ff;\n",
       "  --sklearn-color-fitted-level-1: #d4ebff;\n",
       "  --sklearn-color-fitted-level-2: #b3dbfd;\n",
       "  --sklearn-color-fitted-level-3: cornflowerblue;\n",
       "\n",
       "  /* Specific color for light theme */\n",
       "  --sklearn-color-text-on-default-background: var(--sg-text-color, var(--theme-code-foreground, var(--jp-content-font-color1, black)));\n",
       "  --sklearn-color-background: var(--sg-background-color, var(--theme-background, var(--jp-layout-color0, white)));\n",
       "  --sklearn-color-border-box: var(--sg-text-color, var(--theme-code-foreground, var(--jp-content-font-color1, black)));\n",
       "  --sklearn-color-icon: #696969;\n",
       "\n",
       "  @media (prefers-color-scheme: dark) {\n",
       "    /* Redefinition of color scheme for dark theme */\n",
       "    --sklearn-color-text-on-default-background: var(--sg-text-color, var(--theme-code-foreground, var(--jp-content-font-color1, white)));\n",
       "    --sklearn-color-background: var(--sg-background-color, var(--theme-background, var(--jp-layout-color0, #111)));\n",
       "    --sklearn-color-border-box: var(--sg-text-color, var(--theme-code-foreground, var(--jp-content-font-color1, white)));\n",
       "    --sklearn-color-icon: #878787;\n",
       "  }\n",
       "}\n",
       "\n",
       "#sk-container-id-3 {\n",
       "  color: var(--sklearn-color-text);\n",
       "}\n",
       "\n",
       "#sk-container-id-3 pre {\n",
       "  padding: 0;\n",
       "}\n",
       "\n",
       "#sk-container-id-3 input.sk-hidden--visually {\n",
       "  border: 0;\n",
       "  clip: rect(1px 1px 1px 1px);\n",
       "  clip: rect(1px, 1px, 1px, 1px);\n",
       "  height: 1px;\n",
       "  margin: -1px;\n",
       "  overflow: hidden;\n",
       "  padding: 0;\n",
       "  position: absolute;\n",
       "  width: 1px;\n",
       "}\n",
       "\n",
       "#sk-container-id-3 div.sk-dashed-wrapped {\n",
       "  border: 1px dashed var(--sklearn-color-line);\n",
       "  margin: 0 0.4em 0.5em 0.4em;\n",
       "  box-sizing: border-box;\n",
       "  padding-bottom: 0.4em;\n",
       "  background-color: var(--sklearn-color-background);\n",
       "}\n",
       "\n",
       "#sk-container-id-3 div.sk-container {\n",
       "  /* jupyter's `normalize.less` sets `[hidden] { display: none; }`\n",
       "     but bootstrap.min.css set `[hidden] { display: none !important; }`\n",
       "     so we also need the `!important` here to be able to override the\n",
       "     default hidden behavior on the sphinx rendered scikit-learn.org.\n",
       "     See: https://github.com/scikit-learn/scikit-learn/issues/21755 */\n",
       "  display: inline-block !important;\n",
       "  position: relative;\n",
       "}\n",
       "\n",
       "#sk-container-id-3 div.sk-text-repr-fallback {\n",
       "  display: none;\n",
       "}\n",
       "\n",
       "div.sk-parallel-item,\n",
       "div.sk-serial,\n",
       "div.sk-item {\n",
       "  /* draw centered vertical line to link estimators */\n",
       "  background-image: linear-gradient(var(--sklearn-color-text-on-default-background), var(--sklearn-color-text-on-default-background));\n",
       "  background-size: 2px 100%;\n",
       "  background-repeat: no-repeat;\n",
       "  background-position: center center;\n",
       "}\n",
       "\n",
       "/* Parallel-specific style estimator block */\n",
       "\n",
       "#sk-container-id-3 div.sk-parallel-item::after {\n",
       "  content: \"\";\n",
       "  width: 100%;\n",
       "  border-bottom: 2px solid var(--sklearn-color-text-on-default-background);\n",
       "  flex-grow: 1;\n",
       "}\n",
       "\n",
       "#sk-container-id-3 div.sk-parallel {\n",
       "  display: flex;\n",
       "  align-items: stretch;\n",
       "  justify-content: center;\n",
       "  background-color: var(--sklearn-color-background);\n",
       "  position: relative;\n",
       "}\n",
       "\n",
       "#sk-container-id-3 div.sk-parallel-item {\n",
       "  display: flex;\n",
       "  flex-direction: column;\n",
       "}\n",
       "\n",
       "#sk-container-id-3 div.sk-parallel-item:first-child::after {\n",
       "  align-self: flex-end;\n",
       "  width: 50%;\n",
       "}\n",
       "\n",
       "#sk-container-id-3 div.sk-parallel-item:last-child::after {\n",
       "  align-self: flex-start;\n",
       "  width: 50%;\n",
       "}\n",
       "\n",
       "#sk-container-id-3 div.sk-parallel-item:only-child::after {\n",
       "  width: 0;\n",
       "}\n",
       "\n",
       "/* Serial-specific style estimator block */\n",
       "\n",
       "#sk-container-id-3 div.sk-serial {\n",
       "  display: flex;\n",
       "  flex-direction: column;\n",
       "  align-items: center;\n",
       "  background-color: var(--sklearn-color-background);\n",
       "  padding-right: 1em;\n",
       "  padding-left: 1em;\n",
       "}\n",
       "\n",
       "\n",
       "/* Toggleable style: style used for estimator/Pipeline/ColumnTransformer box that is\n",
       "clickable and can be expanded/collapsed.\n",
       "- Pipeline and ColumnTransformer use this feature and define the default style\n",
       "- Estimators will overwrite some part of the style using the `sk-estimator` class\n",
       "*/\n",
       "\n",
       "/* Pipeline and ColumnTransformer style (default) */\n",
       "\n",
       "#sk-container-id-3 div.sk-toggleable {\n",
       "  /* Default theme specific background. It is overwritten whether we have a\n",
       "  specific estimator or a Pipeline/ColumnTransformer */\n",
       "  background-color: var(--sklearn-color-background);\n",
       "}\n",
       "\n",
       "/* Toggleable label */\n",
       "#sk-container-id-3 label.sk-toggleable__label {\n",
       "  cursor: pointer;\n",
       "  display: block;\n",
       "  width: 100%;\n",
       "  margin-bottom: 0;\n",
       "  padding: 0.5em;\n",
       "  box-sizing: border-box;\n",
       "  text-align: center;\n",
       "}\n",
       "\n",
       "#sk-container-id-3 label.sk-toggleable__label-arrow:before {\n",
       "  /* Arrow on the left of the label */\n",
       "  content: \"▸\";\n",
       "  float: left;\n",
       "  margin-right: 0.25em;\n",
       "  color: var(--sklearn-color-icon);\n",
       "}\n",
       "\n",
       "#sk-container-id-3 label.sk-toggleable__label-arrow:hover:before {\n",
       "  color: var(--sklearn-color-text);\n",
       "}\n",
       "\n",
       "/* Toggleable content - dropdown */\n",
       "\n",
       "#sk-container-id-3 div.sk-toggleable__content {\n",
       "  max-height: 0;\n",
       "  max-width: 0;\n",
       "  overflow: hidden;\n",
       "  text-align: left;\n",
       "  /* unfitted */\n",
       "  background-color: var(--sklearn-color-unfitted-level-0);\n",
       "}\n",
       "\n",
       "#sk-container-id-3 div.sk-toggleable__content.fitted {\n",
       "  /* fitted */\n",
       "  background-color: var(--sklearn-color-fitted-level-0);\n",
       "}\n",
       "\n",
       "#sk-container-id-3 div.sk-toggleable__content pre {\n",
       "  margin: 0.2em;\n",
       "  border-radius: 0.25em;\n",
       "  color: var(--sklearn-color-text);\n",
       "  /* unfitted */\n",
       "  background-color: var(--sklearn-color-unfitted-level-0);\n",
       "}\n",
       "\n",
       "#sk-container-id-3 div.sk-toggleable__content.fitted pre {\n",
       "  /* unfitted */\n",
       "  background-color: var(--sklearn-color-fitted-level-0);\n",
       "}\n",
       "\n",
       "#sk-container-id-3 input.sk-toggleable__control:checked~div.sk-toggleable__content {\n",
       "  /* Expand drop-down */\n",
       "  max-height: 200px;\n",
       "  max-width: 100%;\n",
       "  overflow: auto;\n",
       "}\n",
       "\n",
       "#sk-container-id-3 input.sk-toggleable__control:checked~label.sk-toggleable__label-arrow:before {\n",
       "  content: \"▾\";\n",
       "}\n",
       "\n",
       "/* Pipeline/ColumnTransformer-specific style */\n",
       "\n",
       "#sk-container-id-3 div.sk-label input.sk-toggleable__control:checked~label.sk-toggleable__label {\n",
       "  color: var(--sklearn-color-text);\n",
       "  background-color: var(--sklearn-color-unfitted-level-2);\n",
       "}\n",
       "\n",
       "#sk-container-id-3 div.sk-label.fitted input.sk-toggleable__control:checked~label.sk-toggleable__label {\n",
       "  background-color: var(--sklearn-color-fitted-level-2);\n",
       "}\n",
       "\n",
       "/* Estimator-specific style */\n",
       "\n",
       "/* Colorize estimator box */\n",
       "#sk-container-id-3 div.sk-estimator input.sk-toggleable__control:checked~label.sk-toggleable__label {\n",
       "  /* unfitted */\n",
       "  background-color: var(--sklearn-color-unfitted-level-2);\n",
       "}\n",
       "\n",
       "#sk-container-id-3 div.sk-estimator.fitted input.sk-toggleable__control:checked~label.sk-toggleable__label {\n",
       "  /* fitted */\n",
       "  background-color: var(--sklearn-color-fitted-level-2);\n",
       "}\n",
       "\n",
       "#sk-container-id-3 div.sk-label label.sk-toggleable__label,\n",
       "#sk-container-id-3 div.sk-label label {\n",
       "  /* The background is the default theme color */\n",
       "  color: var(--sklearn-color-text-on-default-background);\n",
       "}\n",
       "\n",
       "/* On hover, darken the color of the background */\n",
       "#sk-container-id-3 div.sk-label:hover label.sk-toggleable__label {\n",
       "  color: var(--sklearn-color-text);\n",
       "  background-color: var(--sklearn-color-unfitted-level-2);\n",
       "}\n",
       "\n",
       "/* Label box, darken color on hover, fitted */\n",
       "#sk-container-id-3 div.sk-label.fitted:hover label.sk-toggleable__label.fitted {\n",
       "  color: var(--sklearn-color-text);\n",
       "  background-color: var(--sklearn-color-fitted-level-2);\n",
       "}\n",
       "\n",
       "/* Estimator label */\n",
       "\n",
       "#sk-container-id-3 div.sk-label label {\n",
       "  font-family: monospace;\n",
       "  font-weight: bold;\n",
       "  display: inline-block;\n",
       "  line-height: 1.2em;\n",
       "}\n",
       "\n",
       "#sk-container-id-3 div.sk-label-container {\n",
       "  text-align: center;\n",
       "}\n",
       "\n",
       "/* Estimator-specific */\n",
       "#sk-container-id-3 div.sk-estimator {\n",
       "  font-family: monospace;\n",
       "  border: 1px dotted var(--sklearn-color-border-box);\n",
       "  border-radius: 0.25em;\n",
       "  box-sizing: border-box;\n",
       "  margin-bottom: 0.5em;\n",
       "  /* unfitted */\n",
       "  background-color: var(--sklearn-color-unfitted-level-0);\n",
       "}\n",
       "\n",
       "#sk-container-id-3 div.sk-estimator.fitted {\n",
       "  /* fitted */\n",
       "  background-color: var(--sklearn-color-fitted-level-0);\n",
       "}\n",
       "\n",
       "/* on hover */\n",
       "#sk-container-id-3 div.sk-estimator:hover {\n",
       "  /* unfitted */\n",
       "  background-color: var(--sklearn-color-unfitted-level-2);\n",
       "}\n",
       "\n",
       "#sk-container-id-3 div.sk-estimator.fitted:hover {\n",
       "  /* fitted */\n",
       "  background-color: var(--sklearn-color-fitted-level-2);\n",
       "}\n",
       "\n",
       "/* Specification for estimator info (e.g. \"i\" and \"?\") */\n",
       "\n",
       "/* Common style for \"i\" and \"?\" */\n",
       "\n",
       ".sk-estimator-doc-link,\n",
       "a:link.sk-estimator-doc-link,\n",
       "a:visited.sk-estimator-doc-link {\n",
       "  float: right;\n",
       "  font-size: smaller;\n",
       "  line-height: 1em;\n",
       "  font-family: monospace;\n",
       "  background-color: var(--sklearn-color-background);\n",
       "  border-radius: 1em;\n",
       "  height: 1em;\n",
       "  width: 1em;\n",
       "  text-decoration: none !important;\n",
       "  margin-left: 1ex;\n",
       "  /* unfitted */\n",
       "  border: var(--sklearn-color-unfitted-level-1) 1pt solid;\n",
       "  color: var(--sklearn-color-unfitted-level-1);\n",
       "}\n",
       "\n",
       ".sk-estimator-doc-link.fitted,\n",
       "a:link.sk-estimator-doc-link.fitted,\n",
       "a:visited.sk-estimator-doc-link.fitted {\n",
       "  /* fitted */\n",
       "  border: var(--sklearn-color-fitted-level-1) 1pt solid;\n",
       "  color: var(--sklearn-color-fitted-level-1);\n",
       "}\n",
       "\n",
       "/* On hover */\n",
       "div.sk-estimator:hover .sk-estimator-doc-link:hover,\n",
       ".sk-estimator-doc-link:hover,\n",
       "div.sk-label-container:hover .sk-estimator-doc-link:hover,\n",
       ".sk-estimator-doc-link:hover {\n",
       "  /* unfitted */\n",
       "  background-color: var(--sklearn-color-unfitted-level-3);\n",
       "  color: var(--sklearn-color-background);\n",
       "  text-decoration: none;\n",
       "}\n",
       "\n",
       "div.sk-estimator.fitted:hover .sk-estimator-doc-link.fitted:hover,\n",
       ".sk-estimator-doc-link.fitted:hover,\n",
       "div.sk-label-container:hover .sk-estimator-doc-link.fitted:hover,\n",
       ".sk-estimator-doc-link.fitted:hover {\n",
       "  /* fitted */\n",
       "  background-color: var(--sklearn-color-fitted-level-3);\n",
       "  color: var(--sklearn-color-background);\n",
       "  text-decoration: none;\n",
       "}\n",
       "\n",
       "/* Span, style for the box shown on hovering the info icon */\n",
       ".sk-estimator-doc-link span {\n",
       "  display: none;\n",
       "  z-index: 9999;\n",
       "  position: relative;\n",
       "  font-weight: normal;\n",
       "  right: .2ex;\n",
       "  padding: .5ex;\n",
       "  margin: .5ex;\n",
       "  width: min-content;\n",
       "  min-width: 20ex;\n",
       "  max-width: 50ex;\n",
       "  color: var(--sklearn-color-text);\n",
       "  box-shadow: 2pt 2pt 4pt #999;\n",
       "  /* unfitted */\n",
       "  background: var(--sklearn-color-unfitted-level-0);\n",
       "  border: .5pt solid var(--sklearn-color-unfitted-level-3);\n",
       "}\n",
       "\n",
       ".sk-estimator-doc-link.fitted span {\n",
       "  /* fitted */\n",
       "  background: var(--sklearn-color-fitted-level-0);\n",
       "  border: var(--sklearn-color-fitted-level-3);\n",
       "}\n",
       "\n",
       ".sk-estimator-doc-link:hover span {\n",
       "  display: block;\n",
       "}\n",
       "\n",
       "/* \"?\"-specific style due to the `<a>` HTML tag */\n",
       "\n",
       "#sk-container-id-3 a.estimator_doc_link {\n",
       "  float: right;\n",
       "  font-size: 1rem;\n",
       "  line-height: 1em;\n",
       "  font-family: monospace;\n",
       "  background-color: var(--sklearn-color-background);\n",
       "  border-radius: 1rem;\n",
       "  height: 1rem;\n",
       "  width: 1rem;\n",
       "  text-decoration: none;\n",
       "  /* unfitted */\n",
       "  color: var(--sklearn-color-unfitted-level-1);\n",
       "  border: var(--sklearn-color-unfitted-level-1) 1pt solid;\n",
       "}\n",
       "\n",
       "#sk-container-id-3 a.estimator_doc_link.fitted {\n",
       "  /* fitted */\n",
       "  border: var(--sklearn-color-fitted-level-1) 1pt solid;\n",
       "  color: var(--sklearn-color-fitted-level-1);\n",
       "}\n",
       "\n",
       "/* On hover */\n",
       "#sk-container-id-3 a.estimator_doc_link:hover {\n",
       "  /* unfitted */\n",
       "  background-color: var(--sklearn-color-unfitted-level-3);\n",
       "  color: var(--sklearn-color-background);\n",
       "  text-decoration: none;\n",
       "}\n",
       "\n",
       "#sk-container-id-3 a.estimator_doc_link.fitted:hover {\n",
       "  /* fitted */\n",
       "  background-color: var(--sklearn-color-fitted-level-3);\n",
       "}\n",
       "</style><div id=\"sk-container-id-3\" class=\"sk-top-container\"><div class=\"sk-text-repr-fallback\"><pre>RandomForestClassifier(random_state=13)</pre><b>In a Jupyter environment, please rerun this cell to show the HTML representation or trust the notebook. <br />On GitHub, the HTML representation is unable to render, please try loading this page with nbviewer.org.</b></div><div class=\"sk-container\" hidden><div class=\"sk-item\"><div class=\"sk-estimator fitted sk-toggleable\"><input class=\"sk-toggleable__control sk-hidden--visually\" id=\"sk-estimator-id-3\" type=\"checkbox\" checked><label for=\"sk-estimator-id-3\" class=\"sk-toggleable__label fitted sk-toggleable__label-arrow fitted\">&nbsp;&nbsp;RandomForestClassifier<a class=\"sk-estimator-doc-link fitted\" rel=\"noreferrer\" target=\"_blank\" href=\"https://scikit-learn.org/1.5/modules/generated/sklearn.ensemble.RandomForestClassifier.html\">?<span>Documentation for RandomForestClassifier</span></a><span class=\"sk-estimator-doc-link fitted\">i<span>Fitted</span></span></label><div class=\"sk-toggleable__content fitted\"><pre>RandomForestClassifier(random_state=13)</pre></div> </div></div></div></div>"
      ],
      "text/plain": [
       "RandomForestClassifier(random_state=13)"
      ]
     },
     "execution_count": 89,
     "metadata": {},
     "output_type": "execute_result"
    }
   ],
   "source": [
    "clf = RandomForestClassifier(random_state=13, n_estimators=100)\n",
    "clf.fit(X_resampled[f6_list], y_resampled)"
   ]
  },
  {
   "cell_type": "code",
   "execution_count": 92,
   "metadata": {},
   "outputs": [
    {
     "name": "stdout",
     "output_type": "stream",
     "text": [
      "Accuracy: 0.75\n",
      "F1 Score: 0.71\n",
      "Classification Report:\n",
      "              precision    recall  f1-score   support\n",
      "\n",
      "           1       0.64      0.44      0.52      3119\n",
      "           2       0.84      0.94      0.88     72769\n",
      "           3       0.24      0.07      0.11     17227\n",
      "           4       0.69      0.83      0.75     37127\n",
      "           5       0.61      0.48      0.54     12070\n",
      "           6       0.03      0.00      0.01      1053\n",
      "           7       0.00      0.00      0.00        24\n",
      "           8       0.21      0.03      0.05       117\n",
      "\n",
      "    accuracy                           0.75    143506\n",
      "   macro avg       0.41      0.35      0.36    143506\n",
      "weighted avg       0.70      0.75      0.71    143506\n",
      "\n"
     ]
    }
   ],
   "source": [
    "y_pred = clf.predict(X_val_encoded[f6_list])\n",
    "accuracy = accuracy_score(y_val, y_pred)\n",
    "report = classification_report(y_val, y_pred)\n",
    "f1 = f1_score(y_val, y_pred, average='weighted')\n",
    "\n",
    "print(f\"Accuracy: {accuracy:.2f}\")\n",
    "print(f\"F1 Score: {f1:.2f}\")\n",
    "print(\"Classification Report:\")\n",
    "print(report)"
   ]
  },
  {
   "cell_type": "code",
   "execution_count": null,
   "metadata": {},
   "outputs": [],
   "source": [
    "# X_test_encoded_model = X_test_scaled\n",
    "# #previous feature selection\n",
    "# #[['wage_groups', 'days_accident_to_assembly', 'injury_type', 'industry_group', 'COVID-19 Indicator',\n",
    "#                                       # 'Attorney/Representative', 'days_to_c2', 'Alternative Dispute Resolution', 'Age at Injury', 'Gender', 'District Name']]\n",
    "\n",
    "# y_pred = clf.predict(X_test_encoded_model)"
   ]
  },
  {
   "cell_type": "code",
   "execution_count": null,
   "metadata": {},
   "outputs": [],
   "source": [
    "# y_pred_series = pd.Series(y_pred)\n",
    "# y_pred_mapped = y_pred_series.map({\n",
    "#     1: '1. CANCELLED', 2: '2. NON-COMP', 3: '3. MED ONLY', 4: '4. TEMPORARY', \n",
    "#     5: '5. PPD SCH LOSS', 6: '6. PPD NSL', 7: '7. PTD', 8: '8. DEATH'\n",
    "# })"
   ]
  },
  {
   "cell_type": "code",
   "execution_count": null,
   "metadata": {},
   "outputs": [],
   "source": [
    "# y_pred_df = pd.DataFrame({'Claim Identifier': X_test['Claim Identifier'], 'Predicted Claim Injury Type': y_pred_mapped})\n",
    "# export_csv = y_pred_df.to_csv('y_pred.csv', index=False, header=True)"
   ]
  },
  {
   "cell_type": "markdown",
   "metadata": {},
   "source": [
    "## Model 3: Light GBM\n",
    "\n",
    "The final model the group ended up choosing to present in this phase of the project was the Light GBM (short for Light Gradient Boosting Machine). Like in the previous models, this model type suffered through many iterations and in the end the best combination was created using all features generated with the 64 lockers in the 'hashing trick'. In the future the group plans to retrace some steps a take a second look at important sections such as imputation, dealing with outliers and the aforementioned filter, embedded and wrapper methods.\n",
    "\n",
    "Light GBM is a model that, much like a random forest, uses an ensemble of models, combining them sequentially. The objective is that each model corrects the previous models mistakes. The models are optimized based on the gradient of a loss function (in this case 'multi_logloss). The choice of this metric can be atributed to  to its suitability for multiclass classification. Several key parameters were fine-tuned (by trial and error) to optimize model performance:\n",
    "- 'learning_rate' controls the speed of learning, with lower values enabling more gradual, precise learning.\n",
    "- 'num_leaves' and 'max_depth' determine the complexity of each tree, allowing for more detailed splits.\n",
    "- 'is_unbalanced' helps the model handle class imbalance by adjusting the weight of each class in the loss function, in this case the target is unbalanced and as no resampling was done this parameter is added to counter it.\n",
    "- 'feature_fraction' and 'bagging_fraction' control feature and instance sampling, which helps reduce overfitting by ensuring diversity in each iteration."
   ]
  },
  {
   "cell_type": "markdown",
   "metadata": {},
   "source": [
    "References:\n",
    "\n",
    "https://lightgbm.readthedocs.io/en/latest/Python-Intro.html# <br>\n",
    "https://www.geeksforgeeks.org/lightgbm-light-gradient-boosting-machine/ <br>\n",
    "https://medium.com/@pritmanvar/lightgbm-essentials-how-it-works-and-why-its-fast-586b83dda7af <br>\n",
    "https://medium.com/@soyoungluna/simple-explanation-of-lightgbm-without-complicated-mathematics-973998ec848f <br>\n",
    "https://lightgbm.readthedocs.io/en/latest/Features.html <br>"
   ]
  },
  {
   "cell_type": "markdown",
   "metadata": {},
   "source": [
    "The target variable needed a slight adjustment, this is due to the constrains of the light gbm model. This model expects the classes to start at 0, so 1 is subtracet to each value in the train and validation set and afterwards the map function is changed."
   ]
  },
  {
   "cell_type": "code",
   "execution_count": 166,
   "metadata": {},
   "outputs": [],
   "source": [
    "y_train_adjusted = y_train - 1\n",
    "y_val_adjusted = y_val - 1"
   ]
  },
  {
   "cell_type": "markdown",
   "metadata": {},
   "source": [
    "### LightGBM with Cross Validation \n",
    "\n",
    "After testing the performance of LightGBM model, the group decided to test LightGBM with cross-validation to gain a more reliable performance estimate.<br>\n",
    "Kfold cross validation splits the data into k subsets (folds) and then train and test the model on each fold, each time using one fold as the test set and the remaning k-1 folds as the training set. This approach ensures that all data is used for both training and testing, providing a more accurate estimate of the model's performance on unseen data.\n",
    "\n",
    "The highest score on Kaggle (0.37385) was obtained by using Light GBM model with Cross-Validation. However, this model was left commented as running it was very time-intensive, taking approximately 50 minutes to run, compared to only 10 minutes for the version without cross-validation. To avoid long waiting times, we used the model without cross validation while working on the project.\n",
    "\n",
    "\n",
    "References: <br>\n",
    "https://pub.aimind.so/kfold-cross-validation-for-the-lightgbm-classifier-7915aed9b19e"
   ]
  },
  {
   "cell_type": "code",
   "execution_count": null,
   "metadata": {},
   "outputs": [],
   "source": [
    "# features_to_reject = ['days_to_c2', 'days_accident_to_assembly', 'Average Weekly Wage', 'Industry Code Description', \n",
    "#                       'Carrier Type', 'Number of Dependents', 'body_group', 'injury_cause', 'industry_group', 'zip_group', \n",
    "#                       'days_to_c2_binned', 'days_accident_to_assembly_binned']\n",
    "\n",
    "# #X_train_copy = X_resampled.copy()\n",
    "# #X_val_copy = X_val_scaled.copy()\n",
    "# #X_test_copy = X_test_scaled.copy()\n",
    "# X_train.drop(columns=features_to_reject, inplace=True)\n",
    "# X_val.drop(columns=features_to_reject, inplace=True)\n",
    "# # X_test.drop(columns=features_to_reject, inplace=True)"
   ]
  },
  {
   "cell_type": "code",
   "execution_count": 11,
   "metadata": {},
   "outputs": [],
   "source": [
    "# f1_list = ['ASS', 'IRS', 'Attorney/Representative', 'wage_groups', 'days_to_c2_binned']\n",
    "\n",
    "#f2_list = ['Attorney/Representative', 'wage_groups', 'days_to_c2_binned', 'Carrier Type', 'body_region', 'severity']\n",
    "\n",
    "#f3_list = ['ASS', 'IRS', 'SS', 'Average Weekly Wage', 'Age at Injury', 'ais_weights']\n",
    "\n",
    "#f4_list = ['Attorney/Representative', 'wage_groups', 'days_to_c2_binned', 'Carrier Type', 'ASS', 'IRS', 'SS', 'Average Weekly Wage', 'Age at Injury', 'ais_weights']\n",
    "\n",
    "#f5_list = ['Attorney/Representative', 'wage_groups', 'days_to_c2_binned', 'Carrier Type', 'ASS', 'Average Weekly Wage', 'Age at Injury', 'IRS']\n",
    "\n",
    "f_list = ['Attorney/Representative', 'wage_groups', 'days_to_c2_binned', 'Carrier Type', 'ASS', 'IRS', 'SS', 'Average Weekly Wage', 'Age at Injury', 'ais_weights', 'WCIO Cause of Injury Description', 'WCIO Nature of Injury Description', 'WCIO Part Of Body Description']\n",
    "\n",
    "#f7_list = ['Attorney/Representative', 'wage_groups', 'days_to_c2_binned', 'Carrier Type', 'ASS', 'Average Weekly Wage', 'Age at Injury', 'WCIO Cause of Injury Description', 'WCIO Nature of Injury Description', 'WCIO Part Of Body Description']\n",
    "\n",
    "#f8_list = [\"wage_groups\", \"Attorney/Representative\", \"Average Weekly Wage\", \"days_to_c2_binned\", \"WCIO Nature of Injury Description\", \"body_region\"]\n",
    "\n",
    "#f9_list = [\"wage_groups\", \"Attorney/Representative\", \"days_to_c2_binned\", \"WCIO Nature of Injury Description\", \"body_region\"]\n",
    "\n",
    "#f10_list = ['Attorney/Representative', 'wage_groups', 'days_to_c2_binned', 'Carrier Type', 'Average Weekly Wage', 'Age at Injury', 'WCIO Cause of Injury Description', 'WCIO Nature of Injury Description', 'WCIO Part Of Body Description']\n",
    "\n",
    "#f11_list = [\"Average Weekly Wage\", \"days_to_c2\", \"Age at Injury\", \"days_accident_to_assembly\"]\n",
    "\n",
    "\n"
   ]
  },
  {
   "cell_type": "code",
   "execution_count": 199,
   "metadata": {},
   "outputs": [
    {
     "name": "stdout",
     "output_type": "stream",
     "text": [
      "Accuracy: 0.7539545384861956\n",
      "F1-Score (Weighted): 0.686246800334058\n",
      "Classification Report:\n",
      "               precision    recall  f1-score   support\n",
      "\n",
      "           0       0.56      0.26      0.36      3119\n",
      "           1       0.81      0.99      0.89     72769\n",
      "           2       0.45      0.01      0.01     17227\n",
      "           3       0.67      0.88      0.76     37127\n",
      "           4       0.67      0.24      0.35     12070\n",
      "           5       0.00      0.00      0.00      1053\n",
      "           6       0.00      0.00      0.00        24\n",
      "           7       0.00      0.00      0.00       117\n",
      "\n",
      "    accuracy                           0.75    143506\n",
      "   macro avg       0.40      0.30      0.30    143506\n",
      "weighted avg       0.71      0.75      0.69    143506\n",
      "\n"
     ]
    },
    {
     "data": {
      "image/png": "[encoded data removed]",
      "text/plain": [
       "<Figure size 1000x800 with 2 Axes>"
      ]
     },
     "metadata": {},
     "output_type": "display_data"
    }
   ],
   "source": [
    "from imblearn.over_sampling import SMOTE\n",
    "from sklearn.model_selection import train_test_split\n",
    "from sklearn.metrics import accuracy_score, classification_report, confusion_matrix, f1_score\n",
    "import lightgbm as lgb\n",
    "import numpy as np\n",
    "import matplotlib.pyplot as plt\n",
    "import seaborn as sns\n",
    "\n",
    "y_train_adjusted = y_resampled - 1\n",
    "y_val_adjusted = y_val - 1\n",
    "\n",
    "train_data = lgb.Dataset(X_resampled[f_list], label=y_train_adjusted)\n",
    "val_data = lgb.Dataset(X_val_encoded[f_list], label=y_val_adjusted, reference=train_data)\n",
    "\n",
    "params = {\n",
    "    'objective': 'multiclass',\n",
    "    'metric': 'multi_logloss',\n",
    "    'num_class': 8,\n",
    "    'learning_rate': 0.01,\n",
    "    'num_leaves': 64,\n",
    "    'max_depth': 6,\n",
    "    'min_data_in_leaf': 50,\n",
    "    'feature_fraction': 0.9,\n",
    "    'bagging_fraction': 0.8,\n",
    "    'bagging_freq': 5,\n",
    "    'lambda_l2': 2.0,\n",
    "    'verbose': -1,\n",
    "    'is_unbalance': True\n",
    "}\n",
    "\n",
    "model = lgb.train(params, train_data, num_boost_round=1000, valid_sets=[val_data])\n",
    "\n",
    "y_pred_proba = model.predict(X_val_encoded[f_list])\n",
    "y_pred = np.argmax(y_pred_proba, axis=1)\n",
    "\n",
    "accuracy = accuracy_score(y_val_adjusted, y_pred)\n",
    "print(\"Accuracy:\", accuracy)\n",
    "\n",
    "f1 = f1_score(y_val_adjusted, y_pred, average='weighted')\n",
    "print(\"F1-Score (Weighted):\", f1)\n",
    "print(\"Classification Report:\\n\", classification_report(y_val_adjusted, y_pred))\n",
    "\n",
    "cm = confusion_matrix(y_val_adjusted, y_pred)\n",
    "plt.figure(figsize=(10, 8))\n",
    "sns.heatmap(cm, annot=True, fmt='d', cmap='Blues', xticklabels=range(1, 9), yticklabels=range(1, 9))\n",
    "plt.title(\"Confusion Matrix\")\n",
    "plt.xlabel(\"Predicted Class\")\n",
    "plt.ylabel(\"True Class\")\n",
    "plt.show()"
   ]
  },
  {
   "cell_type": "code",
   "execution_count": 169,
   "metadata": {},
   "outputs": [],
   "source": [
    "y_pred_proba = model.predict(X_test_scaled[f_list])\n",
    "y_pred = np.argmax(y_pred_proba, axis=1)\n",
    "\n",
    "# Mapping dictionary to convert the integer predictions to the full labels\n",
    "label_mapping = {\n",
    "    0: '1. CANCELED',\n",
    "    1: '2. NON-COMP',\n",
    "    2: '3. MED ONLY',\n",
    "    3: '4. TEMPORARY',\n",
    "    4: '5. PPD SCH LOSS',\n",
    "    5: '6. PPD NSL',\n",
    "    6: '7. PTD',\n",
    "    7: '8. DEATH'\n",
    "}\n",
    "test_predictions_full_labels = [label_mapping[pred] for pred in y_pred]\n",
    "\n",
    "submission_df = pd.DataFrame({\n",
    "    'Claim Identifier': X_test.index,\n",
    "    'Claim Injury Type': test_predictions_full_labels\n",
    "})\n",
    "\n",
    "# Export the submission DataFrame to a CSV file\n",
    "submission_df.to_csv(\"Group13_Version55.csv\", index=False, header=True)"
   ]
  },
  {
   "cell_type": "code",
   "execution_count": 82,
   "metadata": {},
   "outputs": [
    {
     "name": "stdout",
     "output_type": "stream",
     "text": [
      "Training fold 1...\n",
      "Fold 1 Accuracy: 0.7733\n",
      "Training fold 2...\n",
      "Fold 2 Accuracy: 0.7740\n",
      "Training fold 3...\n",
      "Fold 3 Accuracy: 0.7721\n",
      "Training fold 4...\n",
      "Fold 4 Accuracy: 0.7707\n",
      "Training fold 5...\n",
      "Fold 5 Accuracy: 0.7721\n",
      "Training fold 6...\n",
      "Fold 6 Accuracy: 0.7719\n",
      "Training fold 7...\n",
      "Fold 7 Accuracy: 0.7726\n",
      "Training fold 8...\n",
      "Fold 8 Accuracy: 0.7719\n",
      "Training fold 9...\n",
      "Fold 9 Accuracy: 0.7711\n",
      "Training fold 10...\n",
      "Fold 10 Accuracy: 0.7727\n",
      "\n",
      "Mean Accuracy across folds: 0.7722\n"
     ]
    }
   ],
   "source": [
    "import lightgbm as lgb\n",
    "from sklearn.model_selection import StratifiedKFold\n",
    "from sklearn.metrics import accuracy_score, classification_report, confusion_matrix\n",
    "import numpy as np\n",
    "import matplotlib.pyplot as plt\n",
    "import seaborn as sns\n",
    "\n",
    "params = {\n",
    "    'objective': 'multiclass',\n",
    "    'metric': 'multi_logloss',\n",
    "    'num_class': 8, \n",
    "    'learning_rate': 0.01, \n",
    "    'num_leaves': 64,  \n",
    "    'max_depth': 6,  \n",
    "    'min_data_in_leaf': 50,  \n",
    "    'feature_fraction': 0.9,\n",
    "    'bagging_fraction': 0.8,\n",
    "    'bagging_freq': 5,\n",
    "    'lambda_l2': 2.0,  \n",
    "    'verbose': -1,\n",
    "    'is_unbalanced': True\n",
    "}\n",
    "\n",
    "kf = StratifiedKFold(n_splits=10, shuffle=True, random_state=42)\n",
    "accuracies = []\n",
    "\n",
    "for fold, (train_idx, val_idx) in enumerate(kf.split(X_resampled[f_list], y_train_adjusted)):\n",
    "    print(f\"Training fold {fold + 1}...\")\n",
    "    \n",
    "    X_train_fold, X_val_fold = X_resampled[f_list].iloc[train_idx], X_resampled[f_list].iloc[val_idx]\n",
    "    y_train_fold, y_val_fold = y_train_adjusted.iloc[train_idx], y_train_adjusted.iloc[val_idx]\n",
    "\n",
    "    train_data = lgb.Dataset(X_train_fold, label=y_train_fold)\n",
    "    val_data = lgb.Dataset(X_val_fold, label=y_val_fold, reference=train_data)\n",
    "\n",
    "    model = lgb.train(\n",
    "        params,\n",
    "        train_data,\n",
    "        num_boost_round=1000,\n",
    "        valid_sets=[val_data]\n",
    "    )\n",
    "\n",
    "    y_pred_proba = model.predict(X_val_fold) \n",
    "    y_pred = np.argmax(y_pred_proba, axis=1)  \n",
    "\n",
    "    accuracy = accuracy_score(y_val_fold, y_pred)\n",
    "    accuracies.append(accuracy)\n",
    "\n",
    "    print(f\"Fold {fold + 1} Accuracy: {accuracy:.4f}\")\n",
    "\n",
    "print(f\"\\nMean Accuracy across folds: {np.mean(accuracies):.4f}\")"
   ]
  },
  {
   "cell_type": "code",
   "execution_count": null,
   "metadata": {},
   "outputs": [],
   "source": [
    "y_pred_proba = model.predict(X_test_scaled[feature_list])\n",
    "y_pred = np.argmax(y_pred_proba, axis=1)\n",
    "\n",
    "# Mapping dictionary to convert the integer predictions to the full labels\n",
    "label_mapping = {\n",
    "    0: '1. CANCELED',\n",
    "    1: '2. NON-COMP',\n",
    "    2: '3. MED ONLY',\n",
    "    3: '4. TEMPORARY',\n",
    "    4: '5. PPD SCH LOSS',\n",
    "    5: '6. PPD NSL',\n",
    "    6: '7. PTD',\n",
    "    7: '8. DEATH'\n",
    "}\n",
    "test_predictions_full_labels = [label_mapping[pred] for pred in y_pred]\n",
    "\n",
    "submission_df = pd.DataFrame({\n",
    "    'Claim Identifier': X_test.index,\n",
    "    'Claim Injury Type': test_predictions_full_labels\n",
    "})\n",
    "\n",
    "# Export the submission DataFrame to a CSV file\n",
    "submission_df.to_csv(\"submission_5_12.csv\", index=False, header=True)"
   ]
  },
  {
   "cell_type": "code",
   "execution_count": null,
   "metadata": {},
   "outputs": [],
   "source": [
    "# y_pred_series = pd.Series(y_pred)\n",
    "# y_pred_mapped = y_pred_series.map({\n",
    "#     0: '1. CANCELLED', 1: '2. NON-COMP', 2: '3. MED ONLY', 3: '4. TEMPORARY', \n",
    "#     4: '5. PPD SCH LOSS', 5: '6. PPD NSL', 6: '7. PTD', 7: '8. DEATH'\n",
    "# })"
   ]
  },
  {
   "cell_type": "code",
   "execution_count": null,
   "metadata": {},
   "outputs": [],
   "source": [
    "# y_pred_df = pd.DataFrame({'Claim Identifier': X_test['Claim Identifier'], 'Predicted Claim Injury Type': y_pred_mapped})\n",
    "# export_csv = y_pred_df.to_csv('y_pred.csv', index=False, header=True)"
   ]
  },
  {
   "cell_type": "markdown",
   "metadata": {},
   "source": [
    "### Random Search"
   ]
  },
  {
   "cell_type": "code",
   "execution_count": null,
   "metadata": {},
   "outputs": [
    {
     "name": "stdout",
     "output_type": "stream",
     "text": [
      "Fitting 3 folds for each of 200 candidates, totalling 600 fits\n"
     ]
    },
    {
     "ename": "KeyboardInterrupt",
     "evalue": "",
     "output_type": "error",
     "traceback": [
      "\u001b[1;31m---------------------------------------------------------------------------\u001b[0m",
      "\u001b[1;31mKeyboardInterrupt\u001b[0m                         Traceback (most recent call last)",
      "Cell \u001b[1;32mIn[12], line 40\u001b[0m\n\u001b[0;32m     38\u001b[0m \u001b[38;5;66;03m# Perform random search\u001b[39;00m\n\u001b[0;32m     39\u001b[0m start_time \u001b[38;5;241m=\u001b[39m time\u001b[38;5;241m.\u001b[39mtime()\n\u001b[1;32m---> 40\u001b[0m \u001b[43mrandom_search\u001b[49m\u001b[38;5;241;43m.\u001b[39;49m\u001b[43mfit\u001b[49m\u001b[43m(\u001b[49m\u001b[43mX_resampled\u001b[49m\u001b[43m[\u001b[49m\u001b[43mf_list\u001b[49m\u001b[43m]\u001b[49m\u001b[43m,\u001b[49m\u001b[43m \u001b[49m\u001b[43my_train_adjusted\u001b[49m\u001b[43m)\u001b[49m\n\u001b[0;32m     41\u001b[0m end_time \u001b[38;5;241m=\u001b[39m time\u001b[38;5;241m.\u001b[39mtime()\n\u001b[0;32m     43\u001b[0m \u001b[38;5;66;03m# Print search duration\u001b[39;00m\n",
      "File \u001b[1;32mc:\\Users\\alexr\\AppData\\Local\\Programs\\Python\\Python312\\Lib\\site-packages\\sklearn\\base.py:1473\u001b[0m, in \u001b[0;36m_fit_context.<locals>.decorator.<locals>.wrapper\u001b[1;34m(estimator, *args, **kwargs)\u001b[0m\n\u001b[0;32m   1466\u001b[0m     estimator\u001b[38;5;241m.\u001b[39m_validate_params()\n\u001b[0;32m   1468\u001b[0m \u001b[38;5;28;01mwith\u001b[39;00m config_context(\n\u001b[0;32m   1469\u001b[0m     skip_parameter_validation\u001b[38;5;241m=\u001b[39m(\n\u001b[0;32m   1470\u001b[0m         prefer_skip_nested_validation \u001b[38;5;129;01mor\u001b[39;00m global_skip_validation\n\u001b[0;32m   1471\u001b[0m     )\n\u001b[0;32m   1472\u001b[0m ):\n\u001b[1;32m-> 1473\u001b[0m     \u001b[38;5;28;01mreturn\u001b[39;00m \u001b[43mfit_method\u001b[49m\u001b[43m(\u001b[49m\u001b[43mestimator\u001b[49m\u001b[43m,\u001b[49m\u001b[43m \u001b[49m\u001b[38;5;241;43m*\u001b[39;49m\u001b[43margs\u001b[49m\u001b[43m,\u001b[49m\u001b[43m \u001b[49m\u001b[38;5;241;43m*\u001b[39;49m\u001b[38;5;241;43m*\u001b[39;49m\u001b[43mkwargs\u001b[49m\u001b[43m)\u001b[49m\n",
      "File \u001b[1;32mc:\\Users\\alexr\\AppData\\Local\\Programs\\Python\\Python312\\Lib\\site-packages\\sklearn\\model_selection\\_search.py:1019\u001b[0m, in \u001b[0;36mBaseSearchCV.fit\u001b[1;34m(self, X, y, **params)\u001b[0m\n\u001b[0;32m   1013\u001b[0m     results \u001b[38;5;241m=\u001b[39m \u001b[38;5;28mself\u001b[39m\u001b[38;5;241m.\u001b[39m_format_results(\n\u001b[0;32m   1014\u001b[0m         all_candidate_params, n_splits, all_out, all_more_results\n\u001b[0;32m   1015\u001b[0m     )\n\u001b[0;32m   1017\u001b[0m     \u001b[38;5;28;01mreturn\u001b[39;00m results\n\u001b[1;32m-> 1019\u001b[0m \u001b[38;5;28;43mself\u001b[39;49m\u001b[38;5;241;43m.\u001b[39;49m\u001b[43m_run_search\u001b[49m\u001b[43m(\u001b[49m\u001b[43mevaluate_candidates\u001b[49m\u001b[43m)\u001b[49m\n\u001b[0;32m   1021\u001b[0m \u001b[38;5;66;03m# multimetric is determined here because in the case of a callable\u001b[39;00m\n\u001b[0;32m   1022\u001b[0m \u001b[38;5;66;03m# self.scoring the return type is only known after calling\u001b[39;00m\n\u001b[0;32m   1023\u001b[0m first_test_score \u001b[38;5;241m=\u001b[39m all_out[\u001b[38;5;241m0\u001b[39m][\u001b[38;5;124m\"\u001b[39m\u001b[38;5;124mtest_scores\u001b[39m\u001b[38;5;124m\"\u001b[39m]\n",
      "File \u001b[1;32mc:\\Users\\alexr\\AppData\\Local\\Programs\\Python\\Python312\\Lib\\site-packages\\sklearn\\model_selection\\_search.py:1960\u001b[0m, in \u001b[0;36mRandomizedSearchCV._run_search\u001b[1;34m(self, evaluate_candidates)\u001b[0m\n\u001b[0;32m   1958\u001b[0m \u001b[38;5;28;01mdef\u001b[39;00m \u001b[38;5;21m_run_search\u001b[39m(\u001b[38;5;28mself\u001b[39m, evaluate_candidates):\n\u001b[0;32m   1959\u001b[0m \u001b[38;5;250m    \u001b[39m\u001b[38;5;124;03m\"\"\"Search n_iter candidates from param_distributions\"\"\"\u001b[39;00m\n\u001b[1;32m-> 1960\u001b[0m     \u001b[43mevaluate_candidates\u001b[49m\u001b[43m(\u001b[49m\n\u001b[0;32m   1961\u001b[0m \u001b[43m        \u001b[49m\u001b[43mParameterSampler\u001b[49m\u001b[43m(\u001b[49m\n\u001b[0;32m   1962\u001b[0m \u001b[43m            \u001b[49m\u001b[38;5;28;43mself\u001b[39;49m\u001b[38;5;241;43m.\u001b[39;49m\u001b[43mparam_distributions\u001b[49m\u001b[43m,\u001b[49m\u001b[43m \u001b[49m\u001b[38;5;28;43mself\u001b[39;49m\u001b[38;5;241;43m.\u001b[39;49m\u001b[43mn_iter\u001b[49m\u001b[43m,\u001b[49m\u001b[43m \u001b[49m\u001b[43mrandom_state\u001b[49m\u001b[38;5;241;43m=\u001b[39;49m\u001b[38;5;28;43mself\u001b[39;49m\u001b[38;5;241;43m.\u001b[39;49m\u001b[43mrandom_state\u001b[49m\n\u001b[0;32m   1963\u001b[0m \u001b[43m        \u001b[49m\u001b[43m)\u001b[49m\n\u001b[0;32m   1964\u001b[0m \u001b[43m    \u001b[49m\u001b[43m)\u001b[49m\n",
      "File \u001b[1;32mc:\\Users\\alexr\\AppData\\Local\\Programs\\Python\\Python312\\Lib\\site-packages\\sklearn\\model_selection\\_search.py:965\u001b[0m, in \u001b[0;36mBaseSearchCV.fit.<locals>.evaluate_candidates\u001b[1;34m(candidate_params, cv, more_results)\u001b[0m\n\u001b[0;32m    957\u001b[0m \u001b[38;5;28;01mif\u001b[39;00m \u001b[38;5;28mself\u001b[39m\u001b[38;5;241m.\u001b[39mverbose \u001b[38;5;241m>\u001b[39m \u001b[38;5;241m0\u001b[39m:\n\u001b[0;32m    958\u001b[0m     \u001b[38;5;28mprint\u001b[39m(\n\u001b[0;32m    959\u001b[0m         \u001b[38;5;124m\"\u001b[39m\u001b[38;5;124mFitting \u001b[39m\u001b[38;5;132;01m{0}\u001b[39;00m\u001b[38;5;124m folds for each of \u001b[39m\u001b[38;5;132;01m{1}\u001b[39;00m\u001b[38;5;124m candidates,\u001b[39m\u001b[38;5;124m\"\u001b[39m\n\u001b[0;32m    960\u001b[0m         \u001b[38;5;124m\"\u001b[39m\u001b[38;5;124m totalling \u001b[39m\u001b[38;5;132;01m{2}\u001b[39;00m\u001b[38;5;124m fits\u001b[39m\u001b[38;5;124m\"\u001b[39m\u001b[38;5;241m.\u001b[39mformat(\n\u001b[0;32m    961\u001b[0m             n_splits, n_candidates, n_candidates \u001b[38;5;241m*\u001b[39m n_splits\n\u001b[0;32m    962\u001b[0m         )\n\u001b[0;32m    963\u001b[0m     )\n\u001b[1;32m--> 965\u001b[0m out \u001b[38;5;241m=\u001b[39m \u001b[43mparallel\u001b[49m\u001b[43m(\u001b[49m\n\u001b[0;32m    966\u001b[0m \u001b[43m    \u001b[49m\u001b[43mdelayed\u001b[49m\u001b[43m(\u001b[49m\u001b[43m_fit_and_score\u001b[49m\u001b[43m)\u001b[49m\u001b[43m(\u001b[49m\n\u001b[0;32m    967\u001b[0m \u001b[43m        \u001b[49m\u001b[43mclone\u001b[49m\u001b[43m(\u001b[49m\u001b[43mbase_estimator\u001b[49m\u001b[43m)\u001b[49m\u001b[43m,\u001b[49m\n\u001b[0;32m    968\u001b[0m \u001b[43m        \u001b[49m\u001b[43mX\u001b[49m\u001b[43m,\u001b[49m\n\u001b[0;32m    969\u001b[0m \u001b[43m        \u001b[49m\u001b[43my\u001b[49m\u001b[43m,\u001b[49m\n\u001b[0;32m    970\u001b[0m \u001b[43m        \u001b[49m\u001b[43mtrain\u001b[49m\u001b[38;5;241;43m=\u001b[39;49m\u001b[43mtrain\u001b[49m\u001b[43m,\u001b[49m\n\u001b[0;32m    971\u001b[0m \u001b[43m        \u001b[49m\u001b[43mtest\u001b[49m\u001b[38;5;241;43m=\u001b[39;49m\u001b[43mtest\u001b[49m\u001b[43m,\u001b[49m\n\u001b[0;32m    972\u001b[0m \u001b[43m        \u001b[49m\u001b[43mparameters\u001b[49m\u001b[38;5;241;43m=\u001b[39;49m\u001b[43mparameters\u001b[49m\u001b[43m,\u001b[49m\n\u001b[0;32m    973\u001b[0m \u001b[43m        \u001b[49m\u001b[43msplit_progress\u001b[49m\u001b[38;5;241;43m=\u001b[39;49m\u001b[43m(\u001b[49m\u001b[43msplit_idx\u001b[49m\u001b[43m,\u001b[49m\u001b[43m \u001b[49m\u001b[43mn_splits\u001b[49m\u001b[43m)\u001b[49m\u001b[43m,\u001b[49m\n\u001b[0;32m    974\u001b[0m \u001b[43m        \u001b[49m\u001b[43mcandidate_progress\u001b[49m\u001b[38;5;241;43m=\u001b[39;49m\u001b[43m(\u001b[49m\u001b[43mcand_idx\u001b[49m\u001b[43m,\u001b[49m\u001b[43m \u001b[49m\u001b[43mn_candidates\u001b[49m\u001b[43m)\u001b[49m\u001b[43m,\u001b[49m\n\u001b[0;32m    975\u001b[0m \u001b[43m        \u001b[49m\u001b[38;5;241;43m*\u001b[39;49m\u001b[38;5;241;43m*\u001b[39;49m\u001b[43mfit_and_score_kwargs\u001b[49m\u001b[43m,\u001b[49m\n\u001b[0;32m    976\u001b[0m \u001b[43m    \u001b[49m\u001b[43m)\u001b[49m\n\u001b[0;32m    977\u001b[0m \u001b[43m    \u001b[49m\u001b[38;5;28;43;01mfor\u001b[39;49;00m\u001b[43m \u001b[49m\u001b[43m(\u001b[49m\u001b[43mcand_idx\u001b[49m\u001b[43m,\u001b[49m\u001b[43m \u001b[49m\u001b[43mparameters\u001b[49m\u001b[43m)\u001b[49m\u001b[43m,\u001b[49m\u001b[43m \u001b[49m\u001b[43m(\u001b[49m\u001b[43msplit_idx\u001b[49m\u001b[43m,\u001b[49m\u001b[43m \u001b[49m\u001b[43m(\u001b[49m\u001b[43mtrain\u001b[49m\u001b[43m,\u001b[49m\u001b[43m \u001b[49m\u001b[43mtest\u001b[49m\u001b[43m)\u001b[49m\u001b[43m)\u001b[49m\u001b[43m \u001b[49m\u001b[38;5;129;43;01min\u001b[39;49;00m\u001b[43m \u001b[49m\u001b[43mproduct\u001b[49m\u001b[43m(\u001b[49m\n\u001b[0;32m    978\u001b[0m \u001b[43m        \u001b[49m\u001b[38;5;28;43menumerate\u001b[39;49m\u001b[43m(\u001b[49m\u001b[43mcandidate_params\u001b[49m\u001b[43m)\u001b[49m\u001b[43m,\u001b[49m\n\u001b[0;32m    979\u001b[0m \u001b[43m        \u001b[49m\u001b[38;5;28;43menumerate\u001b[39;49m\u001b[43m(\u001b[49m\u001b[43mcv\u001b[49m\u001b[38;5;241;43m.\u001b[39;49m\u001b[43msplit\u001b[49m\u001b[43m(\u001b[49m\u001b[43mX\u001b[49m\u001b[43m,\u001b[49m\u001b[43m \u001b[49m\u001b[43my\u001b[49m\u001b[43m,\u001b[49m\u001b[43m \u001b[49m\u001b[38;5;241;43m*\u001b[39;49m\u001b[38;5;241;43m*\u001b[39;49m\u001b[43mrouted_params\u001b[49m\u001b[38;5;241;43m.\u001b[39;49m\u001b[43msplitter\u001b[49m\u001b[38;5;241;43m.\u001b[39;49m\u001b[43msplit\u001b[49m\u001b[43m)\u001b[49m\u001b[43m)\u001b[49m\u001b[43m,\u001b[49m\n\u001b[0;32m    980\u001b[0m \u001b[43m    \u001b[49m\u001b[43m)\u001b[49m\n\u001b[0;32m    981\u001b[0m \u001b[43m\u001b[49m\u001b[43m)\u001b[49m\n\u001b[0;32m    983\u001b[0m \u001b[38;5;28;01mif\u001b[39;00m \u001b[38;5;28mlen\u001b[39m(out) \u001b[38;5;241m<\u001b[39m \u001b[38;5;241m1\u001b[39m:\n\u001b[0;32m    984\u001b[0m     \u001b[38;5;28;01mraise\u001b[39;00m \u001b[38;5;167;01mValueError\u001b[39;00m(\n\u001b[0;32m    985\u001b[0m         \u001b[38;5;124m\"\u001b[39m\u001b[38;5;124mNo fits were performed. \u001b[39m\u001b[38;5;124m\"\u001b[39m\n\u001b[0;32m    986\u001b[0m         \u001b[38;5;124m\"\u001b[39m\u001b[38;5;124mWas the CV iterator empty? \u001b[39m\u001b[38;5;124m\"\u001b[39m\n\u001b[0;32m    987\u001b[0m         \u001b[38;5;124m\"\u001b[39m\u001b[38;5;124mWere there no candidates?\u001b[39m\u001b[38;5;124m\"\u001b[39m\n\u001b[0;32m    988\u001b[0m     )\n",
      "File \u001b[1;32mc:\\Users\\alexr\\AppData\\Local\\Programs\\Python\\Python312\\Lib\\site-packages\\sklearn\\utils\\parallel.py:74\u001b[0m, in \u001b[0;36mParallel.__call__\u001b[1;34m(self, iterable)\u001b[0m\n\u001b[0;32m     69\u001b[0m config \u001b[38;5;241m=\u001b[39m get_config()\n\u001b[0;32m     70\u001b[0m iterable_with_config \u001b[38;5;241m=\u001b[39m (\n\u001b[0;32m     71\u001b[0m     (_with_config(delayed_func, config), args, kwargs)\n\u001b[0;32m     72\u001b[0m     \u001b[38;5;28;01mfor\u001b[39;00m delayed_func, args, kwargs \u001b[38;5;129;01min\u001b[39;00m iterable\n\u001b[0;32m     73\u001b[0m )\n\u001b[1;32m---> 74\u001b[0m \u001b[38;5;28;01mreturn\u001b[39;00m \u001b[38;5;28;43msuper\u001b[39;49m\u001b[43m(\u001b[49m\u001b[43m)\u001b[49m\u001b[38;5;241;43m.\u001b[39;49m\u001b[38;5;21;43m__call__\u001b[39;49m\u001b[43m(\u001b[49m\u001b[43miterable_with_config\u001b[49m\u001b[43m)\u001b[49m\n",
      "File \u001b[1;32mc:\\Users\\alexr\\AppData\\Local\\Programs\\Python\\Python312\\Lib\\site-packages\\joblib\\parallel.py:2007\u001b[0m, in \u001b[0;36mParallel.__call__\u001b[1;34m(self, iterable)\u001b[0m\n\u001b[0;32m   2001\u001b[0m \u001b[38;5;66;03m# The first item from the output is blank, but it makes the interpreter\u001b[39;00m\n\u001b[0;32m   2002\u001b[0m \u001b[38;5;66;03m# progress until it enters the Try/Except block of the generator and\u001b[39;00m\n\u001b[0;32m   2003\u001b[0m \u001b[38;5;66;03m# reaches the first `yield` statement. This starts the asynchronous\u001b[39;00m\n\u001b[0;32m   2004\u001b[0m \u001b[38;5;66;03m# dispatch of the tasks to the workers.\u001b[39;00m\n\u001b[0;32m   2005\u001b[0m \u001b[38;5;28mnext\u001b[39m(output)\n\u001b[1;32m-> 2007\u001b[0m \u001b[38;5;28;01mreturn\u001b[39;00m output \u001b[38;5;28;01mif\u001b[39;00m \u001b[38;5;28mself\u001b[39m\u001b[38;5;241m.\u001b[39mreturn_generator \u001b[38;5;28;01melse\u001b[39;00m \u001b[38;5;28;43mlist\u001b[39;49m\u001b[43m(\u001b[49m\u001b[43moutput\u001b[49m\u001b[43m)\u001b[49m\n",
      "File \u001b[1;32mc:\\Users\\alexr\\AppData\\Local\\Programs\\Python\\Python312\\Lib\\site-packages\\joblib\\parallel.py:1650\u001b[0m, in \u001b[0;36mParallel._get_outputs\u001b[1;34m(self, iterator, pre_dispatch)\u001b[0m\n\u001b[0;32m   1647\u001b[0m     \u001b[38;5;28;01myield\u001b[39;00m\n\u001b[0;32m   1649\u001b[0m     \u001b[38;5;28;01mwith\u001b[39;00m \u001b[38;5;28mself\u001b[39m\u001b[38;5;241m.\u001b[39m_backend\u001b[38;5;241m.\u001b[39mretrieval_context():\n\u001b[1;32m-> 1650\u001b[0m         \u001b[38;5;28;01myield from\u001b[39;00m \u001b[38;5;28mself\u001b[39m\u001b[38;5;241m.\u001b[39m_retrieve()\n\u001b[0;32m   1652\u001b[0m \u001b[38;5;28;01mexcept\u001b[39;00m \u001b[38;5;167;01mGeneratorExit\u001b[39;00m:\n\u001b[0;32m   1653\u001b[0m     \u001b[38;5;66;03m# The generator has been garbage collected before being fully\u001b[39;00m\n\u001b[0;32m   1654\u001b[0m     \u001b[38;5;66;03m# consumed. This aborts the remaining tasks if possible and warn\u001b[39;00m\n\u001b[0;32m   1655\u001b[0m     \u001b[38;5;66;03m# the user if necessary.\u001b[39;00m\n\u001b[0;32m   1656\u001b[0m     \u001b[38;5;28mself\u001b[39m\u001b[38;5;241m.\u001b[39m_exception \u001b[38;5;241m=\u001b[39m \u001b[38;5;28;01mTrue\u001b[39;00m\n",
      "File \u001b[1;32mc:\\Users\\alexr\\AppData\\Local\\Programs\\Python\\Python312\\Lib\\site-packages\\joblib\\parallel.py:1762\u001b[0m, in \u001b[0;36mParallel._retrieve\u001b[1;34m(self)\u001b[0m\n\u001b[0;32m   1757\u001b[0m \u001b[38;5;66;03m# If the next job is not ready for retrieval yet, we just wait for\u001b[39;00m\n\u001b[0;32m   1758\u001b[0m \u001b[38;5;66;03m# async callbacks to progress.\u001b[39;00m\n\u001b[0;32m   1759\u001b[0m \u001b[38;5;28;01mif\u001b[39;00m ((\u001b[38;5;28mlen\u001b[39m(\u001b[38;5;28mself\u001b[39m\u001b[38;5;241m.\u001b[39m_jobs) \u001b[38;5;241m==\u001b[39m \u001b[38;5;241m0\u001b[39m) \u001b[38;5;129;01mor\u001b[39;00m\n\u001b[0;32m   1760\u001b[0m     (\u001b[38;5;28mself\u001b[39m\u001b[38;5;241m.\u001b[39m_jobs[\u001b[38;5;241m0\u001b[39m]\u001b[38;5;241m.\u001b[39mget_status(\n\u001b[0;32m   1761\u001b[0m         timeout\u001b[38;5;241m=\u001b[39m\u001b[38;5;28mself\u001b[39m\u001b[38;5;241m.\u001b[39mtimeout) \u001b[38;5;241m==\u001b[39m TASK_PENDING)):\n\u001b[1;32m-> 1762\u001b[0m     \u001b[43mtime\u001b[49m\u001b[38;5;241;43m.\u001b[39;49m\u001b[43msleep\u001b[49m\u001b[43m(\u001b[49m\u001b[38;5;241;43m0.01\u001b[39;49m\u001b[43m)\u001b[49m\n\u001b[0;32m   1763\u001b[0m     \u001b[38;5;28;01mcontinue\u001b[39;00m\n\u001b[0;32m   1765\u001b[0m \u001b[38;5;66;03m# We need to be careful: the job list can be filling up as\u001b[39;00m\n\u001b[0;32m   1766\u001b[0m \u001b[38;5;66;03m# we empty it and Python list are not thread-safe by\u001b[39;00m\n\u001b[0;32m   1767\u001b[0m \u001b[38;5;66;03m# default hence the use of the lock\u001b[39;00m\n",
      "\u001b[1;31mKeyboardInterrupt\u001b[0m: "
     ]
    }
   ],
   "source": [
    "import pickle\n",
    "import os\n",
    "import time\n",
    "from sklearn.model_selection import RandomizedSearchCV\n",
    "from scipy.stats import uniform, randint\n",
    "import lightgbm as lgb\n",
    "\n",
    "# Adjust labels for training\n",
    "y_train_adjusted = y_resampled - 1\n",
    "\n",
    "# Define the LightGBM model\n",
    "lgb_model = lgb.LGBMClassifier(objective='multiclass', num_class=8, is_unbalance=True, verbose=-1)\n",
    "\n",
    "# Define the parameter grid for random search\n",
    "param_dist = {\n",
    "    'learning_rate': uniform(0.005, 0.295),  # Learning rate between 0.005 and 0.3\n",
    "    'num_leaves': randint(20, 150),  # Number of leaves\n",
    "    'max_depth': randint(3, 15),  # Maximum depth\n",
    "    'min_data_in_leaf': randint(50, 500),  # Minimum data in leaf\n",
    "    'feature_fraction': uniform(0.7, 0.3),  # Fraction of features used\n",
    "    'bagging_fraction': uniform(0.7, 0.3),  # Bagging fraction\n",
    "    'bagging_freq': randint(1, 5),  # Bagging frequency\n",
    "    'lambda_l2': uniform(0, 10),  # L2 regularization\n",
    "    'n_estimators': randint(100, 1000)  # Number of estimators\n",
    "}\n",
    "\n",
    "# Checkpoint file name\n",
    "checkpoint_file = 'random_search_checkpoint.pkl'\n",
    "\n",
    "# Check if a checkpoint exists\n",
    "if os.path.exists(checkpoint_file):\n",
    "    with open(checkpoint_file, 'rb') as f:\n",
    "        random_search = pickle.load(f)\n",
    "    print(\"Checkpoint loaded. Resuming from saved progress.\")\n",
    "else:\n",
    "    # Create a new RandomizedSearchCV object\n",
    "    random_search = RandomizedSearchCV(\n",
    "        estimator=lgb_model,\n",
    "        param_distributions=param_dist,\n",
    "        n_iter=200,  # Total number of iterations\n",
    "        scoring='f1_weighted',\n",
    "        cv=3,  # Number of cross-validation folds\n",
    "        verbose=2,\n",
    "        n_jobs=-1,\n",
    "        random_state=42\n",
    "    )\n",
    "\n",
    "# Start timer\n",
    "start_time = time.time()\n",
    "time_limit = 5 * 3600  # 5 hours in seconds\n",
    "save_interval = 30 * 60  # 30 minutes in seconds\n",
    "last_save_time = start_time\n",
    "\n",
    "# Track completed iterations\n",
    "completed_iterations = 0\n",
    "\n",
    "try:\n",
    "    for i, _ in enumerate(random_search.fit(X_resampled[f_list], y_train_adjusted), 1):\n",
    "        completed_iterations += 1\n",
    "        current_time = time.time()\n",
    "        elapsed_time = current_time - start_time\n",
    "\n",
    "        # Print progress every 10 iterations\n",
    "        if completed_iterations % 10 == 0:\n",
    "            print(f\"Iteration {completed_iterations}: Elapsed time {elapsed_time / 3600:.2f} hours.\")\n",
    "        \n",
    "        # Save progress periodically\n",
    "        if current_time - last_save_time > save_interval:\n",
    "            print(f\"Checkpointing progress after {elapsed_time / 3600:.2f} hours...\")\n",
    "            with open(checkpoint_file, 'wb') as f:\n",
    "                pickle.dump(random_search, f)\n",
    "            last_save_time = current_time\n",
    "\n",
    "        # Stop if time limit is reached\n",
    "        if elapsed_time > time_limit:\n",
    "            print(\"Time limit reached. Stopping search.\")\n",
    "            break\n",
    "\n",
    "except KeyboardInterrupt:\n",
    "    print(\"Search interrupted manually. Saving progress...\")\n",
    "    with open(checkpoint_file, 'wb') as f:\n",
    "        pickle.dump(random_search, f)\n",
    "    print(\"Progress saved.\")\n",
    "    raise  # Re-raise exception to stop execution\n",
    "\n",
    "# Save final progress\n",
    "print(\"Random search completed or stopped. Saving final progress...\")\n",
    "with open(checkpoint_file, 'wb') as f:\n",
    "    pickle.dump(random_search, f)\n",
    "\n",
    "# Display best results\n",
    "if hasattr(random_search, 'cv_results_'):\n",
    "    print(\"Best Parameters:\", random_search.best_params_)\n",
    "    print(\"Best F1-Score:\", random_search.best_score_)\n",
    "else:\n",
    "    print(\"No results to display. Checkpoint might be incomplete.\")"
   ]
  },
  {
   "cell_type": "markdown",
   "metadata": {},
   "source": [
    "## Model 4: Neural Networks"
   ]
  },
  {
   "cell_type": "markdown",
   "metadata": {},
   "source": [
    "### ADAM"
   ]
  },
  {
   "cell_type": "code",
   "execution_count": 115,
   "metadata": {},
   "outputs": [],
   "source": [
    "import warnings\n",
    "warnings.filterwarnings('ignore')\n",
    "import time\n",
    "from sklearn.neural_network import MLPClassifier\n",
    "import pandas as pd"
   ]
  },
  {
   "cell_type": "code",
   "execution_count": null,
   "metadata": {},
   "outputs": [],
   "source": [
    "for col in X_train_scaled.columns:\n",
    "    print(col)"
   ]
  },
  {
   "cell_type": "code",
   "execution_count": 113,
   "metadata": {},
   "outputs": [],
   "source": [
    "f6_list = ['Attorney/Representative', 'wage_groups', 'days_to_c2_binned', 'Carrier Type', 'ASS', 'IRS', 'SS', 'Average Weekly Wage', 'Age at Injury', 'ais_weights',\n",
    "            'WCIO Cause of Injury Description', 'WCIO Nature of Injury Description', 'WCIO Part Of Body Description']"
   ]
  },
  {
   "cell_type": "code",
   "execution_count": 116,
   "metadata": {},
   "outputs": [
    {
     "data": {
      "text/html": [
       "<style>#sk-container-id-4 {\n",
       "  /* Definition of color scheme common for light and dark mode */\n",
       "  --sklearn-color-text: black;\n",
       "  --sklearn-color-line: gray;\n",
       "  /* Definition of color scheme for unfitted estimators */\n",
       "  --sklearn-color-unfitted-level-0: #fff5e6;\n",
       "  --sklearn-color-unfitted-level-1: #f6e4d2;\n",
       "  --sklearn-color-unfitted-level-2: #ffe0b3;\n",
       "  --sklearn-color-unfitted-level-3: chocolate;\n",
       "  /* Definition of color scheme for fitted estimators */\n",
       "  --sklearn-color-fitted-level-0: #f0f8ff;\n",
       "  --sklearn-color-fitted-level-1: #d4ebff;\n",
       "  --sklearn-color-fitted-level-2: #b3dbfd;\n",
       "  --sklearn-color-fitted-level-3: cornflowerblue;\n",
       "\n",
       "  /* Specific color for light theme */\n",
       "  --sklearn-color-text-on-default-background: var(--sg-text-color, var(--theme-code-foreground, var(--jp-content-font-color1, black)));\n",
       "  --sklearn-color-background: var(--sg-background-color, var(--theme-background, var(--jp-layout-color0, white)));\n",
       "  --sklearn-color-border-box: var(--sg-text-color, var(--theme-code-foreground, var(--jp-content-font-color1, black)));\n",
       "  --sklearn-color-icon: #696969;\n",
       "\n",
       "  @media (prefers-color-scheme: dark) {\n",
       "    /* Redefinition of color scheme for dark theme */\n",
       "    --sklearn-color-text-on-default-background: var(--sg-text-color, var(--theme-code-foreground, var(--jp-content-font-color1, white)));\n",
       "    --sklearn-color-background: var(--sg-background-color, var(--theme-background, var(--jp-layout-color0, #111)));\n",
       "    --sklearn-color-border-box: var(--sg-text-color, var(--theme-code-foreground, var(--jp-content-font-color1, white)));\n",
       "    --sklearn-color-icon: #878787;\n",
       "  }\n",
       "}\n",
       "\n",
       "#sk-container-id-4 {\n",
       "  color: var(--sklearn-color-text);\n",
       "}\n",
       "\n",
       "#sk-container-id-4 pre {\n",
       "  padding: 0;\n",
       "}\n",
       "\n",
       "#sk-container-id-4 input.sk-hidden--visually {\n",
       "  border: 0;\n",
       "  clip: rect(1px 1px 1px 1px);\n",
       "  clip: rect(1px, 1px, 1px, 1px);\n",
       "  height: 1px;\n",
       "  margin: -1px;\n",
       "  overflow: hidden;\n",
       "  padding: 0;\n",
       "  position: absolute;\n",
       "  width: 1px;\n",
       "}\n",
       "\n",
       "#sk-container-id-4 div.sk-dashed-wrapped {\n",
       "  border: 1px dashed var(--sklearn-color-line);\n",
       "  margin: 0 0.4em 0.5em 0.4em;\n",
       "  box-sizing: border-box;\n",
       "  padding-bottom: 0.4em;\n",
       "  background-color: var(--sklearn-color-background);\n",
       "}\n",
       "\n",
       "#sk-container-id-4 div.sk-container {\n",
       "  /* jupyter's `normalize.less` sets `[hidden] { display: none; }`\n",
       "     but bootstrap.min.css set `[hidden] { display: none !important; }`\n",
       "     so we also need the `!important` here to be able to override the\n",
       "     default hidden behavior on the sphinx rendered scikit-learn.org.\n",
       "     See: https://github.com/scikit-learn/scikit-learn/issues/21755 */\n",
       "  display: inline-block !important;\n",
       "  position: relative;\n",
       "}\n",
       "\n",
       "#sk-container-id-4 div.sk-text-repr-fallback {\n",
       "  display: none;\n",
       "}\n",
       "\n",
       "div.sk-parallel-item,\n",
       "div.sk-serial,\n",
       "div.sk-item {\n",
       "  /* draw centered vertical line to link estimators */\n",
       "  background-image: linear-gradient(var(--sklearn-color-text-on-default-background), var(--sklearn-color-text-on-default-background));\n",
       "  background-size: 2px 100%;\n",
       "  background-repeat: no-repeat;\n",
       "  background-position: center center;\n",
       "}\n",
       "\n",
       "/* Parallel-specific style estimator block */\n",
       "\n",
       "#sk-container-id-4 div.sk-parallel-item::after {\n",
       "  content: \"\";\n",
       "  width: 100%;\n",
       "  border-bottom: 2px solid var(--sklearn-color-text-on-default-background);\n",
       "  flex-grow: 1;\n",
       "}\n",
       "\n",
       "#sk-container-id-4 div.sk-parallel {\n",
       "  display: flex;\n",
       "  align-items: stretch;\n",
       "  justify-content: center;\n",
       "  background-color: var(--sklearn-color-background);\n",
       "  position: relative;\n",
       "}\n",
       "\n",
       "#sk-container-id-4 div.sk-parallel-item {\n",
       "  display: flex;\n",
       "  flex-direction: column;\n",
       "}\n",
       "\n",
       "#sk-container-id-4 div.sk-parallel-item:first-child::after {\n",
       "  align-self: flex-end;\n",
       "  width: 50%;\n",
       "}\n",
       "\n",
       "#sk-container-id-4 div.sk-parallel-item:last-child::after {\n",
       "  align-self: flex-start;\n",
       "  width: 50%;\n",
       "}\n",
       "\n",
       "#sk-container-id-4 div.sk-parallel-item:only-child::after {\n",
       "  width: 0;\n",
       "}\n",
       "\n",
       "/* Serial-specific style estimator block */\n",
       "\n",
       "#sk-container-id-4 div.sk-serial {\n",
       "  display: flex;\n",
       "  flex-direction: column;\n",
       "  align-items: center;\n",
       "  background-color: var(--sklearn-color-background);\n",
       "  padding-right: 1em;\n",
       "  padding-left: 1em;\n",
       "}\n",
       "\n",
       "\n",
       "/* Toggleable style: style used for estimator/Pipeline/ColumnTransformer box that is\n",
       "clickable and can be expanded/collapsed.\n",
       "- Pipeline and ColumnTransformer use this feature and define the default style\n",
       "- Estimators will overwrite some part of the style using the `sk-estimator` class\n",
       "*/\n",
       "\n",
       "/* Pipeline and ColumnTransformer style (default) */\n",
       "\n",
       "#sk-container-id-4 div.sk-toggleable {\n",
       "  /* Default theme specific background. It is overwritten whether we have a\n",
       "  specific estimator or a Pipeline/ColumnTransformer */\n",
       "  background-color: var(--sklearn-color-background);\n",
       "}\n",
       "\n",
       "/* Toggleable label */\n",
       "#sk-container-id-4 label.sk-toggleable__label {\n",
       "  cursor: pointer;\n",
       "  display: block;\n",
       "  width: 100%;\n",
       "  margin-bottom: 0;\n",
       "  padding: 0.5em;\n",
       "  box-sizing: border-box;\n",
       "  text-align: center;\n",
       "}\n",
       "\n",
       "#sk-container-id-4 label.sk-toggleable__label-arrow:before {\n",
       "  /* Arrow on the left of the label */\n",
       "  content: \"▸\";\n",
       "  float: left;\n",
       "  margin-right: 0.25em;\n",
       "  color: var(--sklearn-color-icon);\n",
       "}\n",
       "\n",
       "#sk-container-id-4 label.sk-toggleable__label-arrow:hover:before {\n",
       "  color: var(--sklearn-color-text);\n",
       "}\n",
       "\n",
       "/* Toggleable content - dropdown */\n",
       "\n",
       "#sk-container-id-4 div.sk-toggleable__content {\n",
       "  max-height: 0;\n",
       "  max-width: 0;\n",
       "  overflow: hidden;\n",
       "  text-align: left;\n",
       "  /* unfitted */\n",
       "  background-color: var(--sklearn-color-unfitted-level-0);\n",
       "}\n",
       "\n",
       "#sk-container-id-4 div.sk-toggleable__content.fitted {\n",
       "  /* fitted */\n",
       "  background-color: var(--sklearn-color-fitted-level-0);\n",
       "}\n",
       "\n",
       "#sk-container-id-4 div.sk-toggleable__content pre {\n",
       "  margin: 0.2em;\n",
       "  border-radius: 0.25em;\n",
       "  color: var(--sklearn-color-text);\n",
       "  /* unfitted */\n",
       "  background-color: var(--sklearn-color-unfitted-level-0);\n",
       "}\n",
       "\n",
       "#sk-container-id-4 div.sk-toggleable__content.fitted pre {\n",
       "  /* unfitted */\n",
       "  background-color: var(--sklearn-color-fitted-level-0);\n",
       "}\n",
       "\n",
       "#sk-container-id-4 input.sk-toggleable__control:checked~div.sk-toggleable__content {\n",
       "  /* Expand drop-down */\n",
       "  max-height: 200px;\n",
       "  max-width: 100%;\n",
       "  overflow: auto;\n",
       "}\n",
       "\n",
       "#sk-container-id-4 input.sk-toggleable__control:checked~label.sk-toggleable__label-arrow:before {\n",
       "  content: \"▾\";\n",
       "}\n",
       "\n",
       "/* Pipeline/ColumnTransformer-specific style */\n",
       "\n",
       "#sk-container-id-4 div.sk-label input.sk-toggleable__control:checked~label.sk-toggleable__label {\n",
       "  color: var(--sklearn-color-text);\n",
       "  background-color: var(--sklearn-color-unfitted-level-2);\n",
       "}\n",
       "\n",
       "#sk-container-id-4 div.sk-label.fitted input.sk-toggleable__control:checked~label.sk-toggleable__label {\n",
       "  background-color: var(--sklearn-color-fitted-level-2);\n",
       "}\n",
       "\n",
       "/* Estimator-specific style */\n",
       "\n",
       "/* Colorize estimator box */\n",
       "#sk-container-id-4 div.sk-estimator input.sk-toggleable__control:checked~label.sk-toggleable__label {\n",
       "  /* unfitted */\n",
       "  background-color: var(--sklearn-color-unfitted-level-2);\n",
       "}\n",
       "\n",
       "#sk-container-id-4 div.sk-estimator.fitted input.sk-toggleable__control:checked~label.sk-toggleable__label {\n",
       "  /* fitted */\n",
       "  background-color: var(--sklearn-color-fitted-level-2);\n",
       "}\n",
       "\n",
       "#sk-container-id-4 div.sk-label label.sk-toggleable__label,\n",
       "#sk-container-id-4 div.sk-label label {\n",
       "  /* The background is the default theme color */\n",
       "  color: var(--sklearn-color-text-on-default-background);\n",
       "}\n",
       "\n",
       "/* On hover, darken the color of the background */\n",
       "#sk-container-id-4 div.sk-label:hover label.sk-toggleable__label {\n",
       "  color: var(--sklearn-color-text);\n",
       "  background-color: var(--sklearn-color-unfitted-level-2);\n",
       "}\n",
       "\n",
       "/* Label box, darken color on hover, fitted */\n",
       "#sk-container-id-4 div.sk-label.fitted:hover label.sk-toggleable__label.fitted {\n",
       "  color: var(--sklearn-color-text);\n",
       "  background-color: var(--sklearn-color-fitted-level-2);\n",
       "}\n",
       "\n",
       "/* Estimator label */\n",
       "\n",
       "#sk-container-id-4 div.sk-label label {\n",
       "  font-family: monospace;\n",
       "  font-weight: bold;\n",
       "  display: inline-block;\n",
       "  line-height: 1.2em;\n",
       "}\n",
       "\n",
       "#sk-container-id-4 div.sk-label-container {\n",
       "  text-align: center;\n",
       "}\n",
       "\n",
       "/* Estimator-specific */\n",
       "#sk-container-id-4 div.sk-estimator {\n",
       "  font-family: monospace;\n",
       "  border: 1px dotted var(--sklearn-color-border-box);\n",
       "  border-radius: 0.25em;\n",
       "  box-sizing: border-box;\n",
       "  margin-bottom: 0.5em;\n",
       "  /* unfitted */\n",
       "  background-color: var(--sklearn-color-unfitted-level-0);\n",
       "}\n",
       "\n",
       "#sk-container-id-4 div.sk-estimator.fitted {\n",
       "  /* fitted */\n",
       "  background-color: var(--sklearn-color-fitted-level-0);\n",
       "}\n",
       "\n",
       "/* on hover */\n",
       "#sk-container-id-4 div.sk-estimator:hover {\n",
       "  /* unfitted */\n",
       "  background-color: var(--sklearn-color-unfitted-level-2);\n",
       "}\n",
       "\n",
       "#sk-container-id-4 div.sk-estimator.fitted:hover {\n",
       "  /* fitted */\n",
       "  background-color: var(--sklearn-color-fitted-level-2);\n",
       "}\n",
       "\n",
       "/* Specification for estimator info (e.g. \"i\" and \"?\") */\n",
       "\n",
       "/* Common style for \"i\" and \"?\" */\n",
       "\n",
       ".sk-estimator-doc-link,\n",
       "a:link.sk-estimator-doc-link,\n",
       "a:visited.sk-estimator-doc-link {\n",
       "  float: right;\n",
       "  font-size: smaller;\n",
       "  line-height: 1em;\n",
       "  font-family: monospace;\n",
       "  background-color: var(--sklearn-color-background);\n",
       "  border-radius: 1em;\n",
       "  height: 1em;\n",
       "  width: 1em;\n",
       "  text-decoration: none !important;\n",
       "  margin-left: 1ex;\n",
       "  /* unfitted */\n",
       "  border: var(--sklearn-color-unfitted-level-1) 1pt solid;\n",
       "  color: var(--sklearn-color-unfitted-level-1);\n",
       "}\n",
       "\n",
       ".sk-estimator-doc-link.fitted,\n",
       "a:link.sk-estimator-doc-link.fitted,\n",
       "a:visited.sk-estimator-doc-link.fitted {\n",
       "  /* fitted */\n",
       "  border: var(--sklearn-color-fitted-level-1) 1pt solid;\n",
       "  color: var(--sklearn-color-fitted-level-1);\n",
       "}\n",
       "\n",
       "/* On hover */\n",
       "div.sk-estimator:hover .sk-estimator-doc-link:hover,\n",
       ".sk-estimator-doc-link:hover,\n",
       "div.sk-label-container:hover .sk-estimator-doc-link:hover,\n",
       ".sk-estimator-doc-link:hover {\n",
       "  /* unfitted */\n",
       "  background-color: var(--sklearn-color-unfitted-level-3);\n",
       "  color: var(--sklearn-color-background);\n",
       "  text-decoration: none;\n",
       "}\n",
       "\n",
       "div.sk-estimator.fitted:hover .sk-estimator-doc-link.fitted:hover,\n",
       ".sk-estimator-doc-link.fitted:hover,\n",
       "div.sk-label-container:hover .sk-estimator-doc-link.fitted:hover,\n",
       ".sk-estimator-doc-link.fitted:hover {\n",
       "  /* fitted */\n",
       "  background-color: var(--sklearn-color-fitted-level-3);\n",
       "  color: var(--sklearn-color-background);\n",
       "  text-decoration: none;\n",
       "}\n",
       "\n",
       "/* Span, style for the box shown on hovering the info icon */\n",
       ".sk-estimator-doc-link span {\n",
       "  display: none;\n",
       "  z-index: 9999;\n",
       "  position: relative;\n",
       "  font-weight: normal;\n",
       "  right: .2ex;\n",
       "  padding: .5ex;\n",
       "  margin: .5ex;\n",
       "  width: min-content;\n",
       "  min-width: 20ex;\n",
       "  max-width: 50ex;\n",
       "  color: var(--sklearn-color-text);\n",
       "  box-shadow: 2pt 2pt 4pt #999;\n",
       "  /* unfitted */\n",
       "  background: var(--sklearn-color-unfitted-level-0);\n",
       "  border: .5pt solid var(--sklearn-color-unfitted-level-3);\n",
       "}\n",
       "\n",
       ".sk-estimator-doc-link.fitted span {\n",
       "  /* fitted */\n",
       "  background: var(--sklearn-color-fitted-level-0);\n",
       "  border: var(--sklearn-color-fitted-level-3);\n",
       "}\n",
       "\n",
       ".sk-estimator-doc-link:hover span {\n",
       "  display: block;\n",
       "}\n",
       "\n",
       "/* \"?\"-specific style due to the `<a>` HTML tag */\n",
       "\n",
       "#sk-container-id-4 a.estimator_doc_link {\n",
       "  float: right;\n",
       "  font-size: 1rem;\n",
       "  line-height: 1em;\n",
       "  font-family: monospace;\n",
       "  background-color: var(--sklearn-color-background);\n",
       "  border-radius: 1rem;\n",
       "  height: 1rem;\n",
       "  width: 1rem;\n",
       "  text-decoration: none;\n",
       "  /* unfitted */\n",
       "  color: var(--sklearn-color-unfitted-level-1);\n",
       "  border: var(--sklearn-color-unfitted-level-1) 1pt solid;\n",
       "}\n",
       "\n",
       "#sk-container-id-4 a.estimator_doc_link.fitted {\n",
       "  /* fitted */\n",
       "  border: var(--sklearn-color-fitted-level-1) 1pt solid;\n",
       "  color: var(--sklearn-color-fitted-level-1);\n",
       "}\n",
       "\n",
       "/* On hover */\n",
       "#sk-container-id-4 a.estimator_doc_link:hover {\n",
       "  /* unfitted */\n",
       "  background-color: var(--sklearn-color-unfitted-level-3);\n",
       "  color: var(--sklearn-color-background);\n",
       "  text-decoration: none;\n",
       "}\n",
       "\n",
       "#sk-container-id-4 a.estimator_doc_link.fitted:hover {\n",
       "  /* fitted */\n",
       "  background-color: var(--sklearn-color-fitted-level-3);\n",
       "}\n",
       "</style><div id=\"sk-container-id-4\" class=\"sk-top-container\"><div class=\"sk-text-repr-fallback\"><pre>MLPClassifier(random_state=13)</pre><b>In a Jupyter environment, please rerun this cell to show the HTML representation or trust the notebook. <br />On GitHub, the HTML representation is unable to render, please try loading this page with nbviewer.org.</b></div><div class=\"sk-container\" hidden><div class=\"sk-item\"><div class=\"sk-estimator fitted sk-toggleable\"><input class=\"sk-toggleable__control sk-hidden--visually\" id=\"sk-estimator-id-4\" type=\"checkbox\" checked><label for=\"sk-estimator-id-4\" class=\"sk-toggleable__label fitted sk-toggleable__label-arrow fitted\">&nbsp;&nbsp;MLPClassifier<a class=\"sk-estimator-doc-link fitted\" rel=\"noreferrer\" target=\"_blank\" href=\"https://scikit-learn.org/1.5/modules/generated/sklearn.neural_network.MLPClassifier.html\">?<span>Documentation for MLPClassifier</span></a><span class=\"sk-estimator-doc-link fitted\">i<span>Fitted</span></span></label><div class=\"sk-toggleable__content fitted\"><pre>MLPClassifier(random_state=13)</pre></div> </div></div></div></div>"
      ],
      "text/plain": [
       "MLPClassifier(random_state=13)"
      ]
     },
     "execution_count": 116,
     "metadata": {},
     "output_type": "execute_result"
    }
   ],
   "source": [
    "X_train_adam = X_resampled[f6_list]\n",
    "X_val_adam = X_val_scaled[f6_list]\n",
    "X_test_adam = X_test_scaled[f6_list]\n",
    "\n",
    "model_adam = MLPClassifier(solver= 'adam', random_state=13)\n",
    "model_adam.fit(X_train_adam, y_resampled)"
   ]
  },
  {
   "cell_type": "code",
   "execution_count": 118,
   "metadata": {},
   "outputs": [
    {
     "data": {
      "text/plain": [
       "0.7660539164448409"
      ]
     },
     "execution_count": 118,
     "metadata": {},
     "output_type": "execute_result"
    }
   ],
   "source": [
    "model_adam.score(X_train_adam, y_resampled)"
   ]
  },
  {
   "cell_type": "code",
   "execution_count": 119,
   "metadata": {},
   "outputs": [],
   "source": [
    "y_pred = model_adam.predict(X_val_adam)"
   ]
  },
  {
   "cell_type": "code",
   "execution_count": 122,
   "metadata": {},
   "outputs": [
    {
     "name": "stdout",
     "output_type": "stream",
     "text": [
      "F1 Score (Train): 0.706141\n",
      "F1 Score (Validation): 0.705738\n",
      "F1-Score (Weighted): 0.052754812594895686\n",
      "Classification Report:\n",
      "               precision    recall  f1-score   support\n",
      "\n",
      "           0       0.00      0.00      0.00      3119\n",
      "           1       0.34      0.01      0.02     72769\n",
      "           2       0.12      0.59      0.20     17227\n",
      "           3       0.25      0.00      0.00     37127\n",
      "           4       0.14      0.56      0.23     12070\n",
      "           5       0.01      0.08      0.02      1053\n",
      "           6       0.00      0.00      0.00        24\n",
      "           7       0.00      0.00      0.00       117\n",
      "           8       0.00      0.00      0.00         0\n",
      "\n",
      "    accuracy                           0.12    143506\n",
      "   macro avg       0.10      0.14      0.05    143506\n",
      "weighted avg       0.26      0.12      0.05    143506\n",
      "\n"
     ]
    }
   ],
   "source": [
    "#check accurazy of the model\n",
    "accuracy = accuracy_score(y_val, y_pred)\n",
    "accuracy\n",
    "\n",
    "#check the f1 score of the model\n",
    "f1_val = f1_score(y_val, y_pred, average='weighted')\n",
    "f1_train = f1_score(y_train, model_adam.predict(X_train_adam), average='weighted')\n",
    "print(f\"F1 Score (Train): {f1_train:f}\")\n",
    "print(f\"F1 Score (Validation): {f1_val:f}\")\n",
    "\n",
    "#classification report\n",
    "f1 = f1_score(y_val_adjusted, y_pred, average='weighted')\n",
    "print(\"F1-Score (Weighted):\", f1)\n",
    "print(\"Classification Report:\\n\", classification_report(y_val_adjusted, y_pred))"
   ]
  },
  {
   "cell_type": "code",
   "execution_count": null,
   "metadata": {},
   "outputs": [],
   "source": [
    "y_pred = model_adam.predict(X_test_adam)"
   ]
  },
  {
   "cell_type": "code",
   "execution_count": null,
   "metadata": {},
   "outputs": [],
   "source": [
    "# Mapping dictionary to convert the integer predictions to the full labels\n",
    "label_mapping = {\n",
    "    1: '1. CANCELED',\n",
    "    2: '2. NON-COMP',\n",
    "    3: '3. MED ONLY',\n",
    "    4: '4. TEMPORARY',\n",
    "    5: '5. PPD SCH LOSS',\n",
    "    6: '6. PPD NSL',\n",
    "    7: '7. PTD',\n",
    "    8: '8. DEATH'\n",
    "}\n",
    "test_predictions_full_labels = [label_mapping[pred] for pred in y_pred]\n",
    "\n",
    "submission_df = pd.DataFrame({\n",
    "    'Claim Identifier': X_test_scaled.index,\n",
    "    'Claim Injury Type': test_predictions_full_labels\n",
    "})\n",
    "\n",
    "# Export the submission DataFrame to a CSV file\n",
    "submission_df.to_csv(\"submission_rf.csv\", index=False, header=True)"
   ]
  },
  {
   "cell_type": "markdown",
   "metadata": {},
   "source": [
    "### SGD"
   ]
  },
  {
   "cell_type": "code",
   "execution_count": null,
   "metadata": {},
   "outputs": [],
   "source": [
    "feature_list = ['Attorney/Representative', 'Carrier Type', 'COVID-19 Indicator', 'District Name', 'Gender', \n",
    "                'Industry Code Description', 'Medical Fee Region', 'WCIO Cause of Injury Description',\n",
    "                'WCIO Nature of Injury Description', 'WCIO Part Of Body Description', 'age_group', 'wage_groups', 'body_group',\n",
    "                'injury_type', 'injury_cause', 'industry_group', 'days_accident_to_assembly', 'zip_group', 'days_to_c2_binned']"
   ]
  },
  {
   "cell_type": "code",
   "execution_count": null,
   "metadata": {},
   "outputs": [],
   "source": [
    "from sklearn.neural_network import MLPClassifier\n",
    "\n",
    "model_constant = MLPClassifier(solver='sgd', learning_rate='adaptive', random_state=42)\n",
    "model_constant.fit(X_train_scaled[feature_list], y_train)"
   ]
  },
  {
   "cell_type": "code",
   "execution_count": null,
   "metadata": {},
   "outputs": [],
   "source": [
    "y_pred = model_constant.predict(X_val_scaled[feature_list])"
   ]
  },
  {
   "cell_type": "code",
   "execution_count": null,
   "metadata": {},
   "outputs": [],
   "source": [
    "#check the f1 score of the model\n",
    "f1_val = f1_score(y_val, y_pred, average='weighted')\n",
    "f1_train = f1_score(y_train, model_constant.predict(X_train_scaled[feature_list]), average='weighted')\n",
    "print(f\"F1 Score (Train): {f1_train:f}\")\n",
    "print(f\"F1 Score (Validation): {f1_val:f}\")"
   ]
  },
  {
   "cell_type": "code",
   "execution_count": null,
   "metadata": {},
   "outputs": [],
   "source": [
    "y_pred = model_constant.predict(X_test_scaled[feature_list])"
   ]
  },
  {
   "cell_type": "code",
   "execution_count": null,
   "metadata": {},
   "outputs": [],
   "source": [
    "# Mapping dictionary to convert the integer predictions to the full labels\n",
    "label_mapping = {\n",
    "    1: '1. CANCELED',\n",
    "    2: '2. NON-COMP',\n",
    "    3: '3. MED ONLY',\n",
    "    4: '4. TEMPORARY',\n",
    "    5: '5. PPD SCH LOSS',\n",
    "    6: '6. PPD NSL',\n",
    "    7: '7. PTD',\n",
    "    8: '8. DEATH'\n",
    "}\n",
    "test_predictions_full_labels = [label_mapping[pred] for pred in y_pred]\n",
    "\n",
    "submission_df = pd.DataFrame({\n",
    "    'Claim Identifier': X_test_scaled.index,\n",
    "    'Claim Injury Type': test_predictions_full_labels\n",
    "})\n",
    "\n",
    "# Export the submission DataFrame to a CSV file\n",
    "submission_df.to_csv(\"submission_rf.csv\", index=False, header=True)"
   ]
  }
 ],
 "metadata": {
  "kernelspec": {
   "display_name": "Python 3",
   "language": "python",
   "name": "python3"
  },
  "language_info": {
   "codemirror_mode": {
    "name": "ipython",
    "version": 3
   },
   "file_extension": ".py",
   "mimetype": "text/x-python",
   "name": "python",
   "nbconvert_exporter": "python",
   "pygments_lexer": "ipython3",
   "version": "3.12.5"
  }
 },
 "nbformat": 4,
 "nbformat_minor": 4
}
